{
 "cells": [
  {
   "cell_type": "markdown",
   "id": "1dd9df2e",
   "metadata": {},
   "source": [
    "Import external libraries."
   ]
  },
  {
   "cell_type": "code",
   "execution_count": 1,
   "id": "1bb6511d",
   "metadata": {},
   "outputs": [
    {
     "name": "stderr",
     "output_type": "stream",
     "text": [
      "Classes and Methods for R developed in the\n",
      "Political Science Computational Laboratory\n",
      "Department of Political Science\n",
      "Stanford University\n",
      "Simon Jackman\n",
      "hurdle and zeroinfl functions by Achim Zeileis\n",
      "Loading required package: lattice\n",
      "Loading required package: ggplot2\n",
      "Registered S3 methods overwritten by 'ggplot2':\n",
      "  method         from \n",
      "  [.quosures     rlang\n",
      "  c.quosures     rlang\n",
      "  print.quosures rlang\n",
      "Warning message:\n",
      "“package ‘yardstick’ was built under R version 3.6.3”For binary classification, the first factor level is assumed to be the event.\n",
      "Use the argument `event_level = \"second\"` to alter this as needed.\n",
      "\n",
      "Attaching package: ‘yardstick’\n",
      "\n",
      "The following objects are masked from ‘package:caret’:\n",
      "\n",
      "    precision, recall, sensitivity, specificity\n",
      "\n",
      "\n",
      "Attaching package: ‘MLmetrics’\n",
      "\n",
      "The following objects are masked from ‘package:caret’:\n",
      "\n",
      "    MAE, RMSE\n",
      "\n",
      "The following object is masked from ‘package:base’:\n",
      "\n",
      "    Recall\n",
      "\n"
     ]
    }
   ],
   "source": [
    "#install.packages(\"dplyr\")\n",
    "library(\"readxl\")\n",
    "library(\"pscl\")\n",
    "library(caret)\n",
    "library(yardstick)\n",
    "library(data.table)\n",
    "library(MLmetrics)\n",
    "library(ggplot2)"
   ]
  },
  {
   "cell_type": "markdown",
   "id": "d62f6efa",
   "metadata": {},
   "source": [
    "Read in tile count data for BEST2 and BEST3. Change paths to ```barretts-segment-length-predictor``` directory as appropriate."
   ]
  },
  {
   "cell_type": "code",
   "execution_count": 2,
   "id": "3dd6c02c",
   "metadata": {},
   "outputs": [
    {
     "name": "stderr",
     "output_type": "stream",
     "text": [
      "New names:\n",
      "* `` -> ...3\n"
     ]
    }
   ],
   "source": [
    "best2_tff3_tile_data <- read_excel(\"~/Documents/barrets-segment-length-predictor/data/BEST2_TFF3_AND_GASTRIC_TILE_COUNTS_QC_PASSING.xlsx\")\n",
    "best2_prague_length_data <- read_excel(\"~/Documents/barrets-segment-length-predictor/data/BEST2_ENDOSCOPY_CRF_CLEANED_SHORTENED.xlsx\")\n",
    "best3_tff3_tile_data <- read_excel('~/Documents/barrets-segment-length-predictor/data/BEST3_TFF3_AND_GASTRIC_TILE_COUNTS_QC_PASSING.xlsx')\n",
    "best3_prague_length_data <- read.csv('~/Documents/barrets-segment-length-predictor/data/BEST3_ENDOSCOPY_CRF_CLEANED.csv')"
   ]
  },
  {
   "cell_type": "markdown",
   "id": "7845a83a",
   "metadata": {},
   "source": [
    "Merge data appropriately and add new columns for training."
   ]
  },
  {
   "cell_type": "code",
   "execution_count": 3,
   "id": "923c7d01",
   "metadata": {},
   "outputs": [],
   "source": [
    "# Merge tile count and Prague length data and perform some cleaning tasks\n",
    "best2_tff3_prague_data = merge(best2_tff3_tile_data, best2_prague_length_data, by='Case')\n",
    "best3_tff3_prague_data = merge(best3_tff3_tile_data, best3_prague_length_data, by='Case')\n",
    "tff3_prague_data = rbind(best2_tff3_prague_data[, c('Case', 'Gastric_count', 'TFF3_positive_count', 'PRAGUE_C', 'PRAGUE_M')],\n",
    "                            best3_tff3_prague_data[, c('Case', 'Gastric_count', 'TFF3_positive_count', 'PRAGUE_C', 'PRAGUE_M')])\n",
    "tff3_prague_data$PRAGUE_C <- as.numeric(tff3_prague_data$PRAGUE_C)\n",
    "tff3_prague_data$PRAGUE_M <- as.numeric(tff3_prague_data$PRAGUE_M)\n",
    "tff3_prague_data$TFF3_positive_count <- as.numeric(tff3_prague_data$TFF3_positive_count)\n",
    "tff3_prague_data$Gastric_count <- as.numeric(tff3_prague_data$Gastric_count)\n",
    "\n",
    "# Add C≥1 and M≥3 columns\n",
    "tff3_prague_data$PRAGUE_C_gtet_1cm <- ifelse(tff3_prague_data$PRAGUE_C >= 1, 1, 0)\n",
    "tff3_prague_data$PRAGUE_M_gtet_3cm <- ifelse(tff3_prague_data$PRAGUE_M >= 3, 1, 0)\n",
    "\n",
    "# Add C≥1 OR M≥3 column\n",
    "tff3_prague_data$C_gtet_1_or_M_gtet_3 <- ifelse(tff3_prague_data$PRAGUE_C >= 1 | tff3_prague_data$PRAGUE_M >= 3, 1, 0)\n",
    "\n",
    "# Create doubled C and M columns to have only integer values for Poisson regression models\n",
    "tff3_prague_data$PRAGUE_M_doubled <- tff3_prague_data$PRAGUE_M * 2\n",
    "tff3_prague_data$PRAGUE_C_doubled <- tff3_prague_data$PRAGUE_C * 2\n",
    "\n",
    "# Re-split data into BEST2 and BEST3 pieces\n",
    "best2_tff3_prague_data <- head(tff3_prague_data, nrow(best2_tff3_prague_data))\n",
    "best3_tff3_prague_data <- tail(tff3_prague_data, nrow(best3_tff3_prague_data))\n",
    "\n",
    "# Convert to data.table\n",
    "best2_tff3_prague_data <- setDT(best2_tff3_prague_data)\n",
    "best3_tff3_prague_data <- setDT(best3_tff3_prague_data)\n",
    "tff3_prague_data <- setDT(tff3_prague_data)\n",
    "\n",
    "\n",
    "# Create versions of the above data tables with no patients with no patients with TFF3 positive tile counts of 0\n",
    "best2_tff3_prague_data_nozeros <- best2_tff3_prague_data[best2_tff3_prague_data$TFF3_positive_count != 0,]\n",
    "best3_tff3_prague_data_nozeros <- best3_tff3_prague_data[best3_tff3_prague_data$TFF3_positive_count != 0,]\n",
    "tff3_prague_data_nozeros <- tff3_prague_data[tff3_prague_data$TFF3_positive_count != 0,]"
   ]
  },
  {
   "cell_type": "markdown",
   "id": "c1197d17",
   "metadata": {},
   "source": [
    "Show how many patients have long segments by diagnostic criteria in BEST2 and BEST3."
   ]
  },
  {
   "cell_type": "code",
   "execution_count": 19,
   "id": "c130502a",
   "metadata": {},
   "outputs": [
    {
     "name": "stdout",
     "output_type": "stream",
     "text": [
      "[1] \"BEST2 long segment patients: 315\"\n",
      "[1] \"BEST3 long segment patients: 48\"\n"
     ]
    }
   ],
   "source": [
    "print(paste0(\"BEST2 long segment patients: \", sum(best2_tff3_prague_data$C_gtet_1_or_M_gtet_3)))\n",
    "print(paste0(\"BEST3 long segment patients: \", sum(best3_tff3_prague_data$C_gtet_1_or_M_gtet_3)))"
   ]
  },
  {
   "cell_type": "markdown",
   "id": "f7fd9adf",
   "metadata": {},
   "source": [
    "Generate Figure 2 plots. These plots aren't used in the paper. See ```create_figure_2.ipynb``` for the code to generate the paper figure 2 plots."
   ]
  },
  {
   "cell_type": "code",
   "execution_count": 4,
   "id": "960e8906",
   "metadata": {},
   "outputs": [],
   "source": [
    "# Plot 2a\n",
    "#plot1 <- ggplot(data=tff3_prague_data, aes(x=TFF3_positive_count)) + geom_histogram() + \n",
    "#    xlab('TFF3 positive tile count') + ylab('Count') + theme(axis.text=element_text(size=18), axis.title=element_text(size=22, face=\"bold\"))\n",
    "#plot1\n",
    "#ggsave(file=\"~/Downloads/plot2a.svg\", plot=plot1, width=10, height=10)\n",
    "\n",
    "# Plot 2b\n",
    "#plot2 <- ggplot(data=tff3_prague_data, aes(x=PRAGUE_C, y=TFF3_positive_count, group=PRAGUE_C)) + \n",
    "#    geom_boxplot() + xlab('Prague C length (cm)') + ylab('TFF3 positive tile count') + coord_flip() +\n",
    "#     theme(axis.text=element_text(size=18), axis.title=element_text(size=22, face=\"bold\"))\n",
    "#plot2\n",
    "#ggsave(file=\"~/Downloads/plot2b.svg\", plot=plot2, width=10, height=10)\n",
    "\n",
    "# Plot 2c\n",
    "#plot3 <- ggplot(data=tff3_prague_data, aes(x=PRAGUE_M, y=TFF3_positive_count, group=PRAGUE_M)) + \n",
    "#    geom_boxplot() + xlab('Prague M length (cm)') + ylab('TFF3 positive tile count') + coord_flip() +\n",
    "#     theme(axis.text=element_text(size=18), axis.title=element_text(size=22, face=\"bold\"))\n",
    "#plot3\n",
    "#ggsave(file=\"~/Downloads/plot2c.svg\", plot=plot3, width=10, height=10)"
   ]
  },
  {
   "cell_type": "markdown",
   "id": "270b9471",
   "metadata": {},
   "source": [
    "Compute Spearman's correlation coefficients."
   ]
  },
  {
   "cell_type": "code",
   "execution_count": 5,
   "id": "1252c622",
   "metadata": {},
   "outputs": [
    {
     "name": "stdout",
     "output_type": "stream",
     "text": [
      "[1] \"Prague C ~ TFF3 positive tile count Spearman rho\"\n"
     ]
    },
    {
     "data": {
      "text/html": [
       "0.7317658191829"
      ],
      "text/latex": [
       "0.7317658191829"
      ],
      "text/markdown": [
       "0.7317658191829"
      ],
      "text/plain": [
       "[1] 0.7317658"
      ]
     },
     "metadata": {},
     "output_type": "display_data"
    },
    {
     "name": "stdout",
     "output_type": "stream",
     "text": [
      "[1] \"Prague M ~ TFF3 positive tile count Spearman rho\"\n"
     ]
    },
    {
     "data": {
      "text/html": [
       "0.772828108085845"
      ],
      "text/latex": [
       "0.772828108085845"
      ],
      "text/markdown": [
       "0.772828108085845"
      ],
      "text/plain": [
       "[1] 0.7728281"
      ]
     },
     "metadata": {},
     "output_type": "display_data"
    },
    {
     "name": "stdout",
     "output_type": "stream",
     "text": [
      "[1] \"Prague C ~ Gastric tile count Spearman rho\"\n"
     ]
    },
    {
     "data": {
      "text/html": [
       "-0.0236222781209249"
      ],
      "text/latex": [
       "-0.0236222781209249"
      ],
      "text/markdown": [
       "-0.0236222781209249"
      ],
      "text/plain": [
       "[1] -0.02362228"
      ]
     },
     "metadata": {},
     "output_type": "display_data"
    },
    {
     "name": "stdout",
     "output_type": "stream",
     "text": [
      "[1] \"Prague M ~ Gastric tile count Spearman rho\"\n"
     ]
    },
    {
     "data": {
      "text/html": [
       "-0.0462860111190123"
      ],
      "text/latex": [
       "-0.0462860111190123"
      ],
      "text/markdown": [
       "-0.0462860111190123"
      ],
      "text/plain": [
       "[1] -0.04628601"
      ]
     },
     "metadata": {},
     "output_type": "display_data"
    }
   ],
   "source": [
    "# correlation metrics\n",
    "print('Prague C ~ TFF3 positive tile count Spearman rho')\n",
    "cor(best2_tff3_prague_data$TFF3_positive_count, best2_tff3_prague_data$PRAGUE_C, method = c(\"spearman\"))\n",
    "print('Prague M ~ TFF3 positive tile count Spearman rho')\n",
    "cor(best2_tff3_prague_data$TFF3_positive_count, best2_tff3_prague_data$PRAGUE_M, method = c(\"spearman\"))\n",
    "print('Prague C ~ Gastric tile count Spearman rho')\n",
    "cor(best2_tff3_prague_data$Gastric_count, best2_tff3_prague_data$PRAGUE_C, method = c(\"spearman\"))\n",
    "print('Prague M ~ Gastric tile count Spearman rho')\n",
    "cor(best2_tff3_prague_data$Gastric_count, best2_tff3_prague_data$PRAGUE_M, method = c(\"spearman\"))"
   ]
  },
  {
   "cell_type": "markdown",
   "id": "40aea849",
   "metadata": {},
   "source": [
    "Train 5-fold cross validation logistic regression models for predicting segment length class: (C≥1 OR M≥3) vs. (C<1 AND M<3)"
   ]
  },
  {
   "cell_type": "code",
   "execution_count": 6,
   "id": "eddc1b25",
   "metadata": {},
   "outputs": [
    {
     "name": "stderr",
     "output_type": "stream",
     "text": [
      "Warning message:\n",
      "“glm.fit: fitted probabilities numerically 0 or 1 occurred”Warning message:\n",
      "“glm.fit: fitted probabilities numerically 0 or 1 occurred”Warning message:\n",
      "“glm.fit: fitted probabilities numerically 0 or 1 occurred”Warning message:\n",
      "“glm.fit: fitted probabilities numerically 0 or 1 occurred”Warning message:\n",
      "“glm.fit: fitted probabilities numerically 0 or 1 occurred”"
     ]
    }
   ],
   "source": [
    "# create 5 folds for cross validation across 691 patients from BEST2 and BEST3 \n",
    "# (138 patients per val fold, 553 per training fold)\n",
    "set.seed(366)\n",
    "\n",
    "# For BEST2 only analyses\n",
    "tff3_prague_data_shuffled <- best2_tff3_prague_data[sample(nrow(best2_tff3_prague_data)),]\n",
    "\n",
    "# For BEST2+BEST3 analyses\n",
    "#tff3_prague_data_shuffled <- best3_tff3_prague_data[sample(nrow(best3_tff3_prague_data)),]\n",
    "\n",
    "# split folds into training and validation components\n",
    "fold_size = round(nrow(tff3_prague_data_shuffled)/5)\n",
    "n <- nrow(tff3_prague_data_shuffled)\n",
    "r  <- rep(1:ceiling(n/fold_size), each=fold_size)[1:n]\n",
    "d <- split(tff3_prague_data_shuffled, r)\n",
    "val1 <- d[[\"1\"]]\n",
    "val2 <- d[[\"2\"]]\n",
    "val3 <- d[[\"3\"]]\n",
    "val4 <- d[[\"4\"]]\n",
    "val5 <- d[[\"5\"]]\n",
    "train1 <- rbind(val2, val3, val4, val5)\n",
    "train2 <- rbind(val1, val3, val4, val5)\n",
    "train3 <- rbind(val1, val2, val4, val5)\n",
    "train4 <- rbind(val1, val2, val3, val5)\n",
    "train5 <- rbind(val1, val2, val3, val4)\n",
    "\n",
    "# 5-fold classification models trained on training components\n",
    "logreg_c_gtet_1cm_or_m_gtet_3cm_1 <- glm(C_gtet_1_or_M_gtet_3 ~ TFF3_positive_count, family='binomial', data = train1)\n",
    "logreg_c_gtet_1cm_or_m_gtet_3cm_2 <- glm(C_gtet_1_or_M_gtet_3 ~ TFF3_positive_count, family='binomial', data = train2)\n",
    "logreg_c_gtet_1cm_or_m_gtet_3cm_3 <- glm(C_gtet_1_or_M_gtet_3 ~ TFF3_positive_count, family='binomial', data = train3)\n",
    "logreg_c_gtet_1cm_or_m_gtet_3cm_4 <- glm(C_gtet_1_or_M_gtet_3 ~ TFF3_positive_count, family='binomial', data = train4)\n",
    "logreg_c_gtet_1cm_or_m_gtet_3cm_5 <- glm(C_gtet_1_or_M_gtet_3 ~ TFF3_positive_count, family='binomial', data = train5)"
   ]
  },
  {
   "cell_type": "markdown",
   "id": "35d5b8af",
   "metadata": {},
   "source": [
    "Evalute model performance on validation component of each fold."
   ]
  },
  {
   "cell_type": "code",
   "execution_count": 7,
   "id": "9e7c7ef2",
   "metadata": {},
   "outputs": [
    {
     "name": "stdout",
     "output_type": "stream",
     "text": [
      "[1] \"Logistic regression C>=1cm or M>=3cm performance on validation folds:\"\n"
     ]
    },
    {
     "data": {
      "text/html": [
       "<table>\n",
       "<thead><tr><th></th><th scope=col>Accuracy</th><th scope=col>Balanced_acc</th><th scope=col>Precision_long</th><th scope=col>Precision_short</th><th scope=col>Recall_long</th><th scope=col>Recall_short</th><th scope=col>F1_long</th><th scope=col>F1_short</th></tr></thead>\n",
       "<tbody>\n",
       "\t<tr><th scope=row>Fold1</th><td>0.8584906</td><td>0.8756098</td><td>0.9629630</td><td>0.7500000</td><td>0.8000000</td><td>0.9512195</td><td>0.8739496</td><td>0.8387097</td></tr>\n",
       "\t<tr><th scope=row>Fold2</th><td>0.8207547</td><td>0.8276047</td><td>0.9130435</td><td>0.7500000</td><td>0.7368421</td><td>0.9183673</td><td>0.8155340</td><td>0.8256881</td></tr>\n",
       "\t<tr><th scope=row>Fold3</th><td>0.8018868</td><td>0.8376258</td><td>0.9629630</td><td>0.6346154</td><td>0.7323944</td><td>0.9428571</td><td>0.8320000</td><td>0.7586207</td></tr>\n",
       "\t<tr><th scope=row>Fold4</th><td>0.7830189</td><td>0.8162202</td><td>0.9767442</td><td>0.6507937</td><td>0.6562500</td><td>0.9761905</td><td>0.7850467</td><td>0.7809524</td></tr>\n",
       "\t<tr><th scope=row>Fold5</th><td>0.8380952</td><td>0.8473955</td><td>0.9361702</td><td>0.7586207</td><td>0.7586207</td><td>0.9361702</td><td>0.8380952</td><td>0.8380952</td></tr>\n",
       "</tbody>\n",
       "</table>\n"
      ],
      "text/latex": [
       "\\begin{tabular}{r|llllllll}\n",
       "  & Accuracy & Balanced\\_acc & Precision\\_long & Precision\\_short & Recall\\_long & Recall\\_short & F1\\_long & F1\\_short\\\\\n",
       "\\hline\n",
       "\tFold1 & 0.8584906 & 0.8756098 & 0.9629630 & 0.7500000 & 0.8000000 & 0.9512195 & 0.8739496 & 0.8387097\\\\\n",
       "\tFold2 & 0.8207547 & 0.8276047 & 0.9130435 & 0.7500000 & 0.7368421 & 0.9183673 & 0.8155340 & 0.8256881\\\\\n",
       "\tFold3 & 0.8018868 & 0.8376258 & 0.9629630 & 0.6346154 & 0.7323944 & 0.9428571 & 0.8320000 & 0.7586207\\\\\n",
       "\tFold4 & 0.7830189 & 0.8162202 & 0.9767442 & 0.6507937 & 0.6562500 & 0.9761905 & 0.7850467 & 0.7809524\\\\\n",
       "\tFold5 & 0.8380952 & 0.8473955 & 0.9361702 & 0.7586207 & 0.7586207 & 0.9361702 & 0.8380952 & 0.8380952\\\\\n",
       "\\end{tabular}\n"
      ],
      "text/markdown": [
       "\n",
       "| <!--/--> | Accuracy | Balanced_acc | Precision_long | Precision_short | Recall_long | Recall_short | F1_long | F1_short |\n",
       "|---|---|---|---|---|---|---|---|---|\n",
       "| Fold1 | 0.8584906 | 0.8756098 | 0.9629630 | 0.7500000 | 0.8000000 | 0.9512195 | 0.8739496 | 0.8387097 |\n",
       "| Fold2 | 0.8207547 | 0.8276047 | 0.9130435 | 0.7500000 | 0.7368421 | 0.9183673 | 0.8155340 | 0.8256881 |\n",
       "| Fold3 | 0.8018868 | 0.8376258 | 0.9629630 | 0.6346154 | 0.7323944 | 0.9428571 | 0.8320000 | 0.7586207 |\n",
       "| Fold4 | 0.7830189 | 0.8162202 | 0.9767442 | 0.6507937 | 0.6562500 | 0.9761905 | 0.7850467 | 0.7809524 |\n",
       "| Fold5 | 0.8380952 | 0.8473955 | 0.9361702 | 0.7586207 | 0.7586207 | 0.9361702 | 0.8380952 | 0.8380952 |\n",
       "\n"
      ],
      "text/plain": [
       "  Accuracy  Balanced_acc Precision_long Precision_short Recall_long\n",
       "1 0.8584906 0.8756098    0.9629630      0.7500000       0.8000000  \n",
       "2 0.8207547 0.8276047    0.9130435      0.7500000       0.7368421  \n",
       "3 0.8018868 0.8376258    0.9629630      0.6346154       0.7323944  \n",
       "4 0.7830189 0.8162202    0.9767442      0.6507937       0.6562500  \n",
       "5 0.8380952 0.8473955    0.9361702      0.7586207       0.7586207  \n",
       "  Recall_short F1_long   F1_short \n",
       "1 0.9512195    0.8739496 0.8387097\n",
       "2 0.9183673    0.8155340 0.8256881\n",
       "3 0.9428571    0.8320000 0.7586207\n",
       "4 0.9761905    0.7850467 0.7809524\n",
       "5 0.9361702    0.8380952 0.8380952"
      ]
     },
     "metadata": {},
     "output_type": "display_data"
    },
    {
     "name": "stdout",
     "output_type": "stream",
     "text": [
      "[1] \"Means:\"\n"
     ]
    },
    {
     "data": {
      "text/html": [
       "<dl class=dl-horizontal>\n",
       "\t<dt>Accuracy</dt>\n",
       "\t\t<dd>0.820449236298293</dd>\n",
       "\t<dt>Balanced_acc</dt>\n",
       "\t\t<dd>0.840891185206299</dd>\n",
       "\t<dt>Precision_long</dt>\n",
       "\t\t<dd>0.950376760599853</dd>\n",
       "\t<dt>Precision_short</dt>\n",
       "\t\t<dd>0.708805945012842</dd>\n",
       "\t<dt>Recall_long</dt>\n",
       "\t\t<dd>0.736821432223103</dd>\n",
       "\t<dt>Recall_short</dt>\n",
       "\t\t<dd>0.944960938189495</dd>\n",
       "\t<dt>F1_long</dt>\n",
       "\t\t<dd>0.828925105496331</dd>\n",
       "\t<dt>F1_short</dt>\n",
       "\t\t<dd>0.808413211903328</dd>\n",
       "</dl>\n"
      ],
      "text/latex": [
       "\\begin{description*}\n",
       "\\item[Accuracy] 0.820449236298293\n",
       "\\item[Balanced\\textbackslash{}\\_acc] 0.840891185206299\n",
       "\\item[Precision\\textbackslash{}\\_long] 0.950376760599853\n",
       "\\item[Precision\\textbackslash{}\\_short] 0.708805945012842\n",
       "\\item[Recall\\textbackslash{}\\_long] 0.736821432223103\n",
       "\\item[Recall\\textbackslash{}\\_short] 0.944960938189495\n",
       "\\item[F1\\textbackslash{}\\_long] 0.828925105496331\n",
       "\\item[F1\\textbackslash{}\\_short] 0.808413211903328\n",
       "\\end{description*}\n"
      ],
      "text/markdown": [
       "Accuracy\n",
       ":   0.820449236298293Balanced_acc\n",
       ":   0.840891185206299Precision_long\n",
       ":   0.950376760599853Precision_short\n",
       ":   0.708805945012842Recall_long\n",
       ":   0.736821432223103Recall_short\n",
       ":   0.944960938189495F1_long\n",
       ":   0.828925105496331F1_short\n",
       ":   0.808413211903328\n",
       "\n"
      ],
      "text/plain": [
       "       Accuracy    Balanced_acc  Precision_long Precision_short     Recall_long \n",
       "      0.8204492       0.8408912       0.9503768       0.7088059       0.7368214 \n",
       "   Recall_short         F1_long        F1_short \n",
       "      0.9449609       0.8289251       0.8084132 "
      ]
     },
     "metadata": {},
     "output_type": "display_data"
    },
    {
     "name": "stdout",
     "output_type": "stream",
     "text": [
      "[1] \"Standard deviations:\"\n"
     ]
    },
    {
     "data": {
      "text/html": [
       "<dl class=dl-horizontal>\n",
       "\t<dt>Accuracy</dt>\n",
       "\t\t<dd>0.0295982020751349</dd>\n",
       "\t<dt>Balanced_acc</dt>\n",
       "\t\t<dd>0.022602728294503</dd>\n",
       "\t<dt>Precision_long</dt>\n",
       "\t\t<dd>0.0255326559336001</dd>\n",
       "\t<dt>Precision_short</dt>\n",
       "\t\t<dd>0.0607146494863747</dd>\n",
       "\t<dt>Recall_long</dt>\n",
       "\t\t<dd>0.0523882002038248</dd>\n",
       "\t<dt>Recall_short</dt>\n",
       "\t\t<dd>0.0212330855990211</dd>\n",
       "\t<dt>F1_long</dt>\n",
       "\t\t<dd>0.0325014759286364</dd>\n",
       "\t<dt>F1_short</dt>\n",
       "\t\t<dd>0.0365058620275896</dd>\n",
       "</dl>\n"
      ],
      "text/latex": [
       "\\begin{description*}\n",
       "\\item[Accuracy] 0.0295982020751349\n",
       "\\item[Balanced\\textbackslash{}\\_acc] 0.022602728294503\n",
       "\\item[Precision\\textbackslash{}\\_long] 0.0255326559336001\n",
       "\\item[Precision\\textbackslash{}\\_short] 0.0607146494863747\n",
       "\\item[Recall\\textbackslash{}\\_long] 0.0523882002038248\n",
       "\\item[Recall\\textbackslash{}\\_short] 0.0212330855990211\n",
       "\\item[F1\\textbackslash{}\\_long] 0.0325014759286364\n",
       "\\item[F1\\textbackslash{}\\_short] 0.0365058620275896\n",
       "\\end{description*}\n"
      ],
      "text/markdown": [
       "Accuracy\n",
       ":   0.0295982020751349Balanced_acc\n",
       ":   0.022602728294503Precision_long\n",
       ":   0.0255326559336001Precision_short\n",
       ":   0.0607146494863747Recall_long\n",
       ":   0.0523882002038248Recall_short\n",
       ":   0.0212330855990211F1_long\n",
       ":   0.0325014759286364F1_short\n",
       ":   0.0365058620275896\n",
       "\n"
      ],
      "text/plain": [
       "       Accuracy    Balanced_acc  Precision_long Precision_short     Recall_long \n",
       "     0.02959820      0.02260273      0.02553266      0.06071465      0.05238820 \n",
       "   Recall_short         F1_long        F1_short \n",
       "     0.02123309      0.03250148      0.03650586 "
      ]
     },
     "metadata": {},
     "output_type": "display_data"
    }
   ],
   "source": [
    "# define performance metric functions\n",
    "RSQUARE = function(y_actual,y_predict){\n",
    "  cor(y_actual,y_predict)^2\n",
    "}\n",
    "RMSE = function(y_actual, y_predict){\n",
    "    sqrt(mean((y_predict - y_actual)^2))\n",
    "}\n",
    "METRIFY = function(y_actual, y_predict){\n",
    "    acc = Accuracy(ifelse(y_predict >= 0.5, 1, 0), y_actual)\n",
    "    acc_balanced = bal_accuracy_vec(factor(y_actual), factor(ifelse(y_predict >= 0.5, 1, 0)))\n",
    "    prec_long = Precision(y_actual, ifelse(y_predict >= 0.5, 1, 0), positive=1)\n",
    "    prec_short = Precision(y_actual, ifelse(y_predict >= 0.5, 1, 0), positive=0)\n",
    "    rec_long = Recall(y_actual, ifelse(y_predict >= 0.5, 1, 0), positive=1)\n",
    "    rec_short = Recall(y_actual, ifelse(y_predict >= 0.5, 1, 0), positive=0)\n",
    "    f1_long = F1_Score(y_actual, ifelse(y_predict >= 0.5, 1, 0), positive=1)\n",
    "    f1_short = F1_Score(y_actual, ifelse(y_predict >= 0.5, 1, 0), positive=0)\n",
    "    \n",
    "    list(Accuracy=acc, Balanced_acc=acc_balanced, Precision_long=prec_long, Precision_short=prec_short, \n",
    "         Recall_long=rec_long, Recall_short=rec_short, F1_long=f1_long, F1_short=f1_short)\n",
    "}\n",
    "\n",
    "# get classification predictions for each fold on validation components\n",
    "logreg_c_gtet_1cm_or_m_gtet_3cm_1_pred <- predict(logreg_c_gtet_1cm_or_m_gtet_3cm_1, newdata=data.frame(TFF3_positive_count=val1$TFF3_positive_count), type='response')\n",
    "logreg_c_gtet_1cm_or_m_gtet_3cm_2_pred <- predict(logreg_c_gtet_1cm_or_m_gtet_3cm_2, newdata=data.frame(TFF3_positive_count=val2$TFF3_positive_count), type='response')\n",
    "logreg_c_gtet_1cm_or_m_gtet_3cm_3_pred <- predict(logreg_c_gtet_1cm_or_m_gtet_3cm_3, newdata=data.frame(TFF3_positive_count=val3$TFF3_positive_count), type='response')\n",
    "logreg_c_gtet_1cm_or_m_gtet_3cm_4_pred <- predict(logreg_c_gtet_1cm_or_m_gtet_3cm_4, newdata=data.frame(TFF3_positive_count=val4$TFF3_positive_count), type='response')\n",
    "logreg_c_gtet_1cm_or_m_gtet_3cm_5_pred <- predict(logreg_c_gtet_1cm_or_m_gtet_3cm_5, newdata=data.frame(TFF3_positive_count=val5$TFF3_positive_count), type='response')\n",
    "\n",
    "# Get performance metric results\n",
    "fold1 = METRIFY(val1$C_gtet_1_or_M_gtet_3, logreg_c_gtet_1cm_or_m_gtet_3cm_1_pred)\n",
    "fold2 = METRIFY(val2$C_gtet_1_or_M_gtet_3, logreg_c_gtet_1cm_or_m_gtet_3cm_2_pred)\n",
    "fold3 = METRIFY(val3$C_gtet_1_or_M_gtet_3, logreg_c_gtet_1cm_or_m_gtet_3cm_3_pred)\n",
    "fold4 = METRIFY(val4$C_gtet_1_or_M_gtet_3, logreg_c_gtet_1cm_or_m_gtet_3cm_4_pred)\n",
    "fold5 = METRIFY(val5$C_gtet_1_or_M_gtet_3, logreg_c_gtet_1cm_or_m_gtet_3cm_5_pred)\n",
    "\n",
    "results = rbindlist(list(fold1, fold2, fold3, fold4, fold5))\n",
    "row.names(results) = list(\"Fold1\", \"Fold2\", \"Fold3\", \"Fold4\", \"Fold5\")\n",
    "print('Logistic regression C>=1cm or M>=3cm performance on validation folds:')\n",
    "results\n",
    "print(\"Means:\")\n",
    "colMeans(results)\n",
    "print(\"Standard deviations:\")\n",
    "sapply(results, sd)"
   ]
  },
  {
   "cell_type": "markdown",
   "id": "68a7cc08",
   "metadata": {},
   "source": [
    "Train a model on all BEST2 data and infer it on BEST3 data."
   ]
  },
  {
   "cell_type": "code",
   "execution_count": 13,
   "id": "9299603e",
   "metadata": {},
   "outputs": [
    {
     "name": "stderr",
     "output_type": "stream",
     "text": [
      "Warning message:\n",
      "“glm.fit: fitted probabilities numerically 0 or 1 occurred”"
     ]
    },
    {
     "data": {
      "text/html": [
       "<dl>\n",
       "\t<dt>$Accuracy</dt>\n",
       "\t\t<dd>0.734567901234568</dd>\n",
       "\t<dt>$Balanced_acc</dt>\n",
       "\t\t<dd>0.757127192982456</dd>\n",
       "\t<dt>$Precision_long</dt>\n",
       "\t\t<dd>0.534246575342466</dd>\n",
       "\t<dt>$Precision_short</dt>\n",
       "\t\t<dd>0.898876404494382</dd>\n",
       "\t<dt>$Recall_long</dt>\n",
       "\t\t<dd>0.8125</dd>\n",
       "\t<dt>$Recall_short</dt>\n",
       "\t\t<dd>0.701754385964912</dd>\n",
       "\t<dt>$F1_long</dt>\n",
       "\t\t<dd>0.644628099173554</dd>\n",
       "\t<dt>$F1_short</dt>\n",
       "\t\t<dd>0.788177339901478</dd>\n",
       "</dl>\n"
      ],
      "text/latex": [
       "\\begin{description}\n",
       "\\item[\\$Accuracy] 0.734567901234568\n",
       "\\item[\\$Balanced\\_acc] 0.757127192982456\n",
       "\\item[\\$Precision\\_long] 0.534246575342466\n",
       "\\item[\\$Precision\\_short] 0.898876404494382\n",
       "\\item[\\$Recall\\_long] 0.8125\n",
       "\\item[\\$Recall\\_short] 0.701754385964912\n",
       "\\item[\\$F1\\_long] 0.644628099173554\n",
       "\\item[\\$F1\\_short] 0.788177339901478\n",
       "\\end{description}\n"
      ],
      "text/markdown": [
       "$Accuracy\n",
       ":   0.734567901234568\n",
       "$Balanced_acc\n",
       ":   0.757127192982456\n",
       "$Precision_long\n",
       ":   0.534246575342466\n",
       "$Precision_short\n",
       ":   0.898876404494382\n",
       "$Recall_long\n",
       ":   0.8125\n",
       "$Recall_short\n",
       ":   0.701754385964912\n",
       "$F1_long\n",
       ":   0.644628099173554\n",
       "$F1_short\n",
       ":   0.788177339901478\n",
       "\n",
       "\n"
      ],
      "text/plain": [
       "$Accuracy\n",
       "[1] 0.7345679\n",
       "\n",
       "$Balanced_acc\n",
       "[1] 0.7571272\n",
       "\n",
       "$Precision_long\n",
       "[1] 0.5342466\n",
       "\n",
       "$Precision_short\n",
       "[1] 0.8988764\n",
       "\n",
       "$Recall_long\n",
       "[1] 0.8125\n",
       "\n",
       "$Recall_short\n",
       "[1] 0.7017544\n",
       "\n",
       "$F1_long\n",
       "[1] 0.6446281\n",
       "\n",
       "$F1_short\n",
       "[1] 0.7881773\n"
      ]
     },
     "metadata": {},
     "output_type": "display_data"
    },
    {
     "data": {
      "text/plain": [
       "Confusion Matrix and Statistics\n",
       "\n",
       "          Reference\n",
       "Prediction  0  1\n",
       "         0 80  9\n",
       "         1 34 39\n",
       "                                          \n",
       "               Accuracy : 0.7346          \n",
       "                 95% CI : (0.6596, 0.8008)\n",
       "    No Information Rate : 0.7037          \n",
       "    P-Value [Acc > NIR] : 0.2208131       \n",
       "                                          \n",
       "                  Kappa : 0.4469          \n",
       "                                          \n",
       " Mcnemar's Test P-Value : 0.0002522       \n",
       "                                          \n",
       "            Sensitivity : 0.7018          \n",
       "            Specificity : 0.8125          \n",
       "         Pos Pred Value : 0.8989          \n",
       "         Neg Pred Value : 0.5342          \n",
       "             Prevalence : 0.7037          \n",
       "         Detection Rate : 0.4938          \n",
       "   Detection Prevalence : 0.5494          \n",
       "      Balanced Accuracy : 0.7571          \n",
       "                                          \n",
       "       'Positive' Class : 0               \n",
       "                                          "
      ]
     },
     "metadata": {},
     "output_type": "display_data"
    }
   ],
   "source": [
    "# Train full BEST2 model\n",
    "logreg_c_gtet_1cm_or_m_gtet_3cm_best2 <- glm(C_gtet_1_or_M_gtet_3 ~ TFF3_positive_count, family='binomial', data = best2_tff3_prague_data)\n",
    "\n",
    "# Infer model on BEST3 data\n",
    "logreg_c_gtet_1cm_or_m_gtet_3cm_pred_best3 <- predict(logreg_c_gtet_1cm_or_m_gtet_3cm_best2, newdata=data.frame(TFF3_positive_count=best3_tff3_prague_data$TFF3_positive_count), type='response')\n",
    "\n",
    "# Print performance results\n",
    "METRIFY(best3_tff3_prague_data$C_gtet_1_or_M_gtet_3, logreg_c_gtet_1cm_or_m_gtet_3cm_pred_best3)\n",
    "\n",
    "# Make confusion matrix\n",
    "confusionMatrix(factor(ifelse(logreg_c_gtet_1cm_or_m_gtet_3cm_pred_best3 >= 0.5, 1, 0)), \n",
    "                factor(best3_tff3_prague_data$C_gtet_1_or_M_gtet_3))\n",
    "\n",
    "\n",
    "\n",
    "# get classification predictions for each fold on validation components\n",
    "#logreg_c_gtet_1cm_or_m_gtet_3cm_1_pred_best3 <- predict(logreg_c_gtet_1cm_or_m_gtet_3cm_1, newdata=data.frame(TFF3_positive_count=best3_tff3_prague_data$TFF3_positive_count), type='response')\n",
    "#logreg_c_gtet_1cm_or_m_gtet_3cm_2_pred_best3 <- predict(logreg_c_gtet_1cm_or_m_gtet_3cm_2, newdata=data.frame(TFF3_positive_count=best3_tff3_prague_data$TFF3_positive_count), type='response')\n",
    "#logreg_c_gtet_1cm_or_m_gtet_3cm_3_pred_best3 <- predict(logreg_c_gtet_1cm_or_m_gtet_3cm_3, newdata=data.frame(TFF3_positive_count=best3_tff3_prague_data$TFF3_positive_count), type='response')\n",
    "#logreg_c_gtet_1cm_or_m_gtet_3cm_4_pred_best3 <- predict(logreg_c_gtet_1cm_or_m_gtet_3cm_4, newdata=data.frame(TFF3_positive_count=best3_tff3_prague_data$TFF3_positive_count), type='response')\n",
    "#logreg_c_gtet_1cm_or_m_gtet_3cm_5_pred_best3 <- predict(logreg_c_gtet_1cm_or_m_gtet_3cm_5, newdata=data.frame(TFF3_positive_count=best3_tff3_prague_data$TFF3_positive_count), type='response')\n",
    "\n",
    "# Get performance metric results\n",
    "#fold1_best3 = METRIFY(best3_tff3_prague_data$C_gtet_1_or_M_gtet_3, logreg_c_gtet_1cm_or_m_gtet_3cm_1_pred_best3)\n",
    "#fold2_best3 = METRIFY(best3_tff3_prague_data$C_gtet_1_or_M_gtet_3, logreg_c_gtet_1cm_or_m_gtet_3cm_2_pred_best3)\n",
    "#fold3_best3 = METRIFY(best3_tff3_prague_data$C_gtet_1_or_M_gtet_3, logreg_c_gtet_1cm_or_m_gtet_3cm_3_pred_best3)\n",
    "#fold4_best3 = METRIFY(best3_tff3_prague_data$C_gtet_1_or_M_gtet_3, logreg_c_gtet_1cm_or_m_gtet_3cm_4_pred_best3)\n",
    "#fold5_best3 = METRIFY(best3_tff3_prague_data$C_gtet_1_or_M_gtet_3, logreg_c_gtet_1cm_or_m_gtet_3cm_5_pred_best3)\n",
    "\n",
    "#results = rbindlist(list(fold1_best3, fold2_best3, fold3_best3, fold4_best3, fold5_best3))\n",
    "#row.names(results) = list(\"Fold1\", \"Fold2\", \"Fold3\", \"Fold4\", \"Fold5\")\n",
    "#print('Logistic regression C>=1cm or M>=3cm performance on BEST3 patients:')\n",
    "#results\n",
    "#print(\"Means:\")\n",
    "#colMeans(results)\n",
    "#print(\"Standard deviations:\")\n",
    "#sapply(results, sd)\n",
    "\n",
    "#confusionMatrix(factor(ifelse(logreg_c_gtet_1cm_or_m_gtet_3cm_1_pred_best3 >= 0.5, 1, 0)), \n",
    "#                factor(best3_tff3_prague_data$C_gtet_1_or_M_gtet_3))"
   ]
  },
  {
   "cell_type": "markdown",
   "id": "e526ed8a",
   "metadata": {},
   "source": [
    "Train 5-fold Poisson regression and zero-inflated Poisson (ZIP) regression models for predicting both C and M length."
   ]
  },
  {
   "cell_type": "code",
   "execution_count": 31,
   "id": "73471060",
   "metadata": {},
   "outputs": [
    {
     "name": "stderr",
     "output_type": "stream",
     "text": [
      "Warning message:\n",
      "“glm.fit: fitted probabilities numerically 0 or 1 occurred”Warning message:\n",
      "“glm.fit: fitted probabilities numerically 0 or 1 occurred”Warning message:\n",
      "“glm.fit: fitted probabilities numerically 0 or 1 occurred”Warning message:\n",
      "“glm.fit: fitted probabilities numerically 0 or 1 occurred”Warning message:\n",
      "“glm.fit: fitted probabilities numerically 0 or 1 occurred”Warning message:\n",
      "“glm.fit: fitted probabilities numerically 0 or 1 occurred”Warning message:\n",
      "“glm.fit: fitted probabilities numerically 0 or 1 occurred”Warning message:\n",
      "“glm.fit: fitted probabilities numerically 0 or 1 occurred”Warning message:\n",
      "“glm.fit: fitted probabilities numerically 0 or 1 occurred”Warning message:\n",
      "“glm.fit: fitted probabilities numerically 0 or 1 occurred”"
     ]
    }
   ],
   "source": [
    "psn_c_1_doubled <- glm(PRAGUE_C_doubled ~ TFF3_positive_count, family = 'poisson', data = train1)\n",
    "psn_c_2_doubled <- glm(PRAGUE_C_doubled ~ TFF3_positive_count, family = 'poisson', data = train2)\n",
    "psn_c_3_doubled <- glm(PRAGUE_C_doubled ~ TFF3_positive_count, family = 'poisson', data = train3)\n",
    "psn_c_4_doubled <- glm(PRAGUE_C_doubled ~ TFF3_positive_count, family = 'poisson', data = train4)\n",
    "psn_c_5_doubled <- glm(PRAGUE_C_doubled ~ TFF3_positive_count, family = 'poisson', data = train5)\n",
    "\n",
    "zip_c_1_doubled <- zeroinfl(PRAGUE_C_doubled ~ TFF3_positive_count, dist = 'poisson', data = train1)\n",
    "zip_c_2_doubled <- zeroinfl(PRAGUE_C_doubled ~ TFF3_positive_count, dist = 'poisson', data = train2)\n",
    "zip_c_3_doubled <- zeroinfl(PRAGUE_C_doubled ~ TFF3_positive_count, dist = 'poisson', data = train3)\n",
    "zip_c_4_doubled <- zeroinfl(PRAGUE_C_doubled ~ TFF3_positive_count, dist = 'poisson', data = train4)\n",
    "zip_c_5_doubled <- zeroinfl(PRAGUE_C_doubled ~ TFF3_positive_count, dist = 'poisson', data = train5)\n",
    "\n",
    "psn_m_1_doubled <- glm(PRAGUE_M_doubled ~ TFF3_positive_count, family = 'poisson', data = train1)\n",
    "psn_m_2_doubled <- glm(PRAGUE_M_doubled ~ TFF3_positive_count, family = 'poisson', data = train2)\n",
    "psn_m_3_doubled <- glm(PRAGUE_M_doubled ~ TFF3_positive_count, family = 'poisson', data = train3)\n",
    "psn_m_4_doubled <- glm(PRAGUE_M_doubled ~ TFF3_positive_count, family = 'poisson', data = train4)\n",
    "psn_m_5_doubled <- glm(PRAGUE_M_doubled ~ TFF3_positive_count, family = 'poisson', data = train5)\n",
    "\n",
    "zip_m_1_doubled <- zeroinfl(PRAGUE_M_doubled ~ TFF3_positive_count, dist = 'poisson', data = train1)\n",
    "zip_m_2_doubled <- zeroinfl(PRAGUE_M_doubled ~ TFF3_positive_count, dist = 'poisson', data = train2)\n",
    "zip_m_3_doubled <- zeroinfl(PRAGUE_M_doubled ~ TFF3_positive_count, dist = 'poisson', data = train3)\n",
    "zip_m_4_doubled <- zeroinfl(PRAGUE_M_doubled ~ TFF3_positive_count, dist = 'poisson', data = train4)\n",
    "zip_m_5_doubled <- zeroinfl(PRAGUE_M_doubled ~ TFF3_positive_count, dist = 'poisson', data = train5)"
   ]
  },
  {
   "cell_type": "markdown",
   "id": "4bfe9b4a",
   "metadata": {},
   "source": [
    "Evaluate regression models' performances on validation components of each fold."
   ]
  },
  {
   "cell_type": "code",
   "execution_count": 32,
   "id": "2060d397",
   "metadata": {},
   "outputs": [
    {
     "name": "stdout",
     "output_type": "stream",
     "text": [
      "[1] \"Poisson regression C length fold 1 R^2 error: 0.114846695308571\"\n",
      "[1] \"Poisson regression C length fold 2 R^2 error: 0.118901434337808\"\n",
      "[1] \"Poisson regression C length fold 3 R^2 error: 0.308176891195119\"\n",
      "[1] \"Poisson regression C length fold 4 R^2 error: 0.402480351673385\"\n",
      "[1] \"Poisson regression C length fold 5 R^2 error: 0.139129534619889\"\n",
      "[1] \"Poisson regression C length Mean R^2: 0.216706981426954\"\n",
      "[1] \"\"\n",
      "[1] \"ZIP regression C length fold 1 R^2 error: 0.365628531856574\"\n",
      "[1] \"ZIP regression C length fold 2 R^2 error: 0.346539219229118\"\n",
      "[1] \"ZIP regression C length fold 3 R^2 error: 0.466637354447057\"\n",
      "[1] \"ZIP regression C length fold 4 R^2 error: 0.531353217628253\"\n",
      "[1] \"ZIP regression C length fold 5 R^2 error: 0.301425270664368\"\n",
      "[1] \"ZIP regression C length Mean R^2: 0.402316718765074\"\n",
      "[1] \"\"\n",
      "[1] \"Poisson regression M length fold 1 R^2 error: 0.112733755340363\"\n",
      "[1] \"Poisson regression M length fold 2 R^2 error: 0.121327531032846\"\n",
      "[1] \"Poisson regression M length fold 3 R^2 error: 0.243130507295781\"\n",
      "[1] \"Poisson regression M length fold 4 R^2 error: 0.331900778785075\"\n",
      "[1] \"Poisson regression M length fold 5 R^2 error: 0.130254079485748\"\n",
      "[1] \"Poisson regression M length Mean R^2: 0.229660441255312\"\n",
      "[1] \"\"\n",
      "[1] \"ZIP regression M length fold 1 R^2 error: 0.509667581779392\"\n",
      "[1] \"ZIP regression M length fold 2 R^2 error: 0.460673330033997\"\n",
      "[1] \"ZIP regression M length fold 3 R^2 error: 0.454052318004702\"\n",
      "[1] \"ZIP regression M length fold 4 R^2 error: 0.562220094982089\"\n",
      "[1] \"ZIP regression M length fold 5 R^2 error: 0.351897259573956\"\n",
      "[1] \"ZIP regression M length Mean R^2: 0.399595629867012\"\n"
     ]
    }
   ],
   "source": [
    "# Predict on validation components\n",
    "psn_c_1_pred_doubled <- predict(psn_c_1_doubled, newdata=data.frame(TFF3_positive_count=val1$TFF3_positive_count), type='response')\n",
    "psn_c_2_pred_doubled <- predict(psn_c_2_doubled, newdata=data.frame(TFF3_positive_count=val2$TFF3_positive_count), type='response')\n",
    "psn_c_3_pred_doubled <- predict(psn_c_3_doubled, newdata=data.frame(TFF3_positive_count=val3$TFF3_positive_count), type='response')\n",
    "psn_c_4_pred_doubled <- predict(psn_c_4_doubled, newdata=data.frame(TFF3_positive_count=val4$TFF3_positive_count), type='response')\n",
    "psn_c_5_pred_doubled <- predict(psn_c_5_doubled, newdata=data.frame(TFF3_positive_count=val5$TFF3_positive_count), type='response')\n",
    "\n",
    "zip_c_1_pred_doubled <- predict(zip_c_1_doubled, newdata=data.frame(TFF3_positive_count=val1$TFF3_positive_count), type='response')\n",
    "zip_c_2_pred_doubled <- predict(zip_c_2_doubled, newdata=data.frame(TFF3_positive_count=val2$TFF3_positive_count), type='response')\n",
    "zip_c_3_pred_doubled <- predict(zip_c_3_doubled, newdata=data.frame(TFF3_positive_count=val3$TFF3_positive_count), type='response')\n",
    "zip_c_4_pred_doubled <- predict(zip_c_4_doubled, newdata=data.frame(TFF3_positive_count=val4$TFF3_positive_count), type='response')\n",
    "zip_c_5_pred_doubled <- predict(zip_c_5_doubled, newdata=data.frame(TFF3_positive_count=val5$TFF3_positive_count), type='response')\n",
    "\n",
    "psn_m_1_pred_doubled <- predict(psn_m_1_doubled, newdata=data.frame(TFF3_positive_count=val1$TFF3_positive_count), type='response')\n",
    "psn_m_2_pred_doubled <- predict(psn_m_2_doubled, newdata=data.frame(TFF3_positive_count=val2$TFF3_positive_count), type='response')\n",
    "psn_m_3_pred_doubled <- predict(psn_m_3_doubled, newdata=data.frame(TFF3_positive_count=val3$TFF3_positive_count), type='response')\n",
    "psn_m_4_pred_doubled <- predict(psn_m_4_doubled, newdata=data.frame(TFF3_positive_count=val4$TFF3_positive_count), type='response')\n",
    "psn_m_5_pred_doubled <- predict(psn_m_5_doubled, newdata=data.frame(TFF3_positive_count=val5$TFF3_positive_count), type='response')\n",
    "\n",
    "zip_m_1_pred_doubled <- predict(zip_m_1_doubled, newdata=data.frame(TFF3_positive_count=val1$TFF3_positive_count), type='response')\n",
    "zip_m_2_pred_doubled <- predict(zip_m_2_doubled, newdata=data.frame(TFF3_positive_count=val2$TFF3_positive_count), type='response')\n",
    "zip_m_3_pred_doubled <- predict(zip_m_3_doubled, newdata=data.frame(TFF3_positive_count=val3$TFF3_positive_count), type='response')\n",
    "zip_m_4_pred_doubled <- predict(zip_m_4_doubled, newdata=data.frame(TFF3_positive_count=val4$TFF3_positive_count), type='response')\n",
    "zip_m_5_pred_doubled <- predict(zip_m_5_doubled, newdata=data.frame(TFF3_positive_count=val5$TFF3_positive_count), type='response')\n",
    "\n",
    "# Print results\n",
    "print(paste0(\"Poisson regression C length fold 1 R^2 error: \", RSQUARE(val1$PRAGUE_C, psn_c_1_pred_doubled/2)))\n",
    "print(paste0(\"Poisson regression C length fold 2 R^2 error: \", RSQUARE(val2$PRAGUE_C, psn_c_2_pred_doubled/2)))\n",
    "print(paste0(\"Poisson regression C length fold 3 R^2 error: \", RSQUARE(val3$PRAGUE_C, psn_c_3_pred_doubled/2)))\n",
    "print(paste0(\"Poisson regression C length fold 4 R^2 error: \", RSQUARE(val4$PRAGUE_C, psn_c_4_pred_doubled/2)))\n",
    "print(paste0(\"Poisson regression C length fold 5 R^2 error: \", RSQUARE(val5$PRAGUE_C, psn_c_5_pred_doubled/2)))\n",
    "sum = RSQUARE(val1$PRAGUE_C, psn_c_1_pred_doubled/2)+\n",
    "    RSQUARE(val2$PRAGUE_C, psn_c_2_pred_doubled/2)+\n",
    "    RSQUARE(val3$PRAGUE_C, psn_c_3_pred_doubled/2)+\n",
    "    RSQUARE(val4$PRAGUE_C, psn_c_4_pred_doubled/2)+\n",
    "    RSQUARE(val5$PRAGUE_C, psn_c_5_pred_doubled/2)\n",
    "print(paste0(\"Poisson regression C length Mean R^2: \", sum/5))\n",
    "print('')\n",
    "print(paste0(\"ZIP regression C length fold 1 R^2 error: \", RSQUARE(val1$PRAGUE_C, zip_c_1_pred_doubled/2)))\n",
    "print(paste0(\"ZIP regression C length fold 2 R^2 error: \", RSQUARE(val2$PRAGUE_C, zip_c_2_pred_doubled/2)))\n",
    "print(paste0(\"ZIP regression C length fold 3 R^2 error: \", RSQUARE(val3$PRAGUE_C, zip_c_3_pred_doubled/2)))\n",
    "print(paste0(\"ZIP regression C length fold 4 R^2 error: \", RSQUARE(val4$PRAGUE_C, zip_c_4_pred_doubled/2)))\n",
    "print(paste0(\"ZIP regression C length fold 5 R^2 error: \", RSQUARE(val5$PRAGUE_C, zip_c_5_pred_doubled/2)))\n",
    "sum = RSQUARE(val1$PRAGUE_C, zip_c_1_pred_doubled/2)+\n",
    "    RSQUARE(val2$PRAGUE_C, zip_c_2_pred_doubled/2)+\n",
    "    RSQUARE(val3$PRAGUE_C, zip_c_3_pred_doubled/2)+\n",
    "    RSQUARE(val4$PRAGUE_C, zip_c_4_pred_doubled/2)+\n",
    "    RSQUARE(val5$PRAGUE_C, zip_c_5_pred_doubled/2)\n",
    "print(paste0(\"ZIP regression C length Mean R^2: \", sum/5))\n",
    "print('')\n",
    "print(paste0(\"Poisson regression M length fold 1 R^2 error: \", RSQUARE(val1$PRAGUE_M, psn_m_1_pred_doubled/2)))\n",
    "print(paste0(\"Poisson regression M length fold 2 R^2 error: \", RSQUARE(val2$PRAGUE_M, psn_m_2_pred_doubled/2)))\n",
    "print(paste0(\"Poisson regression M length fold 3 R^2 error: \", RSQUARE(val3$PRAGUE_M, psn_m_3_pred_doubled/2)))\n",
    "print(paste0(\"Poisson regression M length fold 4 R^2 error: \", RSQUARE(val4$PRAGUE_M, psn_m_4_pred_doubled/2)))\n",
    "print(paste0(\"Poisson regression M length fold 5 R^2 error: \", RSQUARE(val5$PRAGUE_M, psn_m_5_pred_doubled/2)))\n",
    "sum = RSQUARE(val1$PRAGUE_C, psn_m_1_pred_doubled/2)+\n",
    "    RSQUARE(val2$PRAGUE_C, psn_m_2_pred_doubled/2)+\n",
    "    RSQUARE(val3$PRAGUE_C, psn_m_3_pred_doubled/2)+\n",
    "    RSQUARE(val4$PRAGUE_C, psn_m_4_pred_doubled/2)+\n",
    "    RSQUARE(val5$PRAGUE_C, psn_m_5_pred_doubled/2)\n",
    "print(paste0(\"Poisson regression M length Mean R^2: \", sum/5))\n",
    "print('')\n",
    "print(paste0(\"ZIP regression M length fold 1 R^2 error: \", RSQUARE(val1$PRAGUE_M, zip_m_1_pred_doubled/2)))\n",
    "print(paste0(\"ZIP regression M length fold 2 R^2 error: \", RSQUARE(val2$PRAGUE_M, zip_m_2_pred_doubled/2)))\n",
    "print(paste0(\"ZIP regression M length fold 3 R^2 error: \", RSQUARE(val3$PRAGUE_M, zip_m_3_pred_doubled/2)))\n",
    "print(paste0(\"ZIP regression M length fold 4 R^2 error: \", RSQUARE(val4$PRAGUE_M, zip_m_4_pred_doubled/2)))\n",
    "print(paste0(\"ZIP regression M length fold 5 R^2 error: \", RSQUARE(val5$PRAGUE_M, zip_m_5_pred_doubled/2)))\n",
    "sum = RSQUARE(val1$PRAGUE_C, zip_m_1_pred_doubled/2)+\n",
    "    RSQUARE(val2$PRAGUE_C, zip_m_2_pred_doubled/2)+\n",
    "    RSQUARE(val3$PRAGUE_C, zip_m_3_pred_doubled/2)+\n",
    "    RSQUARE(val4$PRAGUE_C, zip_m_4_pred_doubled/2)+\n",
    "    RSQUARE(val5$PRAGUE_C, zip_m_5_pred_doubled/2)\n",
    "print(paste0(\"ZIP regression M length Mean R^2: \", sum/5))"
   ]
  },
  {
   "cell_type": "markdown",
   "id": "fc9f94e3",
   "metadata": {},
   "source": [
    "Train ZIP regression models to predict C and M lengths on all of BEST2, apply models to BEST3, and check performances."
   ]
  },
  {
   "cell_type": "code",
   "execution_count": 15,
   "id": "4dc9eb00",
   "metadata": {},
   "outputs": [
    {
     "name": "stderr",
     "output_type": "stream",
     "text": [
      "Warning message:\n",
      "“glm.fit: fitted probabilities numerically 0 or 1 occurred”Warning message:\n",
      "“glm.fit: fitted probabilities numerically 0 or 1 occurred”"
     ]
    },
    {
     "name": "stdout",
     "output_type": "stream",
     "text": [
      "[1] \"ZIP regression C length R^2 error BEST3: 0.212109775992773\"\n",
      "[1] \"ZIP regression M length R^2 error BEST3: 0.312582683881029\"\n"
     ]
    }
   ],
   "source": [
    "# train\n",
    "zip_c_doubled_best2 <- zeroinfl(PRAGUE_C_doubled ~ TFF3_positive_count, dist = 'poisson', data = best2_tff3_prague_data)\n",
    "zip_m_doubled_best2 <- zeroinfl(PRAGUE_M_doubled ~ TFF3_positive_count, dist = 'poisson', data = best2_tff3_prague_data)\n",
    "\n",
    "# apply\n",
    "zip_c_pred_doubled_best3 <- predict(zip_c_doubled_best2, newdata=data.frame(TFF3_positive_count=best3_tff3_prague_data$TFF3_positive_count), type='response')\n",
    "zip_m_pred_doubled_best3 <- predict(zip_m_doubled_best2, newdata=data.frame(TFF3_positive_count=best3_tff3_prague_data$TFF3_positive_count), type='response')\n",
    "\n",
    "# check performances\n",
    "print(paste0(\"ZIP regression C length R^2 error BEST3: \", RSQUARE(best3_tff3_prague_data$PRAGUE_C, zip_c_pred_doubled_best3/2)))\n",
    "print(paste0(\"ZIP regression M length R^2 error BEST3: \", RSQUARE(best3_tff3_prague_data$PRAGUE_M, zip_c_pred_doubled_best3/2)))"
   ]
  },
  {
   "cell_type": "code",
   "execution_count": null,
   "id": "fe376ad1",
   "metadata": {},
   "outputs": [],
   "source": []
  }
 ],
 "metadata": {
  "kernelspec": {
   "display_name": "R",
   "language": "R",
   "name": "ir"
  },
  "language_info": {
   "codemirror_mode": "r",
   "file_extension": ".r",
   "mimetype": "text/x-r-source",
   "name": "R",
   "pygments_lexer": "r",
   "version": "3.6.1"
  }
 },
 "nbformat": 4,
 "nbformat_minor": 5
}
