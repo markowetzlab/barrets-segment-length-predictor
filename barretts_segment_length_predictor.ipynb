{
 "cells": [
  {
   "cell_type": "markdown",
   "id": "1dd9df2e",
   "metadata": {},
   "source": [
    "Import external libraries."
   ]
  },
  {
   "cell_type": "code",
   "execution_count": 4,
   "id": "1bb6511d",
   "metadata": {},
   "outputs": [],
   "source": [
    "#install.packages(\"dplyr\")\n",
    "library(\"readxl\")\n",
    "library(\"pscl\")\n",
    "library(yardstick)\n",
    "library(data.table)\n",
    "library(MLmetrics)\n",
    "library(ggplot2)"
   ]
  },
  {
   "cell_type": "markdown",
   "id": "d62f6efa",
   "metadata": {},
   "source": [
    "Read in tile count data for BEST2 and BEST3. Change paths to ```barretts-segment-length-predictor``` directory as appropriate."
   ]
  },
  {
   "cell_type": "code",
   "execution_count": 5,
   "id": "3dd6c02c",
   "metadata": {},
   "outputs": [
    {
     "name": "stderr",
     "output_type": "stream",
     "text": [
      "New names:\n",
      "* `` -> ...3\n"
     ]
    }
   ],
   "source": [
    "best2_tff3_tile_data <- read_excel(\"~/Documents/barrets-segment-length-predictor/data/BEST2_TFF3_AND_GASTRIC_TILE_COUNTS_QC_PASSING.xlsx\")\n",
    "best2_prague_length_data <- read_excel(\"~/Documents/barrets-segment-length-predictor/data/BEST2_ENDOSCOPY_CRF_CLEANED_SHORTENED.xlsx\")\n",
    "best3_tff3_tile_data <- read_excel('~/Documents/barrets-segment-length-predictor/data/BEST3_TFF3_AND_GASTRIC_TILE_COUNTS_QC_PASSING.xlsx')\n",
    "best3_prague_length_data <- read.csv('~/Documents/barrets-segment-length-predictor/data/BEST3_ENDOSCOPY_CRF_CLEANED.csv')"
   ]
  },
  {
   "cell_type": "markdown",
   "id": "7845a83a",
   "metadata": {},
   "source": [
    "Merge data appropriately and add new columns for training."
   ]
  },
  {
   "cell_type": "code",
   "execution_count": 6,
   "id": "923c7d01",
   "metadata": {},
   "outputs": [],
   "source": [
    "# Merge tile count and Prague length data and perform some cleaning tasks\n",
    "best2_tff3_prague_data = merge(best2_tff3_tile_data, best2_prague_length_data, by='Case')\n",
    "best3_tff3_prague_data = merge(best3_tff3_tile_data, best3_prague_length_data, by='Case')\n",
    "tff3_prague_data = rbind(best2_tff3_prague_data[, c('Case', 'Gastric_count', 'TFF3_positive_count', 'PRAGUE_C', 'PRAGUE_M')],\n",
    "                            best3_tff3_prague_data[, c('Case', 'Gastric_count', 'TFF3_positive_count', 'PRAGUE_C', 'PRAGUE_M')])\n",
    "tff3_prague_data$PRAGUE_C <- as.numeric(tff3_prague_data$PRAGUE_C)\n",
    "tff3_prague_data$PRAGUE_M <- as.numeric(tff3_prague_data$PRAGUE_M)\n",
    "tff3_prague_data$TFF3_positive_count <- as.numeric(tff3_prague_data$TFF3_positive_count)\n",
    "tff3_prague_data$Gastric_count <- as.numeric(tff3_prague_data$Gastric_count)\n",
    "\n",
    "# Add C≥1 and M≥3 columns\n",
    "tff3_prague_data$PRAGUE_C_gtet_1cm <- ifelse(tff3_prague_data$PRAGUE_C >= 1, 1, 0)\n",
    "tff3_prague_data$PRAGUE_M_gtet_3cm <- ifelse(tff3_prague_data$PRAGUE_M >= 3, 1, 0)\n",
    "\n",
    "# Add C≥1 OR M≥3 column\n",
    "tff3_prague_data$C_gtet_1_or_M_gtet_3 <- ifelse(tff3_prague_data$PRAGUE_C >= 1 | tff3_prague_data$PRAGUE_M >= 3, 1, 0)\n",
    "\n",
    "# Create doubled C and M columns to have only integer values for Poisson regression models\n",
    "tff3_prague_data$PRAGUE_M_doubled <- tff3_prague_data$PRAGUE_M * 2\n",
    "tff3_prague_data$PRAGUE_C_doubled <- tff3_prague_data$PRAGUE_C * 2\n",
    "\n",
    "# Re-split data into BEST2 and BEST3 pieces\n",
    "best2_tff3_prague_data <- head(tff3_prague_data, nrow(best2_tff3_prague_data))\n",
    "best3_tff3_prague_data <- tail(tff3_prague_data, nrow(best3_tff3_prague_data))\n",
    "\n",
    "# Convert to data.table\n",
    "best2_tff3_prague_data <- setDT(best2_tff3_prague_data)\n",
    "best3_tff3_prague_data <- setDT(best3_tff3_prague_data)\n",
    "tff3_prague_data <- setDT(tff3_prague_data)\n",
    "\n",
    "\n",
    "# Create versions of the above data tables with no patients with no patients with TFF3 positive tile counts of 0\n",
    "best2_tff3_prague_data_nozeros <- best2_tff3_prague_data[best2_tff3_prague_data$TFF3_positive_count != 0,]\n",
    "best3_tff3_prague_data_nozeros <- best3_tff3_prague_data[best3_tff3_prague_data$TFF3_positive_count != 0,]\n",
    "tff3_prague_data_nozeros <- tff3_prague_data[tff3_prague_data$TFF3_positive_count != 0,]"
   ]
  },
  {
   "cell_type": "markdown",
   "id": "f7fd9adf",
   "metadata": {},
   "source": [
    "Generate Figure 2 plots. These plots aren't used in the paper. See ```create_figure_2.ipynb``` for the code to generate the paper figure 2 plots."
   ]
  },
  {
   "cell_type": "code",
   "execution_count": 7,
   "id": "960e8906",
   "metadata": {},
   "outputs": [],
   "source": [
    "# Plot 2a\n",
    "#plot1 <- ggplot(data=tff3_prague_data, aes(x=TFF3_positive_count)) + geom_histogram() + \n",
    "#    xlab('TFF3 positive tile count') + ylab('Count') + theme(axis.text=element_text(size=18), axis.title=element_text(size=22, face=\"bold\"))\n",
    "#plot1\n",
    "#ggsave(file=\"~/Downloads/plot2a.svg\", plot=plot1, width=10, height=10)\n",
    "\n",
    "# Plot 2b\n",
    "#plot2 <- ggplot(data=tff3_prague_data, aes(x=PRAGUE_C, y=TFF3_positive_count, group=PRAGUE_C)) + \n",
    "#    geom_boxplot() + xlab('Prague C length (cm)') + ylab('TFF3 positive tile count') + coord_flip() +\n",
    "#     theme(axis.text=element_text(size=18), axis.title=element_text(size=22, face=\"bold\"))\n",
    "#plot2\n",
    "#ggsave(file=\"~/Downloads/plot2b.svg\", plot=plot2, width=10, height=10)\n",
    "\n",
    "# Plot 2c\n",
    "#plot3 <- ggplot(data=tff3_prague_data, aes(x=PRAGUE_M, y=TFF3_positive_count, group=PRAGUE_M)) + \n",
    "#    geom_boxplot() + xlab('Prague M length (cm)') + ylab('TFF3 positive tile count') + coord_flip() +\n",
    "#     theme(axis.text=element_text(size=18), axis.title=element_text(size=22, face=\"bold\"))\n",
    "#plot3\n",
    "#ggsave(file=\"~/Downloads/plot2c.svg\", plot=plot3, width=10, height=10)"
   ]
  },
  {
   "cell_type": "markdown",
   "id": "270b9471",
   "metadata": {},
   "source": [
    "Compute Spearman's correlation coefficients."
   ]
  },
  {
   "cell_type": "code",
   "execution_count": 8,
   "id": "1252c622",
   "metadata": {},
   "outputs": [
    {
     "name": "stdout",
     "output_type": "stream",
     "text": [
      "[1] \"Prague C ~ TFF3 positive tile count Spearman rho\"\n"
     ]
    },
    {
     "data": {
      "text/html": [
       "0.684160631837252"
      ],
      "text/latex": [
       "0.684160631837252"
      ],
      "text/markdown": [
       "0.684160631837252"
      ],
      "text/plain": [
       "[1] 0.6841606"
      ]
     },
     "metadata": {},
     "output_type": "display_data"
    },
    {
     "name": "stdout",
     "output_type": "stream",
     "text": [
      "[1] \"Prague M ~ TFF3 positive tile count Spearman rho\"\n"
     ]
    },
    {
     "data": {
      "text/html": [
       "0.719596900362572"
      ],
      "text/latex": [
       "0.719596900362572"
      ],
      "text/markdown": [
       "0.719596900362572"
      ],
      "text/plain": [
       "[1] 0.7195969"
      ]
     },
     "metadata": {},
     "output_type": "display_data"
    },
    {
     "name": "stdout",
     "output_type": "stream",
     "text": [
      "[1] \"Prague C ~ Gastric tile count Spearman rho\"\n"
     ]
    },
    {
     "data": {
      "text/html": [
       "-0.0897283689839772"
      ],
      "text/latex": [
       "-0.0897283689839772"
      ],
      "text/markdown": [
       "-0.0897283689839772"
      ],
      "text/plain": [
       "[1] -0.08972837"
      ]
     },
     "metadata": {},
     "output_type": "display_data"
    },
    {
     "name": "stdout",
     "output_type": "stream",
     "text": [
      "[1] \"Prague M ~ Gastric tile count Spearman rho\"\n"
     ]
    },
    {
     "data": {
      "text/html": [
       "-0.125780696813555"
      ],
      "text/latex": [
       "-0.125780696813555"
      ],
      "text/markdown": [
       "-0.125780696813555"
      ],
      "text/plain": [
       "[1] -0.1257807"
      ]
     },
     "metadata": {},
     "output_type": "display_data"
    }
   ],
   "source": [
    "# correlation metrics\n",
    "print('Prague C ~ TFF3 positive tile count Spearman rho')\n",
    "cor(best2_tff3_prague_data_nozeros$TFF3_positive_count, best2_tff3_prague_data_nozeros$PRAGUE_C, method = c(\"spearman\"))\n",
    "print('Prague M ~ TFF3 positive tile count Spearman rho')\n",
    "cor(best2_tff3_prague_data_nozeros$TFF3_positive_count, best2_tff3_prague_data_nozeros$PRAGUE_M, method = c(\"spearman\"))\n",
    "print('Prague C ~ Gastric tile count Spearman rho')\n",
    "cor(best2_tff3_prague_data_nozeros$Gastric_count, best2_tff3_prague_data_nozeros$PRAGUE_C, method = c(\"spearman\"))\n",
    "print('Prague M ~ Gastric tile count Spearman rho')\n",
    "cor(best2_tff3_prague_data_nozeros$Gastric_count, best2_tff3_prague_data_nozeros$PRAGUE_M, method = c(\"spearman\"))"
   ]
  },
  {
   "cell_type": "markdown",
   "id": "40aea849",
   "metadata": {},
   "source": [
    "Train 5-fold cross validation logistic regression models for predicting segment length class: (C≥1 OR M≥3) vs. (C<1 AND M<3)"
   ]
  },
  {
   "cell_type": "code",
   "execution_count": 9,
   "id": "eddc1b25",
   "metadata": {},
   "outputs": [
    {
     "data": {
      "text/html": [
       "434"
      ],
      "text/latex": [
       "434"
      ],
      "text/markdown": [
       "434"
      ],
      "text/plain": [
       "[1] 434"
      ]
     },
     "metadata": {},
     "output_type": "display_data"
    },
    {
     "name": "stderr",
     "output_type": "stream",
     "text": [
      "Warning message:\n",
      "“glm.fit: fitted probabilities numerically 0 or 1 occurred”Warning message:\n",
      "“glm.fit: fitted probabilities numerically 0 or 1 occurred”Warning message:\n",
      "“glm.fit: fitted probabilities numerically 0 or 1 occurred”Warning message:\n",
      "“glm.fit: fitted probabilities numerically 0 or 1 occurred”Warning message:\n",
      "“glm.fit: fitted probabilities numerically 0 or 1 occurred”"
     ]
    }
   ],
   "source": [
    "# create 5 folds for cross validation across 691 patients from BEST2 and BEST3 \n",
    "# (138 patients per val fold, 553 per training fold)\n",
    "set.seed(111)\n",
    "\n",
    "# For BEST2 only analyses\n",
    "tff3_prague_data_shuffled <- best2_tff3_prague_data_nozeros[sample(nrow(best2_tff3_prague_data_nozeros)),]\n",
    "\n",
    "# For BEST2+BEST3 analyses\n",
    "#tff3_prague_data_shuffled <- tff3_prague_data_nozeros[sample(nrow(tff3_prague_data_nozeros)),]\n",
    "nrow(tff3_prague_data_shuffled)\n",
    "\n",
    "# split folds into training and validation components\n",
    "fold_size = round(nrow(tff3_prague_data_shuffled)/5)\n",
    "n <- nrow(tff3_prague_data_shuffled)\n",
    "r  <- rep(1:ceiling(n/fold_size), each=fold_size)[1:n]\n",
    "d <- split(tff3_prague_data_shuffled, r)\n",
    "val1 <- d[[\"1\"]]\n",
    "val2 <- d[[\"2\"]]\n",
    "val3 <- d[[\"3\"]]\n",
    "val4 <- d[[\"4\"]]\n",
    "val5 <- d[[\"5\"]]\n",
    "train1 <- rbind(val2, val3, val4, val5)\n",
    "train2 <- rbind(val1, val3, val4, val5)\n",
    "train3 <- rbind(val1, val2, val4, val5)\n",
    "train4 <- rbind(val1, val2, val3, val5)\n",
    "train5 <- rbind(val1, val2, val3, val4)\n",
    "\n",
    "# 5-fold classification models trained on training components\n",
    "logreg_c_gtet_1cm_or_m_gtet_3cm_1 <- glm(C_gtet_1_or_M_gtet_3 ~ TFF3_positive_count, family='binomial', data = train1)\n",
    "logreg_c_gtet_1cm_or_m_gtet_3cm_2 <- glm(C_gtet_1_or_M_gtet_3 ~ TFF3_positive_count, family='binomial', data = train2)\n",
    "logreg_c_gtet_1cm_or_m_gtet_3cm_3 <- glm(C_gtet_1_or_M_gtet_3 ~ TFF3_positive_count, family='binomial', data = train3)\n",
    "logreg_c_gtet_1cm_or_m_gtet_3cm_4 <- glm(C_gtet_1_or_M_gtet_3 ~ TFF3_positive_count, family='binomial', data = train4)\n",
    "logreg_c_gtet_1cm_or_m_gtet_3cm_5 <- glm(C_gtet_1_or_M_gtet_3 ~ TFF3_positive_count, family='binomial', data = train5)"
   ]
  },
  {
   "cell_type": "markdown",
   "id": "35d5b8af",
   "metadata": {},
   "source": [
    "Evalute model performance on validation component of each fold."
   ]
  },
  {
   "cell_type": "code",
   "execution_count": 14,
   "id": "9e7c7ef2",
   "metadata": {},
   "outputs": [
    {
     "name": "stdout",
     "output_type": "stream",
     "text": [
      "[1] \"Logistic regression C>=1cm or M>=3cm fold 1 performance:\"\n"
     ]
    },
    {
     "data": {
      "text/html": [
       "<table>\n",
       "<thead><tr><th></th><th scope=col>Accuracy</th><th scope=col>Balanced_acc</th><th scope=col>Precision_long</th><th scope=col>Precision_short</th><th scope=col>Recall_long</th><th scope=col>Recall_short</th><th scope=col>F1_long</th><th scope=col>F1_short</th></tr></thead>\n",
       "<tbody>\n",
       "\t<tr><th scope=row>Fold1</th><td>0.8275862</td><td>0.7887768</td><td>0.8709677</td><td>0.7200000</td><td>0.8852459</td><td>0.6923077</td><td>0.8780488</td><td>0.7058824</td></tr>\n",
       "\t<tr><th scope=row>Fold2</th><td>0.8390805</td><td>0.7814815</td><td>0.8484848</td><td>0.8095238</td><td>0.9333333</td><td>0.6296296</td><td>0.8888889</td><td>0.7083333</td></tr>\n",
       "\t<tr><th scope=row>Fold3</th><td>0.8275862</td><td>0.8517802</td><td>0.9649123</td><td>0.5666667</td><td>0.8088235</td><td>0.8947368</td><td>0.8800000</td><td>0.6938776</td></tr>\n",
       "\t<tr><th scope=row>Fold4</th><td>0.8160920</td><td>0.7728070</td><td>0.8253968</td><td>0.7916667</td><td>0.9122807</td><td>0.6333333</td><td>0.8666667</td><td>0.7037037</td></tr>\n",
       "\t<tr><th scope=row>Fold5</th><td>0.8372093</td><td>0.8179487</td><td>0.8965517</td><td>0.7142857</td><td>0.8666667</td><td>0.7692308</td><td>0.8813559</td><td>0.7407407</td></tr>\n",
       "</tbody>\n",
       "</table>\n"
      ],
      "text/latex": [
       "\\begin{tabular}{r|llllllll}\n",
       "  & Accuracy & Balanced\\_acc & Precision\\_long & Precision\\_short & Recall\\_long & Recall\\_short & F1\\_long & F1\\_short\\\\\n",
       "\\hline\n",
       "\tFold1 & 0.8275862 & 0.7887768 & 0.8709677 & 0.7200000 & 0.8852459 & 0.6923077 & 0.8780488 & 0.7058824\\\\\n",
       "\tFold2 & 0.8390805 & 0.7814815 & 0.8484848 & 0.8095238 & 0.9333333 & 0.6296296 & 0.8888889 & 0.7083333\\\\\n",
       "\tFold3 & 0.8275862 & 0.8517802 & 0.9649123 & 0.5666667 & 0.8088235 & 0.8947368 & 0.8800000 & 0.6938776\\\\\n",
       "\tFold4 & 0.8160920 & 0.7728070 & 0.8253968 & 0.7916667 & 0.9122807 & 0.6333333 & 0.8666667 & 0.7037037\\\\\n",
       "\tFold5 & 0.8372093 & 0.8179487 & 0.8965517 & 0.7142857 & 0.8666667 & 0.7692308 & 0.8813559 & 0.7407407\\\\\n",
       "\\end{tabular}\n"
      ],
      "text/markdown": [
       "\n",
       "| <!--/--> | Accuracy | Balanced_acc | Precision_long | Precision_short | Recall_long | Recall_short | F1_long | F1_short |\n",
       "|---|---|---|---|---|---|---|---|---|\n",
       "| Fold1 | 0.8275862 | 0.7887768 | 0.8709677 | 0.7200000 | 0.8852459 | 0.6923077 | 0.8780488 | 0.7058824 |\n",
       "| Fold2 | 0.8390805 | 0.7814815 | 0.8484848 | 0.8095238 | 0.9333333 | 0.6296296 | 0.8888889 | 0.7083333 |\n",
       "| Fold3 | 0.8275862 | 0.8517802 | 0.9649123 | 0.5666667 | 0.8088235 | 0.8947368 | 0.8800000 | 0.6938776 |\n",
       "| Fold4 | 0.8160920 | 0.7728070 | 0.8253968 | 0.7916667 | 0.9122807 | 0.6333333 | 0.8666667 | 0.7037037 |\n",
       "| Fold5 | 0.8372093 | 0.8179487 | 0.8965517 | 0.7142857 | 0.8666667 | 0.7692308 | 0.8813559 | 0.7407407 |\n",
       "\n"
      ],
      "text/plain": [
       "  Accuracy  Balanced_acc Precision_long Precision_short Recall_long\n",
       "1 0.8275862 0.7887768    0.8709677      0.7200000       0.8852459  \n",
       "2 0.8390805 0.7814815    0.8484848      0.8095238       0.9333333  \n",
       "3 0.8275862 0.8517802    0.9649123      0.5666667       0.8088235  \n",
       "4 0.8160920 0.7728070    0.8253968      0.7916667       0.9122807  \n",
       "5 0.8372093 0.8179487    0.8965517      0.7142857       0.8666667  \n",
       "  Recall_short F1_long   F1_short \n",
       "1 0.6923077    0.8780488 0.7058824\n",
       "2 0.6296296    0.8888889 0.7083333\n",
       "3 0.8947368    0.8800000 0.6938776\n",
       "4 0.6333333    0.8666667 0.7037037\n",
       "5 0.7692308    0.8813559 0.7407407"
      ]
     },
     "metadata": {},
     "output_type": "display_data"
    },
    {
     "name": "stdout",
     "output_type": "stream",
     "text": [
      "[1] \"Means:\"\n"
     ]
    },
    {
     "data": {
      "text/html": [
       "<dl class=dl-horizontal>\n",
       "\t<dt>Accuracy</dt>\n",
       "\t\t<dd>0.829510825982358</dd>\n",
       "\t<dt>Balanced_acc</dt>\n",
       "\t\t<dd>0.802558839941218</dd>\n",
       "\t<dt>Precision_long</dt>\n",
       "\t\t<dd>0.881262684131369</dd>\n",
       "\t<dt>Precision_short</dt>\n",
       "\t\t<dd>0.720428571428571</dd>\n",
       "\t<dt>Recall_long</dt>\n",
       "\t\t<dd>0.881270026561099</dd>\n",
       "\t<dt>Recall_short</dt>\n",
       "\t\t<dd>0.723847653321337</dd>\n",
       "\t<dt>F1_long</dt>\n",
       "\t\t<dd>0.87899205364935</dd>\n",
       "\t<dt>F1_short</dt>\n",
       "\t\t<dd>0.710507536347873</dd>\n",
       "</dl>\n"
      ],
      "text/latex": [
       "\\begin{description*}\n",
       "\\item[Accuracy] 0.829510825982358\n",
       "\\item[Balanced\\textbackslash{}\\_acc] 0.802558839941218\n",
       "\\item[Precision\\textbackslash{}\\_long] 0.881262684131369\n",
       "\\item[Precision\\textbackslash{}\\_short] 0.720428571428571\n",
       "\\item[Recall\\textbackslash{}\\_long] 0.881270026561099\n",
       "\\item[Recall\\textbackslash{}\\_short] 0.723847653321337\n",
       "\\item[F1\\textbackslash{}\\_long] 0.87899205364935\n",
       "\\item[F1\\textbackslash{}\\_short] 0.710507536347873\n",
       "\\end{description*}\n"
      ],
      "text/markdown": [
       "Accuracy\n",
       ":   0.829510825982358Balanced_acc\n",
       ":   0.802558839941218Precision_long\n",
       ":   0.881262684131369Precision_short\n",
       ":   0.720428571428571Recall_long\n",
       ":   0.881270026561099Recall_short\n",
       ":   0.723847653321337F1_long\n",
       ":   0.87899205364935F1_short\n",
       ":   0.710507536347873\n",
       "\n"
      ],
      "text/plain": [
       "       Accuracy    Balanced_acc  Precision_long Precision_short     Recall_long \n",
       "      0.8295108       0.8025588       0.8812627       0.7204286       0.8812700 \n",
       "   Recall_short         F1_long        F1_short \n",
       "      0.7238477       0.8789921       0.7105075 "
      ]
     },
     "metadata": {},
     "output_type": "display_data"
    },
    {
     "name": "stdout",
     "output_type": "stream",
     "text": [
      "[1] \"Standard deviations:\"\n"
     ]
    },
    {
     "data": {
      "text/html": [
       "<dl class=dl-horizontal>\n",
       "\t<dt>Accuracy</dt>\n",
       "\t\t<dd>0.00919672320383464</dd>\n",
       "\t<dt>Balanced_acc</dt>\n",
       "\t\t<dd>0.0323224376908645</dd>\n",
       "\t<dt>Precision_long</dt>\n",
       "\t\t<dd>0.0536944509873818</dd>\n",
       "\t<dt>Precision_short</dt>\n",
       "\t\t<dd>0.0957776975445681</dd>\n",
       "\t<dt>Recall_long</dt>\n",
       "\t\t<dd>0.0478273210102133</dd>\n",
       "\t<dt>Recall_short</dt>\n",
       "\t\t<dd>0.111048851080146</dd>\n",
       "\t<dt>F1_long</dt>\n",
       "\t\t<dd>0.00802116191634368</dd>\n",
       "\t<dt>F1_short</dt>\n",
       "\t\t<dd>0.0177694589028232</dd>\n",
       "</dl>\n"
      ],
      "text/latex": [
       "\\begin{description*}\n",
       "\\item[Accuracy] 0.00919672320383464\n",
       "\\item[Balanced\\textbackslash{}\\_acc] 0.0323224376908645\n",
       "\\item[Precision\\textbackslash{}\\_long] 0.0536944509873818\n",
       "\\item[Precision\\textbackslash{}\\_short] 0.0957776975445681\n",
       "\\item[Recall\\textbackslash{}\\_long] 0.0478273210102133\n",
       "\\item[Recall\\textbackslash{}\\_short] 0.111048851080146\n",
       "\\item[F1\\textbackslash{}\\_long] 0.00802116191634368\n",
       "\\item[F1\\textbackslash{}\\_short] 0.0177694589028232\n",
       "\\end{description*}\n"
      ],
      "text/markdown": [
       "Accuracy\n",
       ":   0.00919672320383464Balanced_acc\n",
       ":   0.0323224376908645Precision_long\n",
       ":   0.0536944509873818Precision_short\n",
       ":   0.0957776975445681Recall_long\n",
       ":   0.0478273210102133Recall_short\n",
       ":   0.111048851080146F1_long\n",
       ":   0.00802116191634368F1_short\n",
       ":   0.0177694589028232\n",
       "\n"
      ],
      "text/plain": [
       "       Accuracy    Balanced_acc  Precision_long Precision_short     Recall_long \n",
       "    0.009196723     0.032322438     0.053694451     0.095777698     0.047827321 \n",
       "   Recall_short         F1_long        F1_short \n",
       "    0.111048851     0.008021162     0.017769459 "
      ]
     },
     "metadata": {},
     "output_type": "display_data"
    }
   ],
   "source": [
    "#bal_accuracy_vec\n",
    "\n",
    "# define performance metric functions\n",
    "RSQUARE = function(y_actual,y_predict){\n",
    "  cor(y_actual,y_predict)^2\n",
    "}\n",
    "RMSE = function(y_actual, y_predict){\n",
    "    sqrt(mean((y_predict - y_actual)^2))\n",
    "}\n",
    "METRIFY = function(y_actual, y_predict){\n",
    "    acc = Accuracy(ifelse(y_predict >= 0.5, 1, 0), y_actual)\n",
    "    acc_balanced = bal_accuracy_vec(factor(y_actual), factor(ifelse(y_predict >= 0.5, 1, 0)))\n",
    "    prec_long = Precision(y_actual, ifelse(y_predict >= 0.5, 1, 0), positive=1)\n",
    "    prec_short = Precision(y_actual, ifelse(y_predict >= 0.5, 1, 0), positive=0)\n",
    "    rec_long = Recall(y_actual, ifelse(y_predict >= 0.5, 1, 0), positive=1)\n",
    "    rec_short = Recall(y_actual, ifelse(y_predict >= 0.5, 1, 0), positive=0)\n",
    "    f1_long = F1_Score(y_actual, ifelse(y_predict >= 0.5, 1, 0), positive=1)\n",
    "    f1_short = F1_Score(y_actual, ifelse(y_predict >= 0.5, 1, 0), positive=0)\n",
    "    \n",
    "    list(Accuracy=acc, Balanced_acc=acc_balanced, Precision_long=prec_long, Precision_short=prec_short, \n",
    "         Recall_long=rec_long, Recall_short=rec_short, F1_long=f1_long, F1_short=f1_short)\n",
    "}\n",
    "\n",
    "# get classification predictions for each fold on validation components\n",
    "logreg_c_gtet_1cm_or_m_gtet_3cm_1_pred <- predict(logreg_c_gtet_1cm_or_m_gtet_3cm_1, newdata=data.frame(TFF3_positive_count=val1$TFF3_positive_count), type='response')\n",
    "logreg_c_gtet_1cm_or_m_gtet_3cm_2_pred <- predict(logreg_c_gtet_1cm_or_m_gtet_3cm_2, newdata=data.frame(TFF3_positive_count=val2$TFF3_positive_count), type='response')\n",
    "logreg_c_gtet_1cm_or_m_gtet_3cm_3_pred <- predict(logreg_c_gtet_1cm_or_m_gtet_3cm_3, newdata=data.frame(TFF3_positive_count=val3$TFF3_positive_count), type='response')\n",
    "logreg_c_gtet_1cm_or_m_gtet_3cm_4_pred <- predict(logreg_c_gtet_1cm_or_m_gtet_3cm_4, newdata=data.frame(TFF3_positive_count=val4$TFF3_positive_count), type='response')\n",
    "logreg_c_gtet_1cm_or_m_gtet_3cm_5_pred <- predict(logreg_c_gtet_1cm_or_m_gtet_3cm_5, newdata=data.frame(TFF3_positive_count=val5$TFF3_positive_count), type='response')\n",
    "\n",
    "# Get performance metric results\n",
    "fold1 = METRIFY(val1$C_gtet_1_or_M_gtet_3, logreg_c_gtet_1cm_or_m_gtet_3cm_1_pred)\n",
    "fold2 = METRIFY(val2$C_gtet_1_or_M_gtet_3, logreg_c_gtet_1cm_or_m_gtet_3cm_2_pred)\n",
    "fold3 = METRIFY(val3$C_gtet_1_or_M_gtet_3, logreg_c_gtet_1cm_or_m_gtet_3cm_3_pred)\n",
    "fold4 = METRIFY(val4$C_gtet_1_or_M_gtet_3, logreg_c_gtet_1cm_or_m_gtet_3cm_4_pred)\n",
    "#print(val5$C_gtet_1_or_M_gtet_3)\n",
    "#print(logreg_c_gtet_1cm_or_m_gtet_3cm_5_pred)\n",
    "fold5 = METRIFY(val5$C_gtet_1_or_M_gtet_3, logreg_c_gtet_1cm_or_m_gtet_3cm_5_pred)\n",
    "\n",
    "results = rbindlist(list(fold1, fold2, fold3, fold4, fold5))\n",
    "row.names(results) = list(\"Fold1\", \"Fold2\", \"Fold3\", \"Fold4\", \"Fold5\")\n",
    "print('Logistic regression C>=1cm or M>=3cm fold 1 performance:')\n",
    "results\n",
    "print(\"Means:\")\n",
    "colMeans(results)\n",
    "print(\"Standard deviations:\")\n",
    "sapply(results, sd)"
   ]
  },
  {
   "cell_type": "markdown",
   "id": "e526ed8a",
   "metadata": {},
   "source": [
    "Train 5-fold Poisson regression and zero-inflated Poisson (ZIP) regression models for predicting both C and M length."
   ]
  },
  {
   "cell_type": "code",
   "execution_count": 15,
   "id": "73471060",
   "metadata": {},
   "outputs": [
    {
     "name": "stderr",
     "output_type": "stream",
     "text": [
      "Warning message:\n",
      "“glm.fit: fitted probabilities numerically 0 or 1 occurred”Warning message:\n",
      "“glm.fit: fitted probabilities numerically 0 or 1 occurred”Warning message:\n",
      "“glm.fit: fitted probabilities numerically 0 or 1 occurred”Warning message:\n",
      "“glm.fit: fitted probabilities numerically 0 or 1 occurred”Warning message:\n",
      "“glm.fit: fitted probabilities numerically 0 or 1 occurred”Warning message:\n",
      "“glm.fit: fitted probabilities numerically 0 or 1 occurred”Warning message:\n",
      "“glm.fit: fitted probabilities numerically 0 or 1 occurred”Warning message:\n",
      "“glm.fit: fitted probabilities numerically 0 or 1 occurred”Warning message:\n",
      "“glm.fit: fitted probabilities numerically 0 or 1 occurred”Warning message:\n",
      "“glm.fit: fitted probabilities numerically 0 or 1 occurred”"
     ]
    }
   ],
   "source": [
    "psn_c_1_doubled <- glm(PRAGUE_C_doubled ~ TFF3_positive_count, family = 'poisson', data = train1)\n",
    "psn_c_2_doubled <- glm(PRAGUE_C_doubled ~ TFF3_positive_count, family = 'poisson', data = train2)\n",
    "psn_c_3_doubled <- glm(PRAGUE_C_doubled ~ TFF3_positive_count, family = 'poisson', data = train3)\n",
    "psn_c_4_doubled <- glm(PRAGUE_C_doubled ~ TFF3_positive_count, family = 'poisson', data = train4)\n",
    "psn_c_5_doubled <- glm(PRAGUE_C_doubled ~ TFF3_positive_count, family = 'poisson', data = train5)\n",
    "\n",
    "zip_c_1_doubled <- zeroinfl(PRAGUE_C_doubled ~ TFF3_positive_count, dist = 'poisson', data = train1)\n",
    "zip_c_2_doubled <- zeroinfl(PRAGUE_C_doubled ~ TFF3_positive_count, dist = 'poisson', data = train2)\n",
    "zip_c_3_doubled <- zeroinfl(PRAGUE_C_doubled ~ TFF3_positive_count, dist = 'poisson', data = train3)\n",
    "zip_c_4_doubled <- zeroinfl(PRAGUE_C_doubled ~ TFF3_positive_count, dist = 'poisson', data = train4)\n",
    "zip_c_5_doubled <- zeroinfl(PRAGUE_C_doubled ~ TFF3_positive_count, dist = 'poisson', data = train5)\n",
    "\n",
    "psn_m_1_doubled <- glm(PRAGUE_M_doubled ~ TFF3_positive_count, family = 'poisson', data = train1)\n",
    "psn_m_2_doubled <- glm(PRAGUE_M_doubled ~ TFF3_positive_count, family = 'poisson', data = train2)\n",
    "psn_m_3_doubled <- glm(PRAGUE_M_doubled ~ TFF3_positive_count, family = 'poisson', data = train3)\n",
    "psn_m_4_doubled <- glm(PRAGUE_M_doubled ~ TFF3_positive_count, family = 'poisson', data = train4)\n",
    "psn_m_5_doubled <- glm(PRAGUE_M_doubled ~ TFF3_positive_count, family = 'poisson', data = train5)\n",
    "\n",
    "zip_m_1_doubled <- zeroinfl(PRAGUE_M_doubled ~ TFF3_positive_count, dist = 'poisson', data = train1)\n",
    "zip_m_2_doubled <- zeroinfl(PRAGUE_M_doubled ~ TFF3_positive_count, dist = 'poisson', data = train2)\n",
    "zip_m_3_doubled <- zeroinfl(PRAGUE_M_doubled ~ TFF3_positive_count, dist = 'poisson', data = train3)\n",
    "zip_m_4_doubled <- zeroinfl(PRAGUE_M_doubled ~ TFF3_positive_count, dist = 'poisson', data = train4)\n",
    "zip_m_5_doubled <- zeroinfl(PRAGUE_M_doubled ~ TFF3_positive_count, dist = 'poisson', data = train5)"
   ]
  },
  {
   "cell_type": "markdown",
   "id": "4bfe9b4a",
   "metadata": {},
   "source": [
    "Evaluate regression models' performances on validation components of each fold."
   ]
  },
  {
   "cell_type": "code",
   "execution_count": 16,
   "id": "2060d397",
   "metadata": {},
   "outputs": [
    {
     "name": "stdout",
     "output_type": "stream",
     "text": [
      "[1] \"Poisson regression C length fold 1 R^2 error: 0.299086481764143\"\n",
      "[1] \"Poisson regression C length fold 2 R^2 error: 0.237490360097952\"\n",
      "[1] \"Poisson regression C length fold 3 R^2 error: 0.257959079249613\"\n",
      "[1] \"Poisson regression C length fold 4 R^2 error: 0.336969241357576\"\n",
      "[1] \"Poisson regression C length fold 5 R^2 error: 0.0198825913480809\"\n",
      "[1] \"Poisson regression C length Mean R^2: 0.230277550763473\"\n",
      "[1] \"\"\n",
      "[1] \"ZIP regression C length fold 1 R^2 error: 0.405952809975251\"\n",
      "[1] \"ZIP regression C length fold 2 R^2 error: 0.467705070105087\"\n",
      "[1] \"ZIP regression C length fold 3 R^2 error: 0.304139296317477\"\n",
      "[1] \"ZIP regression C length fold 4 R^2 error: 0.514497011559017\"\n",
      "[1] \"ZIP regression C length fold 5 R^2 error: 0.0905175029814184\"\n",
      "[1] \"ZIP regression C length Mean R^2: 0.35656233818765\"\n",
      "[1] \"\"\n",
      "[1] \"Poisson regression M length fold 1 R^2 error: 0.213027472708732\"\n",
      "[1] \"Poisson regression M length fold 2 R^2 error: 0.19778547128652\"\n",
      "[1] \"Poisson regression M length fold 3 R^2 error: 0.201690852086895\"\n",
      "[1] \"Poisson regression M length fold 4 R^2 error: 0.324965611200295\"\n",
      "[1] \"Poisson regression M length fold 5 R^2 error: 0.0391137605525695\"\n",
      "[1] \"Poisson regression M length Mean R^2: 0.243967605735413\"\n",
      "[1] \"\"\n",
      "[1] \"ZIP regression M length fold 1 R^2 error: 0.462330159304971\"\n",
      "[1] \"ZIP regression M length fold 2 R^2 error: 0.543826816312304\"\n",
      "[1] \"ZIP regression M length fold 3 R^2 error: 0.436038745842466\"\n",
      "[1] \"ZIP regression M length fold 4 R^2 error: 0.567493299099459\"\n",
      "[1] \"ZIP regression M length fold 5 R^2 error: 0.137083323597481\"\n",
      "[1] \"ZIP regression M length Mean R^2: 0.371376518788529\"\n"
     ]
    }
   ],
   "source": [
    "# Predict on validation components\n",
    "psn_c_1_pred_doubled <- predict(psn_c_1_doubled, newdata=data.frame(TFF3_positive_count=val1$TFF3_positive_count), type='response')\n",
    "psn_c_2_pred_doubled <- predict(psn_c_2_doubled, newdata=data.frame(TFF3_positive_count=val2$TFF3_positive_count), type='response')\n",
    "psn_c_3_pred_doubled <- predict(psn_c_3_doubled, newdata=data.frame(TFF3_positive_count=val3$TFF3_positive_count), type='response')\n",
    "psn_c_4_pred_doubled <- predict(psn_c_4_doubled, newdata=data.frame(TFF3_positive_count=val4$TFF3_positive_count), type='response')\n",
    "psn_c_5_pred_doubled <- predict(psn_c_5_doubled, newdata=data.frame(TFF3_positive_count=val5$TFF3_positive_count), type='response')\n",
    "\n",
    "zip_c_1_pred_doubled <- predict(zip_c_1_doubled, newdata=data.frame(TFF3_positive_count=val1$TFF3_positive_count), type='response')\n",
    "zip_c_2_pred_doubled <- predict(zip_c_2_doubled, newdata=data.frame(TFF3_positive_count=val2$TFF3_positive_count), type='response')\n",
    "zip_c_3_pred_doubled <- predict(zip_c_3_doubled, newdata=data.frame(TFF3_positive_count=val3$TFF3_positive_count), type='response')\n",
    "zip_c_4_pred_doubled <- predict(zip_c_4_doubled, newdata=data.frame(TFF3_positive_count=val4$TFF3_positive_count), type='response')\n",
    "zip_c_5_pred_doubled <- predict(zip_c_5_doubled, newdata=data.frame(TFF3_positive_count=val5$TFF3_positive_count), type='response')\n",
    "\n",
    "psn_m_1_pred_doubled <- predict(psn_m_1_doubled, newdata=data.frame(TFF3_positive_count=val1$TFF3_positive_count), type='response')\n",
    "psn_m_2_pred_doubled <- predict(psn_m_2_doubled, newdata=data.frame(TFF3_positive_count=val2$TFF3_positive_count), type='response')\n",
    "psn_m_3_pred_doubled <- predict(psn_m_3_doubled, newdata=data.frame(TFF3_positive_count=val3$TFF3_positive_count), type='response')\n",
    "psn_m_4_pred_doubled <- predict(psn_m_4_doubled, newdata=data.frame(TFF3_positive_count=val4$TFF3_positive_count), type='response')\n",
    "psn_m_5_pred_doubled <- predict(psn_m_5_doubled, newdata=data.frame(TFF3_positive_count=val5$TFF3_positive_count), type='response')\n",
    "\n",
    "zip_m_1_pred_doubled <- predict(zip_m_1_doubled, newdata=data.frame(TFF3_positive_count=val1$TFF3_positive_count), type='response')\n",
    "zip_m_2_pred_doubled <- predict(zip_m_2_doubled, newdata=data.frame(TFF3_positive_count=val2$TFF3_positive_count), type='response')\n",
    "zip_m_3_pred_doubled <- predict(zip_m_3_doubled, newdata=data.frame(TFF3_positive_count=val3$TFF3_positive_count), type='response')\n",
    "zip_m_4_pred_doubled <- predict(zip_m_4_doubled, newdata=data.frame(TFF3_positive_count=val4$TFF3_positive_count), type='response')\n",
    "zip_m_5_pred_doubled <- predict(zip_m_5_doubled, newdata=data.frame(TFF3_positive_count=val5$TFF3_positive_count), type='response')\n",
    "\n",
    "# Print results\n",
    "print(paste0(\"Poisson regression C length fold 1 R^2 error: \", RSQUARE(val1$PRAGUE_C, psn_c_1_pred_doubled/2)))\n",
    "print(paste0(\"Poisson regression C length fold 2 R^2 error: \", RSQUARE(val2$PRAGUE_C, psn_c_2_pred_doubled/2)))\n",
    "print(paste0(\"Poisson regression C length fold 3 R^2 error: \", RSQUARE(val3$PRAGUE_C, psn_c_3_pred_doubled/2)))\n",
    "print(paste0(\"Poisson regression C length fold 4 R^2 error: \", RSQUARE(val4$PRAGUE_C, psn_c_4_pred_doubled/2)))\n",
    "print(paste0(\"Poisson regression C length fold 5 R^2 error: \", RSQUARE(val5$PRAGUE_C, psn_c_5_pred_doubled/2)))\n",
    "sum = RSQUARE(val1$PRAGUE_C, psn_c_1_pred_doubled/2)+\n",
    "    RSQUARE(val2$PRAGUE_C, psn_c_2_pred_doubled/2)+\n",
    "    RSQUARE(val3$PRAGUE_C, psn_c_3_pred_doubled/2)+\n",
    "    RSQUARE(val4$PRAGUE_C, psn_c_4_pred_doubled/2)+\n",
    "    RSQUARE(val5$PRAGUE_C, psn_c_5_pred_doubled/2)\n",
    "print(paste0(\"Poisson regression C length Mean R^2: \", sum/5))\n",
    "print('')\n",
    "print(paste0(\"ZIP regression C length fold 1 R^2 error: \", RSQUARE(val1$PRAGUE_C, zip_c_1_pred_doubled/2)))\n",
    "print(paste0(\"ZIP regression C length fold 2 R^2 error: \", RSQUARE(val2$PRAGUE_C, zip_c_2_pred_doubled/2)))\n",
    "print(paste0(\"ZIP regression C length fold 3 R^2 error: \", RSQUARE(val3$PRAGUE_C, zip_c_3_pred_doubled/2)))\n",
    "print(paste0(\"ZIP regression C length fold 4 R^2 error: \", RSQUARE(val4$PRAGUE_C, zip_c_4_pred_doubled/2)))\n",
    "print(paste0(\"ZIP regression C length fold 5 R^2 error: \", RSQUARE(val5$PRAGUE_C, zip_c_5_pred_doubled/2)))\n",
    "sum = RSQUARE(val1$PRAGUE_C, zip_c_1_pred_doubled/2)+\n",
    "    RSQUARE(val2$PRAGUE_C, zip_c_2_pred_doubled/2)+\n",
    "    RSQUARE(val3$PRAGUE_C, zip_c_3_pred_doubled/2)+\n",
    "    RSQUARE(val4$PRAGUE_C, zip_c_4_pred_doubled/2)+\n",
    "    RSQUARE(val5$PRAGUE_C, zip_c_5_pred_doubled/2)\n",
    "print(paste0(\"ZIP regression C length Mean R^2: \", sum/5))\n",
    "print('')\n",
    "print(paste0(\"Poisson regression M length fold 1 R^2 error: \", RSQUARE(val1$PRAGUE_M, psn_m_1_pred_doubled/2)))\n",
    "print(paste0(\"Poisson regression M length fold 2 R^2 error: \", RSQUARE(val2$PRAGUE_M, psn_m_2_pred_doubled/2)))\n",
    "print(paste0(\"Poisson regression M length fold 3 R^2 error: \", RSQUARE(val3$PRAGUE_M, psn_m_3_pred_doubled/2)))\n",
    "print(paste0(\"Poisson regression M length fold 4 R^2 error: \", RSQUARE(val4$PRAGUE_M, psn_m_4_pred_doubled/2)))\n",
    "print(paste0(\"Poisson regression M length fold 5 R^2 error: \", RSQUARE(val5$PRAGUE_M, psn_m_5_pred_doubled/2)))\n",
    "sum = RSQUARE(val1$PRAGUE_C, psn_m_1_pred_doubled/2)+\n",
    "    RSQUARE(val2$PRAGUE_C, psn_m_2_pred_doubled/2)+\n",
    "    RSQUARE(val3$PRAGUE_C, psn_m_3_pred_doubled/2)+\n",
    "    RSQUARE(val4$PRAGUE_C, psn_m_4_pred_doubled/2)+\n",
    "    RSQUARE(val5$PRAGUE_C, psn_m_5_pred_doubled/2)\n",
    "print(paste0(\"Poisson regression M length Mean R^2: \", sum/5))\n",
    "print('')\n",
    "print(paste0(\"ZIP regression M length fold 1 R^2 error: \", RSQUARE(val1$PRAGUE_M, zip_m_1_pred_doubled/2)))\n",
    "print(paste0(\"ZIP regression M length fold 2 R^2 error: \", RSQUARE(val2$PRAGUE_M, zip_m_2_pred_doubled/2)))\n",
    "print(paste0(\"ZIP regression M length fold 3 R^2 error: \", RSQUARE(val3$PRAGUE_M, zip_m_3_pred_doubled/2)))\n",
    "print(paste0(\"ZIP regression M length fold 4 R^2 error: \", RSQUARE(val4$PRAGUE_M, zip_m_4_pred_doubled/2)))\n",
    "print(paste0(\"ZIP regression M length fold 5 R^2 error: \", RSQUARE(val5$PRAGUE_M, zip_m_5_pred_doubled/2)))\n",
    "sum = RSQUARE(val1$PRAGUE_C, zip_m_1_pred_doubled/2)+\n",
    "    RSQUARE(val2$PRAGUE_C, zip_m_2_pred_doubled/2)+\n",
    "    RSQUARE(val3$PRAGUE_C, zip_m_3_pred_doubled/2)+\n",
    "    RSQUARE(val4$PRAGUE_C, zip_m_4_pred_doubled/2)+\n",
    "    RSQUARE(val5$PRAGUE_C, zip_m_5_pred_doubled/2)\n",
    "print(paste0(\"ZIP regression M length Mean R^2: \", sum/5))"
   ]
  },
  {
   "cell_type": "code",
   "execution_count": null,
   "id": "c52aae69",
   "metadata": {},
   "outputs": [],
   "source": []
  }
 ],
 "metadata": {
  "kernelspec": {
   "display_name": "R",
   "language": "R",
   "name": "ir"
  },
  "language_info": {
   "codemirror_mode": "r",
   "file_extension": ".r",
   "mimetype": "text/x-r-source",
   "name": "R",
   "pygments_lexer": "r",
   "version": "3.6.1"
  }
 },
 "nbformat": 4,
 "nbformat_minor": 5
}
