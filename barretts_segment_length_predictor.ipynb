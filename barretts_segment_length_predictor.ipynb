{
 "cells": [
  {
   "cell_type": "markdown",
   "id": "1dd9df2e",
   "metadata": {},
   "source": [
    "Import external libraries."
   ]
  },
  {
   "cell_type": "code",
   "execution_count": 1,
   "id": "1bb6511d",
   "metadata": {},
   "outputs": [
    {
     "name": "stderr",
     "output_type": "stream",
     "text": [
      "Classes and Methods for R developed in the\n",
      "Political Science Computational Laboratory\n",
      "Department of Political Science\n",
      "Stanford University\n",
      "Simon Jackman\n",
      "hurdle and zeroinfl functions by Achim Zeileis\n",
      "Loading required package: lattice\n",
      "Loading required package: ggplot2\n",
      "Registered S3 methods overwritten by 'ggplot2':\n",
      "  method         from \n",
      "  [.quosures     rlang\n",
      "  c.quosures     rlang\n",
      "  print.quosures rlang\n",
      "Warning message:\n",
      "“package ‘yardstick’ was built under R version 3.6.3”For binary classification, the first factor level is assumed to be the event.\n",
      "Use the argument `event_level = \"second\"` to alter this as needed.\n",
      "\n",
      "Attaching package: ‘yardstick’\n",
      "\n",
      "The following objects are masked from ‘package:caret’:\n",
      "\n",
      "    precision, recall, sensitivity, specificity\n",
      "\n",
      "\n",
      "Attaching package: ‘MLmetrics’\n",
      "\n",
      "The following objects are masked from ‘package:caret’:\n",
      "\n",
      "    MAE, RMSE\n",
      "\n",
      "The following object is masked from ‘package:base’:\n",
      "\n",
      "    Recall\n",
      "\n"
     ]
    }
   ],
   "source": [
    "#install.packages(\"dplyr\")\n",
    "library(\"readxl\")\n",
    "library(\"pscl\")\n",
    "library(caret)\n",
    "library(yardstick)\n",
    "library(data.table)\n",
    "library(MLmetrics)\n",
    "library(ggplot2)\n",
    "library(MASS)"
   ]
  },
  {
   "cell_type": "markdown",
   "id": "d62f6efa",
   "metadata": {},
   "source": [
    "Read in tile count data for BEST2 and BEST3 and manual count data for BEST3. Change paths to ```barretts-segment-length-predictor``` directory as appropriate."
   ]
  },
  {
   "cell_type": "code",
   "execution_count": 6,
   "id": "3dd6c02c",
   "metadata": {},
   "outputs": [],
   "source": [
    "best2_tff3_tile_data <- read_excel(\"~/Documents/barrets-segment-length-predictor/data/BEST2_TFF3_AND_GASTRIC_TILE_COUNTS_QC_PASSING.xlsx\")\n",
    "best2_prague_length_data <- read_excel(\"~/Documents/barrets-segment-length-predictor/data/BEST2_ENDOSCOPY_CRF_CLEANED_SHORTENED.xlsx\")\n",
    "best3_tff3_tile_data <- read_excel('~/Documents/barrets-segment-length-predictor/data/BEST3_TFF3_AND_GASTRIC_TILE_COUNTS_QC_PASSING.xlsx')\n",
    "best3_prague_length_data <- read.csv('~/Documents/barrets-segment-length-predictor/data/BEST3_ENDOSCOPY_CRF_CLEANED.csv')\n",
    "best3_manual_tff3_data <- read_excel(\"~/Documents/barrets-segment-length-predictor/data/BEST3_TFF3_MANUAL_COUNTS.xlsx\")"
   ]
  },
  {
   "cell_type": "markdown",
   "id": "1b7d58df",
   "metadata": {},
   "source": [
    "Explore relationship between manual count of TFF3 positive gland groups and C and M segment lengths"
   ]
  },
  {
   "cell_type": "code",
   "execution_count": 7,
   "id": "30c4ba93",
   "metadata": {},
   "outputs": [
    {
     "name": "stdout",
     "output_type": "stream",
     "text": [
      "[1] \"Prague C ~ TFF3 positive manual gland count slide1 Spearman rho\"\n"
     ]
    },
    {
     "data": {
      "text/html": [
       "0.39142142645184"
      ],
      "text/latex": [
       "0.39142142645184"
      ],
      "text/markdown": [
       "0.39142142645184"
      ],
      "text/plain": [
       "[1] 0.3914214"
      ]
     },
     "metadata": {},
     "output_type": "display_data"
    },
    {
     "name": "stdout",
     "output_type": "stream",
     "text": [
      "[1] \"Prague C ~ TFF3 positive manual gland count slide2 Spearman rho\"\n"
     ]
    },
    {
     "data": {
      "text/html": [
       "0.377594317800165"
      ],
      "text/latex": [
       "0.377594317800165"
      ],
      "text/markdown": [
       "0.377594317800165"
      ],
      "text/plain": [
       "[1] 0.3775943"
      ]
     },
     "metadata": {},
     "output_type": "display_data"
    },
    {
     "name": "stdout",
     "output_type": "stream",
     "text": [
      "[1] \"Prague C ~ TFF3 positive manual gland count avg Spearman rho\"\n"
     ]
    },
    {
     "data": {
      "text/html": [
       "0.384029311069795"
      ],
      "text/latex": [
       "0.384029311069795"
      ],
      "text/markdown": [
       "0.384029311069795"
      ],
      "text/plain": [
       "[1] 0.3840293"
      ]
     },
     "metadata": {},
     "output_type": "display_data"
    },
    {
     "name": "stdout",
     "output_type": "stream",
     "text": [
      "[1] \"Prague M ~ TFF3 positive manual gland count slide1 Spearman rho\"\n"
     ]
    },
    {
     "data": {
      "text/html": [
       "0.428494636142958"
      ],
      "text/latex": [
       "0.428494636142958"
      ],
      "text/markdown": [
       "0.428494636142958"
      ],
      "text/plain": [
       "[1] 0.4284946"
      ]
     },
     "metadata": {},
     "output_type": "display_data"
    },
    {
     "name": "stdout",
     "output_type": "stream",
     "text": [
      "[1] \"Prague M ~ TFF3 positive manual gland count slide2 Spearman rho\"\n"
     ]
    },
    {
     "data": {
      "text/html": [
       "0.395015183520179"
      ],
      "text/latex": [
       "0.395015183520179"
      ],
      "text/markdown": [
       "0.395015183520179"
      ],
      "text/plain": [
       "[1] 0.3950152"
      ]
     },
     "metadata": {},
     "output_type": "display_data"
    },
    {
     "name": "stdout",
     "output_type": "stream",
     "text": [
      "[1] \"Prague M ~ TFF3 positive manual gland count avg Spearman rho\"\n"
     ]
    },
    {
     "data": {
      "text/html": [
       "0.418917534593376"
      ],
      "text/latex": [
       "0.418917534593376"
      ],
      "text/markdown": [
       "0.418917534593376"
      ],
      "text/plain": [
       "[1] 0.4189175"
      ]
     },
     "metadata": {},
     "output_type": "display_data"
    }
   ],
   "source": [
    "# remove rows missing count or segment length data\n",
    "best3_manual_tff3_data <- setDT(best3_manual_tff3_data)\n",
    "best3_manual_tff3_data <- na.omit(best3_manual_tff3_data, \n",
    "                                  cols=c('TFF3CountSlide1', 'TFF3CountSlide2', 'PragueCLength', 'PragueMLength'))\n",
    "\n",
    "# add columns aggregating the counts of the two slides for each patient\n",
    "best3_manual_tff3_data$TFF3CountSlideSum <- best3_manual_tff3_data$TFF3CountSlide1 + best3_manual_tff3_data$TFF3CountSlide2\n",
    "best3_manual_tff3_data$TFF3CountSlideAvg <- best3_manual_tff3_data$TFF3CountSlideSum / 2\n",
    "\n",
    "# correlation metrics\n",
    "print('Prague C ~ TFF3 positive manual gland count slide1 Spearman rho')\n",
    "cor(best3_manual_tff3_data$TFF3CountSlide1, best3_manual_tff3_data$PragueCLength, method = c(\"spearman\"))\n",
    "\n",
    "print('Prague C ~ TFF3 positive manual gland count slide2 Spearman rho')\n",
    "cor(best3_manual_tff3_data$TFF3CountSlide2, best3_manual_tff3_data$PragueCLength, method = c(\"spearman\"))\n",
    "\n",
    "print('Prague C ~ TFF3 positive manual gland count avg Spearman rho')\n",
    "cor(best3_manual_tff3_data$TFF3CountSlideAvg, best3_manual_tff3_data$PragueCLength, method = c(\"spearman\"))\n",
    "\n",
    "print('Prague M ~ TFF3 positive manual gland count slide1 Spearman rho')\n",
    "cor(best3_manual_tff3_data$TFF3CountSlide1, best3_manual_tff3_data$PragueMLength, method = c(\"spearman\"))\n",
    "\n",
    "print('Prague M ~ TFF3 positive manual gland count slide2 Spearman rho')\n",
    "cor(best3_manual_tff3_data$TFF3CountSlide2, best3_manual_tff3_data$PragueMLength, method = c(\"spearman\"))\n",
    "\n",
    "print('Prague M ~ TFF3 positive manual gland count avg Spearman rho')\n",
    "cor(best3_manual_tff3_data$TFF3CountSlideAvg, best3_manual_tff3_data$PragueMLength, method = c(\"spearman\"))"
   ]
  },
  {
   "cell_type": "markdown",
   "id": "c01dc607",
   "metadata": {},
   "source": [
    "Plot BEST3 TFF3 manual count vs segment length"
   ]
  },
  {
   "cell_type": "code",
   "execution_count": 8,
   "id": "e43df633",
   "metadata": {},
   "outputs": [
    {
     "data": {
      "image/png": "[encoded data removed]",
      "text/plain": [
       "plot without title"
      ]
     },
     "metadata": {},
     "output_type": "display_data"
    },
    {
     "data": {
      "image/png": "[encoded data removed]",
      "text/plain": [
       "plot without title"
      ]
     },
     "metadata": {},
     "output_type": "display_data"
    }
   ],
   "source": [
    "plot(best3_manual_tff3_data$PragueMLength, best3_manual_tff3_data$TFF3CountSlideAvg)\n",
    "plot(best3_manual_tff3_data$PragueCLength, best3_manual_tff3_data$TFF3CountSlideAvg)"
   ]
  },
  {
   "cell_type": "markdown",
   "id": "7845a83a",
   "metadata": {},
   "source": [
    "Merge data appropriately and add new columns for training."
   ]
  },
  {
   "cell_type": "code",
   "execution_count": 9,
   "id": "923c7d01",
   "metadata": {},
   "outputs": [],
   "source": [
    "# Merge tile count and Prague length data and perform some cleaning tasks\n",
    "best2_tff3_prague_data = merge(best2_tff3_tile_data, best2_prague_length_data, by='Case')\n",
    "best3_tff3_prague_data = merge(best3_tff3_tile_data, best3_prague_length_data, by='Case')\n",
    "tff3_prague_data = rbind(best2_tff3_prague_data[, c('Case', 'Gastric_count', 'TFF3_positive_count', 'PRAGUE_C', 'PRAGUE_M')],\n",
    "                            best3_tff3_prague_data[, c('Case', 'Gastric_count', 'TFF3_positive_count', 'PRAGUE_C', 'PRAGUE_M')])\n",
    "tff3_prague_data$PRAGUE_C <- as.numeric(tff3_prague_data$PRAGUE_C)\n",
    "tff3_prague_data$PRAGUE_M <- as.numeric(tff3_prague_data$PRAGUE_M)\n",
    "tff3_prague_data$TFF3_positive_count <- as.numeric(tff3_prague_data$TFF3_positive_count)\n",
    "tff3_prague_data$Gastric_count <- as.numeric(tff3_prague_data$Gastric_count)\n",
    "\n",
    "# Add C≥1, C>=2, C>=3, M>=1, M≥3, M>=4, and M>=5 columns\n",
    "tff3_prague_data$PRAGUE_C_gtet_1cm <- ifelse(tff3_prague_data$PRAGUE_C >= 1, 1, 0)\n",
    "tff3_prague_data$PRAGUE_C_gtet_2cm <- ifelse(tff3_prague_data$PRAGUE_C >= 2, 1, 0)\n",
    "tff3_prague_data$PRAGUE_C_gtet_3cm <- ifelse(tff3_prague_data$PRAGUE_C >= 3, 1, 0)\n",
    "tff3_prague_data$PRAGUE_M_gtet_1cm <- ifelse(tff3_prague_data$PRAGUE_M >= 1, 1, 0)\n",
    "tff3_prague_data$PRAGUE_M_gtet_3cm <- ifelse(tff3_prague_data$PRAGUE_M >= 3, 1, 0)\n",
    "tff3_prague_data$PRAGUE_M_gtet_4cm <- ifelse(tff3_prague_data$PRAGUE_M >= 4, 1, 0)\n",
    "tff3_prague_data$PRAGUE_M_gtet_5cm <- ifelse(tff3_prague_data$PRAGUE_M >= 5, 1, 0)\n",
    "\n",
    "# Add C>=1 OR M>=1 column, a C≥1 OR M≥3 column, a C≥2 OR M≥4 colum, and a C≥3 OR M≥5 column\n",
    "tff3_prague_data$C_gtet_1_or_M_gtet_1 <- ifelse(tff3_prague_data$PRAGUE_C >= 1 | tff3_prague_data$PRAGUE_M >= 1, 1, 0)\n",
    "tff3_prague_data$C_gtet_1_or_M_gtet_3 <- ifelse(tff3_prague_data$PRAGUE_C >= 1 | tff3_prague_data$PRAGUE_M >= 3, 1, 0)\n",
    "tff3_prague_data$C_gtet_2_or_M_gtet_4 <- ifelse(tff3_prague_data$PRAGUE_C >= 2 | tff3_prague_data$PRAGUE_M >= 4, 1, 0)\n",
    "tff3_prague_data$C_gtet_3_or_M_gtet_5 <- ifelse(tff3_prague_data$PRAGUE_C >= 3 | tff3_prague_data$PRAGUE_M >= 5, 1, 0)\n",
    "\n",
    "\n",
    "\n",
    "# Create doubled C and M columns to have only integer values for Poisson regression models\n",
    "tff3_prague_data$PRAGUE_M_doubled <- tff3_prague_data$PRAGUE_M * 2\n",
    "tff3_prague_data$PRAGUE_C_doubled <- tff3_prague_data$PRAGUE_C * 2\n",
    "\n",
    "# Re-split data into BEST2 and BEST3 pieces\n",
    "best2_tff3_prague_data <- head(tff3_prague_data, nrow(best2_tff3_prague_data))\n",
    "best3_tff3_prague_data <- tail(tff3_prague_data, nrow(best3_tff3_prague_data))\n",
    "\n",
    "# Convert to data.table\n",
    "best2_tff3_prague_data <- setDT(best2_tff3_prague_data)\n",
    "best3_tff3_prague_data <- setDT(best3_tff3_prague_data)\n",
    "tff3_prague_data <- setDT(tff3_prague_data)\n",
    "\n",
    "\n",
    "# Create versions of the above data tables with no patients with no patients with TFF3 positive tile counts of 0\n",
    "best2_tff3_prague_data_nozeros <- best2_tff3_prague_data[best2_tff3_prague_data$TFF3_positive_count != 0,]\n",
    "best3_tff3_prague_data_nozeros <- best3_tff3_prague_data[best3_tff3_prague_data$TFF3_positive_count != 0,]\n",
    "tff3_prague_data_nozeros <- tff3_prague_data[tff3_prague_data$TFF3_positive_count != 0,]"
   ]
  },
  {
   "cell_type": "markdown",
   "id": "c1197d17",
   "metadata": {},
   "source": [
    "Show how many patients have long segments by diagnostic criteria in BEST2 and BEST3."
   ]
  },
  {
   "cell_type": "code",
   "execution_count": 10,
   "id": "c130502a",
   "metadata": {},
   "outputs": [
    {
     "name": "stdout",
     "output_type": "stream",
     "text": [
      "[1] \"BEST2 long segment patients: 315\"\n",
      "[1] \"BEST3 long segment patients: 47\"\n"
     ]
    }
   ],
   "source": [
    "print(paste0(\"BEST2 long segment patients: \", sum(best2_tff3_prague_data$C_gtet_1_or_M_gtet_3)))\n",
    "print(paste0(\"BEST3 long segment patients: \", sum(best3_tff3_prague_data$C_gtet_1_or_M_gtet_3)))"
   ]
  },
  {
   "cell_type": "markdown",
   "id": "270b9471",
   "metadata": {},
   "source": [
    "Compute Spearman's correlation coefficients."
   ]
  },
  {
   "cell_type": "code",
   "execution_count": 11,
   "id": "1252c622",
   "metadata": {},
   "outputs": [
    {
     "name": "stdout",
     "output_type": "stream",
     "text": [
      "[1] \"Prague C ~ TFF3 positive tile count Spearman rho\"\n"
     ]
    },
    {
     "data": {
      "text/html": [
       "0.7317658191829"
      ],
      "text/latex": [
       "0.7317658191829"
      ],
      "text/markdown": [
       "0.7317658191829"
      ],
      "text/plain": [
       "[1] 0.7317658"
      ]
     },
     "metadata": {},
     "output_type": "display_data"
    },
    {
     "name": "stdout",
     "output_type": "stream",
     "text": [
      "[1] \"Prague M ~ TFF3 positive tile count Spearman rho\"\n"
     ]
    },
    {
     "data": {
      "text/html": [
       "0.772828108085845"
      ],
      "text/latex": [
       "0.772828108085845"
      ],
      "text/markdown": [
       "0.772828108085845"
      ],
      "text/plain": [
       "[1] 0.7728281"
      ]
     },
     "metadata": {},
     "output_type": "display_data"
    },
    {
     "name": "stdout",
     "output_type": "stream",
     "text": [
      "[1] \"Prague C ~ Gastric tile count Spearman rho\"\n"
     ]
    },
    {
     "data": {
      "text/html": [
       "-0.0236222781209249"
      ],
      "text/latex": [
       "-0.0236222781209249"
      ],
      "text/markdown": [
       "-0.0236222781209249"
      ],
      "text/plain": [
       "[1] -0.02362228"
      ]
     },
     "metadata": {},
     "output_type": "display_data"
    },
    {
     "name": "stdout",
     "output_type": "stream",
     "text": [
      "[1] \"Prague M ~ Gastric tile count Spearman rho\"\n"
     ]
    },
    {
     "data": {
      "text/html": [
       "-0.0462860111190123"
      ],
      "text/latex": [
       "-0.0462860111190123"
      ],
      "text/markdown": [
       "-0.0462860111190123"
      ],
      "text/plain": [
       "[1] -0.04628601"
      ]
     },
     "metadata": {},
     "output_type": "display_data"
    }
   ],
   "source": [
    "# correlation metrics\n",
    "print('Prague C ~ TFF3 positive tile count Spearman rho')\n",
    "cor(best2_tff3_prague_data$TFF3_positive_count, best2_tff3_prague_data$PRAGUE_C, method = c(\"spearman\"))\n",
    "print('Prague M ~ TFF3 positive tile count Spearman rho')\n",
    "cor(best2_tff3_prague_data$TFF3_positive_count, best2_tff3_prague_data$PRAGUE_M, method = c(\"spearman\"))\n",
    "print('Prague C ~ Gastric tile count Spearman rho')\n",
    "cor(best2_tff3_prague_data$Gastric_count, best2_tff3_prague_data$PRAGUE_C, method = c(\"spearman\"))\n",
    "print('Prague M ~ Gastric tile count Spearman rho')\n",
    "cor(best2_tff3_prague_data$Gastric_count, best2_tff3_prague_data$PRAGUE_M, method = c(\"spearman\"))"
   ]
  },
  {
   "cell_type": "markdown",
   "id": "40aea849",
   "metadata": {},
   "source": [
    "CLASSIFICATION SECTION\n",
    "\n",
    "Train 5-fold cross validation logistic regression models for predicting segment length class: (C≥1 OR M≥3) vs. (C<1 AND M<3)"
   ]
  },
  {
   "cell_type": "code",
   "execution_count": 12,
   "id": "eddc1b25",
   "metadata": {},
   "outputs": [
    {
     "name": "stderr",
     "output_type": "stream",
     "text": [
      "Warning message:\n",
      "“glm.fit: fitted probabilities numerically 0 or 1 occurred”Warning message:\n",
      "“glm.fit: fitted probabilities numerically 0 or 1 occurred”Warning message:\n",
      "“glm.fit: fitted probabilities numerically 0 or 1 occurred”Warning message:\n",
      "“glm.fit: fitted probabilities numerically 0 or 1 occurred”Warning message:\n",
      "“glm.fit: fitted probabilities numerically 0 or 1 occurred”Warning message:\n",
      "“glm.fit: fitted probabilities numerically 0 or 1 occurred”Warning message:\n",
      "“glm.fit: fitted probabilities numerically 0 or 1 occurred”Warning message:\n",
      "“glm.fit: fitted probabilities numerically 0 or 1 occurred”Warning message:\n",
      "“glm.fit: fitted probabilities numerically 0 or 1 occurred”Warning message:\n",
      "“glm.fit: fitted probabilities numerically 0 or 1 occurred”Warning message:\n",
      "“glm.fit: fitted probabilities numerically 0 or 1 occurred”Warning message:\n",
      "“glm.fit: fitted probabilities numerically 0 or 1 occurred”Warning message:\n",
      "“glm.fit: fitted probabilities numerically 0 or 1 occurred”Warning message:\n",
      "“glm.fit: fitted probabilities numerically 0 or 1 occurred”Warning message:\n",
      "“glm.fit: fitted probabilities numerically 0 or 1 occurred”Warning message:\n",
      "“glm.fit: fitted probabilities numerically 0 or 1 occurred”Warning message:\n",
      "“glm.fit: fitted probabilities numerically 0 or 1 occurred”Warning message:\n",
      "“glm.fit: fitted probabilities numerically 0 or 1 occurred”Warning message:\n",
      "“glm.fit: fitted probabilities numerically 0 or 1 occurred”Warning message:\n",
      "“glm.fit: fitted probabilities numerically 0 or 1 occurred”Warning message:\n",
      "“glm.fit: fitted probabilities numerically 0 or 1 occurred”Warning message:\n",
      "“glm.fit: fitted probabilities numerically 0 or 1 occurred”Warning message:\n",
      "“glm.fit: fitted probabilities numerically 0 or 1 occurred”Warning message:\n",
      "“glm.fit: fitted probabilities numerically 0 or 1 occurred”Warning message:\n",
      "“glm.fit: fitted probabilities numerically 0 or 1 occurred”Warning message:\n",
      "“glm.fit: fitted probabilities numerically 0 or 1 occurred”Warning message:\n",
      "“glm.fit: fitted probabilities numerically 0 or 1 occurred”Warning message:\n",
      "“glm.fit: fitted probabilities numerically 0 or 1 occurred”Warning message:\n",
      "“glm.fit: fitted probabilities numerically 0 or 1 occurred”Warning message:\n",
      "“glm.fit: fitted probabilities numerically 0 or 1 occurred”Warning message:\n",
      "“glm.fit: fitted probabilities numerically 0 or 1 occurred”Warning message:\n",
      "“glm.fit: fitted probabilities numerically 0 or 1 occurred”Warning message:\n",
      "“glm.fit: fitted probabilities numerically 0 or 1 occurred”Warning message:\n",
      "“glm.fit: fitted probabilities numerically 0 or 1 occurred”Warning message:\n",
      "“glm.fit: fitted probabilities numerically 0 or 1 occurred”Warning message:\n",
      "“glm.fit: fitted probabilities numerically 0 or 1 occurred”Warning message:\n",
      "“glm.fit: fitted probabilities numerically 0 or 1 occurred”Warning message:\n",
      "“glm.fit: fitted probabilities numerically 0 or 1 occurred”"
     ]
    }
   ],
   "source": [
    "# create 5 folds for cross validation across 691 patients from BEST2 and BEST3 \n",
    "# (138 patients per val fold, 553 per training fold)\n",
    "set.seed(366)\n",
    "\n",
    "# For BEST2 only analyses\n",
    "tff3_prague_data_shuffled <- best2_tff3_prague_data[sample(nrow(best2_tff3_prague_data)),]\n",
    "\n",
    "# For BEST2+BEST3 analyses\n",
    "#tff3_prague_data_shuffled <- best3_tff3_prague_data[sample(nrow(best3_tff3_prague_data)),]\n",
    "\n",
    "# split folds into training and validation components\n",
    "fold_size = round(nrow(tff3_prague_data_shuffled)/5)\n",
    "n <- nrow(tff3_prague_data_shuffled)\n",
    "r  <- rep(1:ceiling(n/fold_size), each=fold_size)[1:n]\n",
    "d <- split(tff3_prague_data_shuffled, r)\n",
    "val1 <- d[[\"1\"]]\n",
    "val2 <- d[[\"2\"]]\n",
    "val3 <- d[[\"3\"]]\n",
    "val4 <- d[[\"4\"]]\n",
    "val5 <- d[[\"5\"]]\n",
    "train1 <- rbind(val2, val3, val4, val5)\n",
    "train2 <- rbind(val1, val3, val4, val5)\n",
    "train3 <- rbind(val1, val2, val4, val5)\n",
    "train4 <- rbind(val1, val2, val3, val5)\n",
    "train5 <- rbind(val1, val2, val3, val4)\n",
    "\n",
    "# 5-fold classification models trained on training components (C>=1 or M>=3)\n",
    "logreg_c_gtet_1cm_or_m_gtet_1cm_1 <- glm(C_gtet_1_or_M_gtet_1 ~ TFF3_positive_count, family='binomial', data = train1)\n",
    "logreg_c_gtet_1cm_or_m_gtet_1cm_2 <- glm(C_gtet_1_or_M_gtet_1 ~ TFF3_positive_count, family='binomial', data = train2)\n",
    "logreg_c_gtet_1cm_or_m_gtet_1cm_3 <- glm(C_gtet_1_or_M_gtet_1 ~ TFF3_positive_count, family='binomial', data = train3)\n",
    "logreg_c_gtet_1cm_or_m_gtet_1cm_4 <- glm(C_gtet_1_or_M_gtet_1 ~ TFF3_positive_count, family='binomial', data = train4)\n",
    "logreg_c_gtet_1cm_or_m_gtet_1cm_5 <- glm(C_gtet_1_or_M_gtet_1 ~ TFF3_positive_count, family='binomial', data = train5)\n",
    "\n",
    "# 5-fold classification models trained on training components (C>=1 or M>=3)\n",
    "logreg_c_gtet_1cm_or_m_gtet_3cm_1 <- glm(C_gtet_1_or_M_gtet_3 ~ TFF3_positive_count, family='binomial', data = train1)\n",
    "logreg_c_gtet_1cm_or_m_gtet_3cm_2 <- glm(C_gtet_1_or_M_gtet_3 ~ TFF3_positive_count, family='binomial', data = train2)\n",
    "logreg_c_gtet_1cm_or_m_gtet_3cm_3 <- glm(C_gtet_1_or_M_gtet_3 ~ TFF3_positive_count, family='binomial', data = train3)\n",
    "logreg_c_gtet_1cm_or_m_gtet_3cm_4 <- glm(C_gtet_1_or_M_gtet_3 ~ TFF3_positive_count, family='binomial', data = train4)\n",
    "logreg_c_gtet_1cm_or_m_gtet_3cm_5 <- glm(C_gtet_1_or_M_gtet_3 ~ TFF3_positive_count, family='binomial', data = train5)\n",
    "\n",
    "# 5-fold classification models trained on training components (C>=2 or M>=4)\n",
    "logreg_c_gtet_2cm_or_m_gtet_4cm_1 <- glm(C_gtet_2_or_M_gtet_4 ~ TFF3_positive_count, family='binomial', data = train1)\n",
    "logreg_c_gtet_2cm_or_m_gtet_4cm_2 <- glm(C_gtet_2_or_M_gtet_4 ~ TFF3_positive_count, family='binomial', data = train2)\n",
    "logreg_c_gtet_2cm_or_m_gtet_4cm_3 <- glm(C_gtet_2_or_M_gtet_4 ~ TFF3_positive_count, family='binomial', data = train3)\n",
    "logreg_c_gtet_2cm_or_m_gtet_4cm_4 <- glm(C_gtet_2_or_M_gtet_4 ~ TFF3_positive_count, family='binomial', data = train4)\n",
    "logreg_c_gtet_2cm_or_m_gtet_4cm_5 <- glm(C_gtet_2_or_M_gtet_4 ~ TFF3_positive_count, family='binomial', data = train5)\n",
    "\n",
    "# 5-fold classification models trained on training components (C>=3 or M>=5)\n",
    "logreg_c_gtet_3cm_or_m_gtet_5cm_1 <- glm(C_gtet_3_or_M_gtet_5 ~ TFF3_positive_count, family='binomial', data = train1)\n",
    "logreg_c_gtet_3cm_or_m_gtet_5cm_2 <- glm(C_gtet_3_or_M_gtet_5 ~ TFF3_positive_count, family='binomial', data = train2)\n",
    "logreg_c_gtet_3cm_or_m_gtet_5cm_3 <- glm(C_gtet_3_or_M_gtet_5 ~ TFF3_positive_count, family='binomial', data = train3)\n",
    "logreg_c_gtet_3cm_or_m_gtet_5cm_4 <- glm(C_gtet_3_or_M_gtet_5 ~ TFF3_positive_count, family='binomial', data = train4)\n",
    "logreg_c_gtet_3cm_or_m_gtet_5cm_5 <- glm(C_gtet_3_or_M_gtet_5 ~ TFF3_positive_count, family='binomial', data = train5)\n",
    "\n",
    "# 5-fold classification models trained on training components (C>=1)\n",
    "logreg_c_gtet_1cm_1 <- glm(PRAGUE_C_gtet_1cm ~ TFF3_positive_count, family='binomial', data = train1)\n",
    "logreg_c_gtet_1cm_2 <- glm(PRAGUE_C_gtet_1cm ~ TFF3_positive_count, family='binomial', data = train2)\n",
    "logreg_c_gtet_1cm_3 <- glm(PRAGUE_C_gtet_1cm ~ TFF3_positive_count, family='binomial', data = train3)\n",
    "logreg_c_gtet_1cm_4 <- glm(PRAGUE_C_gtet_1cm ~ TFF3_positive_count, family='binomial', data = train4)\n",
    "logreg_c_gtet_1cm_5 <- glm(PRAGUE_C_gtet_1cm ~ TFF3_positive_count, family='binomial', data = train5)\n",
    "\n",
    "# 5-fold classification models trained on training components (C>=2)\n",
    "logreg_c_gtet_2cm_1 <- glm(PRAGUE_C_gtet_2cm ~ TFF3_positive_count, family='binomial', data = train1)\n",
    "logreg_c_gtet_2cm_2 <- glm(PRAGUE_C_gtet_2cm ~ TFF3_positive_count, family='binomial', data = train2)\n",
    "logreg_c_gtet_2cm_3 <- glm(PRAGUE_C_gtet_2cm ~ TFF3_positive_count, family='binomial', data = train3)\n",
    "logreg_c_gtet_2cm_4 <- glm(PRAGUE_C_gtet_2cm ~ TFF3_positive_count, family='binomial', data = train4)\n",
    "logreg_c_gtet_2cm_5 <- glm(PRAGUE_C_gtet_2cm ~ TFF3_positive_count, family='binomial', data = train5)\n",
    "\n",
    "# 5-fold classification models trained on training components (C>=3)\n",
    "logreg_c_gtet_3cm_1 <- glm(PRAGUE_C_gtet_3cm ~ TFF3_positive_count, family='binomial', data = train1)\n",
    "logreg_c_gtet_3cm_2 <- glm(PRAGUE_C_gtet_3cm ~ TFF3_positive_count, family='binomial', data = train2)\n",
    "logreg_c_gtet_3cm_3 <- glm(PRAGUE_C_gtet_3cm ~ TFF3_positive_count, family='binomial', data = train3)\n",
    "logreg_c_gtet_3cm_4 <- glm(PRAGUE_C_gtet_3cm ~ TFF3_positive_count, family='binomial', data = train4)\n",
    "logreg_c_gtet_3cm_5 <- glm(PRAGUE_C_gtet_3cm ~ TFF3_positive_count, family='binomial', data = train5)\n",
    "\n",
    "# 5-fold classification models trained on training components (M>=1)\n",
    "logreg_m_gtet_1cm_1 <- glm(PRAGUE_M_gtet_1cm ~ TFF3_positive_count, family='binomial', data = train1)\n",
    "logreg_m_gtet_1cm_2 <- glm(PRAGUE_M_gtet_1cm ~ TFF3_positive_count, family='binomial', data = train2)\n",
    "logreg_m_gtet_1cm_3 <- glm(PRAGUE_M_gtet_1cm ~ TFF3_positive_count, family='binomial', data = train3)\n",
    "logreg_m_gtet_1cm_4 <- glm(PRAGUE_M_gtet_1cm ~ TFF3_positive_count, family='binomial', data = train4)\n",
    "logreg_m_gtet_1cm_5 <- glm(PRAGUE_M_gtet_1cm ~ TFF3_positive_count, family='binomial', data = train5)\n",
    "\n",
    "# 5-fold classification models trained on training components (M>=3)\n",
    "logreg_m_gtet_3cm_1 <- glm(PRAGUE_M_gtet_3cm ~ TFF3_positive_count, family='binomial', data = train1)\n",
    "logreg_m_gtet_3cm_2 <- glm(PRAGUE_M_gtet_3cm ~ TFF3_positive_count, family='binomial', data = train2)\n",
    "logreg_m_gtet_3cm_3 <- glm(PRAGUE_M_gtet_3cm ~ TFF3_positive_count, family='binomial', data = train3)\n",
    "logreg_m_gtet_3cm_4 <- glm(PRAGUE_M_gtet_3cm ~ TFF3_positive_count, family='binomial', data = train4)\n",
    "logreg_m_gtet_3cm_5 <- glm(PRAGUE_M_gtet_3cm ~ TFF3_positive_count, family='binomial', data = train5)\n",
    "\n",
    "# 5-fold classification models trained on training components (M>=4)\n",
    "logreg_m_gtet_4cm_1 <- glm(PRAGUE_M_gtet_4cm ~ TFF3_positive_count, family='binomial', data = train1)\n",
    "logreg_m_gtet_4cm_2 <- glm(PRAGUE_M_gtet_4cm ~ TFF3_positive_count, family='binomial', data = train2)\n",
    "logreg_m_gtet_4cm_3 <- glm(PRAGUE_M_gtet_4cm ~ TFF3_positive_count, family='binomial', data = train3)\n",
    "logreg_m_gtet_4cm_4 <- glm(PRAGUE_M_gtet_4cm ~ TFF3_positive_count, family='binomial', data = train4)\n",
    "logreg_m_gtet_4cm_5 <- glm(PRAGUE_M_gtet_4cm ~ TFF3_positive_count, family='binomial', data = train5)\n",
    "\n",
    "# 5-fold classification models trained on training components (M>=5)\n",
    "logreg_m_gtet_5cm_1 <- glm(PRAGUE_M_gtet_5cm ~ TFF3_positive_count, family='binomial', data = train1)\n",
    "logreg_m_gtet_5cm_2 <- glm(PRAGUE_M_gtet_5cm ~ TFF3_positive_count, family='binomial', data = train2)\n",
    "logreg_m_gtet_5cm_3 <- glm(PRAGUE_M_gtet_5cm ~ TFF3_positive_count, family='binomial', data = train3)\n",
    "logreg_m_gtet_5cm_4 <- glm(PRAGUE_M_gtet_5cm ~ TFF3_positive_count, family='binomial', data = train4)\n",
    "logreg_m_gtet_5cm_5 <- glm(PRAGUE_M_gtet_5cm ~ TFF3_positive_count, family='binomial', data = train5)"
   ]
  },
  {
   "cell_type": "markdown",
   "id": "35d5b8af",
   "metadata": {},
   "source": [
    "We can now evalute model performance on validation component of each fold. Let's first define performance metric functions."
   ]
  },
  {
   "cell_type": "code",
   "execution_count": 13,
   "id": "9e7c7ef2",
   "metadata": {},
   "outputs": [],
   "source": [
    "RSQUARE = function(y_actual,y_predict){\n",
    "  cor(y_actual,y_predict)^2\n",
    "}\n",
    "RMSE = function(y_actual, y_predict){\n",
    "    sqrt(mean((y_predict - y_actual)^2))\n",
    "}\n",
    "METRIFY = function(y_actual, y_predict, model){\n",
    "    acc = Accuracy(ifelse(y_predict >= 0.5, 1, 0), y_actual)\n",
    "    acc_balanced = bal_accuracy_vec(factor(y_actual), factor(ifelse(y_predict >= 0.5, 1, 0)))\n",
    "    prec_long = Precision(y_actual, ifelse(y_predict >= 0.5, 1, 0), positive=1)\n",
    "    prec_short = Precision(y_actual, ifelse(y_predict >= 0.5, 1, 0), positive=0)\n",
    "    rec_long = Recall(y_actual, ifelse(y_predict >= 0.5, 1, 0), positive=1)\n",
    "    rec_short = Recall(y_actual, ifelse(y_predict >= 0.5, 1, 0), positive=0)\n",
    "    f1_long = F1_Score(y_actual, ifelse(y_predict >= 0.5, 1, 0), positive=1)\n",
    "    f1_short = F1_Score(y_actual, ifelse(y_predict >= 0.5, 1, 0), positive=0)\n",
    "    tile_cutoff = unname(dose.p(model, p=0.5)[1])\n",
    "    tile_cutoff_se = unname(attr(dose.p(model, p=0.5), \"SE\"))\n",
    "    \n",
    "    list(Accuracy=acc, Balanced_acc=acc_balanced, Precision_long=prec_long, Precision_short=prec_short, \n",
    "         Recall_long=rec_long, Recall_short=rec_short, F1_long=f1_long, F1_short=f1_short, \n",
    "         Tile_cutoff=tile_cutoff, Tile_cutoff_SE=tile_cutoff_se)\n",
    "}"
   ]
  },
  {
   "cell_type": "markdown",
   "id": "7bb6cd7f",
   "metadata": {},
   "source": [
    "Get classification predictions for each fold on validation components"
   ]
  },
  {
   "cell_type": "code",
   "execution_count": 14,
   "id": "bf490ad6",
   "metadata": {},
   "outputs": [],
   "source": [
    "# C>=1 or M>=1\n",
    "logreg_c_gtet_1cm_or_m_gtet_1cm_1_pred <- predict(logreg_c_gtet_1cm_or_m_gtet_1cm_1, newdata=data.frame(TFF3_positive_count=val1$TFF3_positive_count), type='response')\n",
    "logreg_c_gtet_1cm_or_m_gtet_1cm_2_pred <- predict(logreg_c_gtet_1cm_or_m_gtet_1cm_2, newdata=data.frame(TFF3_positive_count=val2$TFF3_positive_count), type='response')\n",
    "logreg_c_gtet_1cm_or_m_gtet_1cm_3_pred <- predict(logreg_c_gtet_1cm_or_m_gtet_1cm_3, newdata=data.frame(TFF3_positive_count=val3$TFF3_positive_count), type='response')\n",
    "logreg_c_gtet_1cm_or_m_gtet_1cm_4_pred <- predict(logreg_c_gtet_1cm_or_m_gtet_1cm_4, newdata=data.frame(TFF3_positive_count=val4$TFF3_positive_count), type='response')\n",
    "logreg_c_gtet_1cm_or_m_gtet_1cm_5_pred <- predict(logreg_c_gtet_1cm_or_m_gtet_1cm_5, newdata=data.frame(TFF3_positive_count=val5$TFF3_positive_count), type='response')\n",
    "\n",
    "# C>=1 or M>=3\n",
    "logreg_c_gtet_1cm_or_m_gtet_3cm_1_pred <- predict(logreg_c_gtet_1cm_or_m_gtet_3cm_1, newdata=data.frame(TFF3_positive_count=val1$TFF3_positive_count), type='response')\n",
    "logreg_c_gtet_1cm_or_m_gtet_3cm_2_pred <- predict(logreg_c_gtet_1cm_or_m_gtet_3cm_2, newdata=data.frame(TFF3_positive_count=val2$TFF3_positive_count), type='response')\n",
    "logreg_c_gtet_1cm_or_m_gtet_3cm_3_pred <- predict(logreg_c_gtet_1cm_or_m_gtet_3cm_3, newdata=data.frame(TFF3_positive_count=val3$TFF3_positive_count), type='response')\n",
    "logreg_c_gtet_1cm_or_m_gtet_3cm_4_pred <- predict(logreg_c_gtet_1cm_or_m_gtet_3cm_4, newdata=data.frame(TFF3_positive_count=val4$TFF3_positive_count), type='response')\n",
    "logreg_c_gtet_1cm_or_m_gtet_3cm_5_pred <- predict(logreg_c_gtet_1cm_or_m_gtet_3cm_5, newdata=data.frame(TFF3_positive_count=val5$TFF3_positive_count), type='response')\n",
    "\n",
    "# C>=2 or M>=4\n",
    "logreg_c_gtet_2cm_or_m_gtet_4cm_1_pred <- predict(logreg_c_gtet_2cm_or_m_gtet_4cm_1, newdata=data.frame(TFF3_positive_count=val1$TFF3_positive_count), type='response')\n",
    "logreg_c_gtet_2cm_or_m_gtet_4cm_2_pred <- predict(logreg_c_gtet_2cm_or_m_gtet_4cm_2, newdata=data.frame(TFF3_positive_count=val2$TFF3_positive_count), type='response')\n",
    "logreg_c_gtet_2cm_or_m_gtet_4cm_3_pred <- predict(logreg_c_gtet_2cm_or_m_gtet_4cm_3, newdata=data.frame(TFF3_positive_count=val3$TFF3_positive_count), type='response')\n",
    "logreg_c_gtet_2cm_or_m_gtet_4cm_4_pred <- predict(logreg_c_gtet_2cm_or_m_gtet_4cm_4, newdata=data.frame(TFF3_positive_count=val4$TFF3_positive_count), type='response')\n",
    "logreg_c_gtet_2cm_or_m_gtet_4cm_5_pred <- predict(logreg_c_gtet_2cm_or_m_gtet_4cm_5, newdata=data.frame(TFF3_positive_count=val5$TFF3_positive_count), type='response')\n",
    "\n",
    "# C>=3 or M>=5\n",
    "logreg_c_gtet_3cm_or_m_gtet_5cm_1_pred <- predict(logreg_c_gtet_3cm_or_m_gtet_5cm_1, newdata=data.frame(TFF3_positive_count=val1$TFF3_positive_count), type='response')\n",
    "logreg_c_gtet_3cm_or_m_gtet_5cm_2_pred <- predict(logreg_c_gtet_3cm_or_m_gtet_5cm_2, newdata=data.frame(TFF3_positive_count=val2$TFF3_positive_count), type='response')\n",
    "logreg_c_gtet_3cm_or_m_gtet_5cm_3_pred <- predict(logreg_c_gtet_3cm_or_m_gtet_5cm_3, newdata=data.frame(TFF3_positive_count=val3$TFF3_positive_count), type='response')\n",
    "logreg_c_gtet_3cm_or_m_gtet_5cm_4_pred <- predict(logreg_c_gtet_3cm_or_m_gtet_5cm_4, newdata=data.frame(TFF3_positive_count=val4$TFF3_positive_count), type='response')\n",
    "logreg_c_gtet_3cm_or_m_gtet_5cm_5_pred <- predict(logreg_c_gtet_3cm_or_m_gtet_5cm_5, newdata=data.frame(TFF3_positive_count=val5$TFF3_positive_count), type='response')\n",
    "\n",
    "# C>=1\n",
    "logreg_c_gtet_1cm_1_pred <- predict(logreg_c_gtet_1cm_1, newdata=data.frame(TFF3_positive_count=val1$TFF3_positive_count), type='response')\n",
    "logreg_c_gtet_1cm_2_pred <- predict(logreg_c_gtet_1cm_2, newdata=data.frame(TFF3_positive_count=val2$TFF3_positive_count), type='response')\n",
    "logreg_c_gtet_1cm_3_pred <- predict(logreg_c_gtet_1cm_3, newdata=data.frame(TFF3_positive_count=val3$TFF3_positive_count), type='response')\n",
    "logreg_c_gtet_1cm_4_pred <- predict(logreg_c_gtet_1cm_4, newdata=data.frame(TFF3_positive_count=val4$TFF3_positive_count), type='response')\n",
    "logreg_c_gtet_1cm_5_pred <- predict(logreg_c_gtet_1cm_5, newdata=data.frame(TFF3_positive_count=val5$TFF3_positive_count), type='response')\n",
    "\n",
    "# C>=2\n",
    "logreg_c_gtet_2cm_1_pred <- predict(logreg_c_gtet_2cm_1, newdata=data.frame(TFF3_positive_count=val1$TFF3_positive_count), type='response')\n",
    "logreg_c_gtet_2cm_2_pred <- predict(logreg_c_gtet_2cm_2, newdata=data.frame(TFF3_positive_count=val2$TFF3_positive_count), type='response')\n",
    "logreg_c_gtet_2cm_3_pred <- predict(logreg_c_gtet_2cm_3, newdata=data.frame(TFF3_positive_count=val3$TFF3_positive_count), type='response')\n",
    "logreg_c_gtet_2cm_4_pred <- predict(logreg_c_gtet_2cm_4, newdata=data.frame(TFF3_positive_count=val4$TFF3_positive_count), type='response')\n",
    "logreg_c_gtet_2cm_5_pred <- predict(logreg_c_gtet_2cm_5, newdata=data.frame(TFF3_positive_count=val5$TFF3_positive_count), type='response')\n",
    "\n",
    "# C>=3\n",
    "logreg_c_gtet_3cm_1_pred <- predict(logreg_c_gtet_3cm_1, newdata=data.frame(TFF3_positive_count=val1$TFF3_positive_count), type='response')\n",
    "logreg_c_gtet_3cm_2_pred <- predict(logreg_c_gtet_3cm_2, newdata=data.frame(TFF3_positive_count=val2$TFF3_positive_count), type='response')\n",
    "logreg_c_gtet_3cm_3_pred <- predict(logreg_c_gtet_3cm_3, newdata=data.frame(TFF3_positive_count=val3$TFF3_positive_count), type='response')\n",
    "logreg_c_gtet_3cm_4_pred <- predict(logreg_c_gtet_3cm_4, newdata=data.frame(TFF3_positive_count=val4$TFF3_positive_count), type='response')\n",
    "logreg_c_gtet_3cm_5_pred <- predict(logreg_c_gtet_3cm_5, newdata=data.frame(TFF3_positive_count=val5$TFF3_positive_count), type='response')\n",
    "\n",
    "# M>=1\n",
    "logreg_m_gtet_1cm_1_pred <- predict(logreg_m_gtet_1cm_1, newdata=data.frame(TFF3_positive_count=val1$TFF3_positive_count), type='response')\n",
    "logreg_m_gtet_1cm_2_pred <- predict(logreg_m_gtet_1cm_2, newdata=data.frame(TFF3_positive_count=val2$TFF3_positive_count), type='response')\n",
    "logreg_m_gtet_1cm_3_pred <- predict(logreg_m_gtet_1cm_3, newdata=data.frame(TFF3_positive_count=val3$TFF3_positive_count), type='response')\n",
    "logreg_m_gtet_1cm_4_pred <- predict(logreg_m_gtet_1cm_4, newdata=data.frame(TFF3_positive_count=val4$TFF3_positive_count), type='response')\n",
    "logreg_m_gtet_1cm_5_pred <- predict(logreg_m_gtet_1cm_5, newdata=data.frame(TFF3_positive_count=val5$TFF3_positive_count), type='response')\n",
    "\n",
    "# M>=3\n",
    "logreg_m_gtet_3cm_1_pred <- predict(logreg_m_gtet_3cm_1, newdata=data.frame(TFF3_positive_count=val1$TFF3_positive_count), type='response')\n",
    "logreg_m_gtet_3cm_2_pred <- predict(logreg_m_gtet_3cm_2, newdata=data.frame(TFF3_positive_count=val2$TFF3_positive_count), type='response')\n",
    "logreg_m_gtet_3cm_3_pred <- predict(logreg_m_gtet_3cm_3, newdata=data.frame(TFF3_positive_count=val3$TFF3_positive_count), type='response')\n",
    "logreg_m_gtet_3cm_4_pred <- predict(logreg_m_gtet_3cm_4, newdata=data.frame(TFF3_positive_count=val4$TFF3_positive_count), type='response')\n",
    "logreg_m_gtet_3cm_5_pred <- predict(logreg_m_gtet_3cm_5, newdata=data.frame(TFF3_positive_count=val5$TFF3_positive_count), type='response')\n",
    "\n",
    "# M>=4\n",
    "logreg_m_gtet_4cm_1_pred <- predict(logreg_m_gtet_4cm_1, newdata=data.frame(TFF3_positive_count=val1$TFF3_positive_count), type='response')\n",
    "logreg_m_gtet_4cm_2_pred <- predict(logreg_m_gtet_4cm_2, newdata=data.frame(TFF3_positive_count=val2$TFF3_positive_count), type='response')\n",
    "logreg_m_gtet_4cm_3_pred <- predict(logreg_m_gtet_4cm_3, newdata=data.frame(TFF3_positive_count=val3$TFF3_positive_count), type='response')\n",
    "logreg_m_gtet_4cm_4_pred <- predict(logreg_m_gtet_4cm_4, newdata=data.frame(TFF3_positive_count=val4$TFF3_positive_count), type='response')\n",
    "logreg_m_gtet_4cm_5_pred <- predict(logreg_m_gtet_4cm_5, newdata=data.frame(TFF3_positive_count=val5$TFF3_positive_count), type='response')\n",
    "\n",
    "# M>=5\n",
    "logreg_m_gtet_5cm_1_pred <- predict(logreg_m_gtet_5cm_1, newdata=data.frame(TFF3_positive_count=val1$TFF3_positive_count), type='response')\n",
    "logreg_m_gtet_5cm_2_pred <- predict(logreg_m_gtet_5cm_2, newdata=data.frame(TFF3_positive_count=val2$TFF3_positive_count), type='response')\n",
    "logreg_m_gtet_5cm_3_pred <- predict(logreg_m_gtet_5cm_3, newdata=data.frame(TFF3_positive_count=val3$TFF3_positive_count), type='response')\n",
    "logreg_m_gtet_5cm_4_pred <- predict(logreg_m_gtet_5cm_4, newdata=data.frame(TFF3_positive_count=val4$TFF3_positive_count), type='response')\n",
    "logreg_m_gtet_5cm_5_pred <- predict(logreg_m_gtet_5cm_5, newdata=data.frame(TFF3_positive_count=val5$TFF3_positive_count), type='response')"
   ]
  },
  {
   "cell_type": "markdown",
   "id": "0b3e2f0d",
   "metadata": {},
   "source": [
    "Get performance metric results"
   ]
  },
  {
   "cell_type": "code",
   "execution_count": 15,
   "id": "9168192a",
   "metadata": {},
   "outputs": [],
   "source": [
    "# C>=1 or M>=1\n",
    "fold1_c1m1 = METRIFY(val1$C_gtet_1_or_M_gtet_1, logreg_c_gtet_1cm_or_m_gtet_1cm_1_pred, logreg_c_gtet_1cm_or_m_gtet_1cm_1)\n",
    "fold2_c1m1 = METRIFY(val2$C_gtet_1_or_M_gtet_1, logreg_c_gtet_1cm_or_m_gtet_1cm_2_pred, logreg_c_gtet_1cm_or_m_gtet_1cm_2)\n",
    "fold3_c1m1 = METRIFY(val3$C_gtet_1_or_M_gtet_1, logreg_c_gtet_1cm_or_m_gtet_1cm_3_pred, logreg_c_gtet_1cm_or_m_gtet_1cm_3)\n",
    "fold4_c1m1 = METRIFY(val4$C_gtet_1_or_M_gtet_1, logreg_c_gtet_1cm_or_m_gtet_1cm_4_pred, logreg_c_gtet_1cm_or_m_gtet_1cm_4)\n",
    "fold5_c1m1 = METRIFY(val5$C_gtet_1_or_M_gtet_1, logreg_c_gtet_1cm_or_m_gtet_1cm_5_pred, logreg_c_gtet_1cm_or_m_gtet_1cm_5)\n",
    "\n",
    "# C>=1 or M>=3\n",
    "fold1_c1m3 = METRIFY(val1$C_gtet_1_or_M_gtet_3, logreg_c_gtet_1cm_or_m_gtet_3cm_1_pred, logreg_c_gtet_1cm_or_m_gtet_3cm_1)\n",
    "fold2_c1m3 = METRIFY(val2$C_gtet_1_or_M_gtet_3, logreg_c_gtet_1cm_or_m_gtet_3cm_2_pred, logreg_c_gtet_1cm_or_m_gtet_3cm_2)\n",
    "fold3_c1m3 = METRIFY(val3$C_gtet_1_or_M_gtet_3, logreg_c_gtet_1cm_or_m_gtet_3cm_3_pred, logreg_c_gtet_1cm_or_m_gtet_3cm_3)\n",
    "fold4_c1m3 = METRIFY(val4$C_gtet_1_or_M_gtet_3, logreg_c_gtet_1cm_or_m_gtet_3cm_4_pred, logreg_c_gtet_1cm_or_m_gtet_3cm_4)\n",
    "fold5_c1m3 = METRIFY(val5$C_gtet_1_or_M_gtet_3, logreg_c_gtet_1cm_or_m_gtet_3cm_5_pred, logreg_c_gtet_1cm_or_m_gtet_3cm_5)\n",
    "\n",
    "# C>=2 or M>=4\n",
    "fold1_c2m4 = METRIFY(val1$C_gtet_2_or_M_gtet_4, logreg_c_gtet_2cm_or_m_gtet_4cm_1_pred, logreg_c_gtet_2cm_or_m_gtet_4cm_1)\n",
    "fold2_c2m4 = METRIFY(val2$C_gtet_2_or_M_gtet_4, logreg_c_gtet_2cm_or_m_gtet_4cm_2_pred, logreg_c_gtet_2cm_or_m_gtet_4cm_2)\n",
    "fold3_c2m4 = METRIFY(val3$C_gtet_2_or_M_gtet_4, logreg_c_gtet_2cm_or_m_gtet_4cm_3_pred, logreg_c_gtet_2cm_or_m_gtet_4cm_3)\n",
    "fold4_c2m4 = METRIFY(val4$C_gtet_2_or_M_gtet_4, logreg_c_gtet_2cm_or_m_gtet_4cm_4_pred, logreg_c_gtet_2cm_or_m_gtet_4cm_4)\n",
    "fold5_c2m4 = METRIFY(val5$C_gtet_2_or_M_gtet_4, logreg_c_gtet_2cm_or_m_gtet_4cm_5_pred, logreg_c_gtet_2cm_or_m_gtet_4cm_5)\n",
    "\n",
    "# C>=3 or M>=5\n",
    "fold1_c3m5 = METRIFY(val1$C_gtet_3_or_M_gtet_5, logreg_c_gtet_3cm_or_m_gtet_5cm_1_pred, logreg_c_gtet_3cm_or_m_gtet_5cm_1)\n",
    "fold2_c3m5 = METRIFY(val2$C_gtet_3_or_M_gtet_5, logreg_c_gtet_3cm_or_m_gtet_5cm_2_pred, logreg_c_gtet_3cm_or_m_gtet_5cm_2)\n",
    "fold3_c3m5 = METRIFY(val3$C_gtet_3_or_M_gtet_5, logreg_c_gtet_3cm_or_m_gtet_5cm_3_pred, logreg_c_gtet_3cm_or_m_gtet_5cm_3)\n",
    "fold4_c3m5 = METRIFY(val4$C_gtet_3_or_M_gtet_5, logreg_c_gtet_3cm_or_m_gtet_5cm_4_pred, logreg_c_gtet_3cm_or_m_gtet_5cm_4)\n",
    "fold5_c3m5 = METRIFY(val5$C_gtet_3_or_M_gtet_5, logreg_c_gtet_3cm_or_m_gtet_5cm_5_pred, logreg_c_gtet_3cm_or_m_gtet_5cm_5)\n",
    "\n",
    "# C>=1\n",
    "fold1_c1 = METRIFY(val1$PRAGUE_C_gtet_1cm, logreg_c_gtet_1cm_1_pred, logreg_c_gtet_1cm_1)\n",
    "fold2_c1 = METRIFY(val2$PRAGUE_C_gtet_1cm, logreg_c_gtet_1cm_2_pred, logreg_c_gtet_1cm_2)\n",
    "fold3_c1 = METRIFY(val3$PRAGUE_C_gtet_1cm, logreg_c_gtet_1cm_3_pred, logreg_c_gtet_1cm_3)\n",
    "fold4_c1 = METRIFY(val4$PRAGUE_C_gtet_1cm, logreg_c_gtet_1cm_4_pred, logreg_c_gtet_1cm_4)\n",
    "fold5_c1 = METRIFY(val5$PRAGUE_C_gtet_1cm, logreg_c_gtet_1cm_5_pred, logreg_c_gtet_1cm_5)\n",
    "\n",
    "# C>=2\n",
    "fold1_c2 = METRIFY(val1$PRAGUE_C_gtet_2cm, logreg_c_gtet_2cm_1_pred, logreg_c_gtet_2cm_1)\n",
    "fold2_c2 = METRIFY(val2$PRAGUE_C_gtet_2cm, logreg_c_gtet_2cm_2_pred, logreg_c_gtet_2cm_2)\n",
    "fold3_c2 = METRIFY(val3$PRAGUE_C_gtet_2cm, logreg_c_gtet_2cm_3_pred, logreg_c_gtet_2cm_3)\n",
    "fold4_c2 = METRIFY(val4$PRAGUE_C_gtet_2cm, logreg_c_gtet_2cm_4_pred, logreg_c_gtet_2cm_4)\n",
    "fold5_c2 = METRIFY(val5$PRAGUE_C_gtet_2cm, logreg_c_gtet_2cm_5_pred, logreg_c_gtet_2cm_5)\n",
    "\n",
    "# C>=3\n",
    "fold1_c3 = METRIFY(val1$PRAGUE_C_gtet_3cm, logreg_c_gtet_3cm_1_pred, logreg_c_gtet_3cm_1)\n",
    "fold2_c3 = METRIFY(val2$PRAGUE_C_gtet_3cm, logreg_c_gtet_3cm_2_pred, logreg_c_gtet_3cm_2)\n",
    "fold3_c3 = METRIFY(val3$PRAGUE_C_gtet_3cm, logreg_c_gtet_3cm_3_pred, logreg_c_gtet_3cm_3)\n",
    "fold4_c3 = METRIFY(val4$PRAGUE_C_gtet_3cm, logreg_c_gtet_3cm_4_pred, logreg_c_gtet_3cm_4)\n",
    "fold5_c3 = METRIFY(val5$PRAGUE_C_gtet_3cm, logreg_c_gtet_3cm_5_pred, logreg_c_gtet_3cm_5)\n",
    "\n",
    "# M>=1\n",
    "fold1_m1 = METRIFY(val1$PRAGUE_M_gtet_1cm, logreg_m_gtet_1cm_1_pred, logreg_m_gtet_1cm_1)\n",
    "fold2_m1 = METRIFY(val2$PRAGUE_M_gtet_1cm, logreg_m_gtet_1cm_2_pred, logreg_m_gtet_1cm_2)\n",
    "fold3_m1 = METRIFY(val3$PRAGUE_M_gtet_1cm, logreg_m_gtet_1cm_3_pred, logreg_m_gtet_1cm_3)\n",
    "fold4_m1 = METRIFY(val4$PRAGUE_M_gtet_1cm, logreg_m_gtet_1cm_4_pred, logreg_m_gtet_1cm_4)\n",
    "fold5_m1 = METRIFY(val5$PRAGUE_M_gtet_1cm, logreg_m_gtet_1cm_5_pred, logreg_m_gtet_1cm_5)\n",
    "\n",
    "# M>=3\n",
    "fold1_m3 = METRIFY(val1$PRAGUE_M_gtet_3cm, logreg_m_gtet_3cm_1_pred, logreg_m_gtet_3cm_1)\n",
    "fold2_m3 = METRIFY(val2$PRAGUE_M_gtet_3cm, logreg_m_gtet_3cm_2_pred, logreg_m_gtet_3cm_2)\n",
    "fold3_m3 = METRIFY(val3$PRAGUE_M_gtet_3cm, logreg_m_gtet_3cm_3_pred, logreg_m_gtet_3cm_3)\n",
    "fold4_m3 = METRIFY(val4$PRAGUE_M_gtet_3cm, logreg_m_gtet_3cm_4_pred, logreg_m_gtet_3cm_4)\n",
    "fold5_m3 = METRIFY(val5$PRAGUE_M_gtet_3cm, logreg_m_gtet_3cm_5_pred, logreg_m_gtet_3cm_5)\n",
    "\n",
    "# M>=4\n",
    "fold1_m4 = METRIFY(val1$PRAGUE_M_gtet_4cm, logreg_m_gtet_4cm_1_pred, logreg_m_gtet_4cm_1)\n",
    "fold2_m4 = METRIFY(val2$PRAGUE_M_gtet_4cm, logreg_m_gtet_4cm_2_pred, logreg_m_gtet_4cm_2)\n",
    "fold3_m4 = METRIFY(val3$PRAGUE_M_gtet_4cm, logreg_m_gtet_4cm_3_pred, logreg_m_gtet_4cm_3)\n",
    "fold4_m4 = METRIFY(val4$PRAGUE_M_gtet_4cm, logreg_m_gtet_4cm_4_pred, logreg_m_gtet_4cm_4)\n",
    "fold5_m4 = METRIFY(val5$PRAGUE_M_gtet_4cm, logreg_m_gtet_4cm_5_pred, logreg_m_gtet_4cm_5)\n",
    "\n",
    "# M>=5\n",
    "fold1_m5 = METRIFY(val1$PRAGUE_M_gtet_5cm, logreg_m_gtet_5cm_1_pred, logreg_m_gtet_5cm_1)\n",
    "fold2_m5 = METRIFY(val2$PRAGUE_M_gtet_5cm, logreg_m_gtet_5cm_2_pred, logreg_m_gtet_5cm_2)\n",
    "fold3_m5 = METRIFY(val3$PRAGUE_M_gtet_5cm, logreg_m_gtet_5cm_3_pred, logreg_m_gtet_5cm_3)\n",
    "fold4_m5 = METRIFY(val4$PRAGUE_M_gtet_5cm, logreg_m_gtet_5cm_4_pred, logreg_m_gtet_5cm_4)\n",
    "fold5_m5 = METRIFY(val5$PRAGUE_M_gtet_5cm, logreg_m_gtet_5cm_5_pred, logreg_m_gtet_5cm_5)"
   ]
  },
  {
   "cell_type": "markdown",
   "id": "ff293bad",
   "metadata": {},
   "source": [
    "Print results"
   ]
  },
  {
   "cell_type": "code",
   "execution_count": 16,
   "id": "d43b41b5",
   "metadata": {},
   "outputs": [
    {
     "name": "stdout",
     "output_type": "stream",
     "text": [
      "[1] \"Logistic regression C>=1cm or M>=1cm performance on validation folds:\"\n"
     ]
    },
    {
     "data": {
      "text/html": [
       "<table>\n",
       "<thead><tr><th></th><th scope=col>Accuracy</th><th scope=col>Balanced_acc</th><th scope=col>Precision_long</th><th scope=col>Precision_short</th><th scope=col>Recall_long</th><th scope=col>Recall_short</th><th scope=col>F1_long</th><th scope=col>F1_short</th><th scope=col>Tile_cutoff</th><th scope=col>Tile_cutoff_SE</th></tr></thead>\n",
       "<tbody>\n",
       "\t<tr><th scope=row>Fold1</th><td>0.7924528</td><td>0.8143896</td><td>0.9245283</td><td>0.6603774</td><td>0.7313433</td><td>0.8974359</td><td>0.8166667</td><td>0.7608696</td><td>6.123937 </td><td>2.402157 </td></tr>\n",
       "\t<tr><th scope=row>Fold2</th><td>0.8773585</td><td>0.8786657</td><td>0.9152542</td><td>0.8297872</td><td>0.8709677</td><td>0.8863636</td><td>0.8925620</td><td>0.8571429</td><td>4.632022 </td><td>0.746372 </td></tr>\n",
       "\t<tr><th scope=row>Fold3</th><td>0.8113208</td><td>0.8559966</td><td>0.9821429</td><td>0.6200000</td><td>0.7432432</td><td>0.9687500</td><td>0.8461538</td><td>0.7560976</td><td>7.806023 </td><td>2.398120 </td></tr>\n",
       "\t<tr><th scope=row>Fold4</th><td>0.7924528</td><td>0.8475275</td><td>0.9827586</td><td>0.5625000</td><td>0.7307692</td><td>0.9642857</td><td>0.8382353</td><td>0.7105263</td><td>7.499915 </td><td>2.213443 </td></tr>\n",
       "\t<tr><th scope=row>Fold5</th><td>0.8571429</td><td>0.8517873</td><td>0.9275362</td><td>0.7222222</td><td>0.8648649</td><td>0.8387097</td><td>0.8951049</td><td>0.7761194</td><td>6.275538 </td><td>2.325775 </td></tr>\n",
       "</tbody>\n",
       "</table>\n"
      ],
      "text/latex": [
       "\\begin{tabular}{r|llllllllll}\n",
       "  & Accuracy & Balanced\\_acc & Precision\\_long & Precision\\_short & Recall\\_long & Recall\\_short & F1\\_long & F1\\_short & Tile\\_cutoff & Tile\\_cutoff\\_SE\\\\\n",
       "\\hline\n",
       "\tFold1 & 0.7924528 & 0.8143896 & 0.9245283 & 0.6603774 & 0.7313433 & 0.8974359 & 0.8166667 & 0.7608696 & 6.123937  & 2.402157 \\\\\n",
       "\tFold2 & 0.8773585 & 0.8786657 & 0.9152542 & 0.8297872 & 0.8709677 & 0.8863636 & 0.8925620 & 0.8571429 & 4.632022  & 0.746372 \\\\\n",
       "\tFold3 & 0.8113208 & 0.8559966 & 0.9821429 & 0.6200000 & 0.7432432 & 0.9687500 & 0.8461538 & 0.7560976 & 7.806023  & 2.398120 \\\\\n",
       "\tFold4 & 0.7924528 & 0.8475275 & 0.9827586 & 0.5625000 & 0.7307692 & 0.9642857 & 0.8382353 & 0.7105263 & 7.499915  & 2.213443 \\\\\n",
       "\tFold5 & 0.8571429 & 0.8517873 & 0.9275362 & 0.7222222 & 0.8648649 & 0.8387097 & 0.8951049 & 0.7761194 & 6.275538  & 2.325775 \\\\\n",
       "\\end{tabular}\n"
      ],
      "text/markdown": [
       "\n",
       "| <!--/--> | Accuracy | Balanced_acc | Precision_long | Precision_short | Recall_long | Recall_short | F1_long | F1_short | Tile_cutoff | Tile_cutoff_SE |\n",
       "|---|---|---|---|---|---|---|---|---|---|---|\n",
       "| Fold1 | 0.7924528 | 0.8143896 | 0.9245283 | 0.6603774 | 0.7313433 | 0.8974359 | 0.8166667 | 0.7608696 | 6.123937  | 2.402157  |\n",
       "| Fold2 | 0.8773585 | 0.8786657 | 0.9152542 | 0.8297872 | 0.8709677 | 0.8863636 | 0.8925620 | 0.8571429 | 4.632022  | 0.746372  |\n",
       "| Fold3 | 0.8113208 | 0.8559966 | 0.9821429 | 0.6200000 | 0.7432432 | 0.9687500 | 0.8461538 | 0.7560976 | 7.806023  | 2.398120  |\n",
       "| Fold4 | 0.7924528 | 0.8475275 | 0.9827586 | 0.5625000 | 0.7307692 | 0.9642857 | 0.8382353 | 0.7105263 | 7.499915  | 2.213443  |\n",
       "| Fold5 | 0.8571429 | 0.8517873 | 0.9275362 | 0.7222222 | 0.8648649 | 0.8387097 | 0.8951049 | 0.7761194 | 6.275538  | 2.325775  |\n",
       "\n"
      ],
      "text/plain": [
       "  Accuracy  Balanced_acc Precision_long Precision_short Recall_long\n",
       "1 0.7924528 0.8143896    0.9245283      0.6603774       0.7313433  \n",
       "2 0.8773585 0.8786657    0.9152542      0.8297872       0.8709677  \n",
       "3 0.8113208 0.8559966    0.9821429      0.6200000       0.7432432  \n",
       "4 0.7924528 0.8475275    0.9827586      0.5625000       0.7307692  \n",
       "5 0.8571429 0.8517873    0.9275362      0.7222222       0.8648649  \n",
       "  Recall_short F1_long   F1_short  Tile_cutoff Tile_cutoff_SE\n",
       "1 0.8974359    0.8166667 0.7608696 6.123937    2.402157      \n",
       "2 0.8863636    0.8925620 0.8571429 4.632022    0.746372      \n",
       "3 0.9687500    0.8461538 0.7560976 7.806023    2.398120      \n",
       "4 0.9642857    0.8382353 0.7105263 7.499915    2.213443      \n",
       "5 0.8387097    0.8951049 0.7761194 6.275538    2.325775      "
      ]
     },
     "metadata": {},
     "output_type": "display_data"
    },
    {
     "name": "stdout",
     "output_type": "stream",
     "text": [
      "[1] \"Means:\"\n"
     ]
    },
    {
     "data": {
      "text/html": [
       "<dl class=dl-horizontal>\n",
       "\t<dt>Accuracy</dt>\n",
       "\t\t<dd>0.826145552560647</dd>\n",
       "\t<dt>Balanced_acc</dt>\n",
       "\t\t<dd>0.849673328989952</dd>\n",
       "\t<dt>Precision_long</dt>\n",
       "\t\t<dd>0.9464440497783</dd>\n",
       "\t<dt>Precision_short</dt>\n",
       "\t\t<dd>0.678977362951068</dd>\n",
       "\t<dt>Recall_long</dt>\n",
       "\t\t<dd>0.788237672878982</dd>\n",
       "\t<dt>Recall_short</dt>\n",
       "\t\t<dd>0.911108985100921</dd>\n",
       "\t<dt>F1_long</dt>\n",
       "\t\t<dd>0.857744537102826</dd>\n",
       "\t<dt>F1_short</dt>\n",
       "\t\t<dd>0.772151140422081</dd>\n",
       "\t<dt>Tile_cutoff</dt>\n",
       "\t\t<dd>6.46748706648847</dd>\n",
       "\t<dt>Tile_cutoff_SE</dt>\n",
       "\t\t<dd>2.01717332068548</dd>\n",
       "</dl>\n"
      ],
      "text/latex": [
       "\\begin{description*}\n",
       "\\item[Accuracy] 0.826145552560647\n",
       "\\item[Balanced\\textbackslash{}\\_acc] 0.849673328989952\n",
       "\\item[Precision\\textbackslash{}\\_long] 0.9464440497783\n",
       "\\item[Precision\\textbackslash{}\\_short] 0.678977362951068\n",
       "\\item[Recall\\textbackslash{}\\_long] 0.788237672878982\n",
       "\\item[Recall\\textbackslash{}\\_short] 0.911108985100921\n",
       "\\item[F1\\textbackslash{}\\_long] 0.857744537102826\n",
       "\\item[F1\\textbackslash{}\\_short] 0.772151140422081\n",
       "\\item[Tile\\textbackslash{}\\_cutoff] 6.46748706648847\n",
       "\\item[Tile\\textbackslash{}\\_cutoff\\textbackslash{}\\_SE] 2.01717332068548\n",
       "\\end{description*}\n"
      ],
      "text/markdown": [
       "Accuracy\n",
       ":   0.826145552560647Balanced_acc\n",
       ":   0.849673328989952Precision_long\n",
       ":   0.9464440497783Precision_short\n",
       ":   0.678977362951068Recall_long\n",
       ":   0.788237672878982Recall_short\n",
       ":   0.911108985100921F1_long\n",
       ":   0.857744537102826F1_short\n",
       ":   0.772151140422081Tile_cutoff\n",
       ":   6.46748706648847Tile_cutoff_SE\n",
       ":   2.01717332068548\n",
       "\n"
      ],
      "text/plain": [
       "       Accuracy    Balanced_acc  Precision_long Precision_short     Recall_long \n",
       "      0.8261456       0.8496733       0.9464440       0.6789774       0.7882377 \n",
       "   Recall_short         F1_long        F1_short     Tile_cutoff  Tile_cutoff_SE \n",
       "      0.9111090       0.8577445       0.7721511       6.4674871       2.0171733 "
      ]
     },
     "metadata": {},
     "output_type": "display_data"
    },
    {
     "name": "stdout",
     "output_type": "stream",
     "text": [
      "[1] \"Standard deviations:\"\n"
     ]
    },
    {
     "data": {
      "text/html": [
       "<dl class=dl-horizontal>\n",
       "\t<dt>Accuracy</dt>\n",
       "\t\t<dd>0.038967202950946</dd>\n",
       "\t<dt>Balanced_acc</dt>\n",
       "\t\t<dd>0.023100631105573</dd>\n",
       "\t<dt>Precision_long</dt>\n",
       "\t\t<dd>0.0331804268133532</dd>\n",
       "\t<dt>Precision_short</dt>\n",
       "\t\t<dd>0.102475607656944</dd>\n",
       "\t<dt>Recall_long</dt>\n",
       "\t\t<dd>0.072938472269387</dd>\n",
       "\t<dt>Recall_short</dt>\n",
       "\t\t<dd>0.0552068756781799</dd>\n",
       "\t<dt>F1_long</dt>\n",
       "\t\t<dd>0.0346785129429883</dd>\n",
       "\t<dt>F1_short</dt>\n",
       "\t\t<dd>0.0534367602453039</dd>\n",
       "\t<dt>Tile_cutoff</dt>\n",
       "\t\t<dd>1.2630704687612</dd>\n",
       "\t<dt>Tile_cutoff_SE</dt>\n",
       "\t\t<dd>0.714497265437513</dd>\n",
       "</dl>\n"
      ],
      "text/latex": [
       "\\begin{description*}\n",
       "\\item[Accuracy] 0.038967202950946\n",
       "\\item[Balanced\\textbackslash{}\\_acc] 0.023100631105573\n",
       "\\item[Precision\\textbackslash{}\\_long] 0.0331804268133532\n",
       "\\item[Precision\\textbackslash{}\\_short] 0.102475607656944\n",
       "\\item[Recall\\textbackslash{}\\_long] 0.072938472269387\n",
       "\\item[Recall\\textbackslash{}\\_short] 0.0552068756781799\n",
       "\\item[F1\\textbackslash{}\\_long] 0.0346785129429883\n",
       "\\item[F1\\textbackslash{}\\_short] 0.0534367602453039\n",
       "\\item[Tile\\textbackslash{}\\_cutoff] 1.2630704687612\n",
       "\\item[Tile\\textbackslash{}\\_cutoff\\textbackslash{}\\_SE] 0.714497265437513\n",
       "\\end{description*}\n"
      ],
      "text/markdown": [
       "Accuracy\n",
       ":   0.038967202950946Balanced_acc\n",
       ":   0.023100631105573Precision_long\n",
       ":   0.0331804268133532Precision_short\n",
       ":   0.102475607656944Recall_long\n",
       ":   0.072938472269387Recall_short\n",
       ":   0.0552068756781799F1_long\n",
       ":   0.0346785129429883F1_short\n",
       ":   0.0534367602453039Tile_cutoff\n",
       ":   1.2630704687612Tile_cutoff_SE\n",
       ":   0.714497265437513\n",
       "\n"
      ],
      "text/plain": [
       "       Accuracy    Balanced_acc  Precision_long Precision_short     Recall_long \n",
       "     0.03896720      0.02310063      0.03318043      0.10247561      0.07293847 \n",
       "   Recall_short         F1_long        F1_short     Tile_cutoff  Tile_cutoff_SE \n",
       "     0.05520688      0.03467851      0.05343676      1.26307047      0.71449727 "
      ]
     },
     "metadata": {},
     "output_type": "display_data"
    }
   ],
   "source": [
    "# C>=1 or M>=1 \n",
    "results = rbindlist(list(fold1_c1m1, fold2_c1m1, fold3_c1m1, fold4_c1m1, fold5_c1m1))\n",
    "row.names(results) = list(\"Fold1\", \"Fold2\", \"Fold3\", \"Fold4\", \"Fold5\")\n",
    "print('Logistic regression C>=1cm or M>=1cm performance on validation folds:')\n",
    "results\n",
    "print(\"Means:\")\n",
    "colMeans(results)\n",
    "print(\"Standard deviations:\")\n",
    "sapply(results, sd)"
   ]
  },
  {
   "cell_type": "code",
   "execution_count": 18,
   "id": "59f7ea71",
   "metadata": {},
   "outputs": [
    {
     "name": "stdout",
     "output_type": "stream",
     "text": [
      "[1] \"Logistic regression C>=1cm or M>=3cm performance on validation folds:\"\n"
     ]
    },
    {
     "data": {
      "text/html": [
       "<table>\n",
       "<thead><tr><th></th><th scope=col>Accuracy</th><th scope=col>Balanced_acc</th><th scope=col>Precision_long</th><th scope=col>Precision_short</th><th scope=col>Recall_long</th><th scope=col>Recall_short</th><th scope=col>F1_long</th><th scope=col>F1_short</th><th scope=col>Tile_cutoff</th><th scope=col>Tile_cutoff_SE</th></tr></thead>\n",
       "<tbody>\n",
       "\t<tr><th scope=row>Fold1</th><td>0.8018868</td><td>0.8224638</td><td>0.9756098</td><td>0.6923077</td><td>0.6666667</td><td>0.9782609</td><td>0.7920792</td><td>0.8108108</td><td>17.80157 </td><td>3.489401 </td></tr>\n",
       "\t<tr><th scope=row>Fold2</th><td>0.8584906</td><td>0.8641246</td><td>0.9375000</td><td>0.7931034</td><td>0.7894737</td><td>0.9387755</td><td>0.8571429</td><td>0.8598131</td><td>13.33450 </td><td>2.040552 </td></tr>\n",
       "\t<tr><th scope=row>Fold3</th><td>0.7641509</td><td>0.8106061</td><td>1.0000000</td><td>0.6153846</td><td>0.6212121</td><td>1.0000000</td><td>0.7663551</td><td>0.7619048</td><td>20.13999 </td><td>3.658029 </td></tr>\n",
       "\t<tr><th scope=row>Fold4</th><td>0.7830189</td><td>0.8015691</td><td>0.9074074</td><td>0.6538462</td><td>0.7313433</td><td>0.8717949</td><td>0.8099174</td><td>0.7472527</td><td>15.98679 </td><td>2.629123 </td></tr>\n",
       "\t<tr><th scope=row>Fold5</th><td>0.8666667</td><td>0.8778846</td><td>0.9473684</td><td>0.7708333</td><td>0.8307692</td><td>0.9250000</td><td>0.8852459</td><td>0.8409091</td><td>16.42950 </td><td>3.132873 </td></tr>\n",
       "</tbody>\n",
       "</table>\n"
      ],
      "text/latex": [
       "\\begin{tabular}{r|llllllllll}\n",
       "  & Accuracy & Balanced\\_acc & Precision\\_long & Precision\\_short & Recall\\_long & Recall\\_short & F1\\_long & F1\\_short & Tile\\_cutoff & Tile\\_cutoff\\_SE\\\\\n",
       "\\hline\n",
       "\tFold1 & 0.8018868 & 0.8224638 & 0.9756098 & 0.6923077 & 0.6666667 & 0.9782609 & 0.7920792 & 0.8108108 & 17.80157  & 3.489401 \\\\\n",
       "\tFold2 & 0.8584906 & 0.8641246 & 0.9375000 & 0.7931034 & 0.7894737 & 0.9387755 & 0.8571429 & 0.8598131 & 13.33450  & 2.040552 \\\\\n",
       "\tFold3 & 0.7641509 & 0.8106061 & 1.0000000 & 0.6153846 & 0.6212121 & 1.0000000 & 0.7663551 & 0.7619048 & 20.13999  & 3.658029 \\\\\n",
       "\tFold4 & 0.7830189 & 0.8015691 & 0.9074074 & 0.6538462 & 0.7313433 & 0.8717949 & 0.8099174 & 0.7472527 & 15.98679  & 2.629123 \\\\\n",
       "\tFold5 & 0.8666667 & 0.8778846 & 0.9473684 & 0.7708333 & 0.8307692 & 0.9250000 & 0.8852459 & 0.8409091 & 16.42950  & 3.132873 \\\\\n",
       "\\end{tabular}\n"
      ],
      "text/markdown": [
       "\n",
       "| <!--/--> | Accuracy | Balanced_acc | Precision_long | Precision_short | Recall_long | Recall_short | F1_long | F1_short | Tile_cutoff | Tile_cutoff_SE |\n",
       "|---|---|---|---|---|---|---|---|---|---|---|\n",
       "| Fold1 | 0.8018868 | 0.8224638 | 0.9756098 | 0.6923077 | 0.6666667 | 0.9782609 | 0.7920792 | 0.8108108 | 17.80157  | 3.489401  |\n",
       "| Fold2 | 0.8584906 | 0.8641246 | 0.9375000 | 0.7931034 | 0.7894737 | 0.9387755 | 0.8571429 | 0.8598131 | 13.33450  | 2.040552  |\n",
       "| Fold3 | 0.7641509 | 0.8106061 | 1.0000000 | 0.6153846 | 0.6212121 | 1.0000000 | 0.7663551 | 0.7619048 | 20.13999  | 3.658029  |\n",
       "| Fold4 | 0.7830189 | 0.8015691 | 0.9074074 | 0.6538462 | 0.7313433 | 0.8717949 | 0.8099174 | 0.7472527 | 15.98679  | 2.629123  |\n",
       "| Fold5 | 0.8666667 | 0.8778846 | 0.9473684 | 0.7708333 | 0.8307692 | 0.9250000 | 0.8852459 | 0.8409091 | 16.42950  | 3.132873  |\n",
       "\n"
      ],
      "text/plain": [
       "  Accuracy  Balanced_acc Precision_long Precision_short Recall_long\n",
       "1 0.8018868 0.8224638    0.9756098      0.6923077       0.6666667  \n",
       "2 0.8584906 0.8641246    0.9375000      0.7931034       0.7894737  \n",
       "3 0.7641509 0.8106061    1.0000000      0.6153846       0.6212121  \n",
       "4 0.7830189 0.8015691    0.9074074      0.6538462       0.7313433  \n",
       "5 0.8666667 0.8778846    0.9473684      0.7708333       0.8307692  \n",
       "  Recall_short F1_long   F1_short  Tile_cutoff Tile_cutoff_SE\n",
       "1 0.9782609    0.7920792 0.8108108 17.80157    3.489401      \n",
       "2 0.9387755    0.8571429 0.8598131 13.33450    2.040552      \n",
       "3 1.0000000    0.7663551 0.7619048 20.13999    3.658029      \n",
       "4 0.8717949    0.8099174 0.7472527 15.98679    2.629123      \n",
       "5 0.9250000    0.8852459 0.8409091 16.42950    3.132873      "
      ]
     },
     "metadata": {},
     "output_type": "display_data"
    },
    {
     "name": "stdout",
     "output_type": "stream",
     "text": [
      "[1] \"Means:\"\n"
     ]
    },
    {
     "data": {
      "text/html": [
       "<dl class=dl-horizontal>\n",
       "\t<dt>Accuracy</dt>\n",
       "\t\t<dd>0.814842767295598</dd>\n",
       "\t<dt>Balanced_acc</dt>\n",
       "\t\t<dd>0.83532962380048</dd>\n",
       "\t<dt>Precision_long</dt>\n",
       "\t\t<dd>0.95357711691152</dd>\n",
       "\t<dt>Precision_short</dt>\n",
       "\t\t<dd>0.705095048629531</dd>\n",
       "\t<dt>Recall_long</dt>\n",
       "\t\t<dd>0.727892997288127</dd>\n",
       "\t<dt>Recall_short</dt>\n",
       "\t\t<dd>0.942766250312834</dd>\n",
       "\t<dt>F1_long</dt>\n",
       "\t\t<dd>0.822148092452362</dd>\n",
       "\t<dt>F1_short</dt>\n",
       "\t\t<dd>0.804138098997912</dd>\n",
       "\t<dt>Tile_cutoff</dt>\n",
       "\t\t<dd>16.7384700090035</dd>\n",
       "\t<dt>Tile_cutoff_SE</dt>\n",
       "\t\t<dd>2.98999542311124</dd>\n",
       "</dl>\n"
      ],
      "text/latex": [
       "\\begin{description*}\n",
       "\\item[Accuracy] 0.814842767295598\n",
       "\\item[Balanced\\textbackslash{}\\_acc] 0.83532962380048\n",
       "\\item[Precision\\textbackslash{}\\_long] 0.95357711691152\n",
       "\\item[Precision\\textbackslash{}\\_short] 0.705095048629531\n",
       "\\item[Recall\\textbackslash{}\\_long] 0.727892997288127\n",
       "\\item[Recall\\textbackslash{}\\_short] 0.942766250312834\n",
       "\\item[F1\\textbackslash{}\\_long] 0.822148092452362\n",
       "\\item[F1\\textbackslash{}\\_short] 0.804138098997912\n",
       "\\item[Tile\\textbackslash{}\\_cutoff] 16.7384700090035\n",
       "\\item[Tile\\textbackslash{}\\_cutoff\\textbackslash{}\\_SE] 2.98999542311124\n",
       "\\end{description*}\n"
      ],
      "text/markdown": [
       "Accuracy\n",
       ":   0.814842767295598Balanced_acc\n",
       ":   0.83532962380048Precision_long\n",
       ":   0.95357711691152Precision_short\n",
       ":   0.705095048629531Recall_long\n",
       ":   0.727892997288127Recall_short\n",
       ":   0.942766250312834F1_long\n",
       ":   0.822148092452362F1_short\n",
       ":   0.804138098997912Tile_cutoff\n",
       ":   16.7384700090035Tile_cutoff_SE\n",
       ":   2.98999542311124\n",
       "\n"
      ],
      "text/plain": [
       "       Accuracy    Balanced_acc  Precision_long Precision_short     Recall_long \n",
       "      0.8148428       0.8353296       0.9535771       0.7050950       0.7278930 \n",
       "   Recall_short         F1_long        F1_short     Tile_cutoff  Tile_cutoff_SE \n",
       "      0.9427663       0.8221481       0.8041381      16.7384700       2.9899954 "
      ]
     },
     "metadata": {},
     "output_type": "display_data"
    },
    {
     "name": "stdout",
     "output_type": "stream",
     "text": [
      "[1] \"Standard deviations:\"\n"
     ]
    },
    {
     "data": {
      "text/html": [
       "<dl class=dl-horizontal>\n",
       "\t<dt>Accuracy</dt>\n",
       "\t\t<dd>0.0456648818749379</dd>\n",
       "\t<dt>Balanced_acc</dt>\n",
       "\t\t<dd>0.0337514336566973</dd>\n",
       "\t<dt>Precision_long</dt>\n",
       "\t\t<dd>0.0355991043844433</dd>\n",
       "\t<dt>Precision_short</dt>\n",
       "\t\t<dd>0.075671870624619</dd>\n",
       "\t<dt>Recall_long</dt>\n",
       "\t\t<dd>0.0859026742516144</dd>\n",
       "\t<dt>Recall_short</dt>\n",
       "\t\t<dd>0.0497596029040088</dd>\n",
       "\t<dt>F1_long</dt>\n",
       "\t\t<dd>0.0484059638601964</dd>\n",
       "\t<dt>F1_short</dt>\n",
       "\t\t<dd>0.0487748216340545</dd>\n",
       "\t<dt>Tile_cutoff</dt>\n",
       "\t\t<dd>2.49739729392948</dd>\n",
       "\t<dt>Tile_cutoff_SE</dt>\n",
       "\t\t<dd>0.661014629542</dd>\n",
       "</dl>\n"
      ],
      "text/latex": [
       "\\begin{description*}\n",
       "\\item[Accuracy] 0.0456648818749379\n",
       "\\item[Balanced\\textbackslash{}\\_acc] 0.0337514336566973\n",
       "\\item[Precision\\textbackslash{}\\_long] 0.0355991043844433\n",
       "\\item[Precision\\textbackslash{}\\_short] 0.075671870624619\n",
       "\\item[Recall\\textbackslash{}\\_long] 0.0859026742516144\n",
       "\\item[Recall\\textbackslash{}\\_short] 0.0497596029040088\n",
       "\\item[F1\\textbackslash{}\\_long] 0.0484059638601964\n",
       "\\item[F1\\textbackslash{}\\_short] 0.0487748216340545\n",
       "\\item[Tile\\textbackslash{}\\_cutoff] 2.49739729392948\n",
       "\\item[Tile\\textbackslash{}\\_cutoff\\textbackslash{}\\_SE] 0.661014629542\n",
       "\\end{description*}\n"
      ],
      "text/markdown": [
       "Accuracy\n",
       ":   0.0456648818749379Balanced_acc\n",
       ":   0.0337514336566973Precision_long\n",
       ":   0.0355991043844433Precision_short\n",
       ":   0.075671870624619Recall_long\n",
       ":   0.0859026742516144Recall_short\n",
       ":   0.0497596029040088F1_long\n",
       ":   0.0484059638601964F1_short\n",
       ":   0.0487748216340545Tile_cutoff\n",
       ":   2.49739729392948Tile_cutoff_SE\n",
       ":   0.661014629542\n",
       "\n"
      ],
      "text/plain": [
       "       Accuracy    Balanced_acc  Precision_long Precision_short     Recall_long \n",
       "     0.04566488      0.03375143      0.03559910      0.07567187      0.08590267 \n",
       "   Recall_short         F1_long        F1_short     Tile_cutoff  Tile_cutoff_SE \n",
       "     0.04975960      0.04840596      0.04877482      2.49739729      0.66101463 "
      ]
     },
     "metadata": {},
     "output_type": "display_data"
    }
   ],
   "source": [
    "# C>=1 or M>=3 \n",
    "results = rbindlist(list(fold1_c1m3, fold2_c1m3, fold3_c1m3, fold4_c1m3, fold5_c1m3))\n",
    "row.names(results) = list(\"Fold1\", \"Fold2\", \"Fold3\", \"Fold4\", \"Fold5\")\n",
    "print('Logistic regression C>=1cm or M>=3cm performance on validation folds:')\n",
    "results\n",
    "print(\"Means:\")\n",
    "colMeans(results)\n",
    "print(\"Standard deviations:\")\n",
    "sapply(results, sd)"
   ]
  },
  {
   "cell_type": "code",
   "execution_count": 22,
   "id": "98279a2b",
   "metadata": {},
   "outputs": [
    {
     "name": "stdout",
     "output_type": "stream",
     "text": [
      "[1] \"Logistic regression C>=2cm or M>=4cm performance on validation folds:\"\n"
     ]
    },
    {
     "data": {
      "text/html": [
       "<table>\n",
       "<thead><tr><th></th><th scope=col>Accuracy</th><th scope=col>Balanced_acc</th><th scope=col>Precision_long</th><th scope=col>Precision_short</th><th scope=col>Recall_long</th><th scope=col>Recall_short</th><th scope=col>F1_long</th><th scope=col>F1_short</th><th scope=col>Tile_cutoff</th><th scope=col>Tile_cutoff_SE</th></tr></thead>\n",
       "<tbody>\n",
       "\t<tr><th scope=row>Fold1</th><td>0.7641509</td><td>0.7388335</td><td>0.7647059</td><td>0.7638889</td><td>0.6046512</td><td>0.8730159</td><td>0.6753247</td><td>0.8148148</td><td>39.68862 </td><td>5.338240 </td></tr>\n",
       "\t<tr><th scope=row>Fold2</th><td>0.7547170</td><td>0.7399425</td><td>0.8235294</td><td>0.7222222</td><td>0.5833333</td><td>0.8965517</td><td>0.6829268</td><td>0.8000000</td><td>38.08739 </td><td>4.821616 </td></tr>\n",
       "\t<tr><th scope=row>Fold3</th><td>0.7358491</td><td>0.7440285</td><td>0.9354839</td><td>0.6533333</td><td>0.5272727</td><td>0.9607843</td><td>0.6744186</td><td>0.7777778</td><td>50.67257 </td><td>6.590058 </td></tr>\n",
       "\t<tr><th scope=row>Fold4</th><td>0.8490566</td><td>0.8472222</td><td>0.9285714</td><td>0.7968750</td><td>0.7500000</td><td>0.9444444</td><td>0.8297872</td><td>0.8644068</td><td>43.57168 </td><td>6.183573 </td></tr>\n",
       "\t<tr><th scope=row>Fold5</th><td>0.7428571</td><td>0.7723547</td><td>0.9473684</td><td>0.6268657</td><td>0.5901639</td><td>0.9545455</td><td>0.7272727</td><td>0.7567568</td><td>50.75117 </td><td>6.938955 </td></tr>\n",
       "</tbody>\n",
       "</table>\n"
      ],
      "text/latex": [
       "\\begin{tabular}{r|llllllllll}\n",
       "  & Accuracy & Balanced\\_acc & Precision\\_long & Precision\\_short & Recall\\_long & Recall\\_short & F1\\_long & F1\\_short & Tile\\_cutoff & Tile\\_cutoff\\_SE\\\\\n",
       "\\hline\n",
       "\tFold1 & 0.7641509 & 0.7388335 & 0.7647059 & 0.7638889 & 0.6046512 & 0.8730159 & 0.6753247 & 0.8148148 & 39.68862  & 5.338240 \\\\\n",
       "\tFold2 & 0.7547170 & 0.7399425 & 0.8235294 & 0.7222222 & 0.5833333 & 0.8965517 & 0.6829268 & 0.8000000 & 38.08739  & 4.821616 \\\\\n",
       "\tFold3 & 0.7358491 & 0.7440285 & 0.9354839 & 0.6533333 & 0.5272727 & 0.9607843 & 0.6744186 & 0.7777778 & 50.67257  & 6.590058 \\\\\n",
       "\tFold4 & 0.8490566 & 0.8472222 & 0.9285714 & 0.7968750 & 0.7500000 & 0.9444444 & 0.8297872 & 0.8644068 & 43.57168  & 6.183573 \\\\\n",
       "\tFold5 & 0.7428571 & 0.7723547 & 0.9473684 & 0.6268657 & 0.5901639 & 0.9545455 & 0.7272727 & 0.7567568 & 50.75117  & 6.938955 \\\\\n",
       "\\end{tabular}\n"
      ],
      "text/markdown": [
       "\n",
       "| <!--/--> | Accuracy | Balanced_acc | Precision_long | Precision_short | Recall_long | Recall_short | F1_long | F1_short | Tile_cutoff | Tile_cutoff_SE |\n",
       "|---|---|---|---|---|---|---|---|---|---|---|\n",
       "| Fold1 | 0.7641509 | 0.7388335 | 0.7647059 | 0.7638889 | 0.6046512 | 0.8730159 | 0.6753247 | 0.8148148 | 39.68862  | 5.338240  |\n",
       "| Fold2 | 0.7547170 | 0.7399425 | 0.8235294 | 0.7222222 | 0.5833333 | 0.8965517 | 0.6829268 | 0.8000000 | 38.08739  | 4.821616  |\n",
       "| Fold3 | 0.7358491 | 0.7440285 | 0.9354839 | 0.6533333 | 0.5272727 | 0.9607843 | 0.6744186 | 0.7777778 | 50.67257  | 6.590058  |\n",
       "| Fold4 | 0.8490566 | 0.8472222 | 0.9285714 | 0.7968750 | 0.7500000 | 0.9444444 | 0.8297872 | 0.8644068 | 43.57168  | 6.183573  |\n",
       "| Fold5 | 0.7428571 | 0.7723547 | 0.9473684 | 0.6268657 | 0.5901639 | 0.9545455 | 0.7272727 | 0.7567568 | 50.75117  | 6.938955  |\n",
       "\n"
      ],
      "text/plain": [
       "  Accuracy  Balanced_acc Precision_long Precision_short Recall_long\n",
       "1 0.7641509 0.7388335    0.7647059      0.7638889       0.6046512  \n",
       "2 0.7547170 0.7399425    0.8235294      0.7222222       0.5833333  \n",
       "3 0.7358491 0.7440285    0.9354839      0.6533333       0.5272727  \n",
       "4 0.8490566 0.8472222    0.9285714      0.7968750       0.7500000  \n",
       "5 0.7428571 0.7723547    0.9473684      0.6268657       0.5901639  \n",
       "  Recall_short F1_long   F1_short  Tile_cutoff Tile_cutoff_SE\n",
       "1 0.8730159    0.6753247 0.8148148 39.68862    5.338240      \n",
       "2 0.8965517    0.6829268 0.8000000 38.08739    4.821616      \n",
       "3 0.9607843    0.6744186 0.7777778 50.67257    6.590058      \n",
       "4 0.9444444    0.8297872 0.8644068 43.57168    6.183573      \n",
       "5 0.9545455    0.7272727 0.7567568 50.75117    6.938955      "
      ]
     },
     "metadata": {},
     "output_type": "display_data"
    },
    {
     "name": "stdout",
     "output_type": "stream",
     "text": [
      "[1] \"Means:\"\n"
     ]
    },
    {
     "data": {
      "text/html": [
       "<dl class=dl-horizontal>\n",
       "\t<dt>Accuracy</dt>\n",
       "\t\t<dd>0.769326145552561</dd>\n",
       "\t<dt>Balanced_acc</dt>\n",
       "\t\t<dd>0.768476296769218</dd>\n",
       "\t<dt>Precision_long</dt>\n",
       "\t\t<dd>0.87993180294189</dd>\n",
       "\t<dt>Precision_short</dt>\n",
       "\t\t<dd>0.712637023217247</dd>\n",
       "\t<dt>Recall_long</dt>\n",
       "\t\t<dd>0.611084231564598</dd>\n",
       "\t<dt>Recall_short</dt>\n",
       "\t\t<dd>0.925868361973839</dd>\n",
       "\t<dt>F1_long</dt>\n",
       "\t\t<dd>0.717946014111882</dd>\n",
       "\t<dt>F1_short</dt>\n",
       "\t\t<dd>0.802751225802073</dd>\n",
       "\t<dt>Tile_cutoff</dt>\n",
       "\t\t<dd>44.5542859990233</dd>\n",
       "\t<dt>Tile_cutoff_SE</dt>\n",
       "\t\t<dd>5.97448837538612</dd>\n",
       "</dl>\n"
      ],
      "text/latex": [
       "\\begin{description*}\n",
       "\\item[Accuracy] 0.769326145552561\n",
       "\\item[Balanced\\textbackslash{}\\_acc] 0.768476296769218\n",
       "\\item[Precision\\textbackslash{}\\_long] 0.87993180294189\n",
       "\\item[Precision\\textbackslash{}\\_short] 0.712637023217247\n",
       "\\item[Recall\\textbackslash{}\\_long] 0.611084231564598\n",
       "\\item[Recall\\textbackslash{}\\_short] 0.925868361973839\n",
       "\\item[F1\\textbackslash{}\\_long] 0.717946014111882\n",
       "\\item[F1\\textbackslash{}\\_short] 0.802751225802073\n",
       "\\item[Tile\\textbackslash{}\\_cutoff] 44.5542859990233\n",
       "\\item[Tile\\textbackslash{}\\_cutoff\\textbackslash{}\\_SE] 5.97448837538612\n",
       "\\end{description*}\n"
      ],
      "text/markdown": [
       "Accuracy\n",
       ":   0.769326145552561Balanced_acc\n",
       ":   0.768476296769218Precision_long\n",
       ":   0.87993180294189Precision_short\n",
       ":   0.712637023217247Recall_long\n",
       ":   0.611084231564598Recall_short\n",
       ":   0.925868361973839F1_long\n",
       ":   0.717946014111882F1_short\n",
       ":   0.802751225802073Tile_cutoff\n",
       ":   44.5542859990233Tile_cutoff_SE\n",
       ":   5.97448837538612\n",
       "\n"
      ],
      "text/plain": [
       "       Accuracy    Balanced_acc  Precision_long Precision_short     Recall_long \n",
       "      0.7693261       0.7684763       0.8799318       0.7126370       0.6110842 \n",
       "   Recall_short         F1_long        F1_short     Tile_cutoff  Tile_cutoff_SE \n",
       "      0.9258684       0.7179460       0.8027512      44.5542860       5.9744884 "
      ]
     },
     "metadata": {},
     "output_type": "display_data"
    },
    {
     "name": "stdout",
     "output_type": "stream",
     "text": [
      "[1] \"Standard deviations:\"\n"
     ]
    },
    {
     "data": {
      "text/html": [
       "<dl class=dl-horizontal>\n",
       "\t<dt>Accuracy</dt>\n",
       "\t\t<dd>0.0458761374756344</dd>\n",
       "\t<dt>Balanced_acc</dt>\n",
       "\t\t<dd>0.0461154170694053</dd>\n",
       "\t<dt>Precision_long</dt>\n",
       "\t\t<dd>0.0813292466023438</dd>\n",
       "\t<dt>Precision_short</dt>\n",
       "\t\t<dd>0.0719171726574545</dd>\n",
       "\t<dt>Recall_long</dt>\n",
       "\t\t<dd>0.0830227597266465</dd>\n",
       "\t<dt>Recall_short</dt>\n",
       "\t\t<dd>0.0388568559204585</dd>\n",
       "\t<dt>F1_long</dt>\n",
       "\t\t<dd>0.0662061236885416</dd>\n",
       "\t<dt>F1_short</dt>\n",
       "\t\t<dd>0.0409074291355439</dd>\n",
       "\t<dt>Tile_cutoff</dt>\n",
       "\t\t<dd>5.96438845862387</dd>\n",
       "\t<dt>Tile_cutoff_SE</dt>\n",
       "\t\t<dd>0.878459659984539</dd>\n",
       "</dl>\n"
      ],
      "text/latex": [
       "\\begin{description*}\n",
       "\\item[Accuracy] 0.0458761374756344\n",
       "\\item[Balanced\\textbackslash{}\\_acc] 0.0461154170694053\n",
       "\\item[Precision\\textbackslash{}\\_long] 0.0813292466023438\n",
       "\\item[Precision\\textbackslash{}\\_short] 0.0719171726574545\n",
       "\\item[Recall\\textbackslash{}\\_long] 0.0830227597266465\n",
       "\\item[Recall\\textbackslash{}\\_short] 0.0388568559204585\n",
       "\\item[F1\\textbackslash{}\\_long] 0.0662061236885416\n",
       "\\item[F1\\textbackslash{}\\_short] 0.0409074291355439\n",
       "\\item[Tile\\textbackslash{}\\_cutoff] 5.96438845862387\n",
       "\\item[Tile\\textbackslash{}\\_cutoff\\textbackslash{}\\_SE] 0.878459659984539\n",
       "\\end{description*}\n"
      ],
      "text/markdown": [
       "Accuracy\n",
       ":   0.0458761374756344Balanced_acc\n",
       ":   0.0461154170694053Precision_long\n",
       ":   0.0813292466023438Precision_short\n",
       ":   0.0719171726574545Recall_long\n",
       ":   0.0830227597266465Recall_short\n",
       ":   0.0388568559204585F1_long\n",
       ":   0.0662061236885416F1_short\n",
       ":   0.0409074291355439Tile_cutoff\n",
       ":   5.96438845862387Tile_cutoff_SE\n",
       ":   0.878459659984539\n",
       "\n"
      ],
      "text/plain": [
       "       Accuracy    Balanced_acc  Precision_long Precision_short     Recall_long \n",
       "     0.04587614      0.04611542      0.08132925      0.07191717      0.08302276 \n",
       "   Recall_short         F1_long        F1_short     Tile_cutoff  Tile_cutoff_SE \n",
       "     0.03885686      0.06620612      0.04090743      5.96438846      0.87845966 "
      ]
     },
     "metadata": {},
     "output_type": "display_data"
    }
   ],
   "source": [
    "# C>=2 or M>=4 \n",
    "results = rbindlist(list(fold1_c2m4, fold2_c2m4, fold3_c2m4, fold4_c2m4, fold5_c2m4))\n",
    "row.names(results) = list(\"Fold1\", \"Fold2\", \"Fold3\", \"Fold4\", \"Fold5\")\n",
    "print('Logistic regression C>=2cm or M>=4cm performance on validation folds:')\n",
    "results\n",
    "print(\"Means:\")\n",
    "colMeans(results)\n",
    "print(\"Standard deviations:\")\n",
    "sapply(results, sd)"
   ]
  },
  {
   "cell_type": "code",
   "execution_count": 23,
   "id": "ddb2390f",
   "metadata": {},
   "outputs": [
    {
     "name": "stdout",
     "output_type": "stream",
     "text": [
      "[1] \"Logistic regression C>=3cm or M>=5cm performance on validation folds:\"\n"
     ]
    },
    {
     "data": {
      "text/html": [
       "<table>\n",
       "<thead><tr><th></th><th scope=col>Accuracy</th><th scope=col>Balanced_acc</th><th scope=col>Precision_long</th><th scope=col>Precision_short</th><th scope=col>Recall_long</th><th scope=col>Recall_short</th><th scope=col>F1_long</th><th scope=col>F1_short</th><th scope=col>Tile_cutoff</th><th scope=col>Tile_cutoff_SE</th></tr></thead>\n",
       "<tbody>\n",
       "\t<tr><th scope=row>Fold1</th><td>0.8207547</td><td>0.7287256</td><td>0.8888889</td><td>0.8068182</td><td>0.4848485</td><td>0.9726027</td><td>0.6274510</td><td>0.8819876</td><td>134.12951</td><td>18.68902 </td></tr>\n",
       "\t<tr><th scope=row>Fold2</th><td>0.8396226</td><td>0.7810458</td><td>0.8400000</td><td>0.8395062</td><td>0.6176471</td><td>0.9444444</td><td>0.7118644</td><td>0.8888889</td><td> 91.91892</td><td>10.80557 </td></tr>\n",
       "\t<tr><th scope=row>Fold3</th><td>0.6415094</td><td>0.6059626</td><td>0.9166667</td><td>0.6063830</td><td>0.2291667</td><td>0.9827586</td><td>0.3666667</td><td>0.7500000</td><td>159.50922</td><td>20.19925 </td></tr>\n",
       "\t<tr><th scope=row>Fold4</th><td>0.8018868</td><td>0.7522727</td><td>0.8800000</td><td>0.7777778</td><td>0.5500000</td><td>0.9545455</td><td>0.6769231</td><td>0.8571429</td><td>132.37814</td><td>18.54789 </td></tr>\n",
       "\t<tr><th scope=row>Fold5</th><td>0.7238095</td><td>0.6995598</td><td>0.8461538</td><td>0.6835443</td><td>0.4680851</td><td>0.9310345</td><td>0.6027397</td><td>0.7883212</td><td>141.61527</td><td>19.09947 </td></tr>\n",
       "</tbody>\n",
       "</table>\n"
      ],
      "text/latex": [
       "\\begin{tabular}{r|llllllllll}\n",
       "  & Accuracy & Balanced\\_acc & Precision\\_long & Precision\\_short & Recall\\_long & Recall\\_short & F1\\_long & F1\\_short & Tile\\_cutoff & Tile\\_cutoff\\_SE\\\\\n",
       "\\hline\n",
       "\tFold1 & 0.8207547 & 0.7287256 & 0.8888889 & 0.8068182 & 0.4848485 & 0.9726027 & 0.6274510 & 0.8819876 & 134.12951 & 18.68902 \\\\\n",
       "\tFold2 & 0.8396226 & 0.7810458 & 0.8400000 & 0.8395062 & 0.6176471 & 0.9444444 & 0.7118644 & 0.8888889 &  91.91892 & 10.80557 \\\\\n",
       "\tFold3 & 0.6415094 & 0.6059626 & 0.9166667 & 0.6063830 & 0.2291667 & 0.9827586 & 0.3666667 & 0.7500000 & 159.50922 & 20.19925 \\\\\n",
       "\tFold4 & 0.8018868 & 0.7522727 & 0.8800000 & 0.7777778 & 0.5500000 & 0.9545455 & 0.6769231 & 0.8571429 & 132.37814 & 18.54789 \\\\\n",
       "\tFold5 & 0.7238095 & 0.6995598 & 0.8461538 & 0.6835443 & 0.4680851 & 0.9310345 & 0.6027397 & 0.7883212 & 141.61527 & 19.09947 \\\\\n",
       "\\end{tabular}\n"
      ],
      "text/markdown": [
       "\n",
       "| <!--/--> | Accuracy | Balanced_acc | Precision_long | Precision_short | Recall_long | Recall_short | F1_long | F1_short | Tile_cutoff | Tile_cutoff_SE |\n",
       "|---|---|---|---|---|---|---|---|---|---|---|\n",
       "| Fold1 | 0.8207547 | 0.7287256 | 0.8888889 | 0.8068182 | 0.4848485 | 0.9726027 | 0.6274510 | 0.8819876 | 134.12951 | 18.68902  |\n",
       "| Fold2 | 0.8396226 | 0.7810458 | 0.8400000 | 0.8395062 | 0.6176471 | 0.9444444 | 0.7118644 | 0.8888889 |  91.91892 | 10.80557  |\n",
       "| Fold3 | 0.6415094 | 0.6059626 | 0.9166667 | 0.6063830 | 0.2291667 | 0.9827586 | 0.3666667 | 0.7500000 | 159.50922 | 20.19925  |\n",
       "| Fold4 | 0.8018868 | 0.7522727 | 0.8800000 | 0.7777778 | 0.5500000 | 0.9545455 | 0.6769231 | 0.8571429 | 132.37814 | 18.54789  |\n",
       "| Fold5 | 0.7238095 | 0.6995598 | 0.8461538 | 0.6835443 | 0.4680851 | 0.9310345 | 0.6027397 | 0.7883212 | 141.61527 | 19.09947  |\n",
       "\n"
      ],
      "text/plain": [
       "  Accuracy  Balanced_acc Precision_long Precision_short Recall_long\n",
       "1 0.8207547 0.7287256    0.8888889      0.8068182       0.4848485  \n",
       "2 0.8396226 0.7810458    0.8400000      0.8395062       0.6176471  \n",
       "3 0.6415094 0.6059626    0.9166667      0.6063830       0.2291667  \n",
       "4 0.8018868 0.7522727    0.8800000      0.7777778       0.5500000  \n",
       "5 0.7238095 0.6995598    0.8461538      0.6835443       0.4680851  \n",
       "  Recall_short F1_long   F1_short  Tile_cutoff Tile_cutoff_SE\n",
       "1 0.9726027    0.6274510 0.8819876 134.12951   18.68902      \n",
       "2 0.9444444    0.7118644 0.8888889  91.91892   10.80557      \n",
       "3 0.9827586    0.3666667 0.7500000 159.50922   20.19925      \n",
       "4 0.9545455    0.6769231 0.8571429 132.37814   18.54789      \n",
       "5 0.9310345    0.6027397 0.7883212 141.61527   19.09947      "
      ]
     },
     "metadata": {},
     "output_type": "display_data"
    },
    {
     "name": "stdout",
     "output_type": "stream",
     "text": [
      "[1] \"Means:\"\n"
     ]
    },
    {
     "data": {
      "text/html": [
       "<dl class=dl-horizontal>\n",
       "\t<dt>Accuracy</dt>\n",
       "\t\t<dd>0.765516621743037</dd>\n",
       "\t<dt>Balanced_acc</dt>\n",
       "\t\t<dd>0.713513305888586</dd>\n",
       "\t<dt>Precision_long</dt>\n",
       "\t\t<dd>0.87434188034188</dd>\n",
       "\t<dt>Precision_short</dt>\n",
       "\t\t<dd>0.742805882991268</dd>\n",
       "\t<dt>Recall_long</dt>\n",
       "\t\t<dd>0.469949463344332</dd>\n",
       "\t<dt>Recall_short</dt>\n",
       "\t\t<dd>0.95707714843284</dd>\n",
       "\t<dt>F1_long</dt>\n",
       "\t\t<dd>0.597128971357792</dd>\n",
       "\t<dt>F1_short</dt>\n",
       "\t\t<dd>0.833268098310942</dd>\n",
       "\t<dt>Tile_cutoff</dt>\n",
       "\t\t<dd>131.910212802543</dd>\n",
       "\t<dt>Tile_cutoff_SE</dt>\n",
       "\t\t<dd>17.4682407480063</dd>\n",
       "</dl>\n"
      ],
      "text/latex": [
       "\\begin{description*}\n",
       "\\item[Accuracy] 0.765516621743037\n",
       "\\item[Balanced\\textbackslash{}\\_acc] 0.713513305888586\n",
       "\\item[Precision\\textbackslash{}\\_long] 0.87434188034188\n",
       "\\item[Precision\\textbackslash{}\\_short] 0.742805882991268\n",
       "\\item[Recall\\textbackslash{}\\_long] 0.469949463344332\n",
       "\\item[Recall\\textbackslash{}\\_short] 0.95707714843284\n",
       "\\item[F1\\textbackslash{}\\_long] 0.597128971357792\n",
       "\\item[F1\\textbackslash{}\\_short] 0.833268098310942\n",
       "\\item[Tile\\textbackslash{}\\_cutoff] 131.910212802543\n",
       "\\item[Tile\\textbackslash{}\\_cutoff\\textbackslash{}\\_SE] 17.4682407480063\n",
       "\\end{description*}\n"
      ],
      "text/markdown": [
       "Accuracy\n",
       ":   0.765516621743037Balanced_acc\n",
       ":   0.713513305888586Precision_long\n",
       ":   0.87434188034188Precision_short\n",
       ":   0.742805882991268Recall_long\n",
       ":   0.469949463344332Recall_short\n",
       ":   0.95707714843284F1_long\n",
       ":   0.597128971357792F1_short\n",
       ":   0.833268098310942Tile_cutoff\n",
       ":   131.910212802543Tile_cutoff_SE\n",
       ":   17.4682407480063\n",
       "\n"
      ],
      "text/plain": [
       "       Accuracy    Balanced_acc  Precision_long Precision_short     Recall_long \n",
       "      0.7655166       0.7135133       0.8743419       0.7428059       0.4699495 \n",
       "   Recall_short         F1_long        F1_short     Tile_cutoff  Tile_cutoff_SE \n",
       "      0.9570771       0.5971290       0.8332681     131.9102128      17.4682407 "
      ]
     },
     "metadata": {},
     "output_type": "display_data"
    },
    {
     "name": "stdout",
     "output_type": "stream",
     "text": [
      "[1] \"Standard deviations:\"\n"
     ]
    },
    {
     "data": {
      "text/html": [
       "<dl class=dl-horizontal>\n",
       "\t<dt>Accuracy</dt>\n",
       "\t\t<dd>0.0821325198808936</dd>\n",
       "\t<dt>Balanced_acc</dt>\n",
       "\t\t<dd>0.0671866498278351</dd>\n",
       "\t<dt>Precision_long</dt>\n",
       "\t\t<dd>0.0316581242731347</dd>\n",
       "\t<dt>Precision_short</dt>\n",
       "\t\t<dd>0.0959097198674615</dd>\n",
       "\t<dt>Recall_long</dt>\n",
       "\t\t<dd>0.146990203732915</dd>\n",
       "\t<dt>Recall_short</dt>\n",
       "\t\t<dd>0.0208853843733942</dd>\n",
       "\t<dt>F1_long</dt>\n",
       "\t\t<dd>0.135642082433695</dd>\n",
       "\t<dt>F1_short</dt>\n",
       "\t\t<dd>0.0612190061808099</dd>\n",
       "\t<dt>Tile_cutoff</dt>\n",
       "\t\t<dd>24.800913715896</dd>\n",
       "\t<dt>Tile_cutoff_SE</dt>\n",
       "\t\t<dd>3.78042453623298</dd>\n",
       "</dl>\n"
      ],
      "text/latex": [
       "\\begin{description*}\n",
       "\\item[Accuracy] 0.0821325198808936\n",
       "\\item[Balanced\\textbackslash{}\\_acc] 0.0671866498278351\n",
       "\\item[Precision\\textbackslash{}\\_long] 0.0316581242731347\n",
       "\\item[Precision\\textbackslash{}\\_short] 0.0959097198674615\n",
       "\\item[Recall\\textbackslash{}\\_long] 0.146990203732915\n",
       "\\item[Recall\\textbackslash{}\\_short] 0.0208853843733942\n",
       "\\item[F1\\textbackslash{}\\_long] 0.135642082433695\n",
       "\\item[F1\\textbackslash{}\\_short] 0.0612190061808099\n",
       "\\item[Tile\\textbackslash{}\\_cutoff] 24.800913715896\n",
       "\\item[Tile\\textbackslash{}\\_cutoff\\textbackslash{}\\_SE] 3.78042453623298\n",
       "\\end{description*}\n"
      ],
      "text/markdown": [
       "Accuracy\n",
       ":   0.0821325198808936Balanced_acc\n",
       ":   0.0671866498278351Precision_long\n",
       ":   0.0316581242731347Precision_short\n",
       ":   0.0959097198674615Recall_long\n",
       ":   0.146990203732915Recall_short\n",
       ":   0.0208853843733942F1_long\n",
       ":   0.135642082433695F1_short\n",
       ":   0.0612190061808099Tile_cutoff\n",
       ":   24.800913715896Tile_cutoff_SE\n",
       ":   3.78042453623298\n",
       "\n"
      ],
      "text/plain": [
       "       Accuracy    Balanced_acc  Precision_long Precision_short     Recall_long \n",
       "     0.08213252      0.06718665      0.03165812      0.09590972      0.14699020 \n",
       "   Recall_short         F1_long        F1_short     Tile_cutoff  Tile_cutoff_SE \n",
       "     0.02088538      0.13564208      0.06121901     24.80091372      3.78042454 "
      ]
     },
     "metadata": {},
     "output_type": "display_data"
    }
   ],
   "source": [
    "# C>=3 or M>=5 \n",
    "results = rbindlist(list(fold1_c3m5, fold2_c3m5, fold3_c3m5, fold4_c3m5, fold5_c3m5))\n",
    "row.names(results) = list(\"Fold1\", \"Fold2\", \"Fold3\", \"Fold4\", \"Fold5\")\n",
    "print('Logistic regression C>=3cm or M>=5cm performance on validation folds:')\n",
    "results\n",
    "print(\"Means:\")\n",
    "colMeans(results)\n",
    "print(\"Standard deviations:\")\n",
    "sapply(results, sd)"
   ]
  },
  {
   "cell_type": "code",
   "execution_count": 24,
   "id": "bf5a3202",
   "metadata": {},
   "outputs": [
    {
     "name": "stdout",
     "output_type": "stream",
     "text": [
      "[1] \"Logistic regression C>=1cm performance on validation folds:\"\n"
     ]
    },
    {
     "data": {
      "text/html": [
       "<table>\n",
       "<thead><tr><th></th><th scope=col>Accuracy</th><th scope=col>Balanced_acc</th><th scope=col>Precision_long</th><th scope=col>Precision_short</th><th scope=col>Recall_long</th><th scope=col>Recall_short</th><th scope=col>F1_long</th><th scope=col>F1_short</th><th scope=col>Tile_cutoff</th><th scope=col>Tile_cutoff_SE</th></tr></thead>\n",
       "<tbody>\n",
       "\t<tr><th scope=row>Fold1</th><td>0.7735849</td><td>0.7931034</td><td>1.0000000</td><td>0.6666667</td><td>0.5862069</td><td>1.0000000</td><td>0.7391304</td><td>0.8000000</td><td>41.26668 </td><td>6.640244 </td></tr>\n",
       "\t<tr><th scope=row>Fold2</th><td>0.7735849</td><td>0.7653571</td><td>0.8611111</td><td>0.7285714</td><td>0.6200000</td><td>0.9107143</td><td>0.7209302</td><td>0.8095238</td><td>30.38223 </td><td>4.877522 </td></tr>\n",
       "\t<tr><th scope=row>Fold3</th><td>0.7264151</td><td>0.7300570</td><td>0.8787879</td><td>0.6575342</td><td>0.5370370</td><td>0.9230769</td><td>0.6666667</td><td>0.7680000</td><td>35.06632 </td><td>5.492585 </td></tr>\n",
       "\t<tr><th scope=row>Fold4</th><td>0.7830189</td><td>0.7942661</td><td>0.8913043</td><td>0.7000000</td><td>0.6949153</td><td>0.8936170</td><td>0.7809524</td><td>0.7850467</td><td>34.05945 </td><td>5.523742 </td></tr>\n",
       "\t<tr><th scope=row>Fold5</th><td>0.7904762</td><td>0.8111111</td><td>0.9523810</td><td>0.6825397</td><td>0.6666667</td><td>0.9555556</td><td>0.7843137</td><td>0.7962963</td><td>36.34240 </td><td>6.100627 </td></tr>\n",
       "</tbody>\n",
       "</table>\n"
      ],
      "text/latex": [
       "\\begin{tabular}{r|llllllllll}\n",
       "  & Accuracy & Balanced\\_acc & Precision\\_long & Precision\\_short & Recall\\_long & Recall\\_short & F1\\_long & F1\\_short & Tile\\_cutoff & Tile\\_cutoff\\_SE\\\\\n",
       "\\hline\n",
       "\tFold1 & 0.7735849 & 0.7931034 & 1.0000000 & 0.6666667 & 0.5862069 & 1.0000000 & 0.7391304 & 0.8000000 & 41.26668  & 6.640244 \\\\\n",
       "\tFold2 & 0.7735849 & 0.7653571 & 0.8611111 & 0.7285714 & 0.6200000 & 0.9107143 & 0.7209302 & 0.8095238 & 30.38223  & 4.877522 \\\\\n",
       "\tFold3 & 0.7264151 & 0.7300570 & 0.8787879 & 0.6575342 & 0.5370370 & 0.9230769 & 0.6666667 & 0.7680000 & 35.06632  & 5.492585 \\\\\n",
       "\tFold4 & 0.7830189 & 0.7942661 & 0.8913043 & 0.7000000 & 0.6949153 & 0.8936170 & 0.7809524 & 0.7850467 & 34.05945  & 5.523742 \\\\\n",
       "\tFold5 & 0.7904762 & 0.8111111 & 0.9523810 & 0.6825397 & 0.6666667 & 0.9555556 & 0.7843137 & 0.7962963 & 36.34240  & 6.100627 \\\\\n",
       "\\end{tabular}\n"
      ],
      "text/markdown": [
       "\n",
       "| <!--/--> | Accuracy | Balanced_acc | Precision_long | Precision_short | Recall_long | Recall_short | F1_long | F1_short | Tile_cutoff | Tile_cutoff_SE |\n",
       "|---|---|---|---|---|---|---|---|---|---|---|\n",
       "| Fold1 | 0.7735849 | 0.7931034 | 1.0000000 | 0.6666667 | 0.5862069 | 1.0000000 | 0.7391304 | 0.8000000 | 41.26668  | 6.640244  |\n",
       "| Fold2 | 0.7735849 | 0.7653571 | 0.8611111 | 0.7285714 | 0.6200000 | 0.9107143 | 0.7209302 | 0.8095238 | 30.38223  | 4.877522  |\n",
       "| Fold3 | 0.7264151 | 0.7300570 | 0.8787879 | 0.6575342 | 0.5370370 | 0.9230769 | 0.6666667 | 0.7680000 | 35.06632  | 5.492585  |\n",
       "| Fold4 | 0.7830189 | 0.7942661 | 0.8913043 | 0.7000000 | 0.6949153 | 0.8936170 | 0.7809524 | 0.7850467 | 34.05945  | 5.523742  |\n",
       "| Fold5 | 0.7904762 | 0.8111111 | 0.9523810 | 0.6825397 | 0.6666667 | 0.9555556 | 0.7843137 | 0.7962963 | 36.34240  | 6.100627  |\n",
       "\n"
      ],
      "text/plain": [
       "  Accuracy  Balanced_acc Precision_long Precision_short Recall_long\n",
       "1 0.7735849 0.7931034    1.0000000      0.6666667       0.5862069  \n",
       "2 0.7735849 0.7653571    0.8611111      0.7285714       0.6200000  \n",
       "3 0.7264151 0.7300570    0.8787879      0.6575342       0.5370370  \n",
       "4 0.7830189 0.7942661    0.8913043      0.7000000       0.6949153  \n",
       "5 0.7904762 0.8111111    0.9523810      0.6825397       0.6666667  \n",
       "  Recall_short F1_long   F1_short  Tile_cutoff Tile_cutoff_SE\n",
       "1 1.0000000    0.7391304 0.8000000 41.26668    6.640244      \n",
       "2 0.9107143    0.7209302 0.8095238 30.38223    4.877522      \n",
       "3 0.9230769    0.6666667 0.7680000 35.06632    5.492585      \n",
       "4 0.8936170    0.7809524 0.7850467 34.05945    5.523742      \n",
       "5 0.9555556    0.7843137 0.7962963 36.34240    6.100627      "
      ]
     },
     "metadata": {},
     "output_type": "display_data"
    },
    {
     "name": "stdout",
     "output_type": "stream",
     "text": [
      "[1] \"Means:\"\n"
     ]
    },
    {
     "data": {
      "text/html": [
       "<dl class=dl-horizontal>\n",
       "\t<dt>Accuracy</dt>\n",
       "\t\t<dd>0.769415992812219</dd>\n",
       "\t<dt>Balanced_acc</dt>\n",
       "\t\t<dd>0.778778964011608</dd>\n",
       "\t<dt>Precision_long</dt>\n",
       "\t\t<dd>0.916716858021206</dd>\n",
       "\t<dt>Precision_short</dt>\n",
       "\t\t<dd>0.687062404870624</dd>\n",
       "\t<dt>Recall_long</dt>\n",
       "\t\t<dd>0.620965170898543</dd>\n",
       "\t<dt>Recall_short</dt>\n",
       "\t\t<dd>0.936592757124672</dd>\n",
       "\t<dt>F1_long</dt>\n",
       "\t\t<dd>0.738398688089998</dd>\n",
       "\t<dt>F1_short</dt>\n",
       "\t\t<dd>0.791773366958414</dd>\n",
       "\t<dt>Tile_cutoff</dt>\n",
       "\t\t<dd>35.4234125961485</dd>\n",
       "\t<dt>Tile_cutoff_SE</dt>\n",
       "\t\t<dd>5.72694395780815</dd>\n",
       "</dl>\n"
      ],
      "text/latex": [
       "\\begin{description*}\n",
       "\\item[Accuracy] 0.769415992812219\n",
       "\\item[Balanced\\textbackslash{}\\_acc] 0.778778964011608\n",
       "\\item[Precision\\textbackslash{}\\_long] 0.916716858021206\n",
       "\\item[Precision\\textbackslash{}\\_short] 0.687062404870624\n",
       "\\item[Recall\\textbackslash{}\\_long] 0.620965170898543\n",
       "\\item[Recall\\textbackslash{}\\_short] 0.936592757124672\n",
       "\\item[F1\\textbackslash{}\\_long] 0.738398688089998\n",
       "\\item[F1\\textbackslash{}\\_short] 0.791773366958414\n",
       "\\item[Tile\\textbackslash{}\\_cutoff] 35.4234125961485\n",
       "\\item[Tile\\textbackslash{}\\_cutoff\\textbackslash{}\\_SE] 5.72694395780815\n",
       "\\end{description*}\n"
      ],
      "text/markdown": [
       "Accuracy\n",
       ":   0.769415992812219Balanced_acc\n",
       ":   0.778778964011608Precision_long\n",
       ":   0.916716858021206Precision_short\n",
       ":   0.687062404870624Recall_long\n",
       ":   0.620965170898543Recall_short\n",
       ":   0.936592757124672F1_long\n",
       ":   0.738398688089998F1_short\n",
       ":   0.791773366958414Tile_cutoff\n",
       ":   35.4234125961485Tile_cutoff_SE\n",
       ":   5.72694395780815\n",
       "\n"
      ],
      "text/plain": [
       "       Accuracy    Balanced_acc  Precision_long Precision_short     Recall_long \n",
       "      0.7694160       0.7787790       0.9167169       0.6870624       0.6209652 \n",
       "   Recall_short         F1_long        F1_short     Tile_cutoff  Tile_cutoff_SE \n",
       "      0.9365928       0.7383987       0.7917734      35.4234126       5.7269440 "
      ]
     },
     "metadata": {},
     "output_type": "display_data"
    },
    {
     "name": "stdout",
     "output_type": "stream",
     "text": [
      "[1] \"Standard deviations:\"\n"
     ]
    },
    {
     "data": {
      "text/html": [
       "<dl class=dl-horizontal>\n",
       "\t<dt>Accuracy</dt>\n",
       "\t\t<dd>0.0250619585980838</dd>\n",
       "\t<dt>Balanced_acc</dt>\n",
       "\t\t<dd>0.0317977520419935</dd>\n",
       "\t<dt>Precision_long</dt>\n",
       "\t\t<dd>0.0578455088876604</dd>\n",
       "\t<dt>Precision_short</dt>\n",
       "\t\t<dd>0.0282786743978743</dd>\n",
       "\t<dt>Recall_long</dt>\n",
       "\t\t<dd>0.0628693931598639</dd>\n",
       "\t<dt>Recall_short</dt>\n",
       "\t\t<dd>0.042069445853283</dd>\n",
       "\t<dt>F1_long</dt>\n",
       "\t\t<dd>0.0483998262524142</dd>\n",
       "\t<dt>F1_short</dt>\n",
       "\t\t<dd>0.0159188035621712</dd>\n",
       "\t<dt>Tile_cutoff</dt>\n",
       "\t\t<dd>3.94935870186318</dd>\n",
       "\t<dt>Tile_cutoff_SE</dt>\n",
       "\t\t<dd>0.669232533857598</dd>\n",
       "</dl>\n"
      ],
      "text/latex": [
       "\\begin{description*}\n",
       "\\item[Accuracy] 0.0250619585980838\n",
       "\\item[Balanced\\textbackslash{}\\_acc] 0.0317977520419935\n",
       "\\item[Precision\\textbackslash{}\\_long] 0.0578455088876604\n",
       "\\item[Precision\\textbackslash{}\\_short] 0.0282786743978743\n",
       "\\item[Recall\\textbackslash{}\\_long] 0.0628693931598639\n",
       "\\item[Recall\\textbackslash{}\\_short] 0.042069445853283\n",
       "\\item[F1\\textbackslash{}\\_long] 0.0483998262524142\n",
       "\\item[F1\\textbackslash{}\\_short] 0.0159188035621712\n",
       "\\item[Tile\\textbackslash{}\\_cutoff] 3.94935870186318\n",
       "\\item[Tile\\textbackslash{}\\_cutoff\\textbackslash{}\\_SE] 0.669232533857598\n",
       "\\end{description*}\n"
      ],
      "text/markdown": [
       "Accuracy\n",
       ":   0.0250619585980838Balanced_acc\n",
       ":   0.0317977520419935Precision_long\n",
       ":   0.0578455088876604Precision_short\n",
       ":   0.0282786743978743Recall_long\n",
       ":   0.0628693931598639Recall_short\n",
       ":   0.042069445853283F1_long\n",
       ":   0.0483998262524142F1_short\n",
       ":   0.0159188035621712Tile_cutoff\n",
       ":   3.94935870186318Tile_cutoff_SE\n",
       ":   0.669232533857598\n",
       "\n"
      ],
      "text/plain": [
       "       Accuracy    Balanced_acc  Precision_long Precision_short     Recall_long \n",
       "     0.02506196      0.03179775      0.05784551      0.02827867      0.06286939 \n",
       "   Recall_short         F1_long        F1_short     Tile_cutoff  Tile_cutoff_SE \n",
       "     0.04206945      0.04839983      0.01591880      3.94935870      0.66923253 "
      ]
     },
     "metadata": {},
     "output_type": "display_data"
    }
   ],
   "source": [
    "# C>=1\n",
    "results = rbindlist(list(fold1_c1, fold2_c1, fold3_c1, fold4_c1, fold5_c1))\n",
    "row.names(results) = list(\"Fold1\", \"Fold2\", \"Fold3\", \"Fold4\", \"Fold5\")\n",
    "print('Logistic regression C>=1cm performance on validation folds:')\n",
    "results\n",
    "print(\"Means:\")\n",
    "colMeans(results)\n",
    "print(\"Standard deviations:\")\n",
    "sapply(results, sd)"
   ]
  },
  {
   "cell_type": "code",
   "execution_count": 25,
   "id": "936afd22",
   "metadata": {},
   "outputs": [
    {
     "name": "stdout",
     "output_type": "stream",
     "text": [
      "[1] \"Logistic regression C>=2cm performance on validation folds:\"\n"
     ]
    },
    {
     "data": {
      "text/html": [
       "<table>\n",
       "<thead><tr><th></th><th scope=col>Accuracy</th><th scope=col>Balanced_acc</th><th scope=col>Precision_long</th><th scope=col>Precision_short</th><th scope=col>Recall_long</th><th scope=col>Recall_short</th><th scope=col>F1_long</th><th scope=col>F1_short</th><th scope=col>Tile_cutoff</th><th scope=col>Tile_cutoff_SE</th></tr></thead>\n",
       "<tbody>\n",
       "\t<tr><th scope=row>Fold1</th><td>0.7735849</td><td>0.7030233</td><td>0.8947368</td><td>0.7471264</td><td>0.4358974</td><td>0.9701493</td><td>0.5862069</td><td>0.8441558</td><td> 99.67602</td><td>14.629629</td></tr>\n",
       "\t<tr><th scope=row>Fold2</th><td>0.7735849</td><td>0.7306502</td><td>0.7333333</td><td>0.7894737</td><td>0.5789474</td><td>0.8823529</td><td>0.6470588</td><td>0.8333333</td><td> 63.38298</td><td> 7.607368</td></tr>\n",
       "\t<tr><th scope=row>Fold3</th><td>0.6415094</td><td>0.6165414</td><td>0.8235294</td><td>0.6067416</td><td>0.2857143</td><td>0.9473684</td><td>0.4242424</td><td>0.7397260</td><td>111.51165</td><td>14.863609</td></tr>\n",
       "\t<tr><th scope=row>Fold4</th><td>0.8113208</td><td>0.7902174</td><td>0.9062500</td><td>0.7702703</td><td>0.6304348</td><td>0.9500000</td><td>0.7435897</td><td>0.8507463</td><td>103.20940</td><td>15.496086</td></tr>\n",
       "\t<tr><th scope=row>Fold5</th><td>0.7428571</td><td>0.7447388</td><td>0.9062500</td><td>0.6712329</td><td>0.5471698</td><td>0.9423077</td><td>0.6823529</td><td>0.7840000</td><td>117.60011</td><td>17.325635</td></tr>\n",
       "</tbody>\n",
       "</table>\n"
      ],
      "text/latex": [
       "\\begin{tabular}{r|llllllllll}\n",
       "  & Accuracy & Balanced\\_acc & Precision\\_long & Precision\\_short & Recall\\_long & Recall\\_short & F1\\_long & F1\\_short & Tile\\_cutoff & Tile\\_cutoff\\_SE\\\\\n",
       "\\hline\n",
       "\tFold1 & 0.7735849 & 0.7030233 & 0.8947368 & 0.7471264 & 0.4358974 & 0.9701493 & 0.5862069 & 0.8441558 &  99.67602 & 14.629629\\\\\n",
       "\tFold2 & 0.7735849 & 0.7306502 & 0.7333333 & 0.7894737 & 0.5789474 & 0.8823529 & 0.6470588 & 0.8333333 &  63.38298 &  7.607368\\\\\n",
       "\tFold3 & 0.6415094 & 0.6165414 & 0.8235294 & 0.6067416 & 0.2857143 & 0.9473684 & 0.4242424 & 0.7397260 & 111.51165 & 14.863609\\\\\n",
       "\tFold4 & 0.8113208 & 0.7902174 & 0.9062500 & 0.7702703 & 0.6304348 & 0.9500000 & 0.7435897 & 0.8507463 & 103.20940 & 15.496086\\\\\n",
       "\tFold5 & 0.7428571 & 0.7447388 & 0.9062500 & 0.6712329 & 0.5471698 & 0.9423077 & 0.6823529 & 0.7840000 & 117.60011 & 17.325635\\\\\n",
       "\\end{tabular}\n"
      ],
      "text/markdown": [
       "\n",
       "| <!--/--> | Accuracy | Balanced_acc | Precision_long | Precision_short | Recall_long | Recall_short | F1_long | F1_short | Tile_cutoff | Tile_cutoff_SE |\n",
       "|---|---|---|---|---|---|---|---|---|---|---|\n",
       "| Fold1 | 0.7735849 | 0.7030233 | 0.8947368 | 0.7471264 | 0.4358974 | 0.9701493 | 0.5862069 | 0.8441558 |  99.67602 | 14.629629 |\n",
       "| Fold2 | 0.7735849 | 0.7306502 | 0.7333333 | 0.7894737 | 0.5789474 | 0.8823529 | 0.6470588 | 0.8333333 |  63.38298 |  7.607368 |\n",
       "| Fold3 | 0.6415094 | 0.6165414 | 0.8235294 | 0.6067416 | 0.2857143 | 0.9473684 | 0.4242424 | 0.7397260 | 111.51165 | 14.863609 |\n",
       "| Fold4 | 0.8113208 | 0.7902174 | 0.9062500 | 0.7702703 | 0.6304348 | 0.9500000 | 0.7435897 | 0.8507463 | 103.20940 | 15.496086 |\n",
       "| Fold5 | 0.7428571 | 0.7447388 | 0.9062500 | 0.6712329 | 0.5471698 | 0.9423077 | 0.6823529 | 0.7840000 | 117.60011 | 17.325635 |\n",
       "\n"
      ],
      "text/plain": [
       "  Accuracy  Balanced_acc Precision_long Precision_short Recall_long\n",
       "1 0.7735849 0.7030233    0.8947368      0.7471264       0.4358974  \n",
       "2 0.7735849 0.7306502    0.7333333      0.7894737       0.5789474  \n",
       "3 0.6415094 0.6165414    0.8235294      0.6067416       0.2857143  \n",
       "4 0.8113208 0.7902174    0.9062500      0.7702703       0.6304348  \n",
       "5 0.7428571 0.7447388    0.9062500      0.6712329       0.5471698  \n",
       "  Recall_short F1_long   F1_short  Tile_cutoff Tile_cutoff_SE\n",
       "1 0.9701493    0.5862069 0.8441558  99.67602   14.629629     \n",
       "2 0.8823529    0.6470588 0.8333333  63.38298    7.607368     \n",
       "3 0.9473684    0.4242424 0.7397260 111.51165   14.863609     \n",
       "4 0.9500000    0.7435897 0.8507463 103.20940   15.496086     \n",
       "5 0.9423077    0.6823529 0.7840000 117.60011   17.325635     "
      ]
     },
     "metadata": {},
     "output_type": "display_data"
    },
    {
     "name": "stdout",
     "output_type": "stream",
     "text": [
      "[1] \"Means:\"\n"
     ]
    },
    {
     "data": {
      "text/html": [
       "<dl class=dl-horizontal>\n",
       "\t<dt>Accuracy</dt>\n",
       "\t\t<dd>0.748571428571429</dd>\n",
       "\t<dt>Balanced_acc</dt>\n",
       "\t\t<dd>0.717034199223036</dd>\n",
       "\t<dt>Precision_long</dt>\n",
       "\t\t<dd>0.85281991744066</dd>\n",
       "\t<dt>Precision_short</dt>\n",
       "\t\t<dd>0.716968968201689</dd>\n",
       "\t<dt>Recall_long</dt>\n",
       "\t\t<dd>0.495632736792445</dd>\n",
       "\t<dt>Recall_short</dt>\n",
       "\t\t<dd>0.938435661653628</dd>\n",
       "\t<dt>F1_long</dt>\n",
       "\t\t<dd>0.616690165817955</dd>\n",
       "\t<dt>F1_short</dt>\n",
       "\t\t<dd>0.810392294708631</dd>\n",
       "\t<dt>Tile_cutoff</dt>\n",
       "\t\t<dd>99.0760338789615</dd>\n",
       "\t<dt>Tile_cutoff_SE</dt>\n",
       "\t\t<dd>13.9844656830685</dd>\n",
       "</dl>\n"
      ],
      "text/latex": [
       "\\begin{description*}\n",
       "\\item[Accuracy] 0.748571428571429\n",
       "\\item[Balanced\\textbackslash{}\\_acc] 0.717034199223036\n",
       "\\item[Precision\\textbackslash{}\\_long] 0.85281991744066\n",
       "\\item[Precision\\textbackslash{}\\_short] 0.716968968201689\n",
       "\\item[Recall\\textbackslash{}\\_long] 0.495632736792445\n",
       "\\item[Recall\\textbackslash{}\\_short] 0.938435661653628\n",
       "\\item[F1\\textbackslash{}\\_long] 0.616690165817955\n",
       "\\item[F1\\textbackslash{}\\_short] 0.810392294708631\n",
       "\\item[Tile\\textbackslash{}\\_cutoff] 99.0760338789615\n",
       "\\item[Tile\\textbackslash{}\\_cutoff\\textbackslash{}\\_SE] 13.9844656830685\n",
       "\\end{description*}\n"
      ],
      "text/markdown": [
       "Accuracy\n",
       ":   0.748571428571429Balanced_acc\n",
       ":   0.717034199223036Precision_long\n",
       ":   0.85281991744066Precision_short\n",
       ":   0.716968968201689Recall_long\n",
       ":   0.495632736792445Recall_short\n",
       ":   0.938435661653628F1_long\n",
       ":   0.616690165817955F1_short\n",
       ":   0.810392294708631Tile_cutoff\n",
       ":   99.0760338789615Tile_cutoff_SE\n",
       ":   13.9844656830685\n",
       "\n"
      ],
      "text/plain": [
       "       Accuracy    Balanced_acc  Precision_long Precision_short     Recall_long \n",
       "      0.7485714       0.7170342       0.8528199       0.7169690       0.4956327 \n",
       "   Recall_short         F1_long        F1_short     Tile_cutoff  Tile_cutoff_SE \n",
       "      0.9384357       0.6166902       0.8103923      99.0760339      13.9844657 "
      ]
     },
     "metadata": {},
     "output_type": "display_data"
    },
    {
     "name": "stdout",
     "output_type": "stream",
     "text": [
      "[1] \"Standard deviations:\"\n"
     ]
    },
    {
     "data": {
      "text/html": [
       "<dl class=dl-horizontal>\n",
       "\t<dt>Accuracy</dt>\n",
       "\t\t<dd>0.0645827952220963</dd>\n",
       "\t<dt>Balanced_acc</dt>\n",
       "\t\t<dd>0.0644279290950856</dd>\n",
       "\t<dt>Precision_long</dt>\n",
       "\t\t<dd>0.0751690653166649</dd>\n",
       "\t<dt>Precision_short</dt>\n",
       "\t\t<dd>0.0762386127023547</dd>\n",
       "\t<dt>Recall_long</dt>\n",
       "\t\t<dd>0.1372980805826</dd>\n",
       "\t<dt>Recall_short</dt>\n",
       "\t\t<dd>0.0330890623614759</dd>\n",
       "\t<dt>F1_long</dt>\n",
       "\t\t<dd>0.121760750264932</dd>\n",
       "\t<dt>F1_short</dt>\n",
       "\t\t<dd>0.0473945837980633</dd>\n",
       "\t<dt>Tile_cutoff</dt>\n",
       "\t\t<dd>21.1496128543992</dd>\n",
       "\t<dt>Tile_cutoff_SE</dt>\n",
       "\t\t<dd>3.71836366008217</dd>\n",
       "</dl>\n"
      ],
      "text/latex": [
       "\\begin{description*}\n",
       "\\item[Accuracy] 0.0645827952220963\n",
       "\\item[Balanced\\textbackslash{}\\_acc] 0.0644279290950856\n",
       "\\item[Precision\\textbackslash{}\\_long] 0.0751690653166649\n",
       "\\item[Precision\\textbackslash{}\\_short] 0.0762386127023547\n",
       "\\item[Recall\\textbackslash{}\\_long] 0.1372980805826\n",
       "\\item[Recall\\textbackslash{}\\_short] 0.0330890623614759\n",
       "\\item[F1\\textbackslash{}\\_long] 0.121760750264932\n",
       "\\item[F1\\textbackslash{}\\_short] 0.0473945837980633\n",
       "\\item[Tile\\textbackslash{}\\_cutoff] 21.1496128543992\n",
       "\\item[Tile\\textbackslash{}\\_cutoff\\textbackslash{}\\_SE] 3.71836366008217\n",
       "\\end{description*}\n"
      ],
      "text/markdown": [
       "Accuracy\n",
       ":   0.0645827952220963Balanced_acc\n",
       ":   0.0644279290950856Precision_long\n",
       ":   0.0751690653166649Precision_short\n",
       ":   0.0762386127023547Recall_long\n",
       ":   0.1372980805826Recall_short\n",
       ":   0.0330890623614759F1_long\n",
       ":   0.121760750264932F1_short\n",
       ":   0.0473945837980633Tile_cutoff\n",
       ":   21.1496128543992Tile_cutoff_SE\n",
       ":   3.71836366008217\n",
       "\n"
      ],
      "text/plain": [
       "       Accuracy    Balanced_acc  Precision_long Precision_short     Recall_long \n",
       "     0.06458280      0.06442793      0.07516907      0.07623861      0.13729808 \n",
       "   Recall_short         F1_long        F1_short     Tile_cutoff  Tile_cutoff_SE \n",
       "     0.03308906      0.12176075      0.04739458     21.14961285      3.71836366 "
      ]
     },
     "metadata": {},
     "output_type": "display_data"
    }
   ],
   "source": [
    "# C>=2\n",
    "results = rbindlist(list(fold1_c2, fold2_c2, fold3_c2, fold4_c2, fold5_c2))\n",
    "row.names(results) = list(\"Fold1\", \"Fold2\", \"Fold3\", \"Fold4\", \"Fold5\")\n",
    "print('Logistic regression C>=2cm performance on validation folds:')\n",
    "results\n",
    "print(\"Means:\")\n",
    "colMeans(results)\n",
    "print(\"Standard deviations:\")\n",
    "sapply(results, sd)"
   ]
  },
  {
   "cell_type": "code",
   "execution_count": 26,
   "id": "373b66e8",
   "metadata": {},
   "outputs": [
    {
     "name": "stdout",
     "output_type": "stream",
     "text": [
      "[1] \"Logistic regression C>=3cm performance on validation folds:\"\n"
     ]
    },
    {
     "data": {
      "text/html": [
       "<table>\n",
       "<thead><tr><th></th><th scope=col>Accuracy</th><th scope=col>Balanced_acc</th><th scope=col>Precision_long</th><th scope=col>Precision_short</th><th scope=col>Recall_long</th><th scope=col>Recall_short</th><th scope=col>F1_long</th><th scope=col>F1_short</th><th scope=col>Tile_cutoff</th><th scope=col>Tile_cutoff_SE</th></tr></thead>\n",
       "<tbody>\n",
       "\t<tr><th scope=row>Fold1</th><td>0.8396226</td><td>0.7352688</td><td>0.9375000</td><td>0.8222222</td><td>0.4838710</td><td>0.9866667</td><td>0.6382979</td><td>0.8969697</td><td>215.4402 </td><td>30.03522 </td></tr>\n",
       "\t<tr><th scope=row>Fold2</th><td>0.8301887</td><td>0.7326467</td><td>0.7894737</td><td>0.8390805</td><td>0.5172414</td><td>0.9480519</td><td>0.6250000</td><td>0.8902439</td><td>159.9537 </td><td>20.79854 </td></tr>\n",
       "\t<tr><th scope=row>Fold3</th><td>0.6603774</td><td>0.5654784</td><td>0.8571429</td><td>0.6464646</td><td>0.1463415</td><td>0.9846154</td><td>0.2500000</td><td>0.7804878</td><td>229.2683 </td><td>29.41158 </td></tr>\n",
       "\t<tr><th scope=row>Fold4</th><td>0.7830189</td><td>0.7075397</td><td>0.8095238</td><td>0.7764706</td><td>0.4722222</td><td>0.9428571</td><td>0.5964912</td><td>0.8516129</td><td>172.3057 </td><td>22.50250 </td></tr>\n",
       "\t<tr><th scope=row>Fold5</th><td>0.7333333</td><td>0.6567599</td><td>0.8235294</td><td>0.7159091</td><td>0.3589744</td><td>0.9545455</td><td>0.5000000</td><td>0.8181818</td><td>210.7667 </td><td>29.36552 </td></tr>\n",
       "</tbody>\n",
       "</table>\n"
      ],
      "text/latex": [
       "\\begin{tabular}{r|llllllllll}\n",
       "  & Accuracy & Balanced\\_acc & Precision\\_long & Precision\\_short & Recall\\_long & Recall\\_short & F1\\_long & F1\\_short & Tile\\_cutoff & Tile\\_cutoff\\_SE\\\\\n",
       "\\hline\n",
       "\tFold1 & 0.8396226 & 0.7352688 & 0.9375000 & 0.8222222 & 0.4838710 & 0.9866667 & 0.6382979 & 0.8969697 & 215.4402  & 30.03522 \\\\\n",
       "\tFold2 & 0.8301887 & 0.7326467 & 0.7894737 & 0.8390805 & 0.5172414 & 0.9480519 & 0.6250000 & 0.8902439 & 159.9537  & 20.79854 \\\\\n",
       "\tFold3 & 0.6603774 & 0.5654784 & 0.8571429 & 0.6464646 & 0.1463415 & 0.9846154 & 0.2500000 & 0.7804878 & 229.2683  & 29.41158 \\\\\n",
       "\tFold4 & 0.7830189 & 0.7075397 & 0.8095238 & 0.7764706 & 0.4722222 & 0.9428571 & 0.5964912 & 0.8516129 & 172.3057  & 22.50250 \\\\\n",
       "\tFold5 & 0.7333333 & 0.6567599 & 0.8235294 & 0.7159091 & 0.3589744 & 0.9545455 & 0.5000000 & 0.8181818 & 210.7667  & 29.36552 \\\\\n",
       "\\end{tabular}\n"
      ],
      "text/markdown": [
       "\n",
       "| <!--/--> | Accuracy | Balanced_acc | Precision_long | Precision_short | Recall_long | Recall_short | F1_long | F1_short | Tile_cutoff | Tile_cutoff_SE |\n",
       "|---|---|---|---|---|---|---|---|---|---|---|\n",
       "| Fold1 | 0.8396226 | 0.7352688 | 0.9375000 | 0.8222222 | 0.4838710 | 0.9866667 | 0.6382979 | 0.8969697 | 215.4402  | 30.03522  |\n",
       "| Fold2 | 0.8301887 | 0.7326467 | 0.7894737 | 0.8390805 | 0.5172414 | 0.9480519 | 0.6250000 | 0.8902439 | 159.9537  | 20.79854  |\n",
       "| Fold3 | 0.6603774 | 0.5654784 | 0.8571429 | 0.6464646 | 0.1463415 | 0.9846154 | 0.2500000 | 0.7804878 | 229.2683  | 29.41158  |\n",
       "| Fold4 | 0.7830189 | 0.7075397 | 0.8095238 | 0.7764706 | 0.4722222 | 0.9428571 | 0.5964912 | 0.8516129 | 172.3057  | 22.50250  |\n",
       "| Fold5 | 0.7333333 | 0.6567599 | 0.8235294 | 0.7159091 | 0.3589744 | 0.9545455 | 0.5000000 | 0.8181818 | 210.7667  | 29.36552  |\n",
       "\n"
      ],
      "text/plain": [
       "  Accuracy  Balanced_acc Precision_long Precision_short Recall_long\n",
       "1 0.8396226 0.7352688    0.9375000      0.8222222       0.4838710  \n",
       "2 0.8301887 0.7326467    0.7894737      0.8390805       0.5172414  \n",
       "3 0.6603774 0.5654784    0.8571429      0.6464646       0.1463415  \n",
       "4 0.7830189 0.7075397    0.8095238      0.7764706       0.4722222  \n",
       "5 0.7333333 0.6567599    0.8235294      0.7159091       0.3589744  \n",
       "  Recall_short F1_long   F1_short  Tile_cutoff Tile_cutoff_SE\n",
       "1 0.9866667    0.6382979 0.8969697 215.4402    30.03522      \n",
       "2 0.9480519    0.6250000 0.8902439 159.9537    20.79854      \n",
       "3 0.9846154    0.2500000 0.7804878 229.2683    29.41158      \n",
       "4 0.9428571    0.5964912 0.8516129 172.3057    22.50250      \n",
       "5 0.9545455    0.5000000 0.8181818 210.7667    29.36552      "
      ]
     },
     "metadata": {},
     "output_type": "display_data"
    },
    {
     "name": "stdout",
     "output_type": "stream",
     "text": [
      "[1] \"Means:\"\n"
     ]
    },
    {
     "data": {
      "text/html": [
       "<dl class=dl-horizontal>\n",
       "\t<dt>Accuracy</dt>\n",
       "\t\t<dd>0.769308176100629</dd>\n",
       "\t<dt>Balanced_acc</dt>\n",
       "\t\t<dd>0.679538698840009</dd>\n",
       "\t<dt>Precision_long</dt>\n",
       "\t\t<dd>0.84343395252838</dd>\n",
       "\t<dt>Precision_short</dt>\n",
       "\t\t<dd>0.760029401520274</dd>\n",
       "\t<dt>Recall_long</dt>\n",
       "\t\t<dd>0.395730078332699</dd>\n",
       "\t<dt>Recall_short</dt>\n",
       "\t\t<dd>0.963347319347319</dd>\n",
       "\t<dt>F1_long</dt>\n",
       "\t\t<dd>0.52195782008212</dd>\n",
       "\t<dt>F1_short</dt>\n",
       "\t\t<dd>0.847499225138879</dd>\n",
       "\t<dt>Tile_cutoff</dt>\n",
       "\t\t<dd>197.54694048799</dd>\n",
       "\t<dt>Tile_cutoff_SE</dt>\n",
       "\t\t<dd>26.4226706180436</dd>\n",
       "</dl>\n"
      ],
      "text/latex": [
       "\\begin{description*}\n",
       "\\item[Accuracy] 0.769308176100629\n",
       "\\item[Balanced\\textbackslash{}\\_acc] 0.679538698840009\n",
       "\\item[Precision\\textbackslash{}\\_long] 0.84343395252838\n",
       "\\item[Precision\\textbackslash{}\\_short] 0.760029401520274\n",
       "\\item[Recall\\textbackslash{}\\_long] 0.395730078332699\n",
       "\\item[Recall\\textbackslash{}\\_short] 0.963347319347319\n",
       "\\item[F1\\textbackslash{}\\_long] 0.52195782008212\n",
       "\\item[F1\\textbackslash{}\\_short] 0.847499225138879\n",
       "\\item[Tile\\textbackslash{}\\_cutoff] 197.54694048799\n",
       "\\item[Tile\\textbackslash{}\\_cutoff\\textbackslash{}\\_SE] 26.4226706180436\n",
       "\\end{description*}\n"
      ],
      "text/markdown": [
       "Accuracy\n",
       ":   0.769308176100629Balanced_acc\n",
       ":   0.679538698840009Precision_long\n",
       ":   0.84343395252838Precision_short\n",
       ":   0.760029401520274Recall_long\n",
       ":   0.395730078332699Recall_short\n",
       ":   0.963347319347319F1_long\n",
       ":   0.52195782008212F1_short\n",
       ":   0.847499225138879Tile_cutoff\n",
       ":   197.54694048799Tile_cutoff_SE\n",
       ":   26.4226706180436\n",
       "\n"
      ],
      "text/plain": [
       "       Accuracy    Balanced_acc  Precision_long Precision_short     Recall_long \n",
       "      0.7693082       0.6795387       0.8434340       0.7600294       0.3957301 \n",
       "   Recall_short         F1_long        F1_short     Tile_cutoff  Tile_cutoff_SE \n",
       "      0.9633473       0.5219578       0.8474992     197.5469405      26.4226706 "
      ]
     },
     "metadata": {},
     "output_type": "display_data"
    },
    {
     "name": "stdout",
     "output_type": "stream",
     "text": [
      "[1] \"Standard deviations:\"\n"
     ]
    },
    {
     "data": {
      "text/html": [
       "<dl class=dl-horizontal>\n",
       "\t<dt>Accuracy</dt>\n",
       "\t\t<dd>0.07415971803562</dd>\n",
       "\t<dt>Balanced_acc</dt>\n",
       "\t\t<dd>0.0711318788807062</dd>\n",
       "\t<dt>Precision_long</dt>\n",
       "\t\t<dd>0.0580821712128598</dd>\n",
       "\t<dt>Precision_short</dt>\n",
       "\t\t<dd>0.0794211633904253</dd>\n",
       "\t<dt>Recall_long</dt>\n",
       "\t\t<dd>0.151600234897779</dd>\n",
       "\t<dt>Recall_short</dt>\n",
       "\t\t<dd>0.0207809473995966</dd>\n",
       "\t<dt>F1_long</dt>\n",
       "\t\t<dd>0.161362270430997</dd>\n",
       "\t<dt>F1_short</dt>\n",
       "\t\t<dd>0.0490953107845334</dd>\n",
       "\t<dt>Tile_cutoff</dt>\n",
       "\t\t<dd>29.7974406141178</dd>\n",
       "\t<dt>Tile_cutoff_SE</dt>\n",
       "\t\t<dd>4.40576664081015</dd>\n",
       "</dl>\n"
      ],
      "text/latex": [
       "\\begin{description*}\n",
       "\\item[Accuracy] 0.07415971803562\n",
       "\\item[Balanced\\textbackslash{}\\_acc] 0.0711318788807062\n",
       "\\item[Precision\\textbackslash{}\\_long] 0.0580821712128598\n",
       "\\item[Precision\\textbackslash{}\\_short] 0.0794211633904253\n",
       "\\item[Recall\\textbackslash{}\\_long] 0.151600234897779\n",
       "\\item[Recall\\textbackslash{}\\_short] 0.0207809473995966\n",
       "\\item[F1\\textbackslash{}\\_long] 0.161362270430997\n",
       "\\item[F1\\textbackslash{}\\_short] 0.0490953107845334\n",
       "\\item[Tile\\textbackslash{}\\_cutoff] 29.7974406141178\n",
       "\\item[Tile\\textbackslash{}\\_cutoff\\textbackslash{}\\_SE] 4.40576664081015\n",
       "\\end{description*}\n"
      ],
      "text/markdown": [
       "Accuracy\n",
       ":   0.07415971803562Balanced_acc\n",
       ":   0.0711318788807062Precision_long\n",
       ":   0.0580821712128598Precision_short\n",
       ":   0.0794211633904253Recall_long\n",
       ":   0.151600234897779Recall_short\n",
       ":   0.0207809473995966F1_long\n",
       ":   0.161362270430997F1_short\n",
       ":   0.0490953107845334Tile_cutoff\n",
       ":   29.7974406141178Tile_cutoff_SE\n",
       ":   4.40576664081015\n",
       "\n"
      ],
      "text/plain": [
       "       Accuracy    Balanced_acc  Precision_long Precision_short     Recall_long \n",
       "     0.07415972      0.07113188      0.05808217      0.07942116      0.15160023 \n",
       "   Recall_short         F1_long        F1_short     Tile_cutoff  Tile_cutoff_SE \n",
       "     0.02078095      0.16136227      0.04909531     29.79744061      4.40576664 "
      ]
     },
     "metadata": {},
     "output_type": "display_data"
    }
   ],
   "source": [
    "# C>=3\n",
    "results = rbindlist(list(fold1_c3, fold2_c3, fold3_c3, fold4_c3, fold5_c3))\n",
    "row.names(results) = list(\"Fold1\", \"Fold2\", \"Fold3\", \"Fold4\", \"Fold5\")\n",
    "print('Logistic regression C>=3cm performance on validation folds:')\n",
    "results\n",
    "print(\"Means:\")\n",
    "colMeans(results)\n",
    "print(\"Standard deviations:\")\n",
    "sapply(results, sd)"
   ]
  },
  {
   "cell_type": "code",
   "execution_count": 27,
   "id": "a0827e17",
   "metadata": {},
   "outputs": [
    {
     "name": "stdout",
     "output_type": "stream",
     "text": [
      "[1] \"Logistic regression M>=1cm performance on validation folds:\"\n"
     ]
    },
    {
     "data": {
      "text/html": [
       "<table>\n",
       "<thead><tr><th></th><th scope=col>Accuracy</th><th scope=col>Balanced_acc</th><th scope=col>Precision_long</th><th scope=col>Precision_short</th><th scope=col>Recall_long</th><th scope=col>Recall_short</th><th scope=col>F1_long</th><th scope=col>F1_short</th><th scope=col>Tile_cutoff</th><th scope=col>Tile_cutoff_SE</th></tr></thead>\n",
       "<tbody>\n",
       "\t<tr><th scope=row>Fold1</th><td>0.7924528</td><td>0.8143896</td><td>0.9245283</td><td>0.6603774</td><td>0.7313433</td><td>0.8974359</td><td>0.8166667</td><td>0.7608696</td><td>6.123937 </td><td>2.402157 </td></tr>\n",
       "\t<tr><th scope=row>Fold2</th><td>0.8773585</td><td>0.8786657</td><td>0.9152542</td><td>0.8297872</td><td>0.8709677</td><td>0.8863636</td><td>0.8925620</td><td>0.8571429</td><td>4.632022 </td><td>0.746372 </td></tr>\n",
       "\t<tr><th scope=row>Fold3</th><td>0.8113208</td><td>0.8559966</td><td>0.9821429</td><td>0.6200000</td><td>0.7432432</td><td>0.9687500</td><td>0.8461538</td><td>0.7560976</td><td>7.806023 </td><td>2.398120 </td></tr>\n",
       "\t<tr><th scope=row>Fold4</th><td>0.7924528</td><td>0.8475275</td><td>0.9827586</td><td>0.5625000</td><td>0.7307692</td><td>0.9642857</td><td>0.8382353</td><td>0.7105263</td><td>7.499915 </td><td>2.213443 </td></tr>\n",
       "\t<tr><th scope=row>Fold5</th><td>0.8571429</td><td>0.8517873</td><td>0.9275362</td><td>0.7222222</td><td>0.8648649</td><td>0.8387097</td><td>0.8951049</td><td>0.7761194</td><td>6.275538 </td><td>2.325775 </td></tr>\n",
       "</tbody>\n",
       "</table>\n"
      ],
      "text/latex": [
       "\\begin{tabular}{r|llllllllll}\n",
       "  & Accuracy & Balanced\\_acc & Precision\\_long & Precision\\_short & Recall\\_long & Recall\\_short & F1\\_long & F1\\_short & Tile\\_cutoff & Tile\\_cutoff\\_SE\\\\\n",
       "\\hline\n",
       "\tFold1 & 0.7924528 & 0.8143896 & 0.9245283 & 0.6603774 & 0.7313433 & 0.8974359 & 0.8166667 & 0.7608696 & 6.123937  & 2.402157 \\\\\n",
       "\tFold2 & 0.8773585 & 0.8786657 & 0.9152542 & 0.8297872 & 0.8709677 & 0.8863636 & 0.8925620 & 0.8571429 & 4.632022  & 0.746372 \\\\\n",
       "\tFold3 & 0.8113208 & 0.8559966 & 0.9821429 & 0.6200000 & 0.7432432 & 0.9687500 & 0.8461538 & 0.7560976 & 7.806023  & 2.398120 \\\\\n",
       "\tFold4 & 0.7924528 & 0.8475275 & 0.9827586 & 0.5625000 & 0.7307692 & 0.9642857 & 0.8382353 & 0.7105263 & 7.499915  & 2.213443 \\\\\n",
       "\tFold5 & 0.8571429 & 0.8517873 & 0.9275362 & 0.7222222 & 0.8648649 & 0.8387097 & 0.8951049 & 0.7761194 & 6.275538  & 2.325775 \\\\\n",
       "\\end{tabular}\n"
      ],
      "text/markdown": [
       "\n",
       "| <!--/--> | Accuracy | Balanced_acc | Precision_long | Precision_short | Recall_long | Recall_short | F1_long | F1_short | Tile_cutoff | Tile_cutoff_SE |\n",
       "|---|---|---|---|---|---|---|---|---|---|---|\n",
       "| Fold1 | 0.7924528 | 0.8143896 | 0.9245283 | 0.6603774 | 0.7313433 | 0.8974359 | 0.8166667 | 0.7608696 | 6.123937  | 2.402157  |\n",
       "| Fold2 | 0.8773585 | 0.8786657 | 0.9152542 | 0.8297872 | 0.8709677 | 0.8863636 | 0.8925620 | 0.8571429 | 4.632022  | 0.746372  |\n",
       "| Fold3 | 0.8113208 | 0.8559966 | 0.9821429 | 0.6200000 | 0.7432432 | 0.9687500 | 0.8461538 | 0.7560976 | 7.806023  | 2.398120  |\n",
       "| Fold4 | 0.7924528 | 0.8475275 | 0.9827586 | 0.5625000 | 0.7307692 | 0.9642857 | 0.8382353 | 0.7105263 | 7.499915  | 2.213443  |\n",
       "| Fold5 | 0.8571429 | 0.8517873 | 0.9275362 | 0.7222222 | 0.8648649 | 0.8387097 | 0.8951049 | 0.7761194 | 6.275538  | 2.325775  |\n",
       "\n"
      ],
      "text/plain": [
       "  Accuracy  Balanced_acc Precision_long Precision_short Recall_long\n",
       "1 0.7924528 0.8143896    0.9245283      0.6603774       0.7313433  \n",
       "2 0.8773585 0.8786657    0.9152542      0.8297872       0.8709677  \n",
       "3 0.8113208 0.8559966    0.9821429      0.6200000       0.7432432  \n",
       "4 0.7924528 0.8475275    0.9827586      0.5625000       0.7307692  \n",
       "5 0.8571429 0.8517873    0.9275362      0.7222222       0.8648649  \n",
       "  Recall_short F1_long   F1_short  Tile_cutoff Tile_cutoff_SE\n",
       "1 0.8974359    0.8166667 0.7608696 6.123937    2.402157      \n",
       "2 0.8863636    0.8925620 0.8571429 4.632022    0.746372      \n",
       "3 0.9687500    0.8461538 0.7560976 7.806023    2.398120      \n",
       "4 0.9642857    0.8382353 0.7105263 7.499915    2.213443      \n",
       "5 0.8387097    0.8951049 0.7761194 6.275538    2.325775      "
      ]
     },
     "metadata": {},
     "output_type": "display_data"
    },
    {
     "name": "stdout",
     "output_type": "stream",
     "text": [
      "[1] \"Means:\"\n"
     ]
    },
    {
     "data": {
      "text/html": [
       "<dl class=dl-horizontal>\n",
       "\t<dt>Accuracy</dt>\n",
       "\t\t<dd>0.826145552560647</dd>\n",
       "\t<dt>Balanced_acc</dt>\n",
       "\t\t<dd>0.849673328989952</dd>\n",
       "\t<dt>Precision_long</dt>\n",
       "\t\t<dd>0.9464440497783</dd>\n",
       "\t<dt>Precision_short</dt>\n",
       "\t\t<dd>0.678977362951068</dd>\n",
       "\t<dt>Recall_long</dt>\n",
       "\t\t<dd>0.788237672878982</dd>\n",
       "\t<dt>Recall_short</dt>\n",
       "\t\t<dd>0.911108985100921</dd>\n",
       "\t<dt>F1_long</dt>\n",
       "\t\t<dd>0.857744537102826</dd>\n",
       "\t<dt>F1_short</dt>\n",
       "\t\t<dd>0.772151140422081</dd>\n",
       "\t<dt>Tile_cutoff</dt>\n",
       "\t\t<dd>6.46748706648847</dd>\n",
       "\t<dt>Tile_cutoff_SE</dt>\n",
       "\t\t<dd>2.01717332068548</dd>\n",
       "</dl>\n"
      ],
      "text/latex": [
       "\\begin{description*}\n",
       "\\item[Accuracy] 0.826145552560647\n",
       "\\item[Balanced\\textbackslash{}\\_acc] 0.849673328989952\n",
       "\\item[Precision\\textbackslash{}\\_long] 0.9464440497783\n",
       "\\item[Precision\\textbackslash{}\\_short] 0.678977362951068\n",
       "\\item[Recall\\textbackslash{}\\_long] 0.788237672878982\n",
       "\\item[Recall\\textbackslash{}\\_short] 0.911108985100921\n",
       "\\item[F1\\textbackslash{}\\_long] 0.857744537102826\n",
       "\\item[F1\\textbackslash{}\\_short] 0.772151140422081\n",
       "\\item[Tile\\textbackslash{}\\_cutoff] 6.46748706648847\n",
       "\\item[Tile\\textbackslash{}\\_cutoff\\textbackslash{}\\_SE] 2.01717332068548\n",
       "\\end{description*}\n"
      ],
      "text/markdown": [
       "Accuracy\n",
       ":   0.826145552560647Balanced_acc\n",
       ":   0.849673328989952Precision_long\n",
       ":   0.9464440497783Precision_short\n",
       ":   0.678977362951068Recall_long\n",
       ":   0.788237672878982Recall_short\n",
       ":   0.911108985100921F1_long\n",
       ":   0.857744537102826F1_short\n",
       ":   0.772151140422081Tile_cutoff\n",
       ":   6.46748706648847Tile_cutoff_SE\n",
       ":   2.01717332068548\n",
       "\n"
      ],
      "text/plain": [
       "       Accuracy    Balanced_acc  Precision_long Precision_short     Recall_long \n",
       "      0.8261456       0.8496733       0.9464440       0.6789774       0.7882377 \n",
       "   Recall_short         F1_long        F1_short     Tile_cutoff  Tile_cutoff_SE \n",
       "      0.9111090       0.8577445       0.7721511       6.4674871       2.0171733 "
      ]
     },
     "metadata": {},
     "output_type": "display_data"
    },
    {
     "name": "stdout",
     "output_type": "stream",
     "text": [
      "[1] \"Standard deviations:\"\n"
     ]
    },
    {
     "data": {
      "text/html": [
       "<dl class=dl-horizontal>\n",
       "\t<dt>Accuracy</dt>\n",
       "\t\t<dd>0.038967202950946</dd>\n",
       "\t<dt>Balanced_acc</dt>\n",
       "\t\t<dd>0.023100631105573</dd>\n",
       "\t<dt>Precision_long</dt>\n",
       "\t\t<dd>0.0331804268133532</dd>\n",
       "\t<dt>Precision_short</dt>\n",
       "\t\t<dd>0.102475607656944</dd>\n",
       "\t<dt>Recall_long</dt>\n",
       "\t\t<dd>0.072938472269387</dd>\n",
       "\t<dt>Recall_short</dt>\n",
       "\t\t<dd>0.0552068756781799</dd>\n",
       "\t<dt>F1_long</dt>\n",
       "\t\t<dd>0.0346785129429883</dd>\n",
       "\t<dt>F1_short</dt>\n",
       "\t\t<dd>0.0534367602453039</dd>\n",
       "\t<dt>Tile_cutoff</dt>\n",
       "\t\t<dd>1.2630704687612</dd>\n",
       "\t<dt>Tile_cutoff_SE</dt>\n",
       "\t\t<dd>0.714497265437513</dd>\n",
       "</dl>\n"
      ],
      "text/latex": [
       "\\begin{description*}\n",
       "\\item[Accuracy] 0.038967202950946\n",
       "\\item[Balanced\\textbackslash{}\\_acc] 0.023100631105573\n",
       "\\item[Precision\\textbackslash{}\\_long] 0.0331804268133532\n",
       "\\item[Precision\\textbackslash{}\\_short] 0.102475607656944\n",
       "\\item[Recall\\textbackslash{}\\_long] 0.072938472269387\n",
       "\\item[Recall\\textbackslash{}\\_short] 0.0552068756781799\n",
       "\\item[F1\\textbackslash{}\\_long] 0.0346785129429883\n",
       "\\item[F1\\textbackslash{}\\_short] 0.0534367602453039\n",
       "\\item[Tile\\textbackslash{}\\_cutoff] 1.2630704687612\n",
       "\\item[Tile\\textbackslash{}\\_cutoff\\textbackslash{}\\_SE] 0.714497265437513\n",
       "\\end{description*}\n"
      ],
      "text/markdown": [
       "Accuracy\n",
       ":   0.038967202950946Balanced_acc\n",
       ":   0.023100631105573Precision_long\n",
       ":   0.0331804268133532Precision_short\n",
       ":   0.102475607656944Recall_long\n",
       ":   0.072938472269387Recall_short\n",
       ":   0.0552068756781799F1_long\n",
       ":   0.0346785129429883F1_short\n",
       ":   0.0534367602453039Tile_cutoff\n",
       ":   1.2630704687612Tile_cutoff_SE\n",
       ":   0.714497265437513\n",
       "\n"
      ],
      "text/plain": [
       "       Accuracy    Balanced_acc  Precision_long Precision_short     Recall_long \n",
       "     0.03896720      0.02310063      0.03318043      0.10247561      0.07293847 \n",
       "   Recall_short         F1_long        F1_short     Tile_cutoff  Tile_cutoff_SE \n",
       "     0.05520688      0.03467851      0.05343676      1.26307047      0.71449727 "
      ]
     },
     "metadata": {},
     "output_type": "display_data"
    }
   ],
   "source": [
    "# M>=1\n",
    "results = rbindlist(list(fold1_m1, fold2_m1, fold3_m1, fold4_m1, fold5_m1))\n",
    "row.names(results) = list(\"Fold1\", \"Fold2\", \"Fold3\", \"Fold4\", \"Fold5\")\n",
    "print('Logistic regression M>=1cm performance on validation folds:')\n",
    "results\n",
    "print(\"Means:\")\n",
    "colMeans(results)\n",
    "print(\"Standard deviations:\")\n",
    "sapply(results, sd)"
   ]
  },
  {
   "cell_type": "code",
   "execution_count": 28,
   "id": "6ac6a55a",
   "metadata": {},
   "outputs": [
    {
     "name": "stdout",
     "output_type": "stream",
     "text": [
      "[1] \"Logistic regression M>=3cm performance on validation folds:\"\n"
     ]
    },
    {
     "data": {
      "text/html": [
       "<table>\n",
       "<thead><tr><th></th><th scope=col>Accuracy</th><th scope=col>Balanced_acc</th><th scope=col>Precision_long</th><th scope=col>Precision_short</th><th scope=col>Recall_long</th><th scope=col>Recall_short</th><th scope=col>F1_long</th><th scope=col>F1_short</th><th scope=col>Tile_cutoff</th><th scope=col>Tile_cutoff_SE</th></tr></thead>\n",
       "<tbody>\n",
       "\t<tr><th scope=row>Fold1</th><td>0.8113208</td><td>0.8091168</td><td>0.9000000</td><td>0.7575758</td><td>0.6923077</td><td>0.9259259</td><td>0.7826087</td><td>0.8333333</td><td>25.35430 </td><td>3.939992 </td></tr>\n",
       "\t<tr><th scope=row>Fold2</th><td>0.8207547</td><td>0.8226496</td><td>0.9069767</td><td>0.7619048</td><td>0.7222222</td><td>0.9230769</td><td>0.8041237</td><td>0.8347826</td><td>22.79752 </td><td>3.199179 </td></tr>\n",
       "\t<tr><th scope=row>Fold3</th><td>0.7264151</td><td>0.7628299</td><td>0.9714286</td><td>0.6056338</td><td>0.5483871</td><td>0.9772727</td><td>0.7010309</td><td>0.7478261</td><td>32.01544 </td><td>4.806832 </td></tr>\n",
       "\t<tr><th scope=row>Fold4</th><td>0.7641509</td><td>0.7729895</td><td>0.8541667</td><td>0.6896552</td><td>0.6949153</td><td>0.8510638</td><td>0.7663551</td><td>0.7619048</td><td>23.76343 </td><td>3.547918 </td></tr>\n",
       "\t<tr><th scope=row>Fold5</th><td>0.8380952</td><td>0.8611111</td><td>0.9791667</td><td>0.7192982</td><td>0.7460317</td><td>0.9761905</td><td>0.8468468</td><td>0.8282828</td><td>28.14866 </td><td>4.411702 </td></tr>\n",
       "</tbody>\n",
       "</table>\n"
      ],
      "text/latex": [
       "\\begin{tabular}{r|llllllllll}\n",
       "  & Accuracy & Balanced\\_acc & Precision\\_long & Precision\\_short & Recall\\_long & Recall\\_short & F1\\_long & F1\\_short & Tile\\_cutoff & Tile\\_cutoff\\_SE\\\\\n",
       "\\hline\n",
       "\tFold1 & 0.8113208 & 0.8091168 & 0.9000000 & 0.7575758 & 0.6923077 & 0.9259259 & 0.7826087 & 0.8333333 & 25.35430  & 3.939992 \\\\\n",
       "\tFold2 & 0.8207547 & 0.8226496 & 0.9069767 & 0.7619048 & 0.7222222 & 0.9230769 & 0.8041237 & 0.8347826 & 22.79752  & 3.199179 \\\\\n",
       "\tFold3 & 0.7264151 & 0.7628299 & 0.9714286 & 0.6056338 & 0.5483871 & 0.9772727 & 0.7010309 & 0.7478261 & 32.01544  & 4.806832 \\\\\n",
       "\tFold4 & 0.7641509 & 0.7729895 & 0.8541667 & 0.6896552 & 0.6949153 & 0.8510638 & 0.7663551 & 0.7619048 & 23.76343  & 3.547918 \\\\\n",
       "\tFold5 & 0.8380952 & 0.8611111 & 0.9791667 & 0.7192982 & 0.7460317 & 0.9761905 & 0.8468468 & 0.8282828 & 28.14866  & 4.411702 \\\\\n",
       "\\end{tabular}\n"
      ],
      "text/markdown": [
       "\n",
       "| <!--/--> | Accuracy | Balanced_acc | Precision_long | Precision_short | Recall_long | Recall_short | F1_long | F1_short | Tile_cutoff | Tile_cutoff_SE |\n",
       "|---|---|---|---|---|---|---|---|---|---|---|\n",
       "| Fold1 | 0.8113208 | 0.8091168 | 0.9000000 | 0.7575758 | 0.6923077 | 0.9259259 | 0.7826087 | 0.8333333 | 25.35430  | 3.939992  |\n",
       "| Fold2 | 0.8207547 | 0.8226496 | 0.9069767 | 0.7619048 | 0.7222222 | 0.9230769 | 0.8041237 | 0.8347826 | 22.79752  | 3.199179  |\n",
       "| Fold3 | 0.7264151 | 0.7628299 | 0.9714286 | 0.6056338 | 0.5483871 | 0.9772727 | 0.7010309 | 0.7478261 | 32.01544  | 4.806832  |\n",
       "| Fold4 | 0.7641509 | 0.7729895 | 0.8541667 | 0.6896552 | 0.6949153 | 0.8510638 | 0.7663551 | 0.7619048 | 23.76343  | 3.547918  |\n",
       "| Fold5 | 0.8380952 | 0.8611111 | 0.9791667 | 0.7192982 | 0.7460317 | 0.9761905 | 0.8468468 | 0.8282828 | 28.14866  | 4.411702  |\n",
       "\n"
      ],
      "text/plain": [
       "  Accuracy  Balanced_acc Precision_long Precision_short Recall_long\n",
       "1 0.8113208 0.8091168    0.9000000      0.7575758       0.6923077  \n",
       "2 0.8207547 0.8226496    0.9069767      0.7619048       0.7222222  \n",
       "3 0.7264151 0.7628299    0.9714286      0.6056338       0.5483871  \n",
       "4 0.7641509 0.7729895    0.8541667      0.6896552       0.6949153  \n",
       "5 0.8380952 0.8611111    0.9791667      0.7192982       0.7460317  \n",
       "  Recall_short F1_long   F1_short  Tile_cutoff Tile_cutoff_SE\n",
       "1 0.9259259    0.7826087 0.8333333 25.35430    3.939992      \n",
       "2 0.9230769    0.8041237 0.8347826 22.79752    3.199179      \n",
       "3 0.9772727    0.7010309 0.7478261 32.01544    4.806832      \n",
       "4 0.8510638    0.7663551 0.7619048 23.76343    3.547918      \n",
       "5 0.9761905    0.8468468 0.8282828 28.14866    4.411702      "
      ]
     },
     "metadata": {},
     "output_type": "display_data"
    },
    {
     "name": "stdout",
     "output_type": "stream",
     "text": [
      "[1] \"Means:\"\n"
     ]
    },
    {
     "data": {
      "text/html": [
       "<dl class=dl-horizontal>\n",
       "\t<dt>Accuracy</dt>\n",
       "\t\t<dd>0.79214734950584</dd>\n",
       "\t<dt>Balanced_acc</dt>\n",
       "\t\t<dd>0.805739389382643</dd>\n",
       "\t<dt>Precision_long</dt>\n",
       "\t\t<dd>0.92234772978959</dd>\n",
       "\t<dt>Precision_short</dt>\n",
       "\t\t<dd>0.70681354806505</dd>\n",
       "\t<dt>Recall_long</dt>\n",
       "\t\t<dd>0.680772802314628</dd>\n",
       "\t<dt>Recall_short</dt>\n",
       "\t\t<dd>0.930705976450657</dd>\n",
       "\t<dt>F1_long</dt>\n",
       "\t\t<dd>0.780193064372239</dd>\n",
       "\t<dt>F1_short</dt>\n",
       "\t\t<dd>0.80122592383462</dd>\n",
       "\t<dt>Tile_cutoff</dt>\n",
       "\t\t<dd>26.4158705892846</dd>\n",
       "\t<dt>Tile_cutoff_SE</dt>\n",
       "\t\t<dd>3.98112454351814</dd>\n",
       "</dl>\n"
      ],
      "text/latex": [
       "\\begin{description*}\n",
       "\\item[Accuracy] 0.79214734950584\n",
       "\\item[Balanced\\textbackslash{}\\_acc] 0.805739389382643\n",
       "\\item[Precision\\textbackslash{}\\_long] 0.92234772978959\n",
       "\\item[Precision\\textbackslash{}\\_short] 0.70681354806505\n",
       "\\item[Recall\\textbackslash{}\\_long] 0.680772802314628\n",
       "\\item[Recall\\textbackslash{}\\_short] 0.930705976450657\n",
       "\\item[F1\\textbackslash{}\\_long] 0.780193064372239\n",
       "\\item[F1\\textbackslash{}\\_short] 0.80122592383462\n",
       "\\item[Tile\\textbackslash{}\\_cutoff] 26.4158705892846\n",
       "\\item[Tile\\textbackslash{}\\_cutoff\\textbackslash{}\\_SE] 3.98112454351814\n",
       "\\end{description*}\n"
      ],
      "text/markdown": [
       "Accuracy\n",
       ":   0.79214734950584Balanced_acc\n",
       ":   0.805739389382643Precision_long\n",
       ":   0.92234772978959Precision_short\n",
       ":   0.70681354806505Recall_long\n",
       ":   0.680772802314628Recall_short\n",
       ":   0.930705976450657F1_long\n",
       ":   0.780193064372239F1_short\n",
       ":   0.80122592383462Tile_cutoff\n",
       ":   26.4158705892846Tile_cutoff_SE\n",
       ":   3.98112454351814\n",
       "\n"
      ],
      "text/plain": [
       "       Accuracy    Balanced_acc  Precision_long Precision_short     Recall_long \n",
       "      0.7921473       0.8057394       0.9223477       0.7068135       0.6807728 \n",
       "   Recall_short         F1_long        F1_short     Tile_cutoff  Tile_cutoff_SE \n",
       "      0.9307060       0.7801931       0.8012259      26.4158706       3.9811245 "
      ]
     },
     "metadata": {},
     "output_type": "display_data"
    },
    {
     "name": "stdout",
     "output_type": "stream",
     "text": [
      "[1] \"Standard deviations:\"\n"
     ]
    },
    {
     "data": {
      "text/html": [
       "<dl class=dl-horizontal>\n",
       "\t<dt>Accuracy</dt>\n",
       "\t\t<dd>0.0458304962098707</dd>\n",
       "\t<dt>Balanced_acc</dt>\n",
       "\t\t<dd>0.0396142795573083</dd>\n",
       "\t<dt>Precision_long</dt>\n",
       "\t\t<dd>0.0524920617750363</dd>\n",
       "\t<dt>Precision_short</dt>\n",
       "\t\t<dd>0.0638346734406572</dd>\n",
       "\t<dt>Recall_long</dt>\n",
       "\t\t<dd>0.0771942708540043</dd>\n",
       "\t<dt>Recall_short</dt>\n",
       "\t\t<dd>0.0516266037578079</dd>\n",
       "\t<dt>F1_long</dt>\n",
       "\t\t<dd>0.0535709106321927</dd>\n",
       "\t<dt>F1_short</dt>\n",
       "\t\t<dd>0.0426811119701144</dd>\n",
       "\t<dt>Tile_cutoff</dt>\n",
       "\t\t<dd>3.72869231649065</dd>\n",
       "\t<dt>Tile_cutoff_SE</dt>\n",
       "\t\t<dd>0.645753102906989</dd>\n",
       "</dl>\n"
      ],
      "text/latex": [
       "\\begin{description*}\n",
       "\\item[Accuracy] 0.0458304962098707\n",
       "\\item[Balanced\\textbackslash{}\\_acc] 0.0396142795573083\n",
       "\\item[Precision\\textbackslash{}\\_long] 0.0524920617750363\n",
       "\\item[Precision\\textbackslash{}\\_short] 0.0638346734406572\n",
       "\\item[Recall\\textbackslash{}\\_long] 0.0771942708540043\n",
       "\\item[Recall\\textbackslash{}\\_short] 0.0516266037578079\n",
       "\\item[F1\\textbackslash{}\\_long] 0.0535709106321927\n",
       "\\item[F1\\textbackslash{}\\_short] 0.0426811119701144\n",
       "\\item[Tile\\textbackslash{}\\_cutoff] 3.72869231649065\n",
       "\\item[Tile\\textbackslash{}\\_cutoff\\textbackslash{}\\_SE] 0.645753102906989\n",
       "\\end{description*}\n"
      ],
      "text/markdown": [
       "Accuracy\n",
       ":   0.0458304962098707Balanced_acc\n",
       ":   0.0396142795573083Precision_long\n",
       ":   0.0524920617750363Precision_short\n",
       ":   0.0638346734406572Recall_long\n",
       ":   0.0771942708540043Recall_short\n",
       ":   0.0516266037578079F1_long\n",
       ":   0.0535709106321927F1_short\n",
       ":   0.0426811119701144Tile_cutoff\n",
       ":   3.72869231649065Tile_cutoff_SE\n",
       ":   0.645753102906989\n",
       "\n"
      ],
      "text/plain": [
       "       Accuracy    Balanced_acc  Precision_long Precision_short     Recall_long \n",
       "     0.04583050      0.03961428      0.05249206      0.06383467      0.07719427 \n",
       "   Recall_short         F1_long        F1_short     Tile_cutoff  Tile_cutoff_SE \n",
       "     0.05162660      0.05357091      0.04268111      3.72869232      0.64575310 "
      ]
     },
     "metadata": {},
     "output_type": "display_data"
    }
   ],
   "source": [
    "# M>=3\n",
    "results = rbindlist(list(fold1_m3, fold2_m3, fold3_m3, fold4_m3, fold5_m3))\n",
    "row.names(results) = list(\"Fold1\", \"Fold2\", \"Fold3\", \"Fold4\", \"Fold5\")\n",
    "print('Logistic regression M>=3cm performance on validation folds:')\n",
    "results\n",
    "print(\"Means:\")\n",
    "colMeans(results)\n",
    "print(\"Standard deviations:\")\n",
    "sapply(results, sd)"
   ]
  },
  {
   "cell_type": "code",
   "execution_count": 29,
   "id": "a8bf3f9c",
   "metadata": {},
   "outputs": [
    {
     "name": "stdout",
     "output_type": "stream",
     "text": [
      "[1] \"Logistic regression M>=4cm performance on validation folds:\"\n"
     ]
    },
    {
     "data": {
      "text/html": [
       "<table>\n",
       "<thead><tr><th></th><th scope=col>Accuracy</th><th scope=col>Balanced_acc</th><th scope=col>Precision_long</th><th scope=col>Precision_short</th><th scope=col>Recall_long</th><th scope=col>Recall_short</th><th scope=col>F1_long</th><th scope=col>F1_short</th><th scope=col>Tile_cutoff</th><th scope=col>Tile_cutoff_SE</th></tr></thead>\n",
       "<tbody>\n",
       "\t<tr><th scope=row>Fold1</th><td>0.8018868</td><td>0.7473485</td><td>0.9130435</td><td>0.7710843</td><td>0.5250000</td><td>0.9696970</td><td>0.6666667</td><td>0.8590604</td><td>60.29165 </td><td>7.463463 </td></tr>\n",
       "\t<tr><th scope=row>Fold2</th><td>0.7830189</td><td>0.7518939</td><td>0.7575758</td><td>0.7945205</td><td>0.6250000</td><td>0.8787879</td><td>0.6849315</td><td>0.8345324</td><td>49.65496 </td><td>5.847664 </td></tr>\n",
       "\t<tr><th scope=row>Fold3</th><td>0.6698113</td><td>0.6638177</td><td>0.9473684</td><td>0.6091954</td><td>0.3461538</td><td>0.9814815</td><td>0.5070423</td><td>0.7517730</td><td>74.03452 </td><td>8.838432 </td></tr>\n",
       "\t<tr><th scope=row>Fold4</th><td>0.8301887</td><td>0.8170290</td><td>0.8684211</td><td>0.8088235</td><td>0.7173913</td><td>0.9166667</td><td>0.7857143</td><td>0.8593750</td><td>61.61561 </td><td>8.053148 </td></tr>\n",
       "\t<tr><th scope=row>Fold5</th><td>0.7714286</td><td>0.7878289</td><td>0.9714286</td><td>0.6714286</td><td>0.5964912</td><td>0.9791667</td><td>0.7391304</td><td>0.7966102</td><td>74.58965 </td><td>9.625424 </td></tr>\n",
       "</tbody>\n",
       "</table>\n"
      ],
      "text/latex": [
       "\\begin{tabular}{r|llllllllll}\n",
       "  & Accuracy & Balanced\\_acc & Precision\\_long & Precision\\_short & Recall\\_long & Recall\\_short & F1\\_long & F1\\_short & Tile\\_cutoff & Tile\\_cutoff\\_SE\\\\\n",
       "\\hline\n",
       "\tFold1 & 0.8018868 & 0.7473485 & 0.9130435 & 0.7710843 & 0.5250000 & 0.9696970 & 0.6666667 & 0.8590604 & 60.29165  & 7.463463 \\\\\n",
       "\tFold2 & 0.7830189 & 0.7518939 & 0.7575758 & 0.7945205 & 0.6250000 & 0.8787879 & 0.6849315 & 0.8345324 & 49.65496  & 5.847664 \\\\\n",
       "\tFold3 & 0.6698113 & 0.6638177 & 0.9473684 & 0.6091954 & 0.3461538 & 0.9814815 & 0.5070423 & 0.7517730 & 74.03452  & 8.838432 \\\\\n",
       "\tFold4 & 0.8301887 & 0.8170290 & 0.8684211 & 0.8088235 & 0.7173913 & 0.9166667 & 0.7857143 & 0.8593750 & 61.61561  & 8.053148 \\\\\n",
       "\tFold5 & 0.7714286 & 0.7878289 & 0.9714286 & 0.6714286 & 0.5964912 & 0.9791667 & 0.7391304 & 0.7966102 & 74.58965  & 9.625424 \\\\\n",
       "\\end{tabular}\n"
      ],
      "text/markdown": [
       "\n",
       "| <!--/--> | Accuracy | Balanced_acc | Precision_long | Precision_short | Recall_long | Recall_short | F1_long | F1_short | Tile_cutoff | Tile_cutoff_SE |\n",
       "|---|---|---|---|---|---|---|---|---|---|---|\n",
       "| Fold1 | 0.8018868 | 0.7473485 | 0.9130435 | 0.7710843 | 0.5250000 | 0.9696970 | 0.6666667 | 0.8590604 | 60.29165  | 7.463463  |\n",
       "| Fold2 | 0.7830189 | 0.7518939 | 0.7575758 | 0.7945205 | 0.6250000 | 0.8787879 | 0.6849315 | 0.8345324 | 49.65496  | 5.847664  |\n",
       "| Fold3 | 0.6698113 | 0.6638177 | 0.9473684 | 0.6091954 | 0.3461538 | 0.9814815 | 0.5070423 | 0.7517730 | 74.03452  | 8.838432  |\n",
       "| Fold4 | 0.8301887 | 0.8170290 | 0.8684211 | 0.8088235 | 0.7173913 | 0.9166667 | 0.7857143 | 0.8593750 | 61.61561  | 8.053148  |\n",
       "| Fold5 | 0.7714286 | 0.7878289 | 0.9714286 | 0.6714286 | 0.5964912 | 0.9791667 | 0.7391304 | 0.7966102 | 74.58965  | 9.625424  |\n",
       "\n"
      ],
      "text/plain": [
       "  Accuracy  Balanced_acc Precision_long Precision_short Recall_long\n",
       "1 0.8018868 0.7473485    0.9130435      0.7710843       0.5250000  \n",
       "2 0.7830189 0.7518939    0.7575758      0.7945205       0.6250000  \n",
       "3 0.6698113 0.6638177    0.9473684      0.6091954       0.3461538  \n",
       "4 0.8301887 0.8170290    0.8684211      0.8088235       0.7173913  \n",
       "5 0.7714286 0.7878289    0.9714286      0.6714286       0.5964912  \n",
       "  Recall_short F1_long   F1_short  Tile_cutoff Tile_cutoff_SE\n",
       "1 0.9696970    0.6666667 0.8590604 60.29165    7.463463      \n",
       "2 0.8787879    0.6849315 0.8345324 49.65496    5.847664      \n",
       "3 0.9814815    0.5070423 0.7517730 74.03452    8.838432      \n",
       "4 0.9166667    0.7857143 0.8593750 61.61561    8.053148      \n",
       "5 0.9791667    0.7391304 0.7966102 74.58965    9.625424      "
      ]
     },
     "metadata": {},
     "output_type": "display_data"
    },
    {
     "name": "stdout",
     "output_type": "stream",
     "text": [
      "[1] \"Means:\"\n"
     ]
    },
    {
     "data": {
      "text/html": [
       "<dl class=dl-horizontal>\n",
       "\t<dt>Accuracy</dt>\n",
       "\t\t<dd>0.771266846361186</dd>\n",
       "\t<dt>Balanced_acc</dt>\n",
       "\t\t<dd>0.753583604187151</dd>\n",
       "\t<dt>Precision_long</dt>\n",
       "\t\t<dd>0.891567456189882</dd>\n",
       "\t<dt>Precision_short</dt>\n",
       "\t\t<dd>0.731010477686758</dd>\n",
       "\t<dt>Recall_long</dt>\n",
       "\t\t<dd>0.562007275714369</dd>\n",
       "\t<dt>Recall_short</dt>\n",
       "\t\t<dd>0.945159932659933</dd>\n",
       "\t<dt>F1_long</dt>\n",
       "\t\t<dd>0.676697029506801</dd>\n",
       "\t<dt>F1_short</dt>\n",
       "\t\t<dd>0.82027019918444</dd>\n",
       "\t<dt>Tile_cutoff</dt>\n",
       "\t\t<dd>64.0372782424556</dd>\n",
       "\t<dt>Tile_cutoff_SE</dt>\n",
       "\t\t<dd>7.96562632259677</dd>\n",
       "</dl>\n"
      ],
      "text/latex": [
       "\\begin{description*}\n",
       "\\item[Accuracy] 0.771266846361186\n",
       "\\item[Balanced\\textbackslash{}\\_acc] 0.753583604187151\n",
       "\\item[Precision\\textbackslash{}\\_long] 0.891567456189882\n",
       "\\item[Precision\\textbackslash{}\\_short] 0.731010477686758\n",
       "\\item[Recall\\textbackslash{}\\_long] 0.562007275714369\n",
       "\\item[Recall\\textbackslash{}\\_short] 0.945159932659933\n",
       "\\item[F1\\textbackslash{}\\_long] 0.676697029506801\n",
       "\\item[F1\\textbackslash{}\\_short] 0.82027019918444\n",
       "\\item[Tile\\textbackslash{}\\_cutoff] 64.0372782424556\n",
       "\\item[Tile\\textbackslash{}\\_cutoff\\textbackslash{}\\_SE] 7.96562632259677\n",
       "\\end{description*}\n"
      ],
      "text/markdown": [
       "Accuracy\n",
       ":   0.771266846361186Balanced_acc\n",
       ":   0.753583604187151Precision_long\n",
       ":   0.891567456189882Precision_short\n",
       ":   0.731010477686758Recall_long\n",
       ":   0.562007275714369Recall_short\n",
       ":   0.945159932659933F1_long\n",
       ":   0.676697029506801F1_short\n",
       ":   0.82027019918444Tile_cutoff\n",
       ":   64.0372782424556Tile_cutoff_SE\n",
       ":   7.96562632259677\n",
       "\n"
      ],
      "text/plain": [
       "       Accuracy    Balanced_acc  Precision_long Precision_short     Recall_long \n",
       "      0.7712668       0.7535836       0.8915675       0.7310105       0.5620073 \n",
       "   Recall_short         F1_long        F1_short     Tile_cutoff  Tile_cutoff_SE \n",
       "      0.9451599       0.6766970       0.8202702      64.0372782       7.9656263 "
      ]
     },
     "metadata": {},
     "output_type": "display_data"
    },
    {
     "name": "stdout",
     "output_type": "stream",
     "text": [
      "[1] \"Standard deviations:\"\n"
     ]
    },
    {
     "data": {
      "text/html": [
       "<dl class=dl-horizontal>\n",
       "\t<dt>Accuracy</dt>\n",
       "\t\t<dd>0.0609112537446576</dd>\n",
       "\t<dt>Balanced_acc</dt>\n",
       "\t\t<dd>0.0576578608499188</dd>\n",
       "\t<dt>Precision_long</dt>\n",
       "\t\t<dd>0.0843242198688443</dd>\n",
       "\t<dt>Precision_short</dt>\n",
       "\t\t<dd>0.0867225899295756</dd>\n",
       "\t<dt>Recall_long</dt>\n",
       "\t\t<dd>0.138981711158523</dd>\n",
       "\t<dt>Recall_short</dt>\n",
       "\t\t<dd>0.0455381565154862</dd>\n",
       "\t<dt>F1_long</dt>\n",
       "\t\t<dd>0.105751891302118</dd>\n",
       "\t<dt>F1_short</dt>\n",
       "\t\t<dd>0.0460676987372735</dd>\n",
       "\t<dt>Tile_cutoff</dt>\n",
       "\t\t<dd>10.4647355616364</dd>\n",
       "\t<dt>Tile_cutoff_SE</dt>\n",
       "\t\t<dd>1.4372118172605</dd>\n",
       "</dl>\n"
      ],
      "text/latex": [
       "\\begin{description*}\n",
       "\\item[Accuracy] 0.0609112537446576\n",
       "\\item[Balanced\\textbackslash{}\\_acc] 0.0576578608499188\n",
       "\\item[Precision\\textbackslash{}\\_long] 0.0843242198688443\n",
       "\\item[Precision\\textbackslash{}\\_short] 0.0867225899295756\n",
       "\\item[Recall\\textbackslash{}\\_long] 0.138981711158523\n",
       "\\item[Recall\\textbackslash{}\\_short] 0.0455381565154862\n",
       "\\item[F1\\textbackslash{}\\_long] 0.105751891302118\n",
       "\\item[F1\\textbackslash{}\\_short] 0.0460676987372735\n",
       "\\item[Tile\\textbackslash{}\\_cutoff] 10.4647355616364\n",
       "\\item[Tile\\textbackslash{}\\_cutoff\\textbackslash{}\\_SE] 1.4372118172605\n",
       "\\end{description*}\n"
      ],
      "text/markdown": [
       "Accuracy\n",
       ":   0.0609112537446576Balanced_acc\n",
       ":   0.0576578608499188Precision_long\n",
       ":   0.0843242198688443Precision_short\n",
       ":   0.0867225899295756Recall_long\n",
       ":   0.138981711158523Recall_short\n",
       ":   0.0455381565154862F1_long\n",
       ":   0.105751891302118F1_short\n",
       ":   0.0460676987372735Tile_cutoff\n",
       ":   10.4647355616364Tile_cutoff_SE\n",
       ":   1.4372118172605\n",
       "\n"
      ],
      "text/plain": [
       "       Accuracy    Balanced_acc  Precision_long Precision_short     Recall_long \n",
       "     0.06091125      0.05765786      0.08432422      0.08672259      0.13898171 \n",
       "   Recall_short         F1_long        F1_short     Tile_cutoff  Tile_cutoff_SE \n",
       "     0.04553816      0.10575189      0.04606770     10.46473556      1.43721182 "
      ]
     },
     "metadata": {},
     "output_type": "display_data"
    }
   ],
   "source": [
    "# M>=4\n",
    "results = rbindlist(list(fold1_m4, fold2_m4, fold3_m4, fold4_m4, fold5_m4))\n",
    "row.names(results) = list(\"Fold1\", \"Fold2\", \"Fold3\", \"Fold4\", \"Fold5\")\n",
    "print('Logistic regression M>=4cm performance on validation folds:')\n",
    "results\n",
    "print(\"Means:\")\n",
    "colMeans(results)\n",
    "print(\"Standard deviations:\")\n",
    "sapply(results, sd)"
   ]
  },
  {
   "cell_type": "code",
   "execution_count": 30,
   "id": "2517670f",
   "metadata": {},
   "outputs": [
    {
     "name": "stdout",
     "output_type": "stream",
     "text": [
      "[1] \"Logistic regression M>=5cm performance on validation folds:\"\n"
     ]
    },
    {
     "data": {
      "text/html": [
       "<table>\n",
       "<thead><tr><th></th><th scope=col>Accuracy</th><th scope=col>Balanced_acc</th><th scope=col>Precision_long</th><th scope=col>Precision_short</th><th scope=col>Recall_long</th><th scope=col>Recall_short</th><th scope=col>F1_long</th><th scope=col>F1_short</th><th scope=col>Tile_cutoff</th><th scope=col>Tile_cutoff_SE</th></tr></thead>\n",
       "<tbody>\n",
       "\t<tr><th scope=row>Fold1</th><td>0.8490566</td><td>0.7535088</td><td>0.8888889</td><td>0.8409091</td><td>0.5333333</td><td>0.9736842</td><td>0.6666667</td><td>0.9024390</td><td>166.7215 </td><td>22.24327 </td></tr>\n",
       "\t<tr><th scope=row>Fold2</th><td>0.8301887</td><td>0.7586996</td><td>0.7083333</td><td>0.8658537</td><td>0.6071429</td><td>0.9102564</td><td>0.6538462</td><td>0.8875000</td><td>105.8656 </td><td>11.89924 </td></tr>\n",
       "\t<tr><th scope=row>Fold3</th><td>0.6603774</td><td>0.6029144</td><td>0.9090909</td><td>0.6315789</td><td>0.2222222</td><td>0.9836066</td><td>0.3571429</td><td>0.7692308</td><td>191.6891 </td><td>23.24246 </td></tr>\n",
       "\t<tr><th scope=row>Fold4</th><td>0.8113208</td><td>0.7484520</td><td>0.9090909</td><td>0.7857143</td><td>0.5263158</td><td>0.9705882</td><td>0.6666667</td><td>0.8684211</td><td>165.6450 </td><td>22.39686 </td></tr>\n",
       "\t<tr><th scope=row>Fold5</th><td>0.7333333</td><td>0.6851088</td><td>0.8571429</td><td>0.7023810</td><td>0.4186047</td><td>0.9516129</td><td>0.5625000</td><td>0.8082192</td><td>168.8066 </td><td>21.81099 </td></tr>\n",
       "</tbody>\n",
       "</table>\n"
      ],
      "text/latex": [
       "\\begin{tabular}{r|llllllllll}\n",
       "  & Accuracy & Balanced\\_acc & Precision\\_long & Precision\\_short & Recall\\_long & Recall\\_short & F1\\_long & F1\\_short & Tile\\_cutoff & Tile\\_cutoff\\_SE\\\\\n",
       "\\hline\n",
       "\tFold1 & 0.8490566 & 0.7535088 & 0.8888889 & 0.8409091 & 0.5333333 & 0.9736842 & 0.6666667 & 0.9024390 & 166.7215  & 22.24327 \\\\\n",
       "\tFold2 & 0.8301887 & 0.7586996 & 0.7083333 & 0.8658537 & 0.6071429 & 0.9102564 & 0.6538462 & 0.8875000 & 105.8656  & 11.89924 \\\\\n",
       "\tFold3 & 0.6603774 & 0.6029144 & 0.9090909 & 0.6315789 & 0.2222222 & 0.9836066 & 0.3571429 & 0.7692308 & 191.6891  & 23.24246 \\\\\n",
       "\tFold4 & 0.8113208 & 0.7484520 & 0.9090909 & 0.7857143 & 0.5263158 & 0.9705882 & 0.6666667 & 0.8684211 & 165.6450  & 22.39686 \\\\\n",
       "\tFold5 & 0.7333333 & 0.6851088 & 0.8571429 & 0.7023810 & 0.4186047 & 0.9516129 & 0.5625000 & 0.8082192 & 168.8066  & 21.81099 \\\\\n",
       "\\end{tabular}\n"
      ],
      "text/markdown": [
       "\n",
       "| <!--/--> | Accuracy | Balanced_acc | Precision_long | Precision_short | Recall_long | Recall_short | F1_long | F1_short | Tile_cutoff | Tile_cutoff_SE |\n",
       "|---|---|---|---|---|---|---|---|---|---|---|\n",
       "| Fold1 | 0.8490566 | 0.7535088 | 0.8888889 | 0.8409091 | 0.5333333 | 0.9736842 | 0.6666667 | 0.9024390 | 166.7215  | 22.24327  |\n",
       "| Fold2 | 0.8301887 | 0.7586996 | 0.7083333 | 0.8658537 | 0.6071429 | 0.9102564 | 0.6538462 | 0.8875000 | 105.8656  | 11.89924  |\n",
       "| Fold3 | 0.6603774 | 0.6029144 | 0.9090909 | 0.6315789 | 0.2222222 | 0.9836066 | 0.3571429 | 0.7692308 | 191.6891  | 23.24246  |\n",
       "| Fold4 | 0.8113208 | 0.7484520 | 0.9090909 | 0.7857143 | 0.5263158 | 0.9705882 | 0.6666667 | 0.8684211 | 165.6450  | 22.39686  |\n",
       "| Fold5 | 0.7333333 | 0.6851088 | 0.8571429 | 0.7023810 | 0.4186047 | 0.9516129 | 0.5625000 | 0.8082192 | 168.8066  | 21.81099  |\n",
       "\n"
      ],
      "text/plain": [
       "  Accuracy  Balanced_acc Precision_long Precision_short Recall_long\n",
       "1 0.8490566 0.7535088    0.8888889      0.8409091       0.5333333  \n",
       "2 0.8301887 0.7586996    0.7083333      0.8658537       0.6071429  \n",
       "3 0.6603774 0.6029144    0.9090909      0.6315789       0.2222222  \n",
       "4 0.8113208 0.7484520    0.9090909      0.7857143       0.5263158  \n",
       "5 0.7333333 0.6851088    0.8571429      0.7023810       0.4186047  \n",
       "  Recall_short F1_long   F1_short  Tile_cutoff Tile_cutoff_SE\n",
       "1 0.9736842    0.6666667 0.9024390 166.7215    22.24327      \n",
       "2 0.9102564    0.6538462 0.8875000 105.8656    11.89924      \n",
       "3 0.9836066    0.3571429 0.7692308 191.6891    23.24246      \n",
       "4 0.9705882    0.6666667 0.8684211 165.6450    22.39686      \n",
       "5 0.9516129    0.5625000 0.8082192 168.8066    21.81099      "
      ]
     },
     "metadata": {},
     "output_type": "display_data"
    },
    {
     "name": "stdout",
     "output_type": "stream",
     "text": [
      "[1] \"Means:\"\n"
     ]
    },
    {
     "data": {
      "text/html": [
       "<dl class=dl-horizontal>\n",
       "\t<dt>Accuracy</dt>\n",
       "\t\t<dd>0.77685534591195</dd>\n",
       "\t<dt>Balanced_acc</dt>\n",
       "\t\t<dd>0.709736717001459</dd>\n",
       "\t<dt>Precision_long</dt>\n",
       "\t\t<dd>0.854509379509379</dd>\n",
       "\t<dt>Precision_short</dt>\n",
       "\t\t<dd>0.765287386981867</dd>\n",
       "\t<dt>Recall_long</dt>\n",
       "\t\t<dd>0.461523770666978</dd>\n",
       "\t<dt>Recall_short</dt>\n",
       "\t\t<dd>0.95794966333594</dd>\n",
       "\t<dt>F1_long</dt>\n",
       "\t\t<dd>0.581364468864469</dd>\n",
       "\t<dt>F1_short</dt>\n",
       "\t\t<dd>0.847162004866957</dd>\n",
       "\t<dt>Tile_cutoff</dt>\n",
       "\t\t<dd>159.745571342856</dd>\n",
       "\t<dt>Tile_cutoff_SE</dt>\n",
       "\t\t<dd>20.3185641431156</dd>\n",
       "</dl>\n"
      ],
      "text/latex": [
       "\\begin{description*}\n",
       "\\item[Accuracy] 0.77685534591195\n",
       "\\item[Balanced\\textbackslash{}\\_acc] 0.709736717001459\n",
       "\\item[Precision\\textbackslash{}\\_long] 0.854509379509379\n",
       "\\item[Precision\\textbackslash{}\\_short] 0.765287386981867\n",
       "\\item[Recall\\textbackslash{}\\_long] 0.461523770666978\n",
       "\\item[Recall\\textbackslash{}\\_short] 0.95794966333594\n",
       "\\item[F1\\textbackslash{}\\_long] 0.581364468864469\n",
       "\\item[F1\\textbackslash{}\\_short] 0.847162004866957\n",
       "\\item[Tile\\textbackslash{}\\_cutoff] 159.745571342856\n",
       "\\item[Tile\\textbackslash{}\\_cutoff\\textbackslash{}\\_SE] 20.3185641431156\n",
       "\\end{description*}\n"
      ],
      "text/markdown": [
       "Accuracy\n",
       ":   0.77685534591195Balanced_acc\n",
       ":   0.709736717001459Precision_long\n",
       ":   0.854509379509379Precision_short\n",
       ":   0.765287386981867Recall_long\n",
       ":   0.461523770666978Recall_short\n",
       ":   0.95794966333594F1_long\n",
       ":   0.581364468864469F1_short\n",
       ":   0.847162004866957Tile_cutoff\n",
       ":   159.745571342856Tile_cutoff_SE\n",
       ":   20.3185641431156\n",
       "\n"
      ],
      "text/plain": [
       "       Accuracy    Balanced_acc  Precision_long Precision_short     Recall_long \n",
       "      0.7768553       0.7097367       0.8545094       0.7652874       0.4615238 \n",
       "   Recall_short         F1_long        F1_short     Tile_cutoff  Tile_cutoff_SE \n",
       "      0.9579497       0.5813645       0.8471620     159.7455713      20.3185641 "
      ]
     },
     "metadata": {},
     "output_type": "display_data"
    },
    {
     "name": "stdout",
     "output_type": "stream",
     "text": [
      "[1] \"Standard deviations:\"\n"
     ]
    },
    {
     "data": {
      "text/html": [
       "<dl class=dl-horizontal>\n",
       "\t<dt>Accuracy</dt>\n",
       "\t\t<dd>0.0785916942462338</dd>\n",
       "\t<dt>Balanced_acc</dt>\n",
       "\t\t<dd>0.0667640979658089</dd>\n",
       "\t<dt>Precision_long</dt>\n",
       "\t\t<dd>0.0844313465014655</dd>\n",
       "\t<dt>Precision_short</dt>\n",
       "\t\t<dd>0.097576433641992</dd>\n",
       "\t<dt>Recall_long</dt>\n",
       "\t\t<dd>0.149722091927447</dd>\n",
       "\t<dt>Recall_short</dt>\n",
       "\t\t<dd>0.0290705461174466</dd>\n",
       "\t<dt>F1_long</dt>\n",
       "\t\t<dd>0.132700531184064</dd>\n",
       "\t<dt>F1_short</dt>\n",
       "\t\t<dd>0.0564013986891304</dd>\n",
       "\t<dt>Tile_cutoff</dt>\n",
       "\t\t<dd>31.972653978075</dd>\n",
       "\t<dt>Tile_cutoff_SE</dt>\n",
       "\t\t<dd>4.73511745498275</dd>\n",
       "</dl>\n"
      ],
      "text/latex": [
       "\\begin{description*}\n",
       "\\item[Accuracy] 0.0785916942462338\n",
       "\\item[Balanced\\textbackslash{}\\_acc] 0.0667640979658089\n",
       "\\item[Precision\\textbackslash{}\\_long] 0.0844313465014655\n",
       "\\item[Precision\\textbackslash{}\\_short] 0.097576433641992\n",
       "\\item[Recall\\textbackslash{}\\_long] 0.149722091927447\n",
       "\\item[Recall\\textbackslash{}\\_short] 0.0290705461174466\n",
       "\\item[F1\\textbackslash{}\\_long] 0.132700531184064\n",
       "\\item[F1\\textbackslash{}\\_short] 0.0564013986891304\n",
       "\\item[Tile\\textbackslash{}\\_cutoff] 31.972653978075\n",
       "\\item[Tile\\textbackslash{}\\_cutoff\\textbackslash{}\\_SE] 4.73511745498275\n",
       "\\end{description*}\n"
      ],
      "text/markdown": [
       "Accuracy\n",
       ":   0.0785916942462338Balanced_acc\n",
       ":   0.0667640979658089Precision_long\n",
       ":   0.0844313465014655Precision_short\n",
       ":   0.097576433641992Recall_long\n",
       ":   0.149722091927447Recall_short\n",
       ":   0.0290705461174466F1_long\n",
       ":   0.132700531184064F1_short\n",
       ":   0.0564013986891304Tile_cutoff\n",
       ":   31.972653978075Tile_cutoff_SE\n",
       ":   4.73511745498275\n",
       "\n"
      ],
      "text/plain": [
       "       Accuracy    Balanced_acc  Precision_long Precision_short     Recall_long \n",
       "     0.07859169      0.06676410      0.08443135      0.09757643      0.14972209 \n",
       "   Recall_short         F1_long        F1_short     Tile_cutoff  Tile_cutoff_SE \n",
       "     0.02907055      0.13270053      0.05640140     31.97265398      4.73511745 "
      ]
     },
     "metadata": {},
     "output_type": "display_data"
    }
   ],
   "source": [
    "# M>=5\n",
    "results = rbindlist(list(fold1_m5, fold2_m5, fold3_m5, fold4_m5, fold5_m5))\n",
    "row.names(results) = list(\"Fold1\", \"Fold2\", \"Fold3\", \"Fold4\", \"Fold5\")\n",
    "print('Logistic regression M>=5cm performance on validation folds:')\n",
    "results\n",
    "print(\"Means:\")\n",
    "colMeans(results)\n",
    "print(\"Standard deviations:\")\n",
    "sapply(results, sd)"
   ]
  },
  {
   "cell_type": "markdown",
   "id": "68a7cc08",
   "metadata": {},
   "source": [
    "Train a model on all BEST2 data and infer it on BEST3 data."
   ]
  },
  {
   "cell_type": "code",
   "execution_count": 31,
   "id": "db7c8028",
   "metadata": {},
   "outputs": [
    {
     "name": "stdout",
     "output_type": "stream",
     "text": [
      "[1] \"Logistic regression C>=1 or M>=1cm performance on BEST3 test set:\"\n"
     ]
    },
    {
     "name": "stderr",
     "output_type": "stream",
     "text": [
      "Warning message:\n",
      "“glm.fit: algorithm did not converge”Warning message:\n",
      "“glm.fit: fitted probabilities numerically 0 or 1 occurred”"
     ]
    },
    {
     "data": {
      "text/html": [
       "<dl>\n",
       "\t<dt>$Accuracy</dt>\n",
       "\t\t<dd>0.624203821656051</dd>\n",
       "\t<dt>$Balanced_acc</dt>\n",
       "\t\t<dd>0.597844112769486</dd>\n",
       "\t<dt>$Precision_long</dt>\n",
       "\t\t<dd>0.642201834862385</dd>\n",
       "\t<dt>$Precision_short</dt>\n",
       "\t\t<dd>0.583333333333333</dd>\n",
       "\t<dt>$Recall_long</dt>\n",
       "\t\t<dd>0.777777777777778</dd>\n",
       "\t<dt>$Recall_short</dt>\n",
       "\t\t<dd>0.417910447761194</dd>\n",
       "\t<dt>$F1_long</dt>\n",
       "\t\t<dd>0.703517587939699</dd>\n",
       "\t<dt>$F1_short</dt>\n",
       "\t\t<dd>0.48695652173913</dd>\n",
       "\t<dt>$Tile_cutoff</dt>\n",
       "\t\t<dd>6.61032258664991</dd>\n",
       "\t<dt>$Tile_cutoff_SE</dt>\n",
       "\t\t<dd><table>\n",
       "<tbody>\n",
       "\t<tr><td>1.785894</td></tr>\n",
       "</tbody>\n",
       "</table>\n",
       "</dd>\n",
       "</dl>\n"
      ],
      "text/latex": [
       "\\begin{description}\n",
       "\\item[\\$Accuracy] 0.624203821656051\n",
       "\\item[\\$Balanced\\_acc] 0.597844112769486\n",
       "\\item[\\$Precision\\_long] 0.642201834862385\n",
       "\\item[\\$Precision\\_short] 0.583333333333333\n",
       "\\item[\\$Recall\\_long] 0.777777777777778\n",
       "\\item[\\$Recall\\_short] 0.417910447761194\n",
       "\\item[\\$F1\\_long] 0.703517587939699\n",
       "\\item[\\$F1\\_short] 0.48695652173913\n",
       "\\item[\\$Tile\\_cutoff] 6.61032258664991\n",
       "\\item[\\$Tile\\_cutoff\\_SE] \\begin{tabular}{l}\n",
       "\t 1.785894\\\\\n",
       "\\end{tabular}\n",
       "\n",
       "\\end{description}\n"
      ],
      "text/markdown": [
       "$Accuracy\n",
       ":   0.624203821656051\n",
       "$Balanced_acc\n",
       ":   0.597844112769486\n",
       "$Precision_long\n",
       ":   0.642201834862385\n",
       "$Precision_short\n",
       ":   0.583333333333333\n",
       "$Recall_long\n",
       ":   0.777777777777778\n",
       "$Recall_short\n",
       ":   0.417910447761194\n",
       "$F1_long\n",
       ":   0.703517587939699\n",
       "$F1_short\n",
       ":   0.48695652173913\n",
       "$Tile_cutoff\n",
       ":   6.61032258664991\n",
       "$Tile_cutoff_SE\n",
       ":   \n",
       "| 1.785894 |\n",
       "\n",
       "\n",
       "\n",
       "\n"
      ],
      "text/plain": [
       "$Accuracy\n",
       "[1] 0.6242038\n",
       "\n",
       "$Balanced_acc\n",
       "[1] 0.5978441\n",
       "\n",
       "$Precision_long\n",
       "[1] 0.6422018\n",
       "\n",
       "$Precision_short\n",
       "[1] 0.5833333\n",
       "\n",
       "$Recall_long\n",
       "[1] 0.7777778\n",
       "\n",
       "$Recall_short\n",
       "[1] 0.4179104\n",
       "\n",
       "$F1_long\n",
       "[1] 0.7035176\n",
       "\n",
       "$F1_short\n",
       "[1] 0.4869565\n",
       "\n",
       "$Tile_cutoff\n",
       "[1] 6.610323\n",
       "\n",
       "$Tile_cutoff_SE\n",
       "         [,1]\n",
       "[1,] 1.785894\n"
      ]
     },
     "metadata": {},
     "output_type": "display_data"
    },
    {
     "data": {
      "text/plain": [
       "Confusion Matrix and Statistics\n",
       "\n",
       "          Reference\n",
       "Prediction  0  1\n",
       "         0 28 20\n",
       "         1 39 70\n",
       "                                          \n",
       "               Accuracy : 0.6242          \n",
       "                 95% CI : (0.5435, 0.7001)\n",
       "    No Information Rate : 0.5732          \n",
       "    P-Value [Acc > NIR] : 0.11269         \n",
       "                                          \n",
       "                  Kappa : 0.203           \n",
       "                                          \n",
       " Mcnemar's Test P-Value : 0.01911         \n",
       "                                          \n",
       "            Sensitivity : 0.4179          \n",
       "            Specificity : 0.7778          \n",
       "         Pos Pred Value : 0.5833          \n",
       "         Neg Pred Value : 0.6422          \n",
       "             Prevalence : 0.4268          \n",
       "         Detection Rate : 0.1783          \n",
       "   Detection Prevalence : 0.3057          \n",
       "      Balanced Accuracy : 0.5978          \n",
       "                                          \n",
       "       'Positive' Class : 0               \n",
       "                                          "
      ]
     },
     "metadata": {},
     "output_type": "display_data"
    }
   ],
   "source": [
    "# C>=1 or M>=1cm\n",
    "\n",
    "print('Logistic regression C>=1 or M>=1cm performance on BEST3 test set:')\n",
    "\n",
    "# Train full BEST2 model\n",
    "logreg_c_gtet_1cm_or_m_gtet_1cm_best2 <- glm(C_gtet_1_or_M_gtet_1 ~ TFF3_positive_count, family='binomial', data = best2_tff3_prague_data)\n",
    "\n",
    "# Infer model on BEST3 data\n",
    "logreg_c_gtet_1cm_or_m_gtet_1cm_pred_best3 <- predict(logreg_c_gtet_1cm_or_m_gtet_1cm_best2, newdata=data.frame(TFF3_positive_count=best3_tff3_prague_data$TFF3_positive_count), type='response')\n",
    "\n",
    "# Print performance results\n",
    "METRIFY(best3_tff3_prague_data$C_gtet_1_or_M_gtet_1, logreg_c_gtet_1cm_or_m_gtet_1cm_pred_best3, logreg_c_gtet_1cm_or_m_gtet_1cm_best2)\n",
    "\n",
    "# Make confusion matrix\n",
    "confusionMatrix(factor(ifelse(logreg_c_gtet_1cm_or_m_gtet_1cm_pred_best3 >= 0.5, 1, 0)), \n",
    "                factor(best3_tff3_prague_data$C_gtet_1_or_M_gtet_1))"
   ]
  },
  {
   "cell_type": "code",
   "execution_count": 32,
   "id": "9299603e",
   "metadata": {},
   "outputs": [
    {
     "name": "stdout",
     "output_type": "stream",
     "text": [
      "[1] \"Logistic regression C>=1 or M>=3cm performance on BEST3 test set:\"\n"
     ]
    },
    {
     "name": "stderr",
     "output_type": "stream",
     "text": [
      "Warning message:\n",
      "“glm.fit: fitted probabilities numerically 0 or 1 occurred”"
     ]
    },
    {
     "data": {
      "text/html": [
       "<dl>\n",
       "\t<dt>$Accuracy</dt>\n",
       "\t\t<dd>0.745222929936306</dd>\n",
       "\t<dt>$Balanced_acc</dt>\n",
       "\t\t<dd>0.769439071566731</dd>\n",
       "\t<dt>$Precision_long</dt>\n",
       "\t\t<dd>0.549295774647887</dd>\n",
       "\t<dt>$Precision_short</dt>\n",
       "\t\t<dd>0.906976744186046</dd>\n",
       "\t<dt>$Recall_long</dt>\n",
       "\t\t<dd>0.829787234042553</dd>\n",
       "\t<dt>$Recall_short</dt>\n",
       "\t\t<dd>0.709090909090909</dd>\n",
       "\t<dt>$F1_long</dt>\n",
       "\t\t<dd>0.661016949152542</dd>\n",
       "\t<dt>$F1_short</dt>\n",
       "\t\t<dd>0.795918367346939</dd>\n",
       "\t<dt>$Tile_cutoff</dt>\n",
       "\t\t<dd>16.6991266147187</dd>\n",
       "\t<dt>$Tile_cutoff_SE</dt>\n",
       "\t\t<dd><table>\n",
       "<tbody>\n",
       "\t<tr><td>2.658796</td></tr>\n",
       "</tbody>\n",
       "</table>\n",
       "</dd>\n",
       "</dl>\n"
      ],
      "text/latex": [
       "\\begin{description}\n",
       "\\item[\\$Accuracy] 0.745222929936306\n",
       "\\item[\\$Balanced\\_acc] 0.769439071566731\n",
       "\\item[\\$Precision\\_long] 0.549295774647887\n",
       "\\item[\\$Precision\\_short] 0.906976744186046\n",
       "\\item[\\$Recall\\_long] 0.829787234042553\n",
       "\\item[\\$Recall\\_short] 0.709090909090909\n",
       "\\item[\\$F1\\_long] 0.661016949152542\n",
       "\\item[\\$F1\\_short] 0.795918367346939\n",
       "\\item[\\$Tile\\_cutoff] 16.6991266147187\n",
       "\\item[\\$Tile\\_cutoff\\_SE] \\begin{tabular}{l}\n",
       "\t 2.658796\\\\\n",
       "\\end{tabular}\n",
       "\n",
       "\\end{description}\n"
      ],
      "text/markdown": [
       "$Accuracy\n",
       ":   0.745222929936306\n",
       "$Balanced_acc\n",
       ":   0.769439071566731\n",
       "$Precision_long\n",
       ":   0.549295774647887\n",
       "$Precision_short\n",
       ":   0.906976744186046\n",
       "$Recall_long\n",
       ":   0.829787234042553\n",
       "$Recall_short\n",
       ":   0.709090909090909\n",
       "$F1_long\n",
       ":   0.661016949152542\n",
       "$F1_short\n",
       ":   0.795918367346939\n",
       "$Tile_cutoff\n",
       ":   16.6991266147187\n",
       "$Tile_cutoff_SE\n",
       ":   \n",
       "| 2.658796 |\n",
       "\n",
       "\n",
       "\n",
       "\n"
      ],
      "text/plain": [
       "$Accuracy\n",
       "[1] 0.7452229\n",
       "\n",
       "$Balanced_acc\n",
       "[1] 0.7694391\n",
       "\n",
       "$Precision_long\n",
       "[1] 0.5492958\n",
       "\n",
       "$Precision_short\n",
       "[1] 0.9069767\n",
       "\n",
       "$Recall_long\n",
       "[1] 0.8297872\n",
       "\n",
       "$Recall_short\n",
       "[1] 0.7090909\n",
       "\n",
       "$F1_long\n",
       "[1] 0.6610169\n",
       "\n",
       "$F1_short\n",
       "[1] 0.7959184\n",
       "\n",
       "$Tile_cutoff\n",
       "[1] 16.69913\n",
       "\n",
       "$Tile_cutoff_SE\n",
       "         [,1]\n",
       "[1,] 2.658796\n"
      ]
     },
     "metadata": {},
     "output_type": "display_data"
    },
    {
     "data": {
      "text/plain": [
       "Confusion Matrix and Statistics\n",
       "\n",
       "          Reference\n",
       "Prediction  0  1\n",
       "         0 78  8\n",
       "         1 32 39\n",
       "                                          \n",
       "               Accuracy : 0.7452          \n",
       "                 95% CI : (0.6696, 0.8113)\n",
       "    No Information Rate : 0.7006          \n",
       "    P-Value [Acc > NIR] : 0.1278687       \n",
       "                                          \n",
       "                  Kappa : 0.4701          \n",
       "                                          \n",
       " Mcnemar's Test P-Value : 0.0002762       \n",
       "                                          \n",
       "            Sensitivity : 0.7091          \n",
       "            Specificity : 0.8298          \n",
       "         Pos Pred Value : 0.9070          \n",
       "         Neg Pred Value : 0.5493          \n",
       "             Prevalence : 0.7006          \n",
       "         Detection Rate : 0.4968          \n",
       "   Detection Prevalence : 0.5478          \n",
       "      Balanced Accuracy : 0.7694          \n",
       "                                          \n",
       "       'Positive' Class : 0               \n",
       "                                          "
      ]
     },
     "metadata": {},
     "output_type": "display_data"
    }
   ],
   "source": [
    "# C>=1 or M>=3cm\n",
    "\n",
    "print('Logistic regression C>=1 or M>=3cm performance on BEST3 test set:')\n",
    "\n",
    "# Train full BEST2 model\n",
    "logreg_c_gtet_1cm_or_m_gtet_3cm_best2 <- glm(C_gtet_1_or_M_gtet_3 ~ TFF3_positive_count, family='binomial', data = best2_tff3_prague_data)\n",
    "\n",
    "# Infer model on BEST3 data\n",
    "logreg_c_gtet_1cm_or_m_gtet_3cm_pred_best3 <- predict(logreg_c_gtet_1cm_or_m_gtet_3cm_best2, newdata=data.frame(TFF3_positive_count=best3_tff3_prague_data$TFF3_positive_count), type='response')\n",
    "\n",
    "# Print performance results\n",
    "METRIFY(best3_tff3_prague_data$C_gtet_1_or_M_gtet_3, logreg_c_gtet_1cm_or_m_gtet_3cm_pred_best3, logreg_c_gtet_1cm_or_m_gtet_3cm_best2)\n",
    "\n",
    "# Make confusion matrix\n",
    "confusionMatrix(factor(ifelse(logreg_c_gtet_1cm_or_m_gtet_3cm_pred_best3 >= 0.5, 1, 0)), \n",
    "                factor(best3_tff3_prague_data$C_gtet_1_or_M_gtet_3))"
   ]
  },
  {
   "cell_type": "code",
   "execution_count": 33,
   "id": "444f3939",
   "metadata": {},
   "outputs": [
    {
     "name": "stdout",
     "output_type": "stream",
     "text": [
      "[1] \"Logistic regression C>=2cm or M>=4cm performance on BEST3 test set:\"\n"
     ]
    },
    {
     "name": "stderr",
     "output_type": "stream",
     "text": [
      "Warning message:\n",
      "“glm.fit: fitted probabilities numerically 0 or 1 occurred”"
     ]
    },
    {
     "data": {
      "text/html": [
       "<dl>\n",
       "\t<dt>$Accuracy</dt>\n",
       "\t\t<dd>0.834394904458599</dd>\n",
       "\t<dt>$Balanced_acc</dt>\n",
       "\t\t<dd>0.728372434017595</dd>\n",
       "\t<dt>$Precision_long</dt>\n",
       "\t\t<dd>0.620689655172414</dd>\n",
       "\t<dt>$Precision_short</dt>\n",
       "\t\t<dd>0.8828125</dd>\n",
       "\t<dt>$Recall_long</dt>\n",
       "\t\t<dd>0.545454545454545</dd>\n",
       "\t<dt>$Recall_short</dt>\n",
       "\t\t<dd>0.911290322580645</dd>\n",
       "\t<dt>$F1_long</dt>\n",
       "\t\t<dd>0.580645161290323</dd>\n",
       "\t<dt>$F1_short</dt>\n",
       "\t\t<dd>0.896825396825397</dd>\n",
       "\t<dt>$Tile_cutoff</dt>\n",
       "\t\t<dd>44.3188624248495</dd>\n",
       "\t<dt>$Tile_cutoff_SE</dt>\n",
       "\t\t<dd><table>\n",
       "<tbody>\n",
       "\t<tr><td>5.305232</td></tr>\n",
       "</tbody>\n",
       "</table>\n",
       "</dd>\n",
       "</dl>\n"
      ],
      "text/latex": [
       "\\begin{description}\n",
       "\\item[\\$Accuracy] 0.834394904458599\n",
       "\\item[\\$Balanced\\_acc] 0.728372434017595\n",
       "\\item[\\$Precision\\_long] 0.620689655172414\n",
       "\\item[\\$Precision\\_short] 0.8828125\n",
       "\\item[\\$Recall\\_long] 0.545454545454545\n",
       "\\item[\\$Recall\\_short] 0.911290322580645\n",
       "\\item[\\$F1\\_long] 0.580645161290323\n",
       "\\item[\\$F1\\_short] 0.896825396825397\n",
       "\\item[\\$Tile\\_cutoff] 44.3188624248495\n",
       "\\item[\\$Tile\\_cutoff\\_SE] \\begin{tabular}{l}\n",
       "\t 5.305232\\\\\n",
       "\\end{tabular}\n",
       "\n",
       "\\end{description}\n"
      ],
      "text/markdown": [
       "$Accuracy\n",
       ":   0.834394904458599\n",
       "$Balanced_acc\n",
       ":   0.728372434017595\n",
       "$Precision_long\n",
       ":   0.620689655172414\n",
       "$Precision_short\n",
       ":   0.8828125\n",
       "$Recall_long\n",
       ":   0.545454545454545\n",
       "$Recall_short\n",
       ":   0.911290322580645\n",
       "$F1_long\n",
       ":   0.580645161290323\n",
       "$F1_short\n",
       ":   0.896825396825397\n",
       "$Tile_cutoff\n",
       ":   44.3188624248495\n",
       "$Tile_cutoff_SE\n",
       ":   \n",
       "| 5.305232 |\n",
       "\n",
       "\n",
       "\n",
       "\n"
      ],
      "text/plain": [
       "$Accuracy\n",
       "[1] 0.8343949\n",
       "\n",
       "$Balanced_acc\n",
       "[1] 0.7283724\n",
       "\n",
       "$Precision_long\n",
       "[1] 0.6206897\n",
       "\n",
       "$Precision_short\n",
       "[1] 0.8828125\n",
       "\n",
       "$Recall_long\n",
       "[1] 0.5454545\n",
       "\n",
       "$Recall_short\n",
       "[1] 0.9112903\n",
       "\n",
       "$F1_long\n",
       "[1] 0.5806452\n",
       "\n",
       "$F1_short\n",
       "[1] 0.8968254\n",
       "\n",
       "$Tile_cutoff\n",
       "[1] 44.31886\n",
       "\n",
       "$Tile_cutoff_SE\n",
       "         [,1]\n",
       "[1,] 5.305232\n"
      ]
     },
     "metadata": {},
     "output_type": "display_data"
    },
    {
     "data": {
      "text/plain": [
       "Confusion Matrix and Statistics\n",
       "\n",
       "          Reference\n",
       "Prediction   0   1\n",
       "         0 113  15\n",
       "         1  11  18\n",
       "                                          \n",
       "               Accuracy : 0.8344          \n",
       "                 95% CI : (0.7668, 0.8889)\n",
       "    No Information Rate : 0.7898          \n",
       "    P-Value [Acc > NIR] : 0.09906         \n",
       "                                          \n",
       "                  Kappa : 0.478           \n",
       "                                          \n",
       " Mcnemar's Test P-Value : 0.55630         \n",
       "                                          \n",
       "            Sensitivity : 0.9113          \n",
       "            Specificity : 0.5455          \n",
       "         Pos Pred Value : 0.8828          \n",
       "         Neg Pred Value : 0.6207          \n",
       "             Prevalence : 0.7898          \n",
       "         Detection Rate : 0.7197          \n",
       "   Detection Prevalence : 0.8153          \n",
       "      Balanced Accuracy : 0.7284          \n",
       "                                          \n",
       "       'Positive' Class : 0               \n",
       "                                          "
      ]
     },
     "metadata": {},
     "output_type": "display_data"
    }
   ],
   "source": [
    "# C>=2 or M>=4cm\n",
    "\n",
    "print('Logistic regression C>=2cm or M>=4cm performance on BEST3 test set:')\n",
    "\n",
    "# Train full BEST2 model\n",
    "logreg_c_gtet_2cm_or_m_gtet_4cm_best2 <- glm(C_gtet_2_or_M_gtet_4 ~ TFF3_positive_count, family='binomial', data = best2_tff3_prague_data)\n",
    "\n",
    "# Infer model on BEST3 data\n",
    "logreg_c_gtet_2cm_or_m_gtet_4cm_pred_best3 <- predict(logreg_c_gtet_2cm_or_m_gtet_4cm_best2, newdata=data.frame(TFF3_positive_count=best3_tff3_prague_data$TFF3_positive_count), type='response')\n",
    "\n",
    "# Print performance results\n",
    "METRIFY(best3_tff3_prague_data$C_gtet_2_or_M_gtet_4, logreg_c_gtet_2cm_or_m_gtet_4cm_pred_best3, logreg_c_gtet_2cm_or_m_gtet_4cm_best2)\n",
    "\n",
    "# Make confusion matrix\n",
    "confusionMatrix(factor(ifelse(logreg_c_gtet_2cm_or_m_gtet_4cm_pred_best3 >= 0.5, 1, 0)), \n",
    "                factor(best3_tff3_prague_data$C_gtet_2_or_M_gtet_4))"
   ]
  },
  {
   "cell_type": "code",
   "execution_count": 34,
   "id": "822b359f",
   "metadata": {
    "scrolled": true
   },
   "outputs": [
    {
     "name": "stdout",
     "output_type": "stream",
     "text": [
      "[1] \"Logistic regression C>=3 or M>=5cm performance on BEST3 test set:\"\n"
     ]
    },
    {
     "data": {
      "text/html": [
       "<dl>\n",
       "\t<dt>$Accuracy</dt>\n",
       "\t\t<dd>0.866242038216561</dd>\n",
       "\t<dt>$Balanced_acc</dt>\n",
       "\t\t<dd>0.633517196625568</dd>\n",
       "\t<dt>$Precision_long</dt>\n",
       "\t\t<dd>0.583333333333333</dd>\n",
       "\t<dt>$Precision_short</dt>\n",
       "\t\t<dd>0.889655172413793</dd>\n",
       "\t<dt>$Recall_long</dt>\n",
       "\t\t<dd>0.304347826086957</dd>\n",
       "\t<dt>$Recall_short</dt>\n",
       "\t\t<dd>0.962686567164179</dd>\n",
       "\t<dt>$F1_long</dt>\n",
       "\t\t<dd>0.4</dd>\n",
       "\t<dt>$F1_short</dt>\n",
       "\t\t<dd>0.924731182795699</dd>\n",
       "\t<dt>$Tile_cutoff</dt>\n",
       "\t\t<dd>131.712210574605</dd>\n",
       "\t<dt>$Tile_cutoff_SE</dt>\n",
       "\t\t<dd><table>\n",
       "<tbody>\n",
       "\t<tr><td>15.61124</td></tr>\n",
       "</tbody>\n",
       "</table>\n",
       "</dd>\n",
       "</dl>\n"
      ],
      "text/latex": [
       "\\begin{description}\n",
       "\\item[\\$Accuracy] 0.866242038216561\n",
       "\\item[\\$Balanced\\_acc] 0.633517196625568\n",
       "\\item[\\$Precision\\_long] 0.583333333333333\n",
       "\\item[\\$Precision\\_short] 0.889655172413793\n",
       "\\item[\\$Recall\\_long] 0.304347826086957\n",
       "\\item[\\$Recall\\_short] 0.962686567164179\n",
       "\\item[\\$F1\\_long] 0.4\n",
       "\\item[\\$F1\\_short] 0.924731182795699\n",
       "\\item[\\$Tile\\_cutoff] 131.712210574605\n",
       "\\item[\\$Tile\\_cutoff\\_SE] \\begin{tabular}{l}\n",
       "\t 15.61124\\\\\n",
       "\\end{tabular}\n",
       "\n",
       "\\end{description}\n"
      ],
      "text/markdown": [
       "$Accuracy\n",
       ":   0.866242038216561\n",
       "$Balanced_acc\n",
       ":   0.633517196625568\n",
       "$Precision_long\n",
       ":   0.583333333333333\n",
       "$Precision_short\n",
       ":   0.889655172413793\n",
       "$Recall_long\n",
       ":   0.304347826086957\n",
       "$Recall_short\n",
       ":   0.962686567164179\n",
       "$F1_long\n",
       ":   0.4\n",
       "$F1_short\n",
       ":   0.924731182795699\n",
       "$Tile_cutoff\n",
       ":   131.712210574605\n",
       "$Tile_cutoff_SE\n",
       ":   \n",
       "| 15.61124 |\n",
       "\n",
       "\n",
       "\n",
       "\n"
      ],
      "text/plain": [
       "$Accuracy\n",
       "[1] 0.866242\n",
       "\n",
       "$Balanced_acc\n",
       "[1] 0.6335172\n",
       "\n",
       "$Precision_long\n",
       "[1] 0.5833333\n",
       "\n",
       "$Precision_short\n",
       "[1] 0.8896552\n",
       "\n",
       "$Recall_long\n",
       "[1] 0.3043478\n",
       "\n",
       "$Recall_short\n",
       "[1] 0.9626866\n",
       "\n",
       "$F1_long\n",
       "[1] 0.4\n",
       "\n",
       "$F1_short\n",
       "[1] 0.9247312\n",
       "\n",
       "$Tile_cutoff\n",
       "[1] 131.7122\n",
       "\n",
       "$Tile_cutoff_SE\n",
       "         [,1]\n",
       "[1,] 15.61124\n"
      ]
     },
     "metadata": {},
     "output_type": "display_data"
    },
    {
     "data": {
      "text/plain": [
       "Confusion Matrix and Statistics\n",
       "\n",
       "          Reference\n",
       "Prediction   0   1\n",
       "         0 129  16\n",
       "         1   5   7\n",
       "                                          \n",
       "               Accuracy : 0.8662          \n",
       "                 95% CI : (0.8028, 0.9153)\n",
       "    No Information Rate : 0.8535          \n",
       "    P-Value [Acc > NIR] : 0.3766          \n",
       "                                          \n",
       "                  Kappa : 0.333           \n",
       "                                          \n",
       " Mcnemar's Test P-Value : 0.0291          \n",
       "                                          \n",
       "            Sensitivity : 0.9627          \n",
       "            Specificity : 0.3043          \n",
       "         Pos Pred Value : 0.8897          \n",
       "         Neg Pred Value : 0.5833          \n",
       "             Prevalence : 0.8535          \n",
       "         Detection Rate : 0.8217          \n",
       "   Detection Prevalence : 0.9236          \n",
       "      Balanced Accuracy : 0.6335          \n",
       "                                          \n",
       "       'Positive' Class : 0               \n",
       "                                          "
      ]
     },
     "metadata": {},
     "output_type": "display_data"
    }
   ],
   "source": [
    "# C>=3 or M>=5cm\n",
    "\n",
    "print('Logistic regression C>=3 or M>=5cm performance on BEST3 test set:')\n",
    "\n",
    "# Train full BEST2 model\n",
    "logreg_c_gtet_3cm_or_m_gtet_5cm_best2 <- glm(C_gtet_3_or_M_gtet_5 ~ TFF3_positive_count, family='binomial', data = best2_tff3_prague_data)\n",
    "\n",
    "# Infer model on BEST3 data\n",
    "logreg_c_gtet_3cm_or_m_gtet_5cm_pred_best3 <- predict(logreg_c_gtet_3cm_or_m_gtet_5cm_best2, newdata=data.frame(TFF3_positive_count=best3_tff3_prague_data$TFF3_positive_count), type='response')\n",
    "\n",
    "# Print performance results\n",
    "METRIFY(best3_tff3_prague_data$C_gtet_3_or_M_gtet_5, logreg_c_gtet_3cm_or_m_gtet_5cm_pred_best3, logreg_c_gtet_3cm_or_m_gtet_5cm_best2)\n",
    "\n",
    "# Make confusion matrix\n",
    "confusionMatrix(factor(ifelse(logreg_c_gtet_3cm_or_m_gtet_5cm_pred_best3 >= 0.5, 1, 0)), \n",
    "                factor(best3_tff3_prague_data$C_gtet_3_or_M_gtet_5))"
   ]
  },
  {
   "cell_type": "code",
   "execution_count": 35,
   "id": "e30038a3",
   "metadata": {},
   "outputs": [
    {
     "name": "stdout",
     "output_type": "stream",
     "text": [
      "[1] \"Logistic regression C>=1cm performance on BEST3 test set:\"\n"
     ]
    },
    {
     "name": "stderr",
     "output_type": "stream",
     "text": [
      "Warning message:\n",
      "“glm.fit: fitted probabilities numerically 0 or 1 occurred”"
     ]
    },
    {
     "data": {
      "text/html": [
       "<dl>\n",
       "\t<dt>$Accuracy</dt>\n",
       "\t\t<dd>0.789808917197452</dd>\n",
       "\t<dt>$Balanced_acc</dt>\n",
       "\t\t<dd>0.692178301093356</dd>\n",
       "\t<dt>$Precision_long</dt>\n",
       "\t\t<dd>0.625</dd>\n",
       "\t<dt>$Precision_short</dt>\n",
       "\t\t<dd>0.832</dd>\n",
       "\t<dt>$Recall_long</dt>\n",
       "\t\t<dd>0.48780487804878</dd>\n",
       "\t<dt>$Recall_short</dt>\n",
       "\t\t<dd>0.896551724137931</dd>\n",
       "\t<dt>$F1_long</dt>\n",
       "\t\t<dd>0.547945205479452</dd>\n",
       "\t<dt>$F1_short</dt>\n",
       "\t\t<dd>0.863070539419087</dd>\n",
       "\t<dt>$Tile_cutoff</dt>\n",
       "\t\t<dd>35.3714919681507</dd>\n",
       "\t<dt>$Tile_cutoff_SE</dt>\n",
       "\t\t<dd><table>\n",
       "<tbody>\n",
       "\t<tr><td>5.123556</td></tr>\n",
       "</tbody>\n",
       "</table>\n",
       "</dd>\n",
       "</dl>\n"
      ],
      "text/latex": [
       "\\begin{description}\n",
       "\\item[\\$Accuracy] 0.789808917197452\n",
       "\\item[\\$Balanced\\_acc] 0.692178301093356\n",
       "\\item[\\$Precision\\_long] 0.625\n",
       "\\item[\\$Precision\\_short] 0.832\n",
       "\\item[\\$Recall\\_long] 0.48780487804878\n",
       "\\item[\\$Recall\\_short] 0.896551724137931\n",
       "\\item[\\$F1\\_long] 0.547945205479452\n",
       "\\item[\\$F1\\_short] 0.863070539419087\n",
       "\\item[\\$Tile\\_cutoff] 35.3714919681507\n",
       "\\item[\\$Tile\\_cutoff\\_SE] \\begin{tabular}{l}\n",
       "\t 5.123556\\\\\n",
       "\\end{tabular}\n",
       "\n",
       "\\end{description}\n"
      ],
      "text/markdown": [
       "$Accuracy\n",
       ":   0.789808917197452\n",
       "$Balanced_acc\n",
       ":   0.692178301093356\n",
       "$Precision_long\n",
       ":   0.625\n",
       "$Precision_short\n",
       ":   0.832\n",
       "$Recall_long\n",
       ":   0.48780487804878\n",
       "$Recall_short\n",
       ":   0.896551724137931\n",
       "$F1_long\n",
       ":   0.547945205479452\n",
       "$F1_short\n",
       ":   0.863070539419087\n",
       "$Tile_cutoff\n",
       ":   35.3714919681507\n",
       "$Tile_cutoff_SE\n",
       ":   \n",
       "| 5.123556 |\n",
       "\n",
       "\n",
       "\n",
       "\n"
      ],
      "text/plain": [
       "$Accuracy\n",
       "[1] 0.7898089\n",
       "\n",
       "$Balanced_acc\n",
       "[1] 0.6921783\n",
       "\n",
       "$Precision_long\n",
       "[1] 0.625\n",
       "\n",
       "$Precision_short\n",
       "[1] 0.832\n",
       "\n",
       "$Recall_long\n",
       "[1] 0.4878049\n",
       "\n",
       "$Recall_short\n",
       "[1] 0.8965517\n",
       "\n",
       "$F1_long\n",
       "[1] 0.5479452\n",
       "\n",
       "$F1_short\n",
       "[1] 0.8630705\n",
       "\n",
       "$Tile_cutoff\n",
       "[1] 35.37149\n",
       "\n",
       "$Tile_cutoff_SE\n",
       "         [,1]\n",
       "[1,] 5.123556\n"
      ]
     },
     "metadata": {},
     "output_type": "display_data"
    },
    {
     "data": {
      "text/plain": [
       "Confusion Matrix and Statistics\n",
       "\n",
       "          Reference\n",
       "Prediction   0   1\n",
       "         0 104  21\n",
       "         1  12  20\n",
       "                                          \n",
       "               Accuracy : 0.7898          \n",
       "                 95% CI : (0.7177, 0.8507)\n",
       "    No Information Rate : 0.7389          \n",
       "    P-Value [Acc > NIR] : 0.08428         \n",
       "                                          \n",
       "                  Kappa : 0.4137          \n",
       "                                          \n",
       " Mcnemar's Test P-Value : 0.16373         \n",
       "                                          \n",
       "            Sensitivity : 0.8966          \n",
       "            Specificity : 0.4878          \n",
       "         Pos Pred Value : 0.8320          \n",
       "         Neg Pred Value : 0.6250          \n",
       "             Prevalence : 0.7389          \n",
       "         Detection Rate : 0.6624          \n",
       "   Detection Prevalence : 0.7962          \n",
       "      Balanced Accuracy : 0.6922          \n",
       "                                          \n",
       "       'Positive' Class : 0               \n",
       "                                          "
      ]
     },
     "metadata": {},
     "output_type": "display_data"
    }
   ],
   "source": [
    "# C>=1cm\n",
    "\n",
    "print('Logistic regression C>=1cm performance on BEST3 test set:')\n",
    "\n",
    "# Train full BEST2 model\n",
    "logreg_c_gtet_1cm_best2 <- glm(PRAGUE_C_gtet_1cm ~ TFF3_positive_count, family='binomial', data = best2_tff3_prague_data)\n",
    "\n",
    "# Infer model on BEST3 data\n",
    "logreg_c_gtet_1cm_pred_best3 <- predict(logreg_c_gtet_1cm_best2, newdata=data.frame(TFF3_positive_count=best3_tff3_prague_data$TFF3_positive_count), type='response')\n",
    "\n",
    "# Print performance results\n",
    "METRIFY(best3_tff3_prague_data$PRAGUE_C_gtet_1cm, logreg_c_gtet_1cm_pred_best3, logreg_c_gtet_1cm_best2)\n",
    "\n",
    "# Make confusion matrix\n",
    "confusionMatrix(factor(ifelse(logreg_c_gtet_1cm_pred_best3 >= 0.5, 1, 0)), \n",
    "                factor(best3_tff3_prague_data$PRAGUE_C_gtet_1cm))"
   ]
  },
  {
   "cell_type": "code",
   "execution_count": 36,
   "id": "05135a06",
   "metadata": {},
   "outputs": [
    {
     "name": "stdout",
     "output_type": "stream",
     "text": [
      "[1] \"Logistic regression C>=2cm performance on BEST3 test set:\"\n"
     ]
    },
    {
     "data": {
      "text/html": [
       "<dl>\n",
       "\t<dt>$Accuracy</dt>\n",
       "\t\t<dd>0.853503184713376</dd>\n",
       "\t<dt>$Balanced_acc</dt>\n",
       "\t\t<dd>0.683459051724138</dd>\n",
       "\t<dt>$Precision_long</dt>\n",
       "\t\t<dd>0.666666666666667</dd>\n",
       "\t<dt>$Precision_short</dt>\n",
       "\t\t<dd>0.877697841726619</dd>\n",
       "\t<dt>$Recall_long</dt>\n",
       "\t\t<dd>0.413793103448276</dd>\n",
       "\t<dt>$Recall_short</dt>\n",
       "\t\t<dd>0.953125</dd>\n",
       "\t<dt>$F1_long</dt>\n",
       "\t\t<dd>0.51063829787234</dd>\n",
       "\t<dt>$F1_short</dt>\n",
       "\t\t<dd>0.913857677902622</dd>\n",
       "\t<dt>$Tile_cutoff</dt>\n",
       "\t\t<dd>98.5270633466262</dd>\n",
       "\t<dt>$Tile_cutoff_SE</dt>\n",
       "\t\t<dd><table>\n",
       "<tbody>\n",
       "\t<tr><td>12.36228</td></tr>\n",
       "</tbody>\n",
       "</table>\n",
       "</dd>\n",
       "</dl>\n"
      ],
      "text/latex": [
       "\\begin{description}\n",
       "\\item[\\$Accuracy] 0.853503184713376\n",
       "\\item[\\$Balanced\\_acc] 0.683459051724138\n",
       "\\item[\\$Precision\\_long] 0.666666666666667\n",
       "\\item[\\$Precision\\_short] 0.877697841726619\n",
       "\\item[\\$Recall\\_long] 0.413793103448276\n",
       "\\item[\\$Recall\\_short] 0.953125\n",
       "\\item[\\$F1\\_long] 0.51063829787234\n",
       "\\item[\\$F1\\_short] 0.913857677902622\n",
       "\\item[\\$Tile\\_cutoff] 98.5270633466262\n",
       "\\item[\\$Tile\\_cutoff\\_SE] \\begin{tabular}{l}\n",
       "\t 12.36228\\\\\n",
       "\\end{tabular}\n",
       "\n",
       "\\end{description}\n"
      ],
      "text/markdown": [
       "$Accuracy\n",
       ":   0.853503184713376\n",
       "$Balanced_acc\n",
       ":   0.683459051724138\n",
       "$Precision_long\n",
       ":   0.666666666666667\n",
       "$Precision_short\n",
       ":   0.877697841726619\n",
       "$Recall_long\n",
       ":   0.413793103448276\n",
       "$Recall_short\n",
       ":   0.953125\n",
       "$F1_long\n",
       ":   0.51063829787234\n",
       "$F1_short\n",
       ":   0.913857677902622\n",
       "$Tile_cutoff\n",
       ":   98.5270633466262\n",
       "$Tile_cutoff_SE\n",
       ":   \n",
       "| 12.36228 |\n",
       "\n",
       "\n",
       "\n",
       "\n"
      ],
      "text/plain": [
       "$Accuracy\n",
       "[1] 0.8535032\n",
       "\n",
       "$Balanced_acc\n",
       "[1] 0.6834591\n",
       "\n",
       "$Precision_long\n",
       "[1] 0.6666667\n",
       "\n",
       "$Precision_short\n",
       "[1] 0.8776978\n",
       "\n",
       "$Recall_long\n",
       "[1] 0.4137931\n",
       "\n",
       "$Recall_short\n",
       "[1] 0.953125\n",
       "\n",
       "$F1_long\n",
       "[1] 0.5106383\n",
       "\n",
       "$F1_short\n",
       "[1] 0.9138577\n",
       "\n",
       "$Tile_cutoff\n",
       "[1] 98.52706\n",
       "\n",
       "$Tile_cutoff_SE\n",
       "         [,1]\n",
       "[1,] 12.36228\n"
      ]
     },
     "metadata": {},
     "output_type": "display_data"
    },
    {
     "data": {
      "text/plain": [
       "Confusion Matrix and Statistics\n",
       "\n",
       "          Reference\n",
       "Prediction   0   1\n",
       "         0 122  17\n",
       "         1   6  12\n",
       "                                          \n",
       "               Accuracy : 0.8535          \n",
       "                 95% CI : (0.7883, 0.9048)\n",
       "    No Information Rate : 0.8153          \n",
       "    P-Value [Acc > NIR] : 0.12745         \n",
       "                                          \n",
       "                  Kappa : 0.43            \n",
       "                                          \n",
       " Mcnemar's Test P-Value : 0.03706         \n",
       "                                          \n",
       "            Sensitivity : 0.9531          \n",
       "            Specificity : 0.4138          \n",
       "         Pos Pred Value : 0.8777          \n",
       "         Neg Pred Value : 0.6667          \n",
       "             Prevalence : 0.8153          \n",
       "         Detection Rate : 0.7771          \n",
       "   Detection Prevalence : 0.8854          \n",
       "      Balanced Accuracy : 0.6835          \n",
       "                                          \n",
       "       'Positive' Class : 0               \n",
       "                                          "
      ]
     },
     "metadata": {},
     "output_type": "display_data"
    }
   ],
   "source": [
    "# C>=2cm\n",
    "\n",
    "print('Logistic regression C>=2cm performance on BEST3 test set:')\n",
    "\n",
    "# Train full BEST2 model\n",
    "logreg_c_gtet_2cm_best2 <- glm(PRAGUE_C_gtet_2cm ~ TFF3_positive_count, family='binomial', data = best2_tff3_prague_data)\n",
    "\n",
    "# Infer model on BEST3 data\n",
    "logreg_c_gtet_2cm_pred_best3 <- predict(logreg_c_gtet_2cm_best2, newdata=data.frame(TFF3_positive_count=best3_tff3_prague_data$TFF3_positive_count), type='response')\n",
    "\n",
    "# Print performance results\n",
    "METRIFY(best3_tff3_prague_data$PRAGUE_C_gtet_2cm, logreg_c_gtet_2cm_pred_best3, logreg_c_gtet_2cm_best2)\n",
    "\n",
    "# Make confusion matrix\n",
    "confusionMatrix(factor(ifelse(logreg_c_gtet_2cm_pred_best3 >= 0.5, 1, 0)), \n",
    "                factor(best3_tff3_prague_data$PRAGUE_C_gtet_2cm))"
   ]
  },
  {
   "cell_type": "code",
   "execution_count": 37,
   "id": "66cac474",
   "metadata": {},
   "outputs": [
    {
     "name": "stdout",
     "output_type": "stream",
     "text": [
      "[1] \"Logistic regression C>=3cm performance on BEST3 test set:\"\n"
     ]
    },
    {
     "data": {
      "text/html": [
       "<dl>\n",
       "\t<dt>$Accuracy</dt>\n",
       "\t\t<dd>0.878980891719745</dd>\n",
       "\t<dt>$Balanced_acc</dt>\n",
       "\t\t<dd>0.59312549960032</dd>\n",
       "\t<dt>$Precision_long</dt>\n",
       "\t\t<dd>0.444444444444444</dd>\n",
       "\t<dt>$Precision_short</dt>\n",
       "\t\t<dd>0.905405405405405</dd>\n",
       "\t<dt>$Recall_long</dt>\n",
       "\t\t<dd>0.222222222222222</dd>\n",
       "\t<dt>$Recall_short</dt>\n",
       "\t\t<dd>0.964028776978417</dd>\n",
       "\t<dt>$F1_long</dt>\n",
       "\t\t<dd>0.296296296296296</dd>\n",
       "\t<dt>$F1_short</dt>\n",
       "\t\t<dd>0.933797909407665</dd>\n",
       "\t<dt>$Tile_cutoff</dt>\n",
       "\t\t<dd>197.846403218408</dd>\n",
       "\t<dt>$Tile_cutoff_SE</dt>\n",
       "\t\t<dd><table>\n",
       "<tbody>\n",
       "\t<tr><td>23.76505</td></tr>\n",
       "</tbody>\n",
       "</table>\n",
       "</dd>\n",
       "</dl>\n"
      ],
      "text/latex": [
       "\\begin{description}\n",
       "\\item[\\$Accuracy] 0.878980891719745\n",
       "\\item[\\$Balanced\\_acc] 0.59312549960032\n",
       "\\item[\\$Precision\\_long] 0.444444444444444\n",
       "\\item[\\$Precision\\_short] 0.905405405405405\n",
       "\\item[\\$Recall\\_long] 0.222222222222222\n",
       "\\item[\\$Recall\\_short] 0.964028776978417\n",
       "\\item[\\$F1\\_long] 0.296296296296296\n",
       "\\item[\\$F1\\_short] 0.933797909407665\n",
       "\\item[\\$Tile\\_cutoff] 197.846403218408\n",
       "\\item[\\$Tile\\_cutoff\\_SE] \\begin{tabular}{l}\n",
       "\t 23.76505\\\\\n",
       "\\end{tabular}\n",
       "\n",
       "\\end{description}\n"
      ],
      "text/markdown": [
       "$Accuracy\n",
       ":   0.878980891719745\n",
       "$Balanced_acc\n",
       ":   0.59312549960032\n",
       "$Precision_long\n",
       ":   0.444444444444444\n",
       "$Precision_short\n",
       ":   0.905405405405405\n",
       "$Recall_long\n",
       ":   0.222222222222222\n",
       "$Recall_short\n",
       ":   0.964028776978417\n",
       "$F1_long\n",
       ":   0.296296296296296\n",
       "$F1_short\n",
       ":   0.933797909407665\n",
       "$Tile_cutoff\n",
       ":   197.846403218408\n",
       "$Tile_cutoff_SE\n",
       ":   \n",
       "| 23.76505 |\n",
       "\n",
       "\n",
       "\n",
       "\n"
      ],
      "text/plain": [
       "$Accuracy\n",
       "[1] 0.8789809\n",
       "\n",
       "$Balanced_acc\n",
       "[1] 0.5931255\n",
       "\n",
       "$Precision_long\n",
       "[1] 0.4444444\n",
       "\n",
       "$Precision_short\n",
       "[1] 0.9054054\n",
       "\n",
       "$Recall_long\n",
       "[1] 0.2222222\n",
       "\n",
       "$Recall_short\n",
       "[1] 0.9640288\n",
       "\n",
       "$F1_long\n",
       "[1] 0.2962963\n",
       "\n",
       "$F1_short\n",
       "[1] 0.9337979\n",
       "\n",
       "$Tile_cutoff\n",
       "[1] 197.8464\n",
       "\n",
       "$Tile_cutoff_SE\n",
       "         [,1]\n",
       "[1,] 23.76505\n"
      ]
     },
     "metadata": {},
     "output_type": "display_data"
    },
    {
     "data": {
      "text/plain": [
       "Confusion Matrix and Statistics\n",
       "\n",
       "          Reference\n",
       "Prediction   0   1\n",
       "         0 134  14\n",
       "         1   5   4\n",
       "                                          \n",
       "               Accuracy : 0.879           \n",
       "                 95% CI : (0.8175, 0.9255)\n",
       "    No Information Rate : 0.8854          \n",
       "    P-Value [Acc > NIR] : 0.65659         \n",
       "                                          \n",
       "                  Kappa : 0.2381          \n",
       "                                          \n",
       " Mcnemar's Test P-Value : 0.06646         \n",
       "                                          \n",
       "            Sensitivity : 0.9640          \n",
       "            Specificity : 0.2222          \n",
       "         Pos Pred Value : 0.9054          \n",
       "         Neg Pred Value : 0.4444          \n",
       "             Prevalence : 0.8854          \n",
       "         Detection Rate : 0.8535          \n",
       "   Detection Prevalence : 0.9427          \n",
       "      Balanced Accuracy : 0.5931          \n",
       "                                          \n",
       "       'Positive' Class : 0               \n",
       "                                          "
      ]
     },
     "metadata": {},
     "output_type": "display_data"
    }
   ],
   "source": [
    "# C>=3cm\n",
    "\n",
    "print('Logistic regression C>=3cm performance on BEST3 test set:')\n",
    "\n",
    "# Train full BEST2 model\n",
    "logreg_c_gtet_3cm_best2 <- glm(PRAGUE_C_gtet_3cm ~ TFF3_positive_count, family='binomial', data = best2_tff3_prague_data)\n",
    "\n",
    "# Infer model on BEST3 data\n",
    "logreg_c_gtet_3cm_pred_best3 <- predict(logreg_c_gtet_3cm_best2, newdata=data.frame(TFF3_positive_count=best3_tff3_prague_data$TFF3_positive_count), type='response')\n",
    "\n",
    "# Print performance results\n",
    "METRIFY(best3_tff3_prague_data$PRAGUE_C_gtet_3cm, logreg_c_gtet_3cm_pred_best3, logreg_c_gtet_3cm_best2)\n",
    "\n",
    "# Make confusion matrix\n",
    "confusionMatrix(factor(ifelse(logreg_c_gtet_3cm_pred_best3 >= 0.5, 1, 0)), \n",
    "                factor(best3_tff3_prague_data$PRAGUE_C_gtet_3cm))"
   ]
  },
  {
   "cell_type": "code",
   "execution_count": 38,
   "id": "18fdc240",
   "metadata": {},
   "outputs": [
    {
     "name": "stdout",
     "output_type": "stream",
     "text": [
      "[1] \"Logistic regression M>=1cm performance on BEST3 test set:\"\n"
     ]
    },
    {
     "name": "stderr",
     "output_type": "stream",
     "text": [
      "Warning message:\n",
      "“glm.fit: algorithm did not converge”Warning message:\n",
      "“glm.fit: fitted probabilities numerically 0 or 1 occurred”"
     ]
    },
    {
     "data": {
      "text/html": [
       "<dl>\n",
       "\t<dt>$Accuracy</dt>\n",
       "\t\t<dd>0.624203821656051</dd>\n",
       "\t<dt>$Balanced_acc</dt>\n",
       "\t\t<dd>0.597844112769486</dd>\n",
       "\t<dt>$Precision_long</dt>\n",
       "\t\t<dd>0.642201834862385</dd>\n",
       "\t<dt>$Precision_short</dt>\n",
       "\t\t<dd>0.583333333333333</dd>\n",
       "\t<dt>$Recall_long</dt>\n",
       "\t\t<dd>0.777777777777778</dd>\n",
       "\t<dt>$Recall_short</dt>\n",
       "\t\t<dd>0.417910447761194</dd>\n",
       "\t<dt>$F1_long</dt>\n",
       "\t\t<dd>0.703517587939699</dd>\n",
       "\t<dt>$F1_short</dt>\n",
       "\t\t<dd>0.48695652173913</dd>\n",
       "\t<dt>$Tile_cutoff</dt>\n",
       "\t\t<dd>6.61032258664991</dd>\n",
       "\t<dt>$Tile_cutoff_SE</dt>\n",
       "\t\t<dd><table>\n",
       "<tbody>\n",
       "\t<tr><td>1.785894</td></tr>\n",
       "</tbody>\n",
       "</table>\n",
       "</dd>\n",
       "</dl>\n"
      ],
      "text/latex": [
       "\\begin{description}\n",
       "\\item[\\$Accuracy] 0.624203821656051\n",
       "\\item[\\$Balanced\\_acc] 0.597844112769486\n",
       "\\item[\\$Precision\\_long] 0.642201834862385\n",
       "\\item[\\$Precision\\_short] 0.583333333333333\n",
       "\\item[\\$Recall\\_long] 0.777777777777778\n",
       "\\item[\\$Recall\\_short] 0.417910447761194\n",
       "\\item[\\$F1\\_long] 0.703517587939699\n",
       "\\item[\\$F1\\_short] 0.48695652173913\n",
       "\\item[\\$Tile\\_cutoff] 6.61032258664991\n",
       "\\item[\\$Tile\\_cutoff\\_SE] \\begin{tabular}{l}\n",
       "\t 1.785894\\\\\n",
       "\\end{tabular}\n",
       "\n",
       "\\end{description}\n"
      ],
      "text/markdown": [
       "$Accuracy\n",
       ":   0.624203821656051\n",
       "$Balanced_acc\n",
       ":   0.597844112769486\n",
       "$Precision_long\n",
       ":   0.642201834862385\n",
       "$Precision_short\n",
       ":   0.583333333333333\n",
       "$Recall_long\n",
       ":   0.777777777777778\n",
       "$Recall_short\n",
       ":   0.417910447761194\n",
       "$F1_long\n",
       ":   0.703517587939699\n",
       "$F1_short\n",
       ":   0.48695652173913\n",
       "$Tile_cutoff\n",
       ":   6.61032258664991\n",
       "$Tile_cutoff_SE\n",
       ":   \n",
       "| 1.785894 |\n",
       "\n",
       "\n",
       "\n",
       "\n"
      ],
      "text/plain": [
       "$Accuracy\n",
       "[1] 0.6242038\n",
       "\n",
       "$Balanced_acc\n",
       "[1] 0.5978441\n",
       "\n",
       "$Precision_long\n",
       "[1] 0.6422018\n",
       "\n",
       "$Precision_short\n",
       "[1] 0.5833333\n",
       "\n",
       "$Recall_long\n",
       "[1] 0.7777778\n",
       "\n",
       "$Recall_short\n",
       "[1] 0.4179104\n",
       "\n",
       "$F1_long\n",
       "[1] 0.7035176\n",
       "\n",
       "$F1_short\n",
       "[1] 0.4869565\n",
       "\n",
       "$Tile_cutoff\n",
       "[1] 6.610323\n",
       "\n",
       "$Tile_cutoff_SE\n",
       "         [,1]\n",
       "[1,] 1.785894\n"
      ]
     },
     "metadata": {},
     "output_type": "display_data"
    },
    {
     "data": {
      "text/plain": [
       "Confusion Matrix and Statistics\n",
       "\n",
       "          Reference\n",
       "Prediction  0  1\n",
       "         0 28 20\n",
       "         1 39 70\n",
       "                                          \n",
       "               Accuracy : 0.6242          \n",
       "                 95% CI : (0.5435, 0.7001)\n",
       "    No Information Rate : 0.5732          \n",
       "    P-Value [Acc > NIR] : 0.11269         \n",
       "                                          \n",
       "                  Kappa : 0.203           \n",
       "                                          \n",
       " Mcnemar's Test P-Value : 0.01911         \n",
       "                                          \n",
       "            Sensitivity : 0.4179          \n",
       "            Specificity : 0.7778          \n",
       "         Pos Pred Value : 0.5833          \n",
       "         Neg Pred Value : 0.6422          \n",
       "             Prevalence : 0.4268          \n",
       "         Detection Rate : 0.1783          \n",
       "   Detection Prevalence : 0.3057          \n",
       "      Balanced Accuracy : 0.5978          \n",
       "                                          \n",
       "       'Positive' Class : 0               \n",
       "                                          "
      ]
     },
     "metadata": {},
     "output_type": "display_data"
    }
   ],
   "source": [
    "# M>=1cm\n",
    "\n",
    "print('Logistic regression M>=1cm performance on BEST3 test set:')\n",
    "\n",
    "# Train full BEST2 model\n",
    "logreg_m_gtet_1cm_best2 <- glm(PRAGUE_M_gtet_1cm ~ TFF3_positive_count, family='binomial', data = best2_tff3_prague_data)\n",
    "\n",
    "# Infer model on BEST3 data\n",
    "logreg_m_gtet_1cm_pred_best3 <- predict(logreg_m_gtet_1cm_best2, newdata=data.frame(TFF3_positive_count=best3_tff3_prague_data$TFF3_positive_count), type='response')\n",
    "\n",
    "# Print performance results\n",
    "METRIFY(best3_tff3_prague_data$PRAGUE_M_gtet_1cm, logreg_m_gtet_1cm_pred_best3, logreg_m_gtet_1cm_best2)\n",
    "\n",
    "# Make confusion matrix\n",
    "confusionMatrix(factor(ifelse(logreg_m_gtet_1cm_pred_best3 >= 0.5, 1, 0)), \n",
    "                factor(best3_tff3_prague_data$PRAGUE_M_gtet_1cm))"
   ]
  },
  {
   "cell_type": "code",
   "execution_count": 39,
   "id": "66a4d86c",
   "metadata": {},
   "outputs": [
    {
     "name": "stdout",
     "output_type": "stream",
     "text": [
      "[1] \"Logistic regression M>=3cm performance on BEST3 test set:\"\n"
     ]
    },
    {
     "name": "stderr",
     "output_type": "stream",
     "text": [
      "Warning message:\n",
      "“glm.fit: fitted probabilities numerically 0 or 1 occurred”"
     ]
    },
    {
     "data": {
      "text/html": [
       "<dl>\n",
       "\t<dt>$Accuracy</dt>\n",
       "\t\t<dd>0.802547770700637</dd>\n",
       "\t<dt>$Balanced_acc</dt>\n",
       "\t\t<dd>0.765645371577575</dd>\n",
       "\t<dt>$Precision_long</dt>\n",
       "\t\t<dd>0.58695652173913</dd>\n",
       "\t<dt>$Precision_short</dt>\n",
       "\t\t<dd>0.891891891891892</dd>\n",
       "\t<dt>$Recall_long</dt>\n",
       "\t\t<dd>0.692307692307692</dd>\n",
       "\t<dt>$Recall_short</dt>\n",
       "\t\t<dd>0.838983050847458</dd>\n",
       "\t<dt>$F1_long</dt>\n",
       "\t\t<dd>0.635294117647059</dd>\n",
       "\t<dt>$F1_short</dt>\n",
       "\t\t<dd>0.864628820960699</dd>\n",
       "\t<dt>$Tile_cutoff</dt>\n",
       "\t\t<dd>26.3039455845149</dd>\n",
       "\t<dt>$Tile_cutoff_SE</dt>\n",
       "\t\t<dd><table>\n",
       "<tbody>\n",
       "\t<tr><td>3.554549</td></tr>\n",
       "</tbody>\n",
       "</table>\n",
       "</dd>\n",
       "</dl>\n"
      ],
      "text/latex": [
       "\\begin{description}\n",
       "\\item[\\$Accuracy] 0.802547770700637\n",
       "\\item[\\$Balanced\\_acc] 0.765645371577575\n",
       "\\item[\\$Precision\\_long] 0.58695652173913\n",
       "\\item[\\$Precision\\_short] 0.891891891891892\n",
       "\\item[\\$Recall\\_long] 0.692307692307692\n",
       "\\item[\\$Recall\\_short] 0.838983050847458\n",
       "\\item[\\$F1\\_long] 0.635294117647059\n",
       "\\item[\\$F1\\_short] 0.864628820960699\n",
       "\\item[\\$Tile\\_cutoff] 26.3039455845149\n",
       "\\item[\\$Tile\\_cutoff\\_SE] \\begin{tabular}{l}\n",
       "\t 3.554549\\\\\n",
       "\\end{tabular}\n",
       "\n",
       "\\end{description}\n"
      ],
      "text/markdown": [
       "$Accuracy\n",
       ":   0.802547770700637\n",
       "$Balanced_acc\n",
       ":   0.765645371577575\n",
       "$Precision_long\n",
       ":   0.58695652173913\n",
       "$Precision_short\n",
       ":   0.891891891891892\n",
       "$Recall_long\n",
       ":   0.692307692307692\n",
       "$Recall_short\n",
       ":   0.838983050847458\n",
       "$F1_long\n",
       ":   0.635294117647059\n",
       "$F1_short\n",
       ":   0.864628820960699\n",
       "$Tile_cutoff\n",
       ":   26.3039455845149\n",
       "$Tile_cutoff_SE\n",
       ":   \n",
       "| 3.554549 |\n",
       "\n",
       "\n",
       "\n",
       "\n"
      ],
      "text/plain": [
       "$Accuracy\n",
       "[1] 0.8025478\n",
       "\n",
       "$Balanced_acc\n",
       "[1] 0.7656454\n",
       "\n",
       "$Precision_long\n",
       "[1] 0.5869565\n",
       "\n",
       "$Precision_short\n",
       "[1] 0.8918919\n",
       "\n",
       "$Recall_long\n",
       "[1] 0.6923077\n",
       "\n",
       "$Recall_short\n",
       "[1] 0.8389831\n",
       "\n",
       "$F1_long\n",
       "[1] 0.6352941\n",
       "\n",
       "$F1_short\n",
       "[1] 0.8646288\n",
       "\n",
       "$Tile_cutoff\n",
       "[1] 26.30395\n",
       "\n",
       "$Tile_cutoff_SE\n",
       "         [,1]\n",
       "[1,] 3.554549\n"
      ]
     },
     "metadata": {},
     "output_type": "display_data"
    },
    {
     "data": {
      "text/plain": [
       "Confusion Matrix and Statistics\n",
       "\n",
       "          Reference\n",
       "Prediction  0  1\n",
       "         0 99 12\n",
       "         1 19 27\n",
       "                                          \n",
       "               Accuracy : 0.8025          \n",
       "                 95% CI : (0.7316, 0.8617)\n",
       "    No Information Rate : 0.7516          \n",
       "    P-Value [Acc > NIR] : 0.08051         \n",
       "                                          \n",
       "                  Kappa : 0.5012          \n",
       "                                          \n",
       " Mcnemar's Test P-Value : 0.28120         \n",
       "                                          \n",
       "            Sensitivity : 0.8390          \n",
       "            Specificity : 0.6923          \n",
       "         Pos Pred Value : 0.8919          \n",
       "         Neg Pred Value : 0.5870          \n",
       "             Prevalence : 0.7516          \n",
       "         Detection Rate : 0.6306          \n",
       "   Detection Prevalence : 0.7070          \n",
       "      Balanced Accuracy : 0.7656          \n",
       "                                          \n",
       "       'Positive' Class : 0               \n",
       "                                          "
      ]
     },
     "metadata": {},
     "output_type": "display_data"
    }
   ],
   "source": [
    "# M>=3cm\n",
    "\n",
    "print('Logistic regression M>=3cm performance on BEST3 test set:')\n",
    "\n",
    "# Train full BEST2 model\n",
    "logreg_m_gtet_3cm_best2 <- glm(PRAGUE_M_gtet_3cm ~ TFF3_positive_count, family='binomial', data = best2_tff3_prague_data)\n",
    "\n",
    "# Infer model on BEST3 data\n",
    "logreg_m_gtet_3cm_pred_best3 <- predict(logreg_m_gtet_3cm_best2, newdata=data.frame(TFF3_positive_count=best3_tff3_prague_data$TFF3_positive_count), type='response')\n",
    "\n",
    "# Print performance results\n",
    "METRIFY(best3_tff3_prague_data$PRAGUE_M_gtet_3cm, logreg_m_gtet_3cm_pred_best3, logreg_m_gtet_3cm_best2)\n",
    "\n",
    "# Make confusion matrix\n",
    "confusionMatrix(factor(ifelse(logreg_m_gtet_3cm_pred_best3 >= 0.5, 1, 0)), \n",
    "                factor(best3_tff3_prague_data$PRAGUE_M_gtet_3cm))"
   ]
  },
  {
   "cell_type": "code",
   "execution_count": 40,
   "id": "4960123f",
   "metadata": {},
   "outputs": [
    {
     "name": "stdout",
     "output_type": "stream",
     "text": [
      "[1] \"Logistic regression M>=4cm performance on BEST3 test set:\"\n"
     ]
    },
    {
     "name": "stderr",
     "output_type": "stream",
     "text": [
      "Warning message:\n",
      "“glm.fit: fitted probabilities numerically 0 or 1 occurred”"
     ]
    },
    {
     "data": {
      "text/html": [
       "<dl>\n",
       "\t<dt>$Accuracy</dt>\n",
       "\t\t<dd>0.872611464968153</dd>\n",
       "\t<dt>$Balanced_acc</dt>\n",
       "\t\t<dd>0.75411039342337</dd>\n",
       "\t<dt>$Precision_long</dt>\n",
       "\t\t<dd>0.625</dd>\n",
       "\t<dt>$Precision_short</dt>\n",
       "\t\t<dd>0.917293233082707</dd>\n",
       "\t<dt>$Recall_long</dt>\n",
       "\t\t<dd>0.576923076923077</dd>\n",
       "\t<dt>$Recall_short</dt>\n",
       "\t\t<dd>0.931297709923664</dd>\n",
       "\t<dt>$F1_long</dt>\n",
       "\t\t<dd>0.6</dd>\n",
       "\t<dt>$F1_short</dt>\n",
       "\t\t<dd>0.924242424242424</dd>\n",
       "\t<dt>$Tile_cutoff</dt>\n",
       "\t\t<dd>63.6189079297109</dd>\n",
       "\t<dt>$Tile_cutoff_SE</dt>\n",
       "\t\t<dd><table>\n",
       "<tbody>\n",
       "\t<tr><td>7.07142</td></tr>\n",
       "</tbody>\n",
       "</table>\n",
       "</dd>\n",
       "</dl>\n"
      ],
      "text/latex": [
       "\\begin{description}\n",
       "\\item[\\$Accuracy] 0.872611464968153\n",
       "\\item[\\$Balanced\\_acc] 0.75411039342337\n",
       "\\item[\\$Precision\\_long] 0.625\n",
       "\\item[\\$Precision\\_short] 0.917293233082707\n",
       "\\item[\\$Recall\\_long] 0.576923076923077\n",
       "\\item[\\$Recall\\_short] 0.931297709923664\n",
       "\\item[\\$F1\\_long] 0.6\n",
       "\\item[\\$F1\\_short] 0.924242424242424\n",
       "\\item[\\$Tile\\_cutoff] 63.6189079297109\n",
       "\\item[\\$Tile\\_cutoff\\_SE] \\begin{tabular}{l}\n",
       "\t 7.07142\\\\\n",
       "\\end{tabular}\n",
       "\n",
       "\\end{description}\n"
      ],
      "text/markdown": [
       "$Accuracy\n",
       ":   0.872611464968153\n",
       "$Balanced_acc\n",
       ":   0.75411039342337\n",
       "$Precision_long\n",
       ":   0.625\n",
       "$Precision_short\n",
       ":   0.917293233082707\n",
       "$Recall_long\n",
       ":   0.576923076923077\n",
       "$Recall_short\n",
       ":   0.931297709923664\n",
       "$F1_long\n",
       ":   0.6\n",
       "$F1_short\n",
       ":   0.924242424242424\n",
       "$Tile_cutoff\n",
       ":   63.6189079297109\n",
       "$Tile_cutoff_SE\n",
       ":   \n",
       "| 7.07142 |\n",
       "\n",
       "\n",
       "\n",
       "\n"
      ],
      "text/plain": [
       "$Accuracy\n",
       "[1] 0.8726115\n",
       "\n",
       "$Balanced_acc\n",
       "[1] 0.7541104\n",
       "\n",
       "$Precision_long\n",
       "[1] 0.625\n",
       "\n",
       "$Precision_short\n",
       "[1] 0.9172932\n",
       "\n",
       "$Recall_long\n",
       "[1] 0.5769231\n",
       "\n",
       "$Recall_short\n",
       "[1] 0.9312977\n",
       "\n",
       "$F1_long\n",
       "[1] 0.6\n",
       "\n",
       "$F1_short\n",
       "[1] 0.9242424\n",
       "\n",
       "$Tile_cutoff\n",
       "[1] 63.61891\n",
       "\n",
       "$Tile_cutoff_SE\n",
       "        [,1]\n",
       "[1,] 7.07142\n"
      ]
     },
     "metadata": {},
     "output_type": "display_data"
    },
    {
     "data": {
      "text/plain": [
       "Confusion Matrix and Statistics\n",
       "\n",
       "          Reference\n",
       "Prediction   0   1\n",
       "         0 122  11\n",
       "         1   9  15\n",
       "                                          \n",
       "               Accuracy : 0.8726          \n",
       "                 95% CI : (0.8101, 0.9204)\n",
       "    No Information Rate : 0.8344          \n",
       "    P-Value [Acc > NIR] : 0.1166          \n",
       "                                          \n",
       "                  Kappa : 0.5244          \n",
       "                                          \n",
       " Mcnemar's Test P-Value : 0.8231          \n",
       "                                          \n",
       "            Sensitivity : 0.9313          \n",
       "            Specificity : 0.5769          \n",
       "         Pos Pred Value : 0.9173          \n",
       "         Neg Pred Value : 0.6250          \n",
       "             Prevalence : 0.8344          \n",
       "         Detection Rate : 0.7771          \n",
       "   Detection Prevalence : 0.8471          \n",
       "      Balanced Accuracy : 0.7541          \n",
       "                                          \n",
       "       'Positive' Class : 0               \n",
       "                                          "
      ]
     },
     "metadata": {},
     "output_type": "display_data"
    }
   ],
   "source": [
    "# M>=4cm\n",
    "\n",
    "print('Logistic regression M>=4cm performance on BEST3 test set:')\n",
    "\n",
    "# Train full BEST2 model\n",
    "logreg_m_gtet_4cm_best2 <- glm(PRAGUE_M_gtet_4cm ~ TFF3_positive_count, family='binomial', data = best2_tff3_prague_data)\n",
    "\n",
    "# Infer msodel on BEST3 data\n",
    "logreg_m_gtet_4cm_pred_best3 <- predict(logreg_m_gtet_4cm_best2, newdata=data.frame(TFF3_positive_count=best3_tff3_prague_data$TFF3_positive_count), type='response')\n",
    "\n",
    "# Print performance results\n",
    "METRIFY(best3_tff3_prague_data$PRAGUE_M_gtet_4cm, logreg_m_gtet_4cm_pred_best3, logreg_m_gtet_4cm_best2)\n",
    "\n",
    "# Make confusion matrix\n",
    "confusionMatrix(factor(ifelse(logreg_m_gtet_4cm_pred_best3 >= 0.5, 1, 0)), \n",
    "                factor(best3_tff3_prague_data$PRAGUE_M_gtet_4cm))"
   ]
  },
  {
   "cell_type": "code",
   "execution_count": 41,
   "id": "6a2eee80",
   "metadata": {},
   "outputs": [
    {
     "name": "stdout",
     "output_type": "stream",
     "text": [
      "[1] \"Logistic regression M>=5cm performance on BEST3 test set:\"\n"
     ]
    },
    {
     "data": {
      "text/html": [
       "<dl>\n",
       "\t<dt>$Accuracy</dt>\n",
       "\t\t<dd>0.898089171974522</dd>\n",
       "\t<dt>$Balanced_acc</dt>\n",
       "\t\t<dd>0.652278177458034</dd>\n",
       "\t<dt>$Precision_long</dt>\n",
       "\t\t<dd>0.6</dd>\n",
       "\t<dt>$Precision_short</dt>\n",
       "\t\t<dd>0.918367346938776</dd>\n",
       "\t<dt>$Recall_long</dt>\n",
       "\t\t<dd>0.333333333333333</dd>\n",
       "\t<dt>$Recall_short</dt>\n",
       "\t\t<dd>0.971223021582734</dd>\n",
       "\t<dt>$F1_long</dt>\n",
       "\t\t<dd>0.428571428571429</dd>\n",
       "\t<dt>$F1_short</dt>\n",
       "\t\t<dd>0.944055944055944</dd>\n",
       "\t<dt>$Tile_cutoff</dt>\n",
       "\t\t<dd>159.377132545881</dd>\n",
       "\t<dt>$Tile_cutoff_SE</dt>\n",
       "\t\t<dd><table>\n",
       "<tbody>\n",
       "\t<tr><td>18.13779</td></tr>\n",
       "</tbody>\n",
       "</table>\n",
       "</dd>\n",
       "</dl>\n"
      ],
      "text/latex": [
       "\\begin{description}\n",
       "\\item[\\$Accuracy] 0.898089171974522\n",
       "\\item[\\$Balanced\\_acc] 0.652278177458034\n",
       "\\item[\\$Precision\\_long] 0.6\n",
       "\\item[\\$Precision\\_short] 0.918367346938776\n",
       "\\item[\\$Recall\\_long] 0.333333333333333\n",
       "\\item[\\$Recall\\_short] 0.971223021582734\n",
       "\\item[\\$F1\\_long] 0.428571428571429\n",
       "\\item[\\$F1\\_short] 0.944055944055944\n",
       "\\item[\\$Tile\\_cutoff] 159.377132545881\n",
       "\\item[\\$Tile\\_cutoff\\_SE] \\begin{tabular}{l}\n",
       "\t 18.13779\\\\\n",
       "\\end{tabular}\n",
       "\n",
       "\\end{description}\n"
      ],
      "text/markdown": [
       "$Accuracy\n",
       ":   0.898089171974522\n",
       "$Balanced_acc\n",
       ":   0.652278177458034\n",
       "$Precision_long\n",
       ":   0.6\n",
       "$Precision_short\n",
       ":   0.918367346938776\n",
       "$Recall_long\n",
       ":   0.333333333333333\n",
       "$Recall_short\n",
       ":   0.971223021582734\n",
       "$F1_long\n",
       ":   0.428571428571429\n",
       "$F1_short\n",
       ":   0.944055944055944\n",
       "$Tile_cutoff\n",
       ":   159.377132545881\n",
       "$Tile_cutoff_SE\n",
       ":   \n",
       "| 18.13779 |\n",
       "\n",
       "\n",
       "\n",
       "\n"
      ],
      "text/plain": [
       "$Accuracy\n",
       "[1] 0.8980892\n",
       "\n",
       "$Balanced_acc\n",
       "[1] 0.6522782\n",
       "\n",
       "$Precision_long\n",
       "[1] 0.6\n",
       "\n",
       "$Precision_short\n",
       "[1] 0.9183673\n",
       "\n",
       "$Recall_long\n",
       "[1] 0.3333333\n",
       "\n",
       "$Recall_short\n",
       "[1] 0.971223\n",
       "\n",
       "$F1_long\n",
       "[1] 0.4285714\n",
       "\n",
       "$F1_short\n",
       "[1] 0.9440559\n",
       "\n",
       "$Tile_cutoff\n",
       "[1] 159.3771\n",
       "\n",
       "$Tile_cutoff_SE\n",
       "         [,1]\n",
       "[1,] 18.13779\n"
      ]
     },
     "metadata": {},
     "output_type": "display_data"
    },
    {
     "data": {
      "text/plain": [
       "Confusion Matrix and Statistics\n",
       "\n",
       "          Reference\n",
       "Prediction   0   1\n",
       "         0 135  12\n",
       "         1   4   6\n",
       "                                          \n",
       "               Accuracy : 0.8981          \n",
       "                 95% CI : (0.8398, 0.9406)\n",
       "    No Information Rate : 0.8854          \n",
       "    P-Value [Acc > NIR] : 0.36414         \n",
       "                                          \n",
       "                  Kappa : 0.3776          \n",
       "                                          \n",
       " Mcnemar's Test P-Value : 0.08012         \n",
       "                                          \n",
       "            Sensitivity : 0.9712          \n",
       "            Specificity : 0.3333          \n",
       "         Pos Pred Value : 0.9184          \n",
       "         Neg Pred Value : 0.6000          \n",
       "             Prevalence : 0.8854          \n",
       "         Detection Rate : 0.8599          \n",
       "   Detection Prevalence : 0.9363          \n",
       "      Balanced Accuracy : 0.6523          \n",
       "                                          \n",
       "       'Positive' Class : 0               \n",
       "                                          "
      ]
     },
     "metadata": {},
     "output_type": "display_data"
    }
   ],
   "source": [
    "# M>=5cm\n",
    "\n",
    "print('Logistic regression M>=5cm performance on BEST3 test set:')\n",
    "\n",
    "# Train full BEST2 model\n",
    "logreg_m_gtet_5cm_best2 <- glm(PRAGUE_M_gtet_5cm ~ TFF3_positive_count, family='binomial', data = best2_tff3_prague_data)\n",
    "\n",
    "# Infer model on BEST3 data\n",
    "logreg_m_gtet_5cm_pred_best3 <- predict(logreg_m_gtet_5cm_best2, newdata=data.frame(TFF3_positive_count=best3_tff3_prague_data$TFF3_positive_count), type='response')\n",
    "\n",
    "# Print performance results\n",
    "METRIFY(best3_tff3_prague_data$PRAGUE_M_gtet_5cm, logreg_m_gtet_5cm_pred_best3, logreg_m_gtet_5cm_best2)\n",
    "\n",
    "# Make confusion matrix\n",
    "confusionMatrix(factor(ifelse(logreg_m_gtet_5cm_pred_best3 >= 0.5, 1, 0)), \n",
    "                factor(best3_tff3_prague_data$PRAGUE_M_gtet_5cm))"
   ]
  },
  {
   "cell_type": "markdown",
   "id": "ff5cfbfd",
   "metadata": {},
   "source": [
    "REGRESSION SECTION\n",
    "\n",
    "Create diagnostic plots of Poisson regression for C and M length on data with zeros removed (analog of zero-inflated Poisson regressiopn diagnostic plots)."
   ]
  },
  {
   "cell_type": "code",
   "execution_count": 7,
   "id": "3a8aff60",
   "metadata": {},
   "outputs": [
    {
     "name": "stderr",
     "output_type": "stream",
     "text": [
      "Warning message in dpois(y, mu, log = TRUE):\n",
      "“non-integer x = 0.500000”Warning message in dpois(y, mu, log = TRUE):\n",
      "“non-integer x = 0.500000”Warning message in dpois(y, mu, log = TRUE):\n",
      "“non-integer x = 0.500000”Warning message in dpois(y, mu, log = TRUE):\n",
      "“non-integer x = 0.500000”Warning message in dpois(y, mu, log = TRUE):\n",
      "“non-integer x = 0.500000”"
     ]
    },
    {
     "data": {
      "text/plain": [
       "\n",
       "Call:\n",
       "glm(formula = PRAGUE_M ~ TFF3_positive_count, family = \"poisson\", \n",
       "    data = best2_tff3_prague_data_nozeros)\n",
       "\n",
       "Deviance Residuals: \n",
       "    Min       1Q   Median       3Q      Max  \n",
       "-5.3416  -1.7421  -0.2753   0.9762   5.2035  \n",
       "\n",
       "Coefficients:\n",
       "                     Estimate Std. Error z value Pr(>|z|)    \n",
       "(Intercept)         1.346e+00  2.552e-02   52.74   <2e-16 ***\n",
       "TFF3_positive_count 7.469e-04  4.229e-05   17.66   <2e-16 ***\n",
       "---\n",
       "Signif. codes:  0 ‘***’ 0.001 ‘**’ 0.01 ‘*’ 0.05 ‘.’ 0.1 ‘ ’ 1\n",
       "\n",
       "(Dispersion parameter for poisson family taken to be 1)\n",
       "\n",
       "    Null deviance: 1683.9  on 433  degrees of freedom\n",
       "Residual deviance: 1463.1  on 432  degrees of freedom\n",
       "AIC: Inf\n",
       "\n",
       "Number of Fisher Scoring iterations: 5\n"
      ]
     },
     "metadata": {},
     "output_type": "display_data"
    },
    {
     "data": {
      "image/png": "[encoded data removed]",
      "text/plain": [
       "Plot with title “”"
      ]
     },
     "metadata": {},
     "output_type": "display_data"
    },
    {
     "data": {
      "image/png": "[encoded data removed]",
      "text/plain": [
       "Plot with title “”"
      ]
     },
     "metadata": {},
     "output_type": "display_data"
    },
    {
     "data": {
      "image/png": "[encoded data removed]",
      "text/plain": [
       "Plot with title “”"
      ]
     },
     "metadata": {},
     "output_type": "display_data"
    },
    {
     "data": {
      "image/png": "[encoded data removed]",
      "text/plain": [
       "Plot with title “”"
      ]
     },
     "metadata": {},
     "output_type": "display_data"
    }
   ],
   "source": [
    "# BEST2 poisson glm with zeros removed - M prediction\n",
    "glm_best2_tff3_prague_m_poisson_nozeros = glm(formula = PRAGUE_M ~ TFF3_positive_count, family = 'poisson', data = best2_tff3_prague_data_nozeros)\n",
    "summary(glm_best2_tff3_prague_m_poisson_nozeros)\n",
    "plot(glm_best2_tff3_prague_m_poisson_nozeros)"
   ]
  },
  {
   "cell_type": "code",
   "execution_count": 8,
   "id": "12b6d35d",
   "metadata": {},
   "outputs": [
    {
     "name": "stderr",
     "output_type": "stream",
     "text": [
      "Warning message in dpois(y, mu, log = TRUE):\n",
      "“non-integer x = 0.500000”Warning message in dpois(y, mu, log = TRUE):\n",
      "“non-integer x = 0.500000”Warning message in dpois(y, mu, log = TRUE):\n",
      "“non-integer x = 0.500000”Warning message in dpois(y, mu, log = TRUE):\n",
      "“non-integer x = 0.500000”"
     ]
    },
    {
     "data": {
      "text/plain": [
       "\n",
       "Call:\n",
       "glm(formula = PRAGUE_C ~ TFF3_positive_count, family = \"poisson\", \n",
       "    data = best2_tff3_prague_data_nozeros)\n",
       "\n",
       "Deviance Residuals: \n",
       "    Min       1Q   Median       3Q      Max  \n",
       "-6.6469  -2.2163  -1.0547   0.8581   6.0309  \n",
       "\n",
       "Coefficients:\n",
       "                     Estimate Std. Error z value Pr(>|z|)    \n",
       "(Intercept)         0.8966963  0.0314829   28.48   <2e-16 ***\n",
       "TFF3_positive_count 0.0009333  0.0000446   20.92   <2e-16 ***\n",
       "---\n",
       "Signif. codes:  0 ‘***’ 0.001 ‘**’ 0.01 ‘*’ 0.05 ‘.’ 0.1 ‘ ’ 1\n",
       "\n",
       "(Dispersion parameter for poisson family taken to be 1)\n",
       "\n",
       "    Null deviance: 1906.2  on 433  degrees of freedom\n",
       "Residual deviance: 1619.4  on 432  degrees of freedom\n",
       "AIC: Inf\n",
       "\n",
       "Number of Fisher Scoring iterations: 5\n"
      ]
     },
     "metadata": {},
     "output_type": "display_data"
    },
    {
     "data": {
      "image/png": "[encoded data removed]",
      "text/plain": [
       "Plot with title “”"
      ]
     },
     "metadata": {},
     "output_type": "display_data"
    },
    {
     "data": {
      "image/png": "[encoded data removed]",
      "text/plain": [
       "Plot with title “”"
      ]
     },
     "metadata": {},
     "output_type": "display_data"
    },
    {
     "data": {
      "image/png": "[encoded data removed]",
      "text/plain": [
       "Plot with title “”"
      ]
     },
     "metadata": {},
     "output_type": "display_data"
    },
    {
     "data": {
      "image/png": "[encoded data removed]",
      "text/plain": [
       "Plot with title “”"
      ]
     },
     "metadata": {},
     "output_type": "display_data"
    }
   ],
   "source": [
    "# BEST2 poisson glm with zeros removed - C prediction\n",
    "glm_best2_tff3_prague_c_poisson_nozeros = glm(formula = PRAGUE_C ~ TFF3_positive_count, family = 'poisson', data = best2_tff3_prague_data_nozeros)\n",
    "summary(glm_best2_tff3_prague_c_poisson_nozeros)\n",
    "plot(glm_best2_tff3_prague_c_poisson_nozeros)"
   ]
  },
  {
   "cell_type": "markdown",
   "id": "e526ed8a",
   "metadata": {},
   "source": [
    "Train 5-fold Poisson regression and zero-inflated Poisson (ZIP) regression models for predicting both C and M length."
   ]
  },
  {
   "cell_type": "code",
   "execution_count": 31,
   "id": "73471060",
   "metadata": {},
   "outputs": [
    {
     "name": "stderr",
     "output_type": "stream",
     "text": [
      "Warning message:\n",
      "“glm.fit: fitted probabilities numerically 0 or 1 occurred”Warning message:\n",
      "“glm.fit: fitted probabilities numerically 0 or 1 occurred”Warning message:\n",
      "“glm.fit: fitted probabilities numerically 0 or 1 occurred”Warning message:\n",
      "“glm.fit: fitted probabilities numerically 0 or 1 occurred”Warning message:\n",
      "“glm.fit: fitted probabilities numerically 0 or 1 occurred”Warning message:\n",
      "“glm.fit: fitted probabilities numerically 0 or 1 occurred”Warning message:\n",
      "“glm.fit: fitted probabilities numerically 0 or 1 occurred”Warning message:\n",
      "“glm.fit: fitted probabilities numerically 0 or 1 occurred”Warning message:\n",
      "“glm.fit: fitted probabilities numerically 0 or 1 occurred”Warning message:\n",
      "“glm.fit: fitted probabilities numerically 0 or 1 occurred”"
     ]
    }
   ],
   "source": [
    "psn_c_1_doubled <- glm(PRAGUE_C_doubled ~ TFF3_positive_count, family = 'poisson', data = train1)\n",
    "psn_c_2_doubled <- glm(PRAGUE_C_doubled ~ TFF3_positive_count, family = 'poisson', data = train2)\n",
    "psn_c_3_doubled <- glm(PRAGUE_C_doubled ~ TFF3_positive_count, family = 'poisson', data = train3)\n",
    "psn_c_4_doubled <- glm(PRAGUE_C_doubled ~ TFF3_positive_count, family = 'poisson', data = train4)\n",
    "psn_c_5_doubled <- glm(PRAGUE_C_doubled ~ TFF3_positive_count, family = 'poisson', data = train5)\n",
    "\n",
    "zip_c_1_doubled <- zeroinfl(PRAGUE_C_doubled ~ TFF3_positive_count, dist = 'poisson', data = train1)\n",
    "zip_c_2_doubled <- zeroinfl(PRAGUE_C_doubled ~ TFF3_positive_count, dist = 'poisson', data = train2)\n",
    "zip_c_3_doubled <- zeroinfl(PRAGUE_C_doubled ~ TFF3_positive_count, dist = 'poisson', data = train3)\n",
    "zip_c_4_doubled <- zeroinfl(PRAGUE_C_doubled ~ TFF3_positive_count, dist = 'poisson', data = train4)\n",
    "zip_c_5_doubled <- zeroinfl(PRAGUE_C_doubled ~ TFF3_positive_count, dist = 'poisson', data = train5)\n",
    "\n",
    "psn_m_1_doubled <- glm(PRAGUE_M_doubled ~ TFF3_positive_count, family = 'poisson', data = train1)\n",
    "psn_m_2_doubled <- glm(PRAGUE_M_doubled ~ TFF3_positive_count, family = 'poisson', data = train2)\n",
    "psn_m_3_doubled <- glm(PRAGUE_M_doubled ~ TFF3_positive_count, family = 'poisson', data = train3)\n",
    "psn_m_4_doubled <- glm(PRAGUE_M_doubled ~ TFF3_positive_count, family = 'poisson', data = train4)\n",
    "psn_m_5_doubled <- glm(PRAGUE_M_doubled ~ TFF3_positive_count, family = 'poisson', data = train5)\n",
    "\n",
    "zip_m_1_doubled <- zeroinfl(PRAGUE_M_doubled ~ TFF3_positive_count, dist = 'poisson', data = train1)\n",
    "zip_m_2_doubled <- zeroinfl(PRAGUE_M_doubled ~ TFF3_positive_count, dist = 'poisson', data = train2)\n",
    "zip_m_3_doubled <- zeroinfl(PRAGUE_M_doubled ~ TFF3_positive_count, dist = 'poisson', data = train3)\n",
    "zip_m_4_doubled <- zeroinfl(PRAGUE_M_doubled ~ TFF3_positive_count, dist = 'poisson', data = train4)\n",
    "zip_m_5_doubled <- zeroinfl(PRAGUE_M_doubled ~ TFF3_positive_count, dist = 'poisson', data = train5)"
   ]
  },
  {
   "cell_type": "markdown",
   "id": "4bfe9b4a",
   "metadata": {},
   "source": [
    "Evaluate regression models' performances on validation components of each fold."
   ]
  },
  {
   "cell_type": "code",
   "execution_count": 32,
   "id": "2060d397",
   "metadata": {},
   "outputs": [
    {
     "name": "stdout",
     "output_type": "stream",
     "text": [
      "[1] \"Poisson regression C length fold 1 R^2 error: 0.114846695308571\"\n",
      "[1] \"Poisson regression C length fold 2 R^2 error: 0.118901434337808\"\n",
      "[1] \"Poisson regression C length fold 3 R^2 error: 0.308176891195119\"\n",
      "[1] \"Poisson regression C length fold 4 R^2 error: 0.402480351673385\"\n",
      "[1] \"Poisson regression C length fold 5 R^2 error: 0.139129534619889\"\n",
      "[1] \"Poisson regression C length Mean R^2: 0.216706981426954\"\n",
      "[1] \"\"\n",
      "[1] \"ZIP regression C length fold 1 R^2 error: 0.365628531856574\"\n",
      "[1] \"ZIP regression C length fold 2 R^2 error: 0.346539219229118\"\n",
      "[1] \"ZIP regression C length fold 3 R^2 error: 0.466637354447057\"\n",
      "[1] \"ZIP regression C length fold 4 R^2 error: 0.531353217628253\"\n",
      "[1] \"ZIP regression C length fold 5 R^2 error: 0.301425270664368\"\n",
      "[1] \"ZIP regression C length Mean R^2: 0.402316718765074\"\n",
      "[1] \"\"\n",
      "[1] \"Poisson regression M length fold 1 R^2 error: 0.112733755340363\"\n",
      "[1] \"Poisson regression M length fold 2 R^2 error: 0.121327531032846\"\n",
      "[1] \"Poisson regression M length fold 3 R^2 error: 0.243130507295781\"\n",
      "[1] \"Poisson regression M length fold 4 R^2 error: 0.331900778785075\"\n",
      "[1] \"Poisson regression M length fold 5 R^2 error: 0.130254079485748\"\n",
      "[1] \"Poisson regression M length Mean R^2: 0.229660441255312\"\n",
      "[1] \"\"\n",
      "[1] \"ZIP regression M length fold 1 R^2 error: 0.509667581779392\"\n",
      "[1] \"ZIP regression M length fold 2 R^2 error: 0.460673330033997\"\n",
      "[1] \"ZIP regression M length fold 3 R^2 error: 0.454052318004702\"\n",
      "[1] \"ZIP regression M length fold 4 R^2 error: 0.562220094982089\"\n",
      "[1] \"ZIP regression M length fold 5 R^2 error: 0.351897259573956\"\n",
      "[1] \"ZIP regression M length Mean R^2: 0.399595629867012\"\n"
     ]
    }
   ],
   "source": [
    "# Predict on validation components\n",
    "psn_c_1_pred_doubled <- predict(psn_c_1_doubled, newdata=data.frame(TFF3_positive_count=val1$TFF3_positive_count), type='response')\n",
    "psn_c_2_pred_doubled <- predict(psn_c_2_doubled, newdata=data.frame(TFF3_positive_count=val2$TFF3_positive_count), type='response')\n",
    "psn_c_3_pred_doubled <- predict(psn_c_3_doubled, newdata=data.frame(TFF3_positive_count=val3$TFF3_positive_count), type='response')\n",
    "psn_c_4_pred_doubled <- predict(psn_c_4_doubled, newdata=data.frame(TFF3_positive_count=val4$TFF3_positive_count), type='response')\n",
    "psn_c_5_pred_doubled <- predict(psn_c_5_doubled, newdata=data.frame(TFF3_positive_count=val5$TFF3_positive_count), type='response')\n",
    "\n",
    "zip_c_1_pred_doubled <- predict(zip_c_1_doubled, newdata=data.frame(TFF3_positive_count=val1$TFF3_positive_count), type='response')\n",
    "zip_c_2_pred_doubled <- predict(zip_c_2_doubled, newdata=data.frame(TFF3_positive_count=val2$TFF3_positive_count), type='response')\n",
    "zip_c_3_pred_doubled <- predict(zip_c_3_doubled, newdata=data.frame(TFF3_positive_count=val3$TFF3_positive_count), type='response')\n",
    "zip_c_4_pred_doubled <- predict(zip_c_4_doubled, newdata=data.frame(TFF3_positive_count=val4$TFF3_positive_count), type='response')\n",
    "zip_c_5_pred_doubled <- predict(zip_c_5_doubled, newdata=data.frame(TFF3_positive_count=val5$TFF3_positive_count), type='response')\n",
    "\n",
    "psn_m_1_pred_doubled <- predict(psn_m_1_doubled, newdata=data.frame(TFF3_positive_count=val1$TFF3_positive_count), type='response')\n",
    "psn_m_2_pred_doubled <- predict(psn_m_2_doubled, newdata=data.frame(TFF3_positive_count=val2$TFF3_positive_count), type='response')\n",
    "psn_m_3_pred_doubled <- predict(psn_m_3_doubled, newdata=data.frame(TFF3_positive_count=val3$TFF3_positive_count), type='response')\n",
    "psn_m_4_pred_doubled <- predict(psn_m_4_doubled, newdata=data.frame(TFF3_positive_count=val4$TFF3_positive_count), type='response')\n",
    "psn_m_5_pred_doubled <- predict(psn_m_5_doubled, newdata=data.frame(TFF3_positive_count=val5$TFF3_positive_count), type='response')\n",
    "\n",
    "zip_m_1_pred_doubled <- predict(zip_m_1_doubled, newdata=data.frame(TFF3_positive_count=val1$TFF3_positive_count), type='response')\n",
    "zip_m_2_pred_doubled <- predict(zip_m_2_doubled, newdata=data.frame(TFF3_positive_count=val2$TFF3_positive_count), type='response')\n",
    "zip_m_3_pred_doubled <- predict(zip_m_3_doubled, newdata=data.frame(TFF3_positive_count=val3$TFF3_positive_count), type='response')\n",
    "zip_m_4_pred_doubled <- predict(zip_m_4_doubled, newdata=data.frame(TFF3_positive_count=val4$TFF3_positive_count), type='response')\n",
    "zip_m_5_pred_doubled <- predict(zip_m_5_doubled, newdata=data.frame(TFF3_positive_count=val5$TFF3_positive_count), type='response')\n",
    "\n",
    "# Print results\n",
    "print(paste0(\"Poisson regression C length fold 1 R^2 error: \", RSQUARE(val1$PRAGUE_C, psn_c_1_pred_doubled/2)))\n",
    "print(paste0(\"Poisson regression C length fold 2 R^2 error: \", RSQUARE(val2$PRAGUE_C, psn_c_2_pred_doubled/2)))\n",
    "print(paste0(\"Poisson regression C length fold 3 R^2 error: \", RSQUARE(val3$PRAGUE_C, psn_c_3_pred_doubled/2)))\n",
    "print(paste0(\"Poisson regression C length fold 4 R^2 error: \", RSQUARE(val4$PRAGUE_C, psn_c_4_pred_doubled/2)))\n",
    "print(paste0(\"Poisson regression C length fold 5 R^2 error: \", RSQUARE(val5$PRAGUE_C, psn_c_5_pred_doubled/2)))\n",
    "sum = RSQUARE(val1$PRAGUE_C, psn_c_1_pred_doubled/2)+\n",
    "    RSQUARE(val2$PRAGUE_C, psn_c_2_pred_doubled/2)+\n",
    "    RSQUARE(val3$PRAGUE_C, psn_c_3_pred_doubled/2)+\n",
    "    RSQUARE(val4$PRAGUE_C, psn_c_4_pred_doubled/2)+\n",
    "    RSQUARE(val5$PRAGUE_C, psn_c_5_pred_doubled/2)\n",
    "print(paste0(\"Poisson regression C length Mean R^2: \", sum/5))\n",
    "print('')\n",
    "print(paste0(\"ZIP regression C length fold 1 R^2 error: \", RSQUARE(val1$PRAGUE_C, zip_c_1_pred_doubled/2)))\n",
    "print(paste0(\"ZIP regression C length fold 2 R^2 error: \", RSQUARE(val2$PRAGUE_C, zip_c_2_pred_doubled/2)))\n",
    "print(paste0(\"ZIP regression C length fold 3 R^2 error: \", RSQUARE(val3$PRAGUE_C, zip_c_3_pred_doubled/2)))\n",
    "print(paste0(\"ZIP regression C length fold 4 R^2 error: \", RSQUARE(val4$PRAGUE_C, zip_c_4_pred_doubled/2)))\n",
    "print(paste0(\"ZIP regression C length fold 5 R^2 error: \", RSQUARE(val5$PRAGUE_C, zip_c_5_pred_doubled/2)))\n",
    "sum = RSQUARE(val1$PRAGUE_C, zip_c_1_pred_doubled/2)+\n",
    "    RSQUARE(val2$PRAGUE_C, zip_c_2_pred_doubled/2)+\n",
    "    RSQUARE(val3$PRAGUE_C, zip_c_3_pred_doubled/2)+\n",
    "    RSQUARE(val4$PRAGUE_C, zip_c_4_pred_doubled/2)+\n",
    "    RSQUARE(val5$PRAGUE_C, zip_c_5_pred_doubled/2)\n",
    "print(paste0(\"ZIP regression C length Mean R^2: \", sum/5))\n",
    "print('')\n",
    "print(paste0(\"Poisson regression M length fold 1 R^2 error: \", RSQUARE(val1$PRAGUE_M, psn_m_1_pred_doubled/2)))\n",
    "print(paste0(\"Poisson regression M length fold 2 R^2 error: \", RSQUARE(val2$PRAGUE_M, psn_m_2_pred_doubled/2)))\n",
    "print(paste0(\"Poisson regression M length fold 3 R^2 error: \", RSQUARE(val3$PRAGUE_M, psn_m_3_pred_doubled/2)))\n",
    "print(paste0(\"Poisson regression M length fold 4 R^2 error: \", RSQUARE(val4$PRAGUE_M, psn_m_4_pred_doubled/2)))\n",
    "print(paste0(\"Poisson regression M length fold 5 R^2 error: \", RSQUARE(val5$PRAGUE_M, psn_m_5_pred_doubled/2)))\n",
    "sum = RSQUARE(val1$PRAGUE_C, psn_m_1_pred_doubled/2)+\n",
    "    RSQUARE(val2$PRAGUE_C, psn_m_2_pred_doubled/2)+\n",
    "    RSQUARE(val3$PRAGUE_C, psn_m_3_pred_doubled/2)+\n",
    "    RSQUARE(val4$PRAGUE_C, psn_m_4_pred_doubled/2)+\n",
    "    RSQUARE(val5$PRAGUE_C, psn_m_5_pred_doubled/2)\n",
    "print(paste0(\"Poisson regression M length Mean R^2: \", sum/5))\n",
    "print('')\n",
    "print(paste0(\"ZIP regression M length fold 1 R^2 error: \", RSQUARE(val1$PRAGUE_M, zip_m_1_pred_doubled/2)))\n",
    "print(paste0(\"ZIP regression M length fold 2 R^2 error: \", RSQUARE(val2$PRAGUE_M, zip_m_2_pred_doubled/2)))\n",
    "print(paste0(\"ZIP regression M length fold 3 R^2 error: \", RSQUARE(val3$PRAGUE_M, zip_m_3_pred_doubled/2)))\n",
    "print(paste0(\"ZIP regression M length fold 4 R^2 error: \", RSQUARE(val4$PRAGUE_M, zip_m_4_pred_doubled/2)))\n",
    "print(paste0(\"ZIP regression M length fold 5 R^2 error: \", RSQUARE(val5$PRAGUE_M, zip_m_5_pred_doubled/2)))\n",
    "sum = RSQUARE(val1$PRAGUE_C, zip_m_1_pred_doubled/2)+\n",
    "    RSQUARE(val2$PRAGUE_C, zip_m_2_pred_doubled/2)+\n",
    "    RSQUARE(val3$PRAGUE_C, zip_m_3_pred_doubled/2)+\n",
    "    RSQUARE(val4$PRAGUE_C, zip_m_4_pred_doubled/2)+\n",
    "    RSQUARE(val5$PRAGUE_C, zip_m_5_pred_doubled/2)\n",
    "print(paste0(\"ZIP regression M length Mean R^2: \", sum/5))"
   ]
  },
  {
   "cell_type": "markdown",
   "id": "fc9f94e3",
   "metadata": {},
   "source": [
    "Train ZIP regression models to predict C and M lengths on all of BEST2, apply models to BEST3, and check performances."
   ]
  },
  {
   "cell_type": "code",
   "execution_count": 15,
   "id": "4dc9eb00",
   "metadata": {},
   "outputs": [
    {
     "name": "stderr",
     "output_type": "stream",
     "text": [
      "Warning message:\n",
      "“glm.fit: fitted probabilities numerically 0 or 1 occurred”Warning message:\n",
      "“glm.fit: fitted probabilities numerically 0 or 1 occurred”"
     ]
    },
    {
     "name": "stdout",
     "output_type": "stream",
     "text": [
      "[1] \"ZIP regression C length R^2 error BEST3: 0.212109775992773\"\n",
      "[1] \"ZIP regression M length R^2 error BEST3: 0.312582683881029\"\n"
     ]
    }
   ],
   "source": [
    "# train\n",
    "zip_c_doubled_best2 <- zeroinfl(PRAGUE_C_doubled ~ TFF3_positive_count, dist = 'poisson', data = best2_tff3_prague_data)\n",
    "zip_m_doubled_best2 <- zeroinfl(PRAGUE_M_doubled ~ TFF3_positive_count, dist = 'poisson', data = best2_tff3_prague_data)\n",
    "\n",
    "# apply\n",
    "zip_c_pred_doubled_best3 <- predict(zip_c_doubled_best2, newdata=data.frame(TFF3_positive_count=best3_tff3_prague_data$TFF3_positive_count), type='response')\n",
    "zip_m_pred_doubled_best3 <- predict(zip_m_doubled_best2, newdata=data.frame(TFF3_positive_count=best3_tff3_prague_data$TFF3_positive_count), type='response')\n",
    "\n",
    "# check performances\n",
    "print(paste0(\"ZIP regression C length R^2 error BEST3: \", RSQUARE(best3_tff3_prague_data$PRAGUE_C, zip_c_pred_doubled_best3/2)))\n",
    "print(paste0(\"ZIP regression M length R^2 error BEST3: \", RSQUARE(best3_tff3_prague_data$PRAGUE_M, zip_c_pred_doubled_best3/2)))"
   ]
  },
  {
   "cell_type": "code",
   "execution_count": null,
   "id": "fe376ad1",
   "metadata": {},
   "outputs": [],
   "source": []
  }
 ],
 "metadata": {
  "kernelspec": {
   "display_name": "R",
   "language": "R",
   "name": "ir"
  },
  "language_info": {
   "codemirror_mode": "r",
   "file_extension": ".r",
   "mimetype": "text/x-r-source",
   "name": "R",
   "pygments_lexer": "r",
   "version": "3.6.1"
  }
 },
 "nbformat": 4,
 "nbformat_minor": 5
}
